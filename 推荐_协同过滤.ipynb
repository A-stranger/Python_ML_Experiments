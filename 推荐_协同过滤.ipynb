{
 "cells": [
  {
   "cell_type": "markdown",
   "metadata": {},
   "source": [
    "# 基于用户的协同过滤"
   ]
  },
  {
   "cell_type": "code",
   "execution_count": 1,
   "metadata": {},
   "outputs": [
    {
     "name": "stdout",
     "output_type": "stream",
     "text": [
      "3.0\n",
      "0.2708131845707603\n"
     ]
    },
    {
     "data": {
      "text/plain": [
       "[(4.152703901679927, '寻龙诀'),\n",
       " (3.304207244554503, '神探夏洛克'),\n",
       " (3.045124682040546, '星球大战'),\n",
       " (2.5333970389243956, '小门神')]"
      ]
     },
     "execution_count": 1,
     "metadata": {},
     "output_type": "execute_result"
    }
   ],
   "source": [
    "# A dictionary of movie critics and their ratings of a small#\n",
    "critics = {\n",
    "    'A': {'老炮儿':3.5,'唐人街探案': 1.0},\n",
    "    'B': {'老炮儿':2.5,'唐人街探案': 3.5,'星球大战': 3.0, '寻龙诀': 3.5, '神探夏洛克': 2.5, '小门神': 3.0},\n",
    "    'C': {'老炮儿':3.0,'唐人街探案': 3.5,'星球大战': 1.5, '寻龙诀': 5.0, '神探夏洛克': 3.0, '小门神': 3.5},\n",
    "    'D': {'老炮儿':2.5,'唐人街探案': 3.5,'寻龙诀': 3.5, '神探夏洛克': 4.0},\n",
    "    'E': {'老炮儿':3.5,'唐人街探案': 2.0,'星球大战': 4.5, '神探夏洛克': 3.5, '小门神': 2.0},\n",
    "    'F': {'老炮儿':3.0,'唐人街探案': 4.0,'星球大战': 2.0, '寻龙诀': 3.0, '神探夏洛克': 3.0, '小门神': 2.0},\n",
    "    'G': {'老炮儿':4.5,'唐人街探案': 1.5,'星球大战': 3.0, '寻龙诀': 5.0, '神探夏洛克': 3.5}\n",
    "    }\n",
    "\n",
    "print(critics['B']['星球大战'])\n",
    "from math import sqrt\n",
    "\n",
    "\n",
    "# Returns a distance-based similarity score for person1 and person2\n",
    "def sim_distance(prefs, person1, person2):\n",
    "    # Get the list of shared_items\n",
    "    si = {}\n",
    "    # person1 和 person2 共同评过分的电影数\n",
    "    for item in prefs[person1]:\n",
    "        if item in prefs[person2]: si[item] = 1\n",
    "    # 如果没有共同评分的电影\n",
    "    if len(si) == 0: return 0\n",
    "\n",
    "    # 欧式距离\n",
    "    sum_of_squares = sqrt(sum([pow(prefs[person1][item] - prefs[person2][item], 2) for item in prefs[person1] if item in prefs[person2]]))\n",
    "    # 相似度\n",
    "    return 1 / (1 + sum_of_squares)\n",
    "\n",
    "print(sim_distance(critics, 'A', 'B'))\n",
    "\n",
    "\n",
    "\n",
    "def getRecommendations(prefs, person, similarity=sim_distance):\n",
    "    totals = {}\n",
    "    simSums = {}\n",
    "    for other in prefs:\n",
    "        # 不和自己对比\n",
    "        if other == person: continue\n",
    "        sim = similarity(prefs, person, other)\n",
    "        # 忽略相似度低的\n",
    "        # if sim <= 0: continue\n",
    "        for item in prefs[other]:\n",
    "            # 只对没看过的电影评分\n",
    "            if item not in prefs[person] :  # or prefs[person][item] == 0\n",
    "                # Similarity * Score\n",
    "                totals.setdefault(item, 0)\n",
    "                totals[item] += prefs[other][item] * sim\n",
    "                # Sum of similarities\n",
    "                simSums.setdefault(item, 0)\n",
    "                simSums[item] += sim\n",
    "\n",
    "    # Create the normalized list\n",
    "    rankings = [(total / simSums[item], item) for item, total in totals.items()]\n",
    "\n",
    "    rankings.sort(reverse=True)\n",
    "    return rankings\n",
    "\n",
    "getRecommendations(critics, 'A')"
   ]
  },
  {
   "cell_type": "markdown",
   "metadata": {},
   "source": [
    "# 基于物品的协同过滤 "
   ]
  },
  {
   "cell_type": "markdown",
   "metadata": {},
   "source": [
    "##### 皮尔逊相关系数计算方法"
   ]
  },
  {
   "cell_type": "code",
   "execution_count": 2,
   "metadata": {},
   "outputs": [
    {
     "data": {
      "text/plain": [
       "PearsonRResult(statistic=0.8910421112136306, pvalue=0.2999500933457434)"
      ]
     },
     "execution_count": 2,
     "metadata": {},
     "output_type": "execute_result"
    }
   ],
   "source": [
    "from scipy import stats\n",
    "\n",
    "stats.pearsonr([3.5, 5.0, 3.0], [3.0, 3.5, 2.0])"
   ]
  },
  {
   "cell_type": "markdown",
   "metadata": {},
   "source": [
    "##### 读取数据"
   ]
  },
  {
   "cell_type": "code",
   "execution_count": 3,
   "metadata": {},
   "outputs": [
    {
     "data": {
      "text/html": [
       "<div>\n",
       "<style scoped>\n",
       "    .dataframe tbody tr th:only-of-type {\n",
       "        vertical-align: middle;\n",
       "    }\n",
       "\n",
       "    .dataframe tbody tr th {\n",
       "        vertical-align: top;\n",
       "    }\n",
       "\n",
       "    .dataframe thead th {\n",
       "        text-align: right;\n",
       "    }\n",
       "</style>\n",
       "<table border=\"1\" class=\"dataframe\">\n",
       "  <thead>\n",
       "    <tr style=\"text-align: right;\">\n",
       "      <th></th>\n",
       "      <th>user</th>\n",
       "      <th>movie</th>\n",
       "      <th>rate</th>\n",
       "    </tr>\n",
       "  </thead>\n",
       "  <tbody>\n",
       "    <tr>\n",
       "      <th>0</th>\n",
       "      <td>A</td>\n",
       "      <td>老炮儿</td>\n",
       "      <td>3.5</td>\n",
       "    </tr>\n",
       "    <tr>\n",
       "      <th>1</th>\n",
       "      <td>A</td>\n",
       "      <td>唐人街探案</td>\n",
       "      <td>1.0</td>\n",
       "    </tr>\n",
       "    <tr>\n",
       "      <th>2</th>\n",
       "      <td>B</td>\n",
       "      <td>老炮儿</td>\n",
       "      <td>2.5</td>\n",
       "    </tr>\n",
       "    <tr>\n",
       "      <th>3</th>\n",
       "      <td>B</td>\n",
       "      <td>唐人街探案</td>\n",
       "      <td>3.5</td>\n",
       "    </tr>\n",
       "    <tr>\n",
       "      <th>4</th>\n",
       "      <td>B</td>\n",
       "      <td>星球大战</td>\n",
       "      <td>3.0</td>\n",
       "    </tr>\n",
       "    <tr>\n",
       "      <th>5</th>\n",
       "      <td>B</td>\n",
       "      <td>寻龙诀</td>\n",
       "      <td>3.5</td>\n",
       "    </tr>\n",
       "    <tr>\n",
       "      <th>6</th>\n",
       "      <td>B</td>\n",
       "      <td>神探夏洛克</td>\n",
       "      <td>2.5</td>\n",
       "    </tr>\n",
       "    <tr>\n",
       "      <th>7</th>\n",
       "      <td>B</td>\n",
       "      <td>小门神</td>\n",
       "      <td>3.0</td>\n",
       "    </tr>\n",
       "    <tr>\n",
       "      <th>8</th>\n",
       "      <td>C</td>\n",
       "      <td>老炮儿</td>\n",
       "      <td>3.0</td>\n",
       "    </tr>\n",
       "    <tr>\n",
       "      <th>9</th>\n",
       "      <td>C</td>\n",
       "      <td>唐人街探案</td>\n",
       "      <td>3.5</td>\n",
       "    </tr>\n",
       "    <tr>\n",
       "      <th>10</th>\n",
       "      <td>C</td>\n",
       "      <td>星球大战</td>\n",
       "      <td>1.5</td>\n",
       "    </tr>\n",
       "    <tr>\n",
       "      <th>11</th>\n",
       "      <td>C</td>\n",
       "      <td>寻龙诀</td>\n",
       "      <td>5.0</td>\n",
       "    </tr>\n",
       "    <tr>\n",
       "      <th>12</th>\n",
       "      <td>C</td>\n",
       "      <td>神探夏洛克</td>\n",
       "      <td>3.0</td>\n",
       "    </tr>\n",
       "    <tr>\n",
       "      <th>13</th>\n",
       "      <td>C</td>\n",
       "      <td>小门神</td>\n",
       "      <td>3.5</td>\n",
       "    </tr>\n",
       "    <tr>\n",
       "      <th>14</th>\n",
       "      <td>D</td>\n",
       "      <td>老炮儿</td>\n",
       "      <td>2.5</td>\n",
       "    </tr>\n",
       "    <tr>\n",
       "      <th>15</th>\n",
       "      <td>D</td>\n",
       "      <td>唐人街探案</td>\n",
       "      <td>3.5</td>\n",
       "    </tr>\n",
       "    <tr>\n",
       "      <th>16</th>\n",
       "      <td>D</td>\n",
       "      <td>寻龙诀</td>\n",
       "      <td>3.5</td>\n",
       "    </tr>\n",
       "    <tr>\n",
       "      <th>17</th>\n",
       "      <td>D</td>\n",
       "      <td>神探夏洛克</td>\n",
       "      <td>4.0</td>\n",
       "    </tr>\n",
       "    <tr>\n",
       "      <th>18</th>\n",
       "      <td>E</td>\n",
       "      <td>老炮儿</td>\n",
       "      <td>3.5</td>\n",
       "    </tr>\n",
       "    <tr>\n",
       "      <th>19</th>\n",
       "      <td>E</td>\n",
       "      <td>唐人街探案</td>\n",
       "      <td>2.0</td>\n",
       "    </tr>\n",
       "    <tr>\n",
       "      <th>20</th>\n",
       "      <td>E</td>\n",
       "      <td>星球大战</td>\n",
       "      <td>4.5</td>\n",
       "    </tr>\n",
       "    <tr>\n",
       "      <th>21</th>\n",
       "      <td>E</td>\n",
       "      <td>神探夏洛克</td>\n",
       "      <td>3.5</td>\n",
       "    </tr>\n",
       "    <tr>\n",
       "      <th>22</th>\n",
       "      <td>E</td>\n",
       "      <td>小门神</td>\n",
       "      <td>2.0</td>\n",
       "    </tr>\n",
       "    <tr>\n",
       "      <th>23</th>\n",
       "      <td>F</td>\n",
       "      <td>老炮儿</td>\n",
       "      <td>3.0</td>\n",
       "    </tr>\n",
       "    <tr>\n",
       "      <th>24</th>\n",
       "      <td>F</td>\n",
       "      <td>唐人街探案</td>\n",
       "      <td>4.0</td>\n",
       "    </tr>\n",
       "    <tr>\n",
       "      <th>25</th>\n",
       "      <td>F</td>\n",
       "      <td>星球大战</td>\n",
       "      <td>2.0</td>\n",
       "    </tr>\n",
       "    <tr>\n",
       "      <th>26</th>\n",
       "      <td>F</td>\n",
       "      <td>寻龙诀</td>\n",
       "      <td>3.0</td>\n",
       "    </tr>\n",
       "    <tr>\n",
       "      <th>27</th>\n",
       "      <td>F</td>\n",
       "      <td>神探夏洛克</td>\n",
       "      <td>3.0</td>\n",
       "    </tr>\n",
       "    <tr>\n",
       "      <th>28</th>\n",
       "      <td>F</td>\n",
       "      <td>小门神</td>\n",
       "      <td>2.0</td>\n",
       "    </tr>\n",
       "    <tr>\n",
       "      <th>29</th>\n",
       "      <td>G</td>\n",
       "      <td>老炮儿</td>\n",
       "      <td>4.5</td>\n",
       "    </tr>\n",
       "    <tr>\n",
       "      <th>30</th>\n",
       "      <td>G</td>\n",
       "      <td>唐人街探案</td>\n",
       "      <td>1.5</td>\n",
       "    </tr>\n",
       "    <tr>\n",
       "      <th>31</th>\n",
       "      <td>G</td>\n",
       "      <td>星球大战</td>\n",
       "      <td>3.0</td>\n",
       "    </tr>\n",
       "    <tr>\n",
       "      <th>32</th>\n",
       "      <td>G</td>\n",
       "      <td>寻龙诀</td>\n",
       "      <td>5.0</td>\n",
       "    </tr>\n",
       "    <tr>\n",
       "      <th>33</th>\n",
       "      <td>G</td>\n",
       "      <td>神探夏洛克</td>\n",
       "      <td>3.5</td>\n",
       "    </tr>\n",
       "  </tbody>\n",
       "</table>\n",
       "</div>"
      ],
      "text/plain": [
       "   user  movie  rate\n",
       "0     A    老炮儿   3.5\n",
       "1     A  唐人街探案   1.0\n",
       "2     B    老炮儿   2.5\n",
       "3     B  唐人街探案   3.5\n",
       "4     B   星球大战   3.0\n",
       "5     B    寻龙诀   3.5\n",
       "6     B  神探夏洛克   2.5\n",
       "7     B    小门神   3.0\n",
       "8     C    老炮儿   3.0\n",
       "9     C  唐人街探案   3.5\n",
       "10    C   星球大战   1.5\n",
       "11    C    寻龙诀   5.0\n",
       "12    C  神探夏洛克   3.0\n",
       "13    C    小门神   3.5\n",
       "14    D    老炮儿   2.5\n",
       "15    D  唐人街探案   3.5\n",
       "16    D    寻龙诀   3.5\n",
       "17    D  神探夏洛克   4.0\n",
       "18    E    老炮儿   3.5\n",
       "19    E  唐人街探案   2.0\n",
       "20    E   星球大战   4.5\n",
       "21    E  神探夏洛克   3.5\n",
       "22    E    小门神   2.0\n",
       "23    F    老炮儿   3.0\n",
       "24    F  唐人街探案   4.0\n",
       "25    F   星球大战   2.0\n",
       "26    F    寻龙诀   3.0\n",
       "27    F  神探夏洛克   3.0\n",
       "28    F    小门神   2.0\n",
       "29    G    老炮儿   4.5\n",
       "30    G  唐人街探案   1.5\n",
       "31    G   星球大战   3.0\n",
       "32    G    寻龙诀   5.0\n",
       "33    G  神探夏洛克   3.5"
      ]
     },
     "execution_count": 3,
     "metadata": {},
     "output_type": "execute_result"
    }
   ],
   "source": [
    "import numpy as np\n",
    "import pandas as pd\n",
    "from pandas import DataFrame, Series\n",
    "from scipy import stats\n",
    "pd.options.mode.chained_assignment = None\n",
    "\n",
    "data = pd.read_csv(\"data/movies.csv\", sep=\"\\t\")\n",
    "data"
   ]
  },
  {
   "cell_type": "code",
   "execution_count": 4,
   "metadata": {},
   "outputs": [
    {
     "name": "stdout",
     "output_type": "stream",
     "text": [
      "['老炮儿', '唐人街探案', '星球大战', '寻龙诀', '神探夏洛克', '小门神']\n"
     ]
    }
   ],
   "source": [
    "# 电影列表\n",
    "item_names:list = data[\"movie\"].unique().tolist()   \n",
    "print(item_names)"
   ]
  },
  {
   "cell_type": "markdown",
   "metadata": {},
   "source": [
    "##### 构造相似度矩阵"
   ]
  },
  {
   "cell_type": "code",
   "execution_count": 5,
   "metadata": {},
   "outputs": [
    {
     "name": "stdout",
     "output_type": "stream",
     "text": [
      "   user movie  rate\n",
      "0     A   老炮儿   3.5\n",
      "2     B   老炮儿   2.5\n",
      "8     C   老炮儿   3.0\n",
      "14    D   老炮儿   2.5\n",
      "18    E   老炮儿   3.5\n",
      "23    F   老炮儿   3.0\n",
      "29    G   老炮儿   4.5\n",
      "[[ 1.         -0.76916737  0.3007374   0.65060005  0.2533202  -0.54433105]\n",
      " [-0.76916737  1.         -0.67120927 -0.68551062 -0.38138504  0.32075015]\n",
      " [ 0.3007374  -0.67120927  1.         -0.08084521  0.44129801 -0.54594868]\n",
      " [ 0.65060005 -0.68551062 -0.08084521  1.          0.11720181  0.89104211]\n",
      " [ 0.2533202  -0.38138504  0.44129801  0.11720181  1.         -0.54433105]\n",
      " [-0.54433105  0.32075015 -0.54594868  0.89104211 -0.54433105  1.        ]]\n"
     ]
    }
   ],
   "source": [
    "def item_sim(item_i_df:DataFrame, item_j_df:DataFrame):\n",
    "    item_i_df.drop(\"movie\",axis=1,inplace=True)\n",
    "    item_i_df.set_index(\"user\", inplace=True)\n",
    "    item_i_df.rename({\"rate\":\"rate_i\"}, axis=1,inplace=True)\n",
    "\n",
    "    item_j_df.drop(\"movie\", axis=1, inplace=True)\n",
    "    item_j_df.set_index(\"user\", inplace=True)\n",
    "    item_j_df.rename({\"rate\":\"rate_j\"}, axis=1,inplace=True)\n",
    "\n",
    "    joined_df = item_i_df.join(item_j_df, how=\"inner\")\n",
    "    s, p = stats.pearsonr(joined_df[\"rate_i\"], joined_df[\"rate_j\"])\n",
    "\n",
    "    return s\n",
    "\n",
    "# 相似度矩阵\n",
    "sim_matrix = np.zeros((len(item_names), len(item_names)))\n",
    "\n",
    "item_group = data.groupby(\"movie\")\n",
    "group_laopao = item_group.get_group(\"老炮儿\")\n",
    "print(group_laopao)\n",
    "\n",
    "for i in range(len(item_names)):        #[0, 1, 2, 3, 4, 5]\n",
    "    for j in range(len(item_names)):    #[0, 1, 2, 3, 4, 5]\n",
    "        sim = item_sim(item_group.get_group(item_names[i]), item_group.get_group(item_names[j]))\n",
    "        sim_matrix[i][j] = sim\n",
    "\n",
    "print(sim_matrix) "
   ]
  },
  {
   "cell_type": "markdown",
   "metadata": {},
   "source": [
    "##### 根据看过的电影和未看过的电影，查询相似度矩阵"
   ]
  },
  {
   "cell_type": "code",
   "execution_count": 6,
   "metadata": {},
   "outputs": [
    {
     "data": {
      "text/plain": [
       "[0, 1]"
      ]
     },
     "execution_count": 6,
     "metadata": {},
     "output_type": "execute_result"
    }
   ],
   "source": [
    "user_df:DataFrame = data.groupby(\"user\").get_group(\"A\")\n",
    "watched_movies = user_df[\"movie\"]\n",
    "watched_movie_indexes = [item_names.index(i) for i in watched_movies]   # 查询看过的电影的在电影列表中的索引\n",
    "watched_movie_indexes"
   ]
  },
  {
   "cell_type": "code",
   "execution_count": 7,
   "metadata": {},
   "outputs": [
    {
     "data": {
      "text/plain": [
       "[2, 3, 4, 5]"
      ]
     },
     "execution_count": 7,
     "metadata": {},
     "output_type": "execute_result"
    }
   ],
   "source": [
    "unwatched_movie_indexes = list(set(range(len(item_names))) - set(watched_movie_indexes))\n",
    "unwatched_movie_indexes"
   ]
  },
  {
   "cell_type": "code",
   "execution_count": 8,
   "metadata": {},
   "outputs": [
    {
     "data": {
      "text/plain": [
       "array([[ 0.3007374 ,  0.65060005,  0.2533202 , -0.54433105],\n",
       "       [-0.67120927, -0.68551062, -0.38138504,  0.32075015]])"
      ]
     },
     "execution_count": 8,
     "metadata": {},
     "output_type": "execute_result"
    }
   ],
   "source": [
    "watched_unwatched_movie_sim_array = sim_matrix[watched_movie_indexes][:,unwatched_movie_indexes]\n",
    "watched_unwatched_movie_sim_array"
   ]
  },
  {
   "cell_type": "markdown",
   "metadata": {},
   "source": [
    "##### 查询用户对看过的电影的评分"
   ]
  },
  {
   "cell_type": "code",
   "execution_count": 9,
   "metadata": {},
   "outputs": [
    {
     "data": {
      "text/html": [
       "<div>\n",
       "<style scoped>\n",
       "    .dataframe tbody tr th:only-of-type {\n",
       "        vertical-align: middle;\n",
       "    }\n",
       "\n",
       "    .dataframe tbody tr th {\n",
       "        vertical-align: top;\n",
       "    }\n",
       "\n",
       "    .dataframe thead th {\n",
       "        text-align: right;\n",
       "    }\n",
       "</style>\n",
       "<table border=\"1\" class=\"dataframe\">\n",
       "  <thead>\n",
       "    <tr style=\"text-align: right;\">\n",
       "      <th></th>\n",
       "      <th>user</th>\n",
       "      <th>movie</th>\n",
       "      <th>rate</th>\n",
       "    </tr>\n",
       "  </thead>\n",
       "  <tbody>\n",
       "    <tr>\n",
       "      <th>0</th>\n",
       "      <td>A</td>\n",
       "      <td>0</td>\n",
       "      <td>3.5</td>\n",
       "    </tr>\n",
       "    <tr>\n",
       "      <th>1</th>\n",
       "      <td>A</td>\n",
       "      <td>1</td>\n",
       "      <td>1.0</td>\n",
       "    </tr>\n",
       "  </tbody>\n",
       "</table>\n",
       "</div>"
      ],
      "text/plain": [
       "  user  movie  rate\n",
       "0    A      0   3.5\n",
       "1    A      1   1.0"
      ]
     },
     "execution_count": 9,
     "metadata": {},
     "output_type": "execute_result"
    }
   ],
   "source": [
    "rep = dict(zip(watched_movies, watched_movie_indexes))\n",
    "watched_movie_rate_df = user_df.replace(rep)\n",
    "watched_movie_rate_df"
   ]
  },
  {
   "cell_type": "code",
   "execution_count": 10,
   "metadata": {},
   "outputs": [
    {
     "data": {
      "text/plain": [
       "array([[0. , 3.5],\n",
       "       [1. , 1. ]])"
      ]
     },
     "execution_count": 10,
     "metadata": {},
     "output_type": "execute_result"
    }
   ],
   "source": [
    "watched_movie_rate_array = watched_movie_rate_df.loc[:,[\"movie\",\"rate\"]].to_numpy()\n",
    "watched_movie_rate_array"
   ]
  },
  {
   "cell_type": "markdown",
   "metadata": {},
   "source": [
    "##### 推荐度计算"
   ]
  },
  {
   "cell_type": "code",
   "execution_count": 11,
   "metadata": {},
   "outputs": [
    {
     "data": {
      "text/plain": [
       "array([ 0.38137165,  1.59158955,  0.50523566, -1.58440854])"
      ]
     },
     "execution_count": 11,
     "metadata": {},
     "output_type": "execute_result"
    }
   ],
   "source": [
    "recommend_score = watched_movie_rate_array[:,1].dot(watched_unwatched_movie_sim_array)\n",
    "recommend_score"
   ]
  },
  {
   "cell_type": "code",
   "execution_count": 12,
   "metadata": {},
   "outputs": [
    {
     "data": {
      "text/plain": [
       "[(2, 0.38137164735743034),\n",
       " (3, 1.5915895488293916),\n",
       " (4, 0.5052356592353362),\n",
       " (5, -1.5844085392815683)]"
      ]
     },
     "execution_count": 12,
     "metadata": {},
     "output_type": "execute_result"
    }
   ],
   "source": [
    "list(zip(unwatched_movie_indexes, recommend_score))"
   ]
  },
  {
   "cell_type": "code",
   "execution_count": 13,
   "metadata": {},
   "outputs": [
    {
     "data": {
      "text/plain": [
       "[(3, 1.5915895488293916),\n",
       " (4, 0.5052356592353362),\n",
       " (2, 0.38137164735743034),\n",
       " (5, -1.5844085392815683)]"
      ]
     },
     "execution_count": 13,
     "metadata": {},
     "output_type": "execute_result"
    }
   ],
   "source": [
    "sorted(zip(unwatched_movie_indexes, recommend_score), key=lambda x:x[1], reverse=True)"
   ]
  },
  {
   "cell_type": "markdown",
   "metadata": {},
   "source": [
    "# 基于物品的协同过滤 - PySpark"
   ]
  },
  {
   "cell_type": "code",
   "execution_count": 14,
   "metadata": {},
   "outputs": [
    {
     "ename": "NameError",
     "evalue": "name 'sc' is not defined",
     "output_type": "error",
     "traceback": [
      "\u001b[1;31m---------------------------------------------------------------------------\u001b[0m",
      "\u001b[1;31mNameError\u001b[0m                                 Traceback (most recent call last)",
      "\u001b[1;32md:\\Python_ML_Experiments\\chapter14-recommend.ipynb 单元格 23\u001b[0m line \u001b[0;36m3\n\u001b[0;32m     <a href='vscode-notebook-cell:/d%3A/Python_ML_Experiments/chapter14-recommend.ipynb#X31sZmlsZQ%3D%3D?line=33'>34</a>\u001b[0m \u001b[39m\u001b[39m\u001b[39m'''\u001b[39;00m\n\u001b[0;32m     <a href='vscode-notebook-cell:/d%3A/Python_ML_Experiments/chapter14-recommend.ipynb#X31sZmlsZQ%3D%3D?line=34'>35</a>\u001b[0m \u001b[39m《数据挖掘与机器学习》122页, 基于物品的协同过滤\u001b[39;00m\n\u001b[0;32m     <a href='vscode-notebook-cell:/d%3A/Python_ML_Experiments/chapter14-recommend.ipynb#X31sZmlsZQ%3D%3D?line=35'>36</a>\u001b[0m \u001b[39m'''\u001b[39;00m\n\u001b[0;32m     <a href='vscode-notebook-cell:/d%3A/Python_ML_Experiments/chapter14-recommend.ipynb#X31sZmlsZQ%3D%3D?line=36'>37</a>\u001b[0m file_path \u001b[39m=\u001b[39m \u001b[39mr\u001b[39m\u001b[39m\"\u001b[39m\u001b[39mmovies.csv\u001b[39m\u001b[39m\"\u001b[39m\n\u001b[1;32m---> <a href='vscode-notebook-cell:/d%3A/Python_ML_Experiments/chapter14-recommend.ipynb#X31sZmlsZQ%3D%3D?line=38'>39</a>\u001b[0m raw_umr_rdd \u001b[39m=\u001b[39m sc\u001b[39m.\u001b[39mtextFile(file_path)  \u001b[39m# 'A\t老炮儿\t3.5'\u001b[39;00m\n\u001b[0;32m     <a href='vscode-notebook-cell:/d%3A/Python_ML_Experiments/chapter14-recommend.ipynb#X31sZmlsZQ%3D%3D?line=39'>40</a>\u001b[0m u_m_r_rdd \u001b[39m=\u001b[39m raw_umr_rdd\u001b[39m.\u001b[39mmap(\u001b[39mlambda\u001b[39;00m line: line\u001b[39m.\u001b[39msplit(\u001b[39m\"\u001b[39m\u001b[39m\\t\u001b[39;00m\u001b[39m\"\u001b[39m)[:\u001b[39m3\u001b[39m])  \u001b[39m# ['A', '老炮儿', '3.5']\u001b[39;00m\n\u001b[0;32m     <a href='vscode-notebook-cell:/d%3A/Python_ML_Experiments/chapter14-recommend.ipynb#X31sZmlsZQ%3D%3D?line=40'>41</a>\u001b[0m m_ur_rdd \u001b[39m=\u001b[39m u_m_r_rdd\u001b[39m.\u001b[39mmap(\u001b[39mlambda\u001b[39;00m line: (line[\u001b[39m1\u001b[39m], [line[\u001b[39m0\u001b[39m], line[\u001b[39m2\u001b[39m]]))\n",
      "\u001b[1;31mNameError\u001b[0m: name 'sc' is not defined"
     ]
    }
   ],
   "source": [
    "import os\n",
    "import pandas as pd\n",
    "from scipy import stats\n",
    "\n",
    "def sim(ur_ur):\n",
    "    u_r_1 = pd.DataFrame(ur_ur[1][0], columns=['user', 'rating_a'])\n",
    "    u_r_2 = pd.DataFrame(ur_ur[1][1], columns=['user', 'rating_b'])\n",
    "    u_r_1.set_index('user', inplace=True)\n",
    "    u_r_2.set_index('user', inplace=True)\n",
    "    u_r_r = u_r_1.join(u_r_2, how='inner')\n",
    "    print(u_r_r)\n",
    "    pearson_value, P_value = stats.pearsonr(u_r_r['rating_a'].astype(float), u_r_r['rating_b'].astype(float))\n",
    "    print(ur_ur[0], pearson_value)\n",
    "    return [ur_ur[0], pearson_value]\n",
    "\n",
    "\n",
    "def recommend(bc, m_sim):\n",
    "    bc_df = pd.DataFrame(bc.value, columns=['movie', 'value'])\n",
    "    bc_df.set_index('movie', inplace=True)\n",
    "\n",
    "    m_sim_df = pd.DataFrame(m_sim, columns=['movie', 'value'])\n",
    "    m_sim_df.set_index('movie', inplace=True)\n",
    "    m_sim_sub_df = m_sim_df.loc[bc_df.index.values]\n",
    "\n",
    "    print(m_sim_sub_df)\n",
    "\n",
    "    # 评分，（矩阵相乘）\n",
    "    score = m_sim_sub_df.T.astype(float).dot(bc_df.astype(float))\n",
    "    print(\"dot: \\n \", score)\n",
    "    return score.loc['value']['value']\n",
    "\n",
    "\n",
    "if __name__ == '__main__':\n",
    "    '''\n",
    "    《数据挖掘与机器学习》122页, 基于物品的协同过滤\n",
    "    '''\n",
    "    file_path = r\"movies.csv\"\n",
    "\n",
    "    raw_umr_rdd = sc.textFile(file_path)  # 'A\t老炮儿\t3.5'\n",
    "    u_m_r_rdd = raw_umr_rdd.map(lambda line: line.split(\"\\t\")[:3])  # ['A', '老炮儿', '3.5']\n",
    "    m_ur_rdd = u_m_r_rdd.map(lambda line: (line[1], [line[0], line[2]]))\n",
    "    m_urs_rdd = m_ur_rdd.groupByKey().mapValues(list)\n",
    "    m_urs_cartesian_rdd = m_urs_rdd.cartesian(m_urs_rdd)\n",
    "    m_urs_cartesian_unique_rdd = m_urs_cartesian_rdd.filter(lambda m_urs: m_urs[0][0] != m_urs[1][0])\n",
    "\n",
    "    m__m_rrs_rdd = m_urs_cartesian_unique_rdd.map(lambda m_urs_2: (m_urs_2[0][0], (m_urs_2[1][0], [m_urs_2[0][1], m_urs_2[1][1]])))\n",
    "    m__m_sim_rdd = m__m_rrs_rdd.mapValues(sim)\n",
    "    m__m_sim_s_rdd = m__m_sim_rdd.groupByKey().mapValues(list)\n",
    "\n",
    "    # 用户已看过的电影\n",
    "    u_mr_rdd = u_m_r_rdd.map(lambda line: (line[0], [line[1], line[2]]))\n",
    "    u_mrs_rdd = u_mr_rdd.groupByKey().mapValues(list)  # (u, [ [m,r],[m,r],[m,r]] )\n",
    "\n",
    "    m_r_d = u_mrs_rdd.filter(lambda x: x[0] == 'A').values()  # [ [m,r],[m,r] ]\n",
    "    m_r_d_rdd = sc.parallelize(m_r_d.first())\n",
    "    bc = sc.broadcast(m_r_d.first())\n",
    "    sub_sim_rdd = m__m_sim_s_rdd.subtractByKey(m_r_d_rdd)  # (m,[[m,s],[m,s]])\n",
    "    m_score_rdd = sub_sim_rdd.mapValues(lambda x: recommend(bc, x))\n",
    "    m_score_sorted_rdd = m_score_rdd.sortBy(lambda x: x[1], False)\n",
    "    print(m_score_sorted_rdd.collect())\n",
    "    print(m_score_sorted_rdd.take(3))\n"
   ]
  },
  {
   "cell_type": "code",
   "execution_count": null,
   "metadata": {},
   "outputs": [],
   "source": []
  }
 ],
 "metadata": {
  "kernelspec": {
   "display_name": "Python 3",
   "language": "python",
   "name": "python3"
  },
  "language_info": {
   "codemirror_mode": {
    "name": "ipython",
    "version": 3
   },
   "file_extension": ".py",
   "mimetype": "text/x-python",
   "name": "python",
   "nbconvert_exporter": "python",
   "pygments_lexer": "ipython3",
   "version": "3.12.2"
  }
 },
 "nbformat": 4,
 "nbformat_minor": 2
}
