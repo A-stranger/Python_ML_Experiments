{
 "cells": [
  {
   "cell_type": "markdown",
   "metadata": {},
   "source": [
    "### 安装OpenCV"
   ]
  },
  {
   "cell_type": "code",
   "execution_count": 1,
   "metadata": {},
   "outputs": [
    {
     "name": "stdout",
     "output_type": "stream",
     "text": [
      "Looking in indexes: https://pypi.tuna.tsinghua.edu.cn/simple\n",
      "Requirement already satisfied: opencv-python in d:\\program files\\python312\\lib\\site-packages (4.8.1.78)\n",
      "Requirement already satisfied: numpy>=1.21.2 in d:\\program files\\python312\\lib\\site-packages (from opencv-python) (1.26.1)\n"
     ]
    }
   ],
   "source": [
    "!pip install opencv-python"
   ]
  },
  {
   "cell_type": "markdown",
   "metadata": {},
   "source": [
    "### 读取图像"
   ]
  },
  {
   "cell_type": "code",
   "execution_count": 5,
   "metadata": {},
   "outputs": [
    {
     "name": "stdout",
     "output_type": "stream",
     "text": [
      "<class 'numpy.ndarray'>\n",
      "(512, 512, 3)\n",
      "uint8\n",
      "786432\n"
     ]
    }
   ],
   "source": [
    "import cv2\n",
    "img=cv2.imread('img/opencv/lena.jpg')  \t#读取图像\n",
    "print(type(img))            \t#输出数据类型\n",
    "# print(img)                  \t#输出图像数组\n",
    "print(img.shape)\t\t        #输出数组形状\n",
    "print(img.dtype)\t\t\t    #输出数组元素的数据类型\n",
    "print(img.size)\t\t\t        #输出数组元素的个数"
   ]
  },
  {
   "cell_type": "markdown",
   "metadata": {},
   "source": [
    "### 显示图像"
   ]
  },
  {
   "cell_type": "code",
   "execution_count": 6,
   "metadata": {},
   "outputs": [],
   "source": [
    "import matplotlib.pyplot as plt\n",
    "import cv2\n",
    "cv2.imshow(\"lena\", img)\n",
    "cv2.waitKey(0)\n",
    "cv2.destroyAllWindows() "
   ]
  },
  {
   "cell_type": "markdown",
   "metadata": {},
   "source": [
    "### 创建240×320黑色图像"
   ]
  },
  {
   "cell_type": "code",
   "execution_count": 7,
   "metadata": {},
   "outputs": [],
   "source": [
    "import cv2\n",
    "import numpy\n",
    "img = numpy.zeros((240,320), dtype=numpy.uint8)  #创建240×320黑色图像\n",
    "cv2.imshow('GrayImg', img)\n",
    "cv2.waitKey(0)\n",
    "cv2.destroyAllWindows() "
   ]
  },
  {
   "cell_type": "markdown",
   "metadata": {},
   "source": [
    "### 操作灰度图像"
   ]
  },
  {
   "cell_type": "code",
   "execution_count": 8,
   "metadata": {},
   "outputs": [
    {
     "name": "stdout",
     "output_type": "stream",
     "text": [
      "20\n"
     ]
    }
   ],
   "source": [
    "import cv2\n",
    "import numpy\n",
    "img = numpy.zeros((240,320), dtype=numpy.uint8)  #创建240×320黑色图像\n",
    "n=0\n",
    "while True:\n",
    "    cv2.imshow('GrayImg', img)\n",
    "    n+=20\n",
    "    img[:, :]=n                 # 更改图像灰度值\n",
    "    print(img[1,1])             # 输出一个像素值\n",
    "    key=cv2.waitKey(1000)       # 延迟1秒\n",
    "    if key==27:                 # ASCII \n",
    "        cv2.destroyAllWindows() \n",
    "        break                   # 按【Esc】键结束"
   ]
  },
  {
   "cell_type": "markdown",
   "metadata": {},
   "source": [
    "> HTML ASCII 参考手册   \n",
    "> https://www.runoob.com/tags/html-ascii.html"
   ]
  },
  {
   "cell_type": "markdown",
   "metadata": {},
   "source": [
    "### 操作彩色图像"
   ]
  },
  {
   "cell_type": "code",
   "execution_count": 9,
   "metadata": {},
   "outputs": [],
   "source": [
    "import cv2\n",
    "import numpy\n",
    "\n",
    "img=numpy.zeros((240,320,3), dtype=numpy.uint8)\t#创建图像\n",
    "\n",
    "img[:80,:,0]=255    #通道r0，将上部1/3颜色值设为255\n",
    "img[80:160,:,1]=255 #通道r1，将中部1/3颜色值设为255\n",
    "img[160:,:,2]=255   #通道r2，将下部1/3颜色值设为255\n",
    "cv2.imshow('ColorImg',img)\n",
    "\n",
    "cv2.waitKey(0)                       #延迟1秒\n",
    "cv2.destroyAllWindows() "
   ]
  },
  {
   "cell_type": "markdown",
   "metadata": {},
   "source": [
    "彩色图像变更"
   ]
  },
  {
   "cell_type": "code",
   "execution_count": 10,
   "metadata": {},
   "outputs": [],
   "source": [
    "import cv2\n",
    "import numpy\n",
    "img=numpy.zeros((240,320,3), dtype=numpy.uint8)\t#创建图像\n",
    "r0=0\n",
    "r1=1\n",
    "r2=2\n",
    "while True:\n",
    "    img[:80,:,r0]=255                           #通道r0，将上部1/3颜色值设为255\n",
    "    img[80:160,:,r1]=255                        #通道r1，将中部1/3颜色值设为255\n",
    "    img[160:,:,r2]=255                          #通道r2，将下部1/3颜色值设为255\n",
    "    cv2.imshow('ColorImg',img)\n",
    "    key=cv2.waitKey(1000)                       #延迟1秒\n",
    "    img[:,:,:]=0                                #像素全部置0\n",
    "    t=r0                                        #轮换通道序号\n",
    "    r0=r1\n",
    "    r1=r2\n",
    "    r2=t\n",
    "    if key==27:\n",
    "        cv2.destroyAllWindows() \n",
    "        break"
   ]
  },
  {
   "cell_type": "markdown",
   "metadata": {},
   "source": [
    "##### 通过数组索引拆分通道"
   ]
  },
  {
   "cell_type": "markdown",
   "metadata": {},
   "source": [
    "OpenCV中BGR格式的图像是一个三维数组，可用数组的索引操作拆分3个色彩通道，示例代码如下。"
   ]
  },
  {
   "cell_type": "code",
   "execution_count": 11,
   "metadata": {},
   "outputs": [
    {
     "name": "stdout",
     "output_type": "stream",
     "text": [
      "(256, 256, 3)\n"
     ]
    }
   ],
   "source": [
    "import cv2\n",
    "img=cv2.imread('img/opencv/lena.jpg',cv2.IMREAD_REDUCED_COLOR_2)\t#读图像，将其尺寸减小为原来的1/2\n",
    "print(img.shape)\n",
    "cv2.imshow('lena',img)          \t                    #显示原图像\n",
    "\n",
    "b=img[:, :, 0]                    \t                    #获得B通道图像\n",
    "g=img[:, :, 1]                    \t                    #获得G通道图像\n",
    "r=img[:, :, 2]                   \t \t                #获得R通道图像\n",
    "\n",
    "cv2.imshow('lena_B',b)          \t                    #显示B通道图像\n",
    "cv2.imshow('lena_G',g)          \t                    #显示G通道图像\n",
    "cv2.imshow('lena_R',r)          \t                    #显示R通道图像\n",
    "cv2.waitKey(0)\n",
    "cv2.destroyAllWindows() "
   ]
  },
  {
   "cell_type": "markdown",
   "metadata": {},
   "source": [
    "##### 使用cv2.split()函数拆分通道"
   ]
  },
  {
   "cell_type": "code",
   "execution_count": 12,
   "metadata": {},
   "outputs": [],
   "source": [
    "import cv2\n",
    "img=cv2.imread('img/opencv/lena.jpg',cv2.IMREAD_REDUCED_COLOR_2)\t\t#读图像，将其尺寸减小为原来的1/2\n",
    "\n",
    "cv2.imshow('lena',img)          \t                        #显示原图像\n",
    "\n",
    "b,g,r=cv2.split(img)            \t                        #按通道拆分图像\n",
    "\n",
    "cv2.imshow('lena_B',b)          \t                        #显示B通道图像\n",
    "cv2.imshow('lena_G',g)          \t                        #显示G通道图像\n",
    "cv2.imshow('lena_R',r)          \t                        #显示R通道图像\n",
    "cv2.waitKey(0)\n",
    "cv2.destroyAllWindows() "
   ]
  },
  {
   "cell_type": "markdown",
   "metadata": {},
   "source": [
    "##### 合并图像通道"
   ]
  },
  {
   "cell_type": "code",
   "execution_count": 13,
   "metadata": {},
   "outputs": [],
   "source": [
    "import cv2\n",
    "img=cv2.imread('img/opencv/lena.jpg', cv2.IMREAD_REDUCED_COLOR_2) \t#读图像，将其尺寸减小为原来的1/2\n",
    "cv2.imshow('lena',img)          \t\t\t\t        #显示原图像\n",
    "\n",
    "b,g,r=cv2.split(img)            \t\t\t\t        #按通道拆分图像\n",
    "\n",
    "rgb=cv2.merge([r,g,b])          \t\t\t\t        #按新顺序合并\n",
    "gbr=cv2.merge([g,b,r])          \t\t\t\t        #按新顺序合并\n",
    "bgr=cv2.merge([b,g,r])\n",
    "\n",
    "cv2.imshow('lena_RGB',rgb)        \t\t\t\t        #显示合并图像\n",
    "cv2.imshow('lena_GBR',gbr)        \t\t\t\t        #显示合并图像\n",
    "cv2.imshow('lena_BGR',bgr)        \t\t\t\t        #显示合并图像\n",
    "\n",
    "cv2.waitKey(0)\n",
    "cv2.destroyAllWindows() "
   ]
  },
  {
   "cell_type": "markdown",
   "metadata": {},
   "source": [
    "### 图像加法运算"
   ]
  },
  {
   "cell_type": "markdown",
   "metadata": {},
   "source": [
    "##### + 与 add 图像加法"
   ]
  },
  {
   "cell_type": "code",
   "execution_count": 14,
   "metadata": {},
   "outputs": [],
   "source": [
    "import cv2\n",
    "img1=cv2.imread('img/opencv/lena.jpg', cv2.IMREAD_REDUCED_COLOR_2)  \t\t#读取图像\n",
    "img2=cv2.imread('img/opencv/opencvlog.jpg', cv2.IMREAD_REDUCED_COLOR_2)\t#读取图像\n",
    "\n",
    "cv2.imshow('lena',img1)                                         #显示原图像\n",
    "cv2.imshow('log',img2)                                          #显示原图像\n",
    "\n",
    "img3=img1+img2\n",
    "cv2.imshow('lena+log',img3)                                     #显示\"+\"运算结果图像\n",
    "\n",
    "img4=cv2.add(img1,img2)\n",
    "cv2.imshow('lenaaddlog',img4)                                   #显示add()函数运算结果图像\n",
    "\n",
    "cv2.waitKey(0)\n",
    "cv2.destroyAllWindows() "
   ]
  },
  {
   "cell_type": "markdown",
   "metadata": {},
   "source": [
    "add：当两个像素点的值相加大于255时，直接取值255, 255为白色；因此可以发现调用add方法生成的图像中白色像素较多；  \n",
    "+：为对256取模运算， 即：当相加值为256时，取值为0；当相加值为 257时，取值为1；"
   ]
  },
  {
   "cell_type": "markdown",
   "metadata": {},
   "source": [
    "##### 加权加法运算"
   ]
  },
  {
   "cell_type": "markdown",
   "metadata": {},
   "source": [
    "其中，变量dst保存结果，src1和src2为执行加权加法运算的两个图像数组，alpha和beta为权重，gamma为附加值。OpenCV按下面的公式执行图像数组的加权加法运算。"
   ]
  },
  {
   "cell_type": "code",
   "execution_count": 15,
   "metadata": {},
   "outputs": [],
   "source": [
    "import cv2\n",
    "img1=cv2.imread('img/opencv/lena.jpg',cv2.IMREAD_REDUCED_COLOR_2)  \t\t#读取图像\n",
    "img2=cv2.imread('img/opencv/opencvlog.jpg',cv2.IMREAD_REDUCED_COLOR_2)\t    #读取图像\n",
    "img3=cv2.addWeighted(img1, 0.8, img2, 0.2, 0)\n",
    "cv2.imshow('lena', img1)          \t\t\t\t\t            #显示原图像\n",
    "cv2.imshow('log', img2)          \t\t\t\t\t            #显示原图像\n",
    "cv2.imshow('lena+log',img3)         \t\t\t\t            #显示addWeighted()函数运算结果图像\n",
    "cv2.waitKey(0)\n",
    "cv2.destroyAllWindows() "
   ]
  },
  {
   "cell_type": "markdown",
   "metadata": {},
   "source": [
    "##### 图像加法小例子"
   ]
  },
  {
   "cell_type": "code",
   "execution_count": 26,
   "metadata": {},
   "outputs": [
    {
     "name": "stdout",
     "output_type": "stream",
     "text": [
      "(256, 256, 3)\n",
      "(256, 256, 3)\n"
     ]
    }
   ],
   "source": [
    "img1=cv2.imread('img/opencv/manypeople.jpeg',cv2.IMREAD_REDUCED_COLOR_2)  \t\t#读取图像\n",
    "img2=cv2.imread('img/opencv/opencvlog.jpg',cv2.IMREAD_REDUCED_COLOR_2)  \t\t#读取图像\n",
    "\n",
    "part = img1[0:256][:,0:256]\n",
    "print(part.shape)\n",
    "print(img2.shape)\n",
    "# add_img = cv2.add(part, img2)\n",
    "add_img=cv2.addWeighted(part, 0.8, img2, 0.2, 0)\n",
    "\n",
    "# cv2.imshow('add_img',add_img)   \n",
    "# cv2.waitKey(0)\n",
    "\n",
    "img1[0:256][:,0:256] = add_img\n",
    "cv2.imshow('add_img',img1)                                         #显示原图像\n",
    "cv2.waitKey(0)\n",
    "cv2.destroyAllWindows() "
   ]
  },
  {
   "cell_type": "markdown",
   "metadata": {},
   "source": [
    "### 人脸检测"
   ]
  },
  {
   "cell_type": "markdown",
   "metadata": {},
   "source": [
    "OpenCV下载\n",
    "https://opencv.org/releases/"
   ]
  },
  {
   "attachments": {
    "1701767733977.png": {
     "image/png": "[encoded data removed]"
    }
   },
   "cell_type": "markdown",
   "metadata": {},
   "source": [
    "![1701767733977.png](attachment:1701767733977.png)"
   ]
  },
  {
   "cell_type": "markdown",
   "metadata": {},
   "source": [
    "在 opencv.org 官网，下载windows版的安装包，实际上是一个7zip自解压文件，解压到指定的目录中。如`D:\\Program Files\\OpenCV\\`  \n",
    "CascadeClassifier，是Opencv中做人脸检测的时候的一个级联分类器  \n",
    "cv2.cvtcolor函数是Python OpenCV中一个非常常用的函数，主要作用是将图像从一种颜色空间转换为另一种颜色空间，包括RGB、灰度、HSV等颜色空间，  \n",
    "HSV颜色模型 每一种颜色都是由色相(Hue,简H),饱和度(Saturation,简S)和色明度(Value,简V)所表示的"
   ]
  },
  {
   "cell_type": "code",
   "execution_count": 2,
   "metadata": {},
   "outputs": [],
   "source": [
    "# 该模型是OpenCV官方训练好的人脸正脸检测模型，\n",
    "xml = r\"D:\\Program Files\\OpenCV\\sources\\data\\haarcascades\\haarcascade_frontalface_default.xml\""
   ]
  },
  {
   "cell_type": "markdown",
   "metadata": {},
   "source": [
    "##### lena人脸识别"
   ]
  },
  {
   "cell_type": "code",
   "execution_count": 3,
   "metadata": {},
   "outputs": [],
   "source": [
    "import cv2\n",
    "\n",
    "img=cv2.imread('img/opencv/lena.jpg')  \t#读取图像\n",
    "\n",
    "gray_img = cv2.cvtColor(img, cv2.COLOR_BGR2GRAY)\n",
    "face_detector = cv2.CascadeClassifier(xml)\n",
    "faces = face_detector.detectMultiScale(gray_img)\n",
    "\n",
    "for x, y, w, h in faces:\n",
    "    cv2.rectangle(img, (x,y), (x+w, y+h), color=(0,255,0), thickness=5)\n",
    "\n",
    "cv2.imshow(\"result\", img)\n",
    "cv2.waitKey(0)\n",
    "cv2.destroyAllWindows() "
   ]
  },
  {
   "cell_type": "markdown",
   "metadata": {},
   "source": [
    "##### 多张人脸检测"
   ]
  },
  {
   "cell_type": "code",
   "execution_count": 4,
   "metadata": {},
   "outputs": [],
   "source": [
    "import cv2\n",
    "\n",
    "img=cv2.imread('img/opencv/manypeople.jpeg')  \t\t#读取图像\n",
    "gray_img = cv2.cvtColor(img, cv2.COLOR_BGR2GRAY)\n",
    "face_detector = cv2.CascadeClassifier(xml)\n",
    "faces = face_detector.detectMultiScale(gray_img)\n",
    "\n",
    "for x, y, w, h in faces:\n",
    "    cv2.rectangle(img, (x,y), (x+w, y+h), color=(0,255,0), thickness=2)\n",
    "\n",
    "cv2.imshow(\"result\", img)\n",
    "cv2.waitKey(0)\n",
    "cv2.destroyAllWindows() "
   ]
  },
  {
   "cell_type": "markdown",
   "metadata": {},
   "source": [
    "## 视频中的人脸检测"
   ]
  },
  {
   "cell_type": "code",
   "execution_count": null,
   "metadata": {},
   "outputs": [],
   "source": [
    "import cv2\n",
    "video_face = cv2.VideoCapture(r\"data/video_face.mp4\")\n",
    "while True:\n",
    "    # read()方法返回视频中检测的对象，,视频在播放flag为True,frame为当前帧上的图片\n",
    "    flag, frame = video_face.read()\n",
    "    if not flag:\n",
    "        break\n",
    "    # 将图片进行灰度化\n",
    "    gray = cv2.cvtColor(frame, cv2.COLOR_BGR2GRAY)\n",
    "    # 加载特征数据\n",
    "    face_detector = cv2.CascadeClassifier(xml)\n",
    "    faces = face_detector.detectMultiScale(gray)\n",
    "    print(len(faces))\n",
    "    for x, y, w, h in faces:\n",
    "        cv2.rectangle(frame, (x, y), (x + w, y + h), color=(0, 0, 255), thickness=2)\n",
    "        cv2.circle(frame, center=(x + w // 2, y + h // 2), radius=(w // 2), color=(0, 255, 0), thickness=2)\n",
    "    cv2.imshow(\"result\", frame)\n",
    "    cv2.waitKey(20)\n",
    "cv2.destroyAllWindows()\n",
    "video_face.release()"
   ]
  },
  {
   "cell_type": "code",
   "execution_count": null,
   "metadata": {},
   "outputs": [],
   "source": [
    "cv2.destroyAllWindows() "
   ]
  },
  {
   "cell_type": "markdown",
   "metadata": {},
   "source": [
    "## 人脸识别"
   ]
  },
  {
   "cell_type": "markdown",
   "metadata": {},
   "source": [
    "##### 人脸识别数据训练"
   ]
  },
  {
   "cell_type": "code",
   "execution_count": 10,
   "metadata": {},
   "outputs": [],
   "source": [
    "def out_getImageAndLabels():\n",
    "    import cv2\n",
    "    import numpy as np\n",
    "    def getImageAndLabels(path):\n",
    "        \"\"\"\n",
    "        获取图片特征值和目标值\n",
    "        :param path:\n",
    "        :return:\n",
    "        \"\"\"\n",
    "        # 导包\n",
    "        import os\n",
    "        import sys\n",
    "        from PIL import Image\n",
    "        \"\"\"\n",
    "        PIL(Python Image Library)是python的第三方图像处理库，\n",
    "        但是由于其强大的功能与众多的使用人数，几乎已经被认为\n",
    "        是python官方图像处理库了。Image模块是在Python PIL图像\n",
    "        处理中常见的模块，对图像进行基础操作的功能基本都包含于此模块内。\n",
    "        如open、save、conver、show…等功能\n",
    "        \"\"\"\n",
    "        facesSamples = []\n",
    "        ids = []\n",
    "        imagePaths = [os.path.join(path, f) for f in os.listdir(path)]\n",
    "        face_detector = cv2.CascadeClassifier(xml)\n",
    "        # 遍历列表中的图片\n",
    "        for imagePath in imagePaths:\n",
    "            # 打开图片。convert()函数，用于不同模式图像之间的转换。\n",
    "            # PIL中有九种不同模式，分别为1，L，P，RGB，RGBA，CMYK，YCbCr，I，F。主要尝试1和L。\n",
    "            # 模式”1”为二值图像，非黑即白。但是它每个像素用8个bit表示，0表示黑，255表示白。\n",
    "            # 模式“L” 为灰色图像，它的每个像素用8个bit表示，0表示黑，255表示白，其他数字表示不同的灰度。\n",
    "            PIL_img = Image.open(imagePath).convert(\"L\")\n",
    "            # 将图像转换我数组\n",
    "            img_numpy = np.array(PIL_img, \"uint8\")\n",
    "            faces = face_detector.detectMultiScale(img_numpy)\n",
    "            # 获取每张图片的id\n",
    "            id = int(os.path.split(imagePath)[1].split(\".\")[0])\n",
    "            # id = os.path.split(imagePath)[1].split(\".\")[0]\n",
    "            for x, y, w, h in faces:\n",
    "                # 添加人脸区域图片\n",
    "                facesSamples.append(img_numpy[y:y + h, x:x + w])\n",
    "                ids.append(id)\n",
    "        return facesSamples, ids\n",
    "\n",
    "    # 图片路径\n",
    "    path = \"img/opencv/jm\"\n",
    "    # 获取图像数组和id数组标签\n",
    "    faces, ids = getImageAndLabels(path)\n",
    "    # 训练对象\n",
    "    recognizer = cv2.face.LBPHFaceRecognizer_create()\n",
    "    recognizer.train(faces, np.array(ids))\n",
    "    # 保存训练文件\n",
    "    recognizer.write(\"data/opencv/trainer.yml\")"
   ]
  },
  {
   "cell_type": "markdown",
   "metadata": {},
   "source": [
    "输出结果：\n",
    "\n",
    "当前目录会生成trainer.yml文件"
   ]
  },
  {
   "cell_type": "markdown",
   "metadata": {},
   "source": [
    "##### 人脸匹配"
   ]
  },
  {
   "cell_type": "code",
   "execution_count": null,
   "metadata": {},
   "outputs": [],
   "source": [
    "def match_face():\n",
    "    \"\"\"\n",
    "    人脸匹配\n",
    "    \"\"\"\n",
    "    # 导包\n",
    "    import cv2\n",
    "    import numpy as np\n",
    "    import os\n",
    "    # 加载训练数据集文件\n",
    "    recogizer = cv2.face.LBPHFaceRecognizer_create()\n",
    "    recogizer.read(\"data/opencv/trainer.yml\")\n",
    "    # 准备识别的图片\n",
    "    img = cv2.imread(\"img/opencv/lena.jpg\")\n",
    "    gray = cv2.cvtColor(img, cv2.COLOR_BGR2GRAY)\n",
    "    face_detector = cv2.CascadeClassifier(xml)\n",
    "    faces = face_detector.detectMultiScale(gray)\n",
    "    for x, y, w, h in faces:\n",
    "        cv2.rectangle(img, (x, y), (x + w, y + h), (0, 255, 0), 2)\n",
    "        # 人脸识别\n",
    "        id, confidence = recogizer.predict(gray[y:y + h, x:x + w])\n",
    "        print(\"标签id：\", id, \"置信度评分：\", confidence)\n",
    "    cv2.imshow(\"result\", img)\n",
    "    cv2.waitKey(0)\n",
    "    cv2.destroyAllWindows()"
   ]
  }
 ],
 "metadata": {
  "kernelspec": {
   "display_name": "Python 3",
   "language": "python",
   "name": "python3"
  },
  "language_info": {
   "codemirror_mode": {
    "name": "ipython",
    "version": 3
   },
   "file_extension": ".py",
   "mimetype": "text/x-python",
   "name": "python",
   "nbconvert_exporter": "python",
   "pygments_lexer": "ipython3",
   "version": "3.12.2"
  }
 },
 "nbformat": 4,
 "nbformat_minor": 2
}
