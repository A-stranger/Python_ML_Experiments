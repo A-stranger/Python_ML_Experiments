{
 "cells": [
  {
   "cell_type": "markdown",
   "id": "68902e40-71e9-48f0-bc36-c0959993bdf1",
   "metadata": {
    "editable": true,
    "slideshow": {
     "slide_type": ""
    },
    "tags": []
   },
   "source": [
    "正态分布的概率密度函数（Probability Density Function, PDF）是描述正态分布随机变量取值的概率分布情况的函数。\n",
    "\n",
    "对于一般的正态分布，其概率密度函数可以表示为：\n",
    "\n",
    "$f(x) = \\frac{1}{\\sqrt{2\\pi\\sigma^2}} e^{-\\frac{(x-\\mu)^2}{2\\sigma^2}}$\n",
    "\n",
    "其中：\n",
    "\n",
    "* $x$ 是随机变量。\n",
    "* $\\mu$ 是正态分布的均值（mean）。\n",
    "* $\\sigma$ 是正态分布的标准差（standard deviation）。\n",
    "* $\\sigma^2$ 是方差（variance）。\n",
    "* $\\sqrt{2\\pi\\sigma^2}$ 是标准化因子，确保整个概率密度函数的积分等于1。\n",
    "* $e^{-\\frac{(x-\\mu)^2}{2\\sigma^2}}$ 是指数部分，描述了概率密度随$x$的变化情况。\n",
    "\n",
    "这个概率密度函数描述了随机变量$x$在均值$\\mu$附近取值的概率分布情况。当$x$接近$\\mu$时，概率密度函数值较大；当$x$远离$\\mu$时，概率密度函数值较小。标准差$\\sigma$决定了概率密度函数的形状，$\\sigma$越大，函数图像越扁平；$\\sigma$越小，函数图像越陡峭。\n",
    "\n",
    "在Python中，可以使用`scipy.stats`库中的`norm`类来创建正态分布对象，并计算概率密度函数值。例如：\n",
    "\n",
    "\n",
    "这段代码首先定义了正态分布的均值和标准差，然后创建了一个正态分布对象。接着，它计算了$x=0.5$处的概率密度函数值，并将结果打印出来。"
   ]
  },
  {
   "cell_type": "code",
   "execution_count": 2,
   "id": "9e11c035-90f1-4949-9d54-72cfb418fd23",
   "metadata": {
    "editable": true,
    "slideshow": {
     "slide_type": ""
    },
    "tags": []
   },
   "outputs": [
    {
     "name": "stdout",
     "output_type": "stream",
     "text": [
      "The PDF value at x=6 is 1.578882964756137\n"
     ]
    }
   ],
   "source": [
    "import numpy as np\n",
    "from scipy.stats import norm\n",
    "\n",
    "# 定义均值和标准差\n",
    "mu = 5.855\n",
    "sigma = 0.187172\n",
    "\n",
    "# 创建正态分布对象\n",
    "normal_dist = norm(mu, sigma)\n",
    "\n",
    "# 计算某个点的概率密度函数值\n",
    "x = 6\n",
    "pdf_value = normal_dist.pdf(x)\n",
    "print(f\"The PDF value at x={x} is {pdf_value}\")"
   ]
  },
  {
   "cell_type": "code",
   "execution_count": null,
   "id": "513ba4f1-bb4e-46fd-91f8-45cd14fc0ba9",
   "metadata": {
    "editable": true,
    "slideshow": {
     "slide_type": ""
    },
    "tags": []
   },
   "outputs": [],
   "source": []
  }
 ],
 "metadata": {
  "kernelspec": {
   "display_name": "Python 3 (ipykernel)",
   "language": "python",
   "name": "python3"
  },
  "language_info": {
   "codemirror_mode": {
    "name": "ipython",
    "version": 3
   },
   "file_extension": ".py",
   "mimetype": "text/x-python",
   "name": "python",
   "nbconvert_exporter": "python",
   "pygments_lexer": "ipython3",
   "version": "3.12.2"
  }
 },
 "nbformat": 4,
 "nbformat_minor": 5
}
