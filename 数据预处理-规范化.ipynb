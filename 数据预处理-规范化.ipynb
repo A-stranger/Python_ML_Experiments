{
 "cells": [
  {
   "cell_type": "markdown",
   "metadata": {},
   "source": [
    "# 数据预处理 - 规范化"
   ]
  },
  {
   "cell_type": "markdown",
   "metadata": {},
   "source": [
    "### 为什么要规范化？"
   ]
  },
  {
   "cell_type": "markdown",
   "metadata": {},
   "source": [
    "假设三个人在不同平台看了两部电影并进行了评分，A平台采用5分制，B平台采用百分制；具体评分如下"
   ]
  },
  {
   "cell_type": "code",
   "execution_count": null,
   "metadata": {},
   "outputs": [],
   "source": [
    "zs = [5, 100]\n",
    "ls = [4.8, 80]\n",
    "ww = [1, 100]\n",
    "\n",
    "data = [zs, ls, ww]"
   ]
  },
  {
   "cell_type": "markdown",
   "metadata": {},
   "source": [
    "根据评分数据可以发现张三和李四品味比较相似"
   ]
  },
  {
   "cell_type": "code",
   "execution_count": null,
   "metadata": {},
   "outputs": [
    {
     "data": {
      "text/plain": [
       "Text(1, 100, 'ww')"
      ]
     },
     "execution_count": 2,
     "metadata": {},
     "output_type": "execute_result"
    },
    {
     "data": {
      "image/png": "[encoded data removed]",
      "text/plain": [
       "<Figure size 640x480 with 1 Axes>"
      ]
     },
     "metadata": {},
     "output_type": "display_data"
    }
   ],
   "source": [
    "%matplotlib inline\n",
    "\n",
    "import matplotlib.pyplot as plt\n",
    "\n",
    "x = [i[0] for i in data]\n",
    "y = [i[1] for i in data]\n",
    "\n",
    "fig = plt.figure()\n",
    "ax = fig.add_axes((0.1,0.1,0.8,0.8))\n",
    "\n",
    "ax.set_aspect(\"equal\")\n",
    "ax.set_xlim(-10,10)\n",
    "ax.set_ylim(-10,120)\n",
    "ax.scatter(x=x, y=y)\n",
    "ax.text(5, 100, \"zs\")\n",
    "ax.text(4.8, 80, \"ls\")\n",
    "ax.text(1,100, \"ww\")"
   ]
  },
  {
   "cell_type": "markdown",
   "metadata": {},
   "source": [
    "但是通过散点图可以发现，受第二部电影评分标准权重较大的影响，张三和王五距离较近，"
   ]
  },
  {
   "cell_type": "markdown",
   "metadata": {},
   "source": [
    "### 电影评分最大最小规范化"
   ]
  },
  {
   "cell_type": "code",
   "execution_count": null,
   "metadata": {},
   "outputs": [
    {
     "name": "stdout",
     "output_type": "stream",
     "text": [
      "[[1.   1.  ]\n",
      " [0.95 0.  ]\n",
      " [0.   1.  ]]\n"
     ]
    },
    {
     "data": {
      "text/plain": [
       "Text(0.0, 1.0, 'ww')"
      ]
     },
     "execution_count": 3,
     "metadata": {},
     "output_type": "execute_result"
    },
    {
     "data": {
      "image/png": "[encoded data removed]",
      "text/plain": [
       "<Figure size 640x480 with 1 Axes>"
      ]
     },
     "metadata": {},
     "output_type": "display_data"
    }
   ],
   "source": [
    "from sklearn.preprocessing import MinMaxScaler\n",
    "scaler = MinMaxScaler()\n",
    "\n",
    "zs = [5, 100]\n",
    "ls = [4.8, 80]\n",
    "ww = [1, 100]\n",
    "\n",
    "data = [zs, ls, ww]\n",
    "\n",
    "scale_data = scaler.fit_transform(data)\n",
    "print(scale_data)\n",
    "\n",
    "import matplotlib.pyplot as plt\n",
    "\n",
    "x = scale_data[:,0]\n",
    "y = scale_data[:,1]\n",
    "\n",
    "fig = plt.figure()\n",
    "ax = fig.add_axes((0.1,0.1,0.8,0.8))\n",
    "\n",
    "ax.set_aspect(\"equal\")\n",
    "\n",
    "ax.scatter(x=x, y=y)\n",
    "ax.text(scale_data[0][0], scale_data[0][1], \"zs\")\n",
    "ax.text(scale_data[1][0], scale_data[1][1], \"ls\")\n",
    "ax.text(scale_data[2][0], scale_data[2][1], \"ww\")"
   ]
  },
  {
   "cell_type": "markdown",
   "metadata": {},
   "source": [
    "但是，现在发现，规范化后的数据距离较为均匀，无法根据距离判断品味相似的用户；  \n",
    "仔细观察发现：  \n",
    "第一个特征的最小值是0， 王五对A的评分1被规范化为0;   \n",
    "第二个特征的最小值是0,  李四对B的评分80被规范化为0;  \n",
    "是较为不合理的。"
   ]
  },
  {
   "cell_type": "markdown",
   "metadata": {},
   "source": [
    "##### 再次规范化"
   ]
  },
  {
   "cell_type": "code",
   "execution_count": null,
   "metadata": {},
   "outputs": [
    {
     "data": {
      "text/plain": [
       "Text(0.2, 1.0, 'ww')"
      ]
     },
     "execution_count": 4,
     "metadata": {},
     "output_type": "execute_result"
    },
    {
     "data": {
      "image/png": "[encoded data removed]",
      "text/plain": [
       "<Figure size 640x480 with 1 Axes>"
      ]
     },
     "metadata": {},
     "output_type": "display_data"
    }
   ],
   "source": [
    "from sklearn.preprocessing import MinMaxScaler\n",
    "scaler = MinMaxScaler()\n",
    "\n",
    "zs = [5, 100]\n",
    "ls = [4.8, 80]\n",
    "ww = [1, 100]\n",
    "min = [0, 0]\n",
    "max = [5, 100]\n",
    "\n",
    "data = [zs, ls, ww, min, max]\n",
    "\n",
    "scale_data = scaler.fit_transform(data)\n",
    "\n",
    "\n",
    "import matplotlib.pyplot as plt\n",
    "\n",
    "x = scale_data[:3][:,0]\n",
    "y = scale_data[:3][:,1]\n",
    "\n",
    "fig = plt.figure()\n",
    "ax = fig.add_axes((0.1,0.1,0.8,0.8))\n",
    "\n",
    "ax.set_aspect(\"equal\")\n",
    "ax.set_xlim(0,1.1)\n",
    "ax.set_ylim(0,1.1)\n",
    "ax.scatter(x=x, y=y)\n",
    "ax.text(scale_data[0][0], scale_data[0][1], \"zs\")\n",
    "ax.text(scale_data[1][0], scale_data[1][1], \"ls\")\n",
    "ax.text(scale_data[2][0], scale_data[2][1], \"ww\")"
   ]
  },
  {
   "cell_type": "markdown",
   "metadata": {},
   "source": [
    "## z-score标准化"
   ]
  },
  {
   "cell_type": "markdown",
   "metadata": {},
   "source": [
    "z-score : (value - avg(values))/标准差"
   ]
  },
  {
   "cell_type": "code",
   "execution_count": 5,
   "metadata": {},
   "outputs": [],
   "source": [
    "value_list = [0.2, 0.2, 0.3, 0.4, 0.5, 0.6, 0.7, 80]"
   ]
  },
  {
   "cell_type": "code",
   "execution_count": 6,
   "metadata": {},
   "outputs": [
    {
     "data": {
      "text/plain": [
       "[-0.3860979108204779,\n",
       " -0.3860979108204779,\n",
       " -0.38229866938559,\n",
       " -0.3784994279507022,\n",
       " -0.3747001865158143,\n",
       " -0.37090094508092647,\n",
       " -0.36710170364603867,\n",
       " 2.6456967542200274]"
      ]
     },
     "execution_count": 6,
     "metadata": {},
     "output_type": "execute_result"
    }
   ],
   "source": [
    "def Z_Score(data):\n",
    "    lenth = len(data)\n",
    "    total = sum(data)\n",
    "    ave = float(total) / lenth\n",
    "    tempsum = sum([pow(data[i] - ave, 2) for i in range(lenth)])\n",
    "    tempsum = pow(float(tempsum) / lenth, 0.5)\n",
    "    for i in range(lenth):\n",
    "        data[i] = (data[i] - ave) / tempsum\n",
    "    return data\n",
    "Z_Score(value_list)"
   ]
  },
  {
   "cell_type": "code",
   "execution_count": 9,
   "metadata": {},
   "outputs": [
    {
     "data": {
      "text/plain": [
       "array([-0.38609791, -0.38609791, -0.38229867, -0.37849943, -0.37470019,\n",
       "       -0.37090095, -0.3671017 ,  2.64569675])"
      ]
     },
     "execution_count": 9,
     "metadata": {},
     "output_type": "execute_result"
    }
   ],
   "source": [
    "from sklearn.preprocessing import scale\n",
    "scale(value_list)"
   ]
  },
  {
   "cell_type": "markdown",
   "metadata": {},
   "source": [
    "## 小数定标规范化"
   ]
  },
  {
   "cell_type": "code",
   "execution_count": 13,
   "metadata": {},
   "outputs": [
    {
     "name": "stdout",
     "output_type": "stream",
     "text": [
      "小数定标规范化： [-0.03860979 -0.03860979 -0.03822987 -0.03784994 -0.03747002 -0.03709009\n",
      " -0.03671017  0.26456968]\n"
     ]
    }
   ],
   "source": [
    "income = [5000, 58000, 16000]\n",
    "\n",
    "def Decimal_Normalize(data):\n",
    "    max_value = abs(max(data))\n",
    "    decimal_list = data / 10**np.ceil(np.log10(max_value))\n",
    "    return decimal_list\n",
    "\n",
    "decimal_result = Decimal_Normalize(value_list)\n",
    "print('小数定标规范化：', decimal_result)"
   ]
  },
  {
   "cell_type": "code",
   "execution_count": 14,
   "metadata": {},
   "outputs": [],
   "source": [
    "from sklearn.preprocessing import StandardScaler\n",
    "import numpy as np"
   ]
  },
  {
   "cell_type": "markdown",
   "metadata": {},
   "source": [
    "scale()函数和StandardScaler()函数都可以把数据标准化，处理的过程都是 (X-mean) / std。\n",
    "\n",
    "但是又有点不同，scale()不能迁移到新的数据集，如果是处理训练集和测试集，只能是把训练集和测试集合起来， 计算出共同的mean和std， 然后 (X-mean) / std，再分成训练集和测试集。这里的mean和std的计算涉及到了测试集，是训练集和测试集共同的期望和方差\n",
    "\n",
    "而StandardScaler()可以迁移到新的数据集，只需要处理训练集，拿训练集的数据计算出均值x_train_mean, x_train_std和方差，然后训练集的X_train和测试集的X_test都执行标准化。 这里注意：测试集的标准化是利用的训练集的均值和方差。 也就是假设训练集的期望和测试集的期望是一样的，这样只需要计算出训练集的期望之后，直接用于测试集就可以了，这里只是训练集的期望和方差，没有涉及测试集"
   ]
  },
  {
   "cell_type": "markdown",
   "metadata": {},
   "source": [
    "> 原文链接：https://blog.csdn.net/wuzhongqiang/article/details/104211823"
   ]
  },
  {
   "cell_type": "markdown",
   "metadata": {},
   "source": []
  }
 ],
 "metadata": {
  "kernelspec": {
   "display_name": "Python 3",
   "language": "python",
   "name": "python3"
  },
  "language_info": {
   "codemirror_mode": {
    "name": "ipython",
    "version": 3
   },
   "file_extension": ".py",
   "mimetype": "text/x-python",
   "name": "python",
   "nbconvert_exporter": "python",
   "pygments_lexer": "ipython3",
   "version": "3.12.2"
  }
 },
 "nbformat": 4,
 "nbformat_minor": 2
}
