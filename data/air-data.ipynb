{
 "cells": [
  {
   "cell_type": "code",
   "execution_count": 6,
   "metadata": {},
   "outputs": [
    {
     "name": "stdout",
     "output_type": "stream",
     "text": [
      "Looking in indexes: https://pypi.tuna.tsinghua.edu.cn/simple\n",
      "Requirement already satisfied: lxml in d:\\program files\\python312\\lib\\site-packages (4.9.4)\n"
     ]
    },
    {
     "name": "stderr",
     "output_type": "stream",
     "text": [
      "\n",
      "[notice] A new release of pip is available: 23.3.1 -> 23.3.2\n",
      "[notice] To update, run: python.exe -m pip install --upgrade pip\n"
     ]
    },
    {
     "name": "stdout",
     "output_type": "stream",
     "text": [
      "Looking in indexes: https://pypi.tuna.tsinghua.edu.cn/simple\n",
      "Collecting html5lib\n",
      "  Downloading https://pypi.tuna.tsinghua.edu.cn/packages/6c/dd/a834df6482147d48e225a49515aabc28974ad5a4ca3215c18a882565b028/html5lib-1.1-py2.py3-none-any.whl (112 kB)\n",
      "     ---------------------------------------- 0.0/112.2 kB ? eta -:--:--\n",
      "     --- ------------------------------------ 10.2/112.2 kB ? eta -:--:--\n",
      "     ---------- -------------------------- 30.7/112.2 kB 330.3 kB/s eta 0:00:01\n",
      "     ------------- ----------------------- 41.0/112.2 kB 281.8 kB/s eta 0:00:01\n",
      "     ------------------------------ ------ 92.2/112.2 kB 476.3 kB/s eta 0:00:01\n",
      "     ------------------------------------ 112.2/112.2 kB 502.1 kB/s eta 0:00:00\n",
      "Requirement already satisfied: six>=1.9 in d:\\program files\\python312\\lib\\site-packages (from html5lib) (1.16.0)\n",
      "Requirement already satisfied: webencodings in d:\\program files\\python312\\lib\\site-packages (from html5lib) (0.5.1)\n",
      "Installing collected packages: html5lib\n",
      "Successfully installed html5lib-1.1\n"
     ]
    },
    {
     "name": "stderr",
     "output_type": "stream",
     "text": [
      "\n",
      "[notice] A new release of pip is available: 23.3.1 -> 23.3.2\n",
      "[notice] To update, run: python.exe -m pip install --upgrade pip\n"
     ]
    }
   ],
   "source": [
    "!pip install lxml\n",
    "!pip install html5lib"
   ]
  },
  {
   "cell_type": "code",
   "execution_count": 9,
   "metadata": {},
   "outputs": [
    {
     "name": "stderr",
     "output_type": "stream",
     "text": [
      "d:\\Program Files\\Python312\\Lib\\site-packages\\bs4\\__init__.py:228: UserWarning: You provided Unicode markup but also provided a value for from_encoding. Your from_encoding will be ignored.\n",
      "  warnings.warn(\"You provided Unicode markup but also provided a value for from_encoding. Your from_encoding will be ignored.\")\n",
      "2023-12-23 10:22:57,210 - INFO: 1月空气质量数据下载完成！\n",
      "d:\\Program Files\\Python312\\Lib\\site-packages\\bs4\\__init__.py:228: UserWarning: You provided Unicode markup but also provided a value for from_encoding. Your from_encoding will be ignored.\n",
      "  warnings.warn(\"You provided Unicode markup but also provided a value for from_encoding. Your from_encoding will be ignored.\")\n",
      "2023-12-23 10:23:14,331 - INFO: 2月空气质量数据下载完成！\n",
      "d:\\Program Files\\Python312\\Lib\\site-packages\\bs4\\__init__.py:228: UserWarning: You provided Unicode markup but also provided a value for from_encoding. Your from_encoding will be ignored.\n",
      "  warnings.warn(\"You provided Unicode markup but also provided a value for from_encoding. Your from_encoding will be ignored.\")\n",
      "2023-12-23 10:23:22,028 - INFO: 3月空气质量数据下载完成！\n",
      "d:\\Program Files\\Python312\\Lib\\site-packages\\bs4\\__init__.py:228: UserWarning: You provided Unicode markup but also provided a value for from_encoding. Your from_encoding will be ignored.\n",
      "  warnings.warn(\"You provided Unicode markup but also provided a value for from_encoding. Your from_encoding will be ignored.\")\n",
      "2023-12-23 10:23:45,921 - INFO: 4月空气质量数据下载完成！\n",
      "d:\\Program Files\\Python312\\Lib\\site-packages\\bs4\\__init__.py:228: UserWarning: You provided Unicode markup but also provided a value for from_encoding. Your from_encoding will be ignored.\n",
      "  warnings.warn(\"You provided Unicode markup but also provided a value for from_encoding. Your from_encoding will be ignored.\")\n",
      "2023-12-23 10:23:58,503 - INFO: 5月空气质量数据下载完成！\n",
      "d:\\Program Files\\Python312\\Lib\\site-packages\\bs4\\__init__.py:228: UserWarning: You provided Unicode markup but also provided a value for from_encoding. Your from_encoding will be ignored.\n",
      "  warnings.warn(\"You provided Unicode markup but also provided a value for from_encoding. Your from_encoding will be ignored.\")\n",
      "2023-12-23 10:24:29,025 - INFO: 6月空气质量数据下载完成！\n",
      "d:\\Program Files\\Python312\\Lib\\site-packages\\bs4\\__init__.py:228: UserWarning: You provided Unicode markup but also provided a value for from_encoding. Your from_encoding will be ignored.\n",
      "  warnings.warn(\"You provided Unicode markup but also provided a value for from_encoding. Your from_encoding will be ignored.\")\n",
      "2023-12-23 10:24:47,826 - INFO: 7月空气质量数据下载完成！\n",
      "d:\\Program Files\\Python312\\Lib\\site-packages\\bs4\\__init__.py:228: UserWarning: You provided Unicode markup but also provided a value for from_encoding. Your from_encoding will be ignored.\n",
      "  warnings.warn(\"You provided Unicode markup but also provided a value for from_encoding. Your from_encoding will be ignored.\")\n",
      "2023-12-23 10:25:04,822 - INFO: 8月空气质量数据下载完成！\n",
      "d:\\Program Files\\Python312\\Lib\\site-packages\\bs4\\__init__.py:228: UserWarning: You provided Unicode markup but also provided a value for from_encoding. Your from_encoding will be ignored.\n",
      "  warnings.warn(\"You provided Unicode markup but also provided a value for from_encoding. Your from_encoding will be ignored.\")\n",
      "2023-12-23 10:25:18,888 - INFO: 9月空气质量数据下载完成！\n",
      "d:\\Program Files\\Python312\\Lib\\site-packages\\bs4\\__init__.py:228: UserWarning: You provided Unicode markup but also provided a value for from_encoding. Your from_encoding will be ignored.\n",
      "  warnings.warn(\"You provided Unicode markup but also provided a value for from_encoding. Your from_encoding will be ignored.\")\n",
      "2023-12-23 10:25:33,308 - INFO: 10月空气质量数据下载完成！\n",
      "d:\\Program Files\\Python312\\Lib\\site-packages\\bs4\\__init__.py:228: UserWarning: You provided Unicode markup but also provided a value for from_encoding. Your from_encoding will be ignored.\n",
      "  warnings.warn(\"You provided Unicode markup but also provided a value for from_encoding. Your from_encoding will be ignored.\")\n",
      "2023-12-23 10:25:52,866 - INFO: 11月空气质量数据下载完成！\n",
      "d:\\Program Files\\Python312\\Lib\\site-packages\\bs4\\__init__.py:228: UserWarning: You provided Unicode markup but also provided a value for from_encoding. Your from_encoding will be ignored.\n",
      "  warnings.warn(\"You provided Unicode markup but also provided a value for from_encoding. Your from_encoding will be ignored.\")\n",
      "2023-12-23 10:26:03,523 - INFO: 12月空气质量数据下载完成！\n"
     ]
    }
   ],
   "source": [
    "# -*- coding: UTF-8 -*-\n",
    "import pandas as pd\n",
    "import logging\n",
    " \n",
    "logging.basicConfig(level=logging.INFO, format='%(asctime)s - %(levelname)s: %(message)s')\n",
    " \n",
    "for page in range(1, 13):   # 12个月\n",
    "    if page < 10:\n",
    "        url = f'http://www.tianqihoubao.com/aqi/zaozhuang-20230{page}.html'\n",
    "        df = pd.read_html(url, encoding='gbk')[0]\n",
    "        if page == 1:\n",
    "            df.to_csv('2023年枣庄空气质量数据.csv', mode='a+', index=False, header=False)\n",
    "        else:\n",
    "            df.iloc[1:,::].to_csv('2023年枣庄空气质量数据.csv', mode='a+', index=False, header=False)\n",
    "    else:\n",
    "        url = f'http://www.tianqihoubao.com/aqi/zaozhuang-2023{page}.html'\n",
    "        df = pd.read_html(url, encoding='gbk')[0]\n",
    "        df.iloc[1:,::].to_csv('2023年枣庄空气质量数据.csv', mode='a+', index=False, header=False)\n",
    " \n",
    "    logging.info(f'{page}月空气质量数据下载完成！')"
   ]
  }
 ],
 "metadata": {
  "kernelspec": {
   "display_name": "Python 3",
   "language": "python",
   "name": "python3"
  },
  "language_info": {
   "codemirror_mode": {
    "name": "ipython",
    "version": 3
   },
   "file_extension": ".py",
   "mimetype": "text/x-python",
   "name": "python",
   "nbconvert_exporter": "python",
   "pygments_lexer": "ipython3",
   "version": "3.12.0"
  }
 },
 "nbformat": 4,
 "nbformat_minor": 2
}
