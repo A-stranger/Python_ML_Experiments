{
 "cells": [
  {
   "cell_type": "markdown",
   "metadata": {},
   "source": [
    "### 列表索引"
   ]
  },
  {
   "cell_type": "code",
   "execution_count": 130,
   "metadata": {},
   "outputs": [],
   "source": [
    "l = [\"a\",\"b\",\"c\"]"
   ]
  },
  {
   "cell_type": "code",
   "execution_count": 131,
   "metadata": {},
   "outputs": [
    {
     "data": {
      "text/plain": [
       "'a'"
      ]
     },
     "execution_count": 131,
     "metadata": {},
     "output_type": "execute_result"
    }
   ],
   "source": [
    "l[0]"
   ]
  },
  {
   "cell_type": "code",
   "execution_count": 132,
   "metadata": {},
   "outputs": [
    {
     "data": {
      "text/plain": [
       "'c'"
      ]
     },
     "execution_count": 132,
     "metadata": {},
     "output_type": "execute_result"
    }
   ],
   "source": [
    "l[2]"
   ]
  },
  {
   "cell_type": "code",
   "execution_count": 133,
   "metadata": {},
   "outputs": [
    {
     "data": {
      "text/plain": [
       "'b'"
      ]
     },
     "execution_count": 133,
     "metadata": {},
     "output_type": "execute_result"
    }
   ],
   "source": [
    "l[-2]"
   ]
  },
  {
   "cell_type": "code",
   "execution_count": 134,
   "metadata": {},
   "outputs": [
    {
     "data": {
      "text/plain": [
       "['a', 'b']"
      ]
     },
     "execution_count": 134,
     "metadata": {},
     "output_type": "execute_result"
    }
   ],
   "source": [
    "l[0:2]"
   ]
  },
  {
   "cell_type": "code",
   "execution_count": 135,
   "metadata": {},
   "outputs": [
    {
     "data": {
      "text/plain": [
       "['a', 'b']"
      ]
     },
     "execution_count": 135,
     "metadata": {},
     "output_type": "execute_result"
    }
   ],
   "source": [
    "l[0:-1]"
   ]
  },
  {
   "cell_type": "markdown",
   "metadata": {},
   "source": [
    "### 字典知识回顾"
   ]
  },
  {
   "cell_type": "code",
   "execution_count": 136,
   "metadata": {},
   "outputs": [],
   "source": [
    "s = \"a b c a b c a a b\""
   ]
  },
  {
   "cell_type": "code",
   "execution_count": 137,
   "metadata": {},
   "outputs": [
    {
     "data": {
      "text/plain": [
       "'a b c a b c a a b'"
      ]
     },
     "execution_count": 137,
     "metadata": {},
     "output_type": "execute_result"
    }
   ],
   "source": [
    "s.replace(\".\", \" \")"
   ]
  },
  {
   "cell_type": "code",
   "execution_count": 138,
   "metadata": {},
   "outputs": [
    {
     "data": {
      "text/plain": [
       "['a', 'b', 'c', 'a', 'b', 'c', 'a', 'a', 'b']"
      ]
     },
     "execution_count": 138,
     "metadata": {},
     "output_type": "execute_result"
    }
   ],
   "source": [
    "words = s.split(\" \")\n",
    "words"
   ]
  },
  {
   "cell_type": "code",
   "execution_count": 139,
   "metadata": {},
   "outputs": [
    {
     "data": {
      "text/plain": [
       "{'a': 4, 'b': 3, 'c': 2}"
      ]
     },
     "execution_count": 139,
     "metadata": {},
     "output_type": "execute_result"
    }
   ],
   "source": [
    "d = {}\n",
    "for word in words:\n",
    "    if d.get(word) == None:\n",
    "        d.update({word:1})\n",
    "    else:\n",
    "        v = d.get(word)\n",
    "        v = v+1\n",
    "        d.update({word:v})\n",
    "d"
   ]
  },
  {
   "cell_type": "markdown",
   "metadata": {},
   "source": [
    "### 集合相关运算"
   ]
  },
  {
   "cell_type": "code",
   "execution_count": 140,
   "metadata": {},
   "outputs": [],
   "source": [
    "s_1 = {1,2,3}\n",
    "s_2 = {2,3,4}\n",
    "s_3 = {1,2}"
   ]
  },
  {
   "cell_type": "code",
   "execution_count": 141,
   "metadata": {},
   "outputs": [
    {
     "data": {
      "text/plain": [
       "{1, 2, 3, 4}"
      ]
     },
     "execution_count": 141,
     "metadata": {},
     "output_type": "execute_result"
    }
   ],
   "source": [
    "s_1.union(s_2)"
   ]
  },
  {
   "cell_type": "code",
   "execution_count": 142,
   "metadata": {},
   "outputs": [
    {
     "data": {
      "text/plain": [
       "True"
      ]
     },
     "execution_count": 142,
     "metadata": {},
     "output_type": "execute_result"
    }
   ],
   "source": [
    "s_3.issubset(s_1)"
   ]
  },
  {
   "cell_type": "code",
   "execution_count": 143,
   "metadata": {},
   "outputs": [
    {
     "data": {
      "text/plain": [
       "False"
      ]
     },
     "execution_count": 143,
     "metadata": {},
     "output_type": "execute_result"
    }
   ],
   "source": [
    "s_3.issubset(s_2)"
   ]
  },
  {
   "cell_type": "code",
   "execution_count": 144,
   "metadata": {},
   "outputs": [
    {
     "data": {
      "text/plain": [
       "True"
      ]
     },
     "execution_count": 144,
     "metadata": {},
     "output_type": "execute_result"
    }
   ],
   "source": [
    "s_1.issuperset(s_3)"
   ]
  },
  {
   "cell_type": "markdown",
   "metadata": {},
   "source": [
    "### 排列组合"
   ]
  },
  {
   "cell_type": "code",
   "execution_count": 145,
   "metadata": {},
   "outputs": [
    {
     "data": {
      "text/plain": [
       "[(1, 2), (1, 3), (2, 3)]"
      ]
     },
     "execution_count": 145,
     "metadata": {},
     "output_type": "execute_result"
    }
   ],
   "source": [
    "import itertools\n",
    "list(itertools.combinations({1,2,3},2))"
   ]
  },
  {
   "cell_type": "code",
   "execution_count": 146,
   "metadata": {},
   "outputs": [
    {
     "data": {
      "text/plain": [
       "[(1, 2), (2, 1)]"
      ]
     },
     "execution_count": 146,
     "metadata": {},
     "output_type": "execute_result"
    }
   ],
   "source": [
    "list(itertools.permutations([1,2]))"
   ]
  },
  {
   "cell_type": "markdown",
   "metadata": {},
   "source": [
    "###  包含"
   ]
  },
  {
   "cell_type": "code",
   "execution_count": 147,
   "metadata": {},
   "outputs": [
    {
     "data": {
      "text/plain": [
       "True"
      ]
     },
     "execution_count": 147,
     "metadata": {},
     "output_type": "execute_result"
    }
   ],
   "source": [
    "\"a\" in [\"a\",\"b\",\"c\"]"
   ]
  },
  {
   "cell_type": "code",
   "execution_count": 148,
   "metadata": {},
   "outputs": [
    {
     "data": {
      "text/plain": [
       "True"
      ]
     },
     "execution_count": 148,
     "metadata": {},
     "output_type": "execute_result"
    }
   ],
   "source": [
    "{\"a\"} in [{\"a\"},{\"b\"},{\"c\"}]"
   ]
  },
  {
   "cell_type": "code",
   "execution_count": 149,
   "metadata": {},
   "outputs": [],
   "source": [
    "list_1 = ['A','C']\n",
    "list_2 = [\"A\",\"F\"]\n",
    "list_3 = [\"C\",\"A\"]\n",
    "\n",
    "tuple_1 = (\"A\",\"C\")\n",
    "tuple_2 = (\"A\",\"F\")\n",
    "\n",
    "set_1 = {\"C\",\"A\"}\n",
    "\n",
    "data = [['A', 'B'],\n",
    "        ['A', 'C'],\n",
    "        ['A', 'D'],\n",
    "        ['A', 'E'],\n",
    "        ['B', 'C'],\n",
    "        ['B', 'D'],\n",
    "        ['B', 'E'],\n",
    "        ['C', 'D'],\n",
    "        ['C', 'E'],\n",
    "        ['D', 'E']]"
   ]
  },
  {
   "cell_type": "code",
   "execution_count": 150,
   "metadata": {},
   "outputs": [
    {
     "data": {
      "text/plain": [
       "False"
      ]
     },
     "execution_count": 150,
     "metadata": {},
     "output_type": "execute_result"
    }
   ],
   "source": [
    "tuple_1 in data"
   ]
  },
  {
   "cell_type": "markdown",
   "metadata": {},
   "source": [
    "### 组合"
   ]
  },
  {
   "cell_type": "markdown",
   "metadata": {},
   "source": [
    "[](attachment:apriori_self_join_net.png)\n",
    "\n",
    "<img src=\"img/apriori_self_join_net.png\" width=\"50%\" width=\"50%\" />\n",
    "</div>"
   ]
  },
  {
   "cell_type": "markdown",
   "metadata": {},
   "source": [
    "### 1-项集组合"
   ]
  },
  {
   "cell_type": "code",
   "execution_count": 151,
   "metadata": {},
   "outputs": [
    {
     "data": {
      "text/plain": [
       "[(['A'], ['B']),\n",
       " (['A'], ['C']),\n",
       " (['A'], ['D']),\n",
       " (['A'], ['E']),\n",
       " (['B'], ['C']),\n",
       " (['B'], ['D']),\n",
       " (['B'], ['E']),\n",
       " (['C'], ['D']),\n",
       " (['C'], ['E']),\n",
       " (['D'], ['E'])]"
      ]
     },
     "execution_count": 151,
     "metadata": {},
     "output_type": "execute_result"
    }
   ],
   "source": [
    "import itertools\n",
    "# 作为频繁一项集\n",
    "one_item_set = [[\"A\"],[\"B\"],[\"C\"],[\"D\"],[\"E\"]]  \n",
    "list(itertools.combinations(one_item_set, 2))"
   ]
  },
  {
   "cell_type": "markdown",
   "metadata": {},
   "source": [
    "### 2-项集"
   ]
  },
  {
   "cell_type": "code",
   "execution_count": 152,
   "metadata": {},
   "outputs": [
    {
     "data": {
      "text/plain": [
       "[(['A'], ['B']),\n",
       " (['A'], ['C']),\n",
       " (['A'], ['D']),\n",
       " (['A'], ['E']),\n",
       " (['B'], ['C']),\n",
       " (['B'], ['D']),\n",
       " (['B'], ['E']),\n",
       " (['C'], ['D']),\n",
       " (['C'], ['E']),\n",
       " (['D'], ['E'])]"
      ]
     },
     "execution_count": 152,
     "metadata": {},
     "output_type": "execute_result"
    }
   ],
   "source": [
    "# 2-项集\n",
    "import itertools\n",
    "# 作为频繁一项集\n",
    "one_itemset = [[\"A\"],[\"B\"],[\"C\"],[\"D\"],[\"E\"]]  \n",
    "one_itemset_combination = list(itertools.combinations(one_itemset, 2))\n",
    "one_itemset_combination"
   ]
  },
  {
   "cell_type": "code",
   "execution_count": 153,
   "metadata": {},
   "outputs": [],
   "source": [
    "# 2-项集\n",
    "two_itemset = [[i[0][0],i[1][0]] for i in one_itemset_combination]"
   ]
  },
  {
   "cell_type": "markdown",
   "metadata": {},
   "source": [
    "### 2-项集组合"
   ]
  },
  {
   "cell_type": "code",
   "execution_count": 154,
   "metadata": {},
   "outputs": [
    {
     "data": {
      "text/plain": [
       "[(['A', 'B'], ['A', 'C']),\n",
       " (['A', 'B'], ['A', 'D']),\n",
       " (['A', 'B'], ['A', 'E']),\n",
       " (['A', 'B'], ['B', 'C']),\n",
       " (['A', 'B'], ['B', 'D']),\n",
       " (['A', 'B'], ['B', 'E']),\n",
       " (['A', 'B'], ['C', 'D']),\n",
       " (['A', 'B'], ['C', 'E']),\n",
       " (['A', 'B'], ['D', 'E']),\n",
       " (['A', 'C'], ['A', 'D']),\n",
       " (['A', 'C'], ['A', 'E']),\n",
       " (['A', 'C'], ['B', 'C']),\n",
       " (['A', 'C'], ['B', 'D']),\n",
       " (['A', 'C'], ['B', 'E']),\n",
       " (['A', 'C'], ['C', 'D']),\n",
       " (['A', 'C'], ['C', 'E']),\n",
       " (['A', 'C'], ['D', 'E']),\n",
       " (['A', 'D'], ['A', 'E']),\n",
       " (['A', 'D'], ['B', 'C']),\n",
       " (['A', 'D'], ['B', 'D']),\n",
       " (['A', 'D'], ['B', 'E']),\n",
       " (['A', 'D'], ['C', 'D']),\n",
       " (['A', 'D'], ['C', 'E']),\n",
       " (['A', 'D'], ['D', 'E']),\n",
       " (['A', 'E'], ['B', 'C']),\n",
       " (['A', 'E'], ['B', 'D']),\n",
       " (['A', 'E'], ['B', 'E']),\n",
       " (['A', 'E'], ['C', 'D']),\n",
       " (['A', 'E'], ['C', 'E']),\n",
       " (['A', 'E'], ['D', 'E']),\n",
       " (['B', 'C'], ['B', 'D']),\n",
       " (['B', 'C'], ['B', 'E']),\n",
       " (['B', 'C'], ['C', 'D']),\n",
       " (['B', 'C'], ['C', 'E']),\n",
       " (['B', 'C'], ['D', 'E']),\n",
       " (['B', 'D'], ['B', 'E']),\n",
       " (['B', 'D'], ['C', 'D']),\n",
       " (['B', 'D'], ['C', 'E']),\n",
       " (['B', 'D'], ['D', 'E']),\n",
       " (['B', 'E'], ['C', 'D']),\n",
       " (['B', 'E'], ['C', 'E']),\n",
       " (['B', 'E'], ['D', 'E']),\n",
       " (['C', 'D'], ['C', 'E']),\n",
       " (['C', 'D'], ['D', 'E']),\n",
       " (['C', 'E'], ['D', 'E'])]"
      ]
     },
     "execution_count": 154,
     "metadata": {},
     "output_type": "execute_result"
    }
   ],
   "source": [
    "two_itemset_combination = list(itertools.combinations(two_itemset, 2))\n",
    "two_itemset_combination"
   ]
  },
  {
   "cell_type": "markdown",
   "metadata": {},
   "source": [
    "此时对2-项集再合并为3-项集会出现下面这种现象\n",
    "['A', 'B'], ['A', 'C'] => [\"A\",\"B\",\"C\"]\n",
    "['A', 'B'], ['B', 'C'] => [\"A\",\"B\",\"C\"]"
   ]
  },
  {
   "cell_type": "markdown",
   "metadata": {},
   "source": [
    "### 3-项集"
   ]
  },
  {
   "cell_type": "code",
   "execution_count": 155,
   "metadata": {},
   "outputs": [],
   "source": [
    "# 3-项集\n",
    "import itertools\n",
    "\n",
    "one_itemset = [[\"A\"],[\"B\"],[\"C\"],[\"D\"],[\"E\"]]  # 作为频繁一项集\n",
    "\n",
    "def apriori_gen_candidate(frequent_k_1_itemset):\n",
    "    frequent_k_1_item_combination = list(itertools.combinations(frequent_k_1_itemset, 2))\n",
    "    candidate_k_itemset = []\n",
    "    for combination in frequent_k_1_item_combination:\n",
    "        if combination[0][0:-1] == combination[1][0:-1] and combination[0][-1] < combination[1][-1]: # 借助列表的索引特性\n",
    "            k_item = set(combination[0]).union(set(combination[1]))     # k-1 借助set合并为 k\n",
    "            k_item = list(k_item)                                   # set转为list\n",
    "            k_item.sort()                                               # list排序\n",
    "            candidate_k_itemset.append(k_item)\n",
    "\n",
    "    return candidate_k_itemset"
   ]
  },
  {
   "cell_type": "code",
   "execution_count": 156,
   "metadata": {},
   "outputs": [
    {
     "data": {
      "text/plain": [
       "[['A', 'B'],\n",
       " ['A', 'C'],\n",
       " ['A', 'D'],\n",
       " ['A', 'E'],\n",
       " ['B', 'C'],\n",
       " ['B', 'D'],\n",
       " ['B', 'E'],\n",
       " ['C', 'D'],\n",
       " ['C', 'E'],\n",
       " ['D', 'E']]"
      ]
     },
     "execution_count": 156,
     "metadata": {},
     "output_type": "execute_result"
    }
   ],
   "source": [
    "two_itemset = apriori_gen_candidate(one_itemset)\n",
    "two_itemset"
   ]
  },
  {
   "cell_type": "code",
   "execution_count": 157,
   "metadata": {},
   "outputs": [
    {
     "data": {
      "text/plain": [
       "[['A', 'B', 'C'],\n",
       " ['A', 'B', 'D'],\n",
       " ['A', 'B', 'E'],\n",
       " ['A', 'C', 'D'],\n",
       " ['A', 'C', 'E'],\n",
       " ['A', 'D', 'E'],\n",
       " ['B', 'C', 'D'],\n",
       " ['B', 'C', 'E'],\n",
       " ['B', 'D', 'E'],\n",
       " ['C', 'D', 'E']]"
      ]
     },
     "execution_count": 157,
     "metadata": {},
     "output_type": "execute_result"
    }
   ],
   "source": [
    "three_itemset = apriori_gen_candidate(two_itemset)\n",
    "three_itemset"
   ]
  },
  {
   "cell_type": "code",
   "execution_count": 158,
   "metadata": {},
   "outputs": [
    {
     "data": {
      "text/plain": [
       "[['A', 'B', 'C', 'D'],\n",
       " ['A', 'B', 'C', 'E'],\n",
       " ['A', 'B', 'D', 'E'],\n",
       " ['A', 'C', 'D', 'E'],\n",
       " ['B', 'C', 'D', 'E']]"
      ]
     },
     "execution_count": 158,
     "metadata": {},
     "output_type": "execute_result"
    }
   ],
   "source": [
    "four_itemset = apriori_gen_candidate(three_itemset)\n",
    "four_itemset"
   ]
  },
  {
   "cell_type": "code",
   "execution_count": 159,
   "metadata": {},
   "outputs": [
    {
     "data": {
      "text/plain": [
       "[['A', 'B', 'C', 'D', 'E']]"
      ]
     },
     "execution_count": 159,
     "metadata": {},
     "output_type": "execute_result"
    }
   ],
   "source": [
    "five_itemset = apriori_gen_candidate(four_itemset)\n",
    "five_itemset"
   ]
  },
  {
   "cell_type": "markdown",
   "metadata": {},
   "source": [
    "# Apriori"
   ]
  },
  {
   "cell_type": "markdown",
   "metadata": {},
   "source": [
    "##### 1. 剪枝"
   ]
  },
  {
   "cell_type": "code",
   "execution_count": 160,
   "metadata": {},
   "outputs": [],
   "source": [
    "def has_infrequent_subset(k_item:list, frequent_k_1_itemset:list[list]):\n",
    "    '''\n",
    "    判断候选k-项集的k-1项子集中是否有非频繁项集. 如果有非频繁项目集, 则说明此候选k-项集不是频繁项目集, 会从候选k-项集中移除。\n",
    "\n",
    "    k_item: ['A', 'B', 'C']\n",
    "    frequent_k_1_itemset:  [['A', 'B'],\n",
    "                            ['A', 'C'],\n",
    "                            ['A', 'D'],\n",
    "                            ['A', 'E'],\n",
    "                            ['B', 'C'],\n",
    "                            ['B', 'D'],\n",
    "                            ['B', 'E'],\n",
    "                            ['C', 'D'],\n",
    "                            ['C', 'E'],\n",
    "                            ['D', 'E']]\n",
    "    '''\n",
    "    # c的k-1项子集\n",
    "    k_item_subset: list[tuple] = list(itertools.combinations(k_item, len(k_item)-1))\n",
    "    for k_item_subset_i in k_item_subset:\n",
    "        if list(k_item_subset_i) not in frequent_k_1_itemset:   #如果k-项集有一个k-项子集不是频繁项集，则该k-项集为不频繁项集，直接返回True\n",
    "            return True\n",
    "    return False"
   ]
  },
  {
   "cell_type": "code",
   "execution_count": 161,
   "metadata": {},
   "outputs": [],
   "source": [
    "k_item = ['A', 'B', 'C']\n",
    "frequent_k_1_itemset = [['A', 'B'],\n",
    "                        ['A', 'C'],\n",
    "                        ['A', 'D'],\n",
    "                        ['A', 'E'],\n",
    "                        ['B', 'C'],\n",
    "                        ['B', 'D'],\n",
    "                        ['B', 'E'],\n",
    "                        ['C', 'D'],\n",
    "                        ['C', 'E'],\n",
    "                        ['D', 'E']]"
   ]
  },
  {
   "cell_type": "code",
   "execution_count": 162,
   "metadata": {},
   "outputs": [
    {
     "data": {
      "text/plain": [
       "False"
      ]
     },
     "execution_count": 162,
     "metadata": {},
     "output_type": "execute_result"
    }
   ],
   "source": [
    "has_infrequent_subset(k_item, frequent_k_1_itemset)"
   ]
  },
  {
   "cell_type": "markdown",
   "metadata": {},
   "source": [
    "##### 2. 根据频繁k-1项集产生候选k-项集"
   ]
  },
  {
   "cell_type": "code",
   "execution_count": 163,
   "metadata": {},
   "outputs": [],
   "source": [
    "import itertools\n",
    "\n",
    "def apriori_gen_candidate(frequent_k_1_itemset):\n",
    "    '''\n",
    "    根据频繁k-1项集产生候选k-项集\n",
    "    '''\n",
    "    frequent_k_1_item_combination = list(itertools.combinations(frequent_k_1_itemset, 2))\n",
    "    candidate_k_itemset = []\n",
    "    for combination in frequent_k_1_item_combination:\n",
    "        if combination[0][0:-1] == combination[1][0:-1] and combination[0][-1] < combination[1][-1]: # 借助列表的索引特性\n",
    "            k_item = set(combination[0]).union(set(combination[1]))     # k-1 借助set合并为 k\n",
    "            k_item = list(k_item)                                       # set转为list\n",
    "            k_item.sort()                                               # list排序\n",
    "            has_infrequent_subset(k_item, frequent_k_1_itemset)         # 【剪枝】\n",
    "            candidate_k_itemset.append(k_item)\n",
    "\n",
    "    return candidate_k_itemset"
   ]
  },
  {
   "cell_type": "markdown",
   "metadata": {},
   "source": [
    "##### 3. 扫描数据库D, 根据候选k-项集产生频繁k-项集"
   ]
  },
  {
   "cell_type": "code",
   "execution_count": 164,
   "metadata": {},
   "outputs": [],
   "source": [
    "def apriori_gen_frequent(D:list[list], c_k_list:list[list], min_support): #\n",
    "    '''\n",
    "    扫描数据库D, 根据候选k-项集, 产生频繁k-项集\n",
    "    '''\n",
    "    c_k_count = {}\n",
    "    for t in D:\n",
    "        for c_k in c_k_list:\n",
    "            if set(c_k).issubset(set(t)):\n",
    "                c_k_tuple = tuple(c_k)\n",
    "                if c_k_count.get(c_k_tuple) == None:\n",
    "                    c_k_count.update({c_k_tuple:1})\n",
    "                else:\n",
    "                    c_k_count.update({c_k_tuple:c_k_count.get(c_k_tuple)+1})\n",
    "    \n",
    "    # print(c_k_count)\n",
    "\n",
    "    # 根据min_support筛选出 {频繁k项集,support}\n",
    "    L_k_support = {}\n",
    "    for k, v in c_k_count.items():\n",
    "        support = v/len(D)\n",
    "        if  support >= min_support:\n",
    "            print(k, support)\n",
    "            L_k_support.update({k:support})\n",
    "\n",
    "    return L_k_support"
   ]
  },
  {
   "cell_type": "markdown",
   "metadata": {},
   "source": [
    "##### 4. 测试"
   ]
  },
  {
   "cell_type": "code",
   "execution_count": 165,
   "metadata": {},
   "outputs": [],
   "source": [
    "t1 = [1,2,3]\n",
    "t2 = [1,2,4]\n",
    "t3 = [1,3,4]\n",
    "t4 = [1,2,3,5]\n",
    "t5 = [1,3,5]\n",
    "t6 = [2,4,5]\n",
    "t7 = [1,2,3,4]\n",
    "D = [t1,t2,t3,t4,t5,t6,t7]\n",
    "\n",
    "min_support = 3/7\n",
    "min_confidence = 5/7\n",
    "\n",
    "one_itemset = [[1],[2],[3],[4],[5],[6],[7]]\n",
    "# one_itemset = [[\"A\"],[\"B\"],[\"C\"],[\"D\"],[\"E\"]]  # 作为频繁一项集"
   ]
  },
  {
   "cell_type": "code",
   "execution_count": 166,
   "metadata": {},
   "outputs": [
    {
     "name": "stdout",
     "output_type": "stream",
     "text": [
      "(1, 2) 0.5714285714285714\n",
      "(1, 3) 0.7142857142857143\n",
      "(2, 3) 0.42857142857142855\n",
      "(1, 4) 0.42857142857142855\n",
      "(2, 4) 0.42857142857142855\n",
      "(1, 2, 3) 0.42857142857142855\n"
     ]
    }
   ],
   "source": [
    "frequent_itemset_list = []\n",
    "for i in range(len(one_itemset)-1):\n",
    "\n",
    "    candidate_itemset = apriori_gen_candidate(one_itemset)\n",
    "    # 根据候选k-项集，扫描数据库，计算k-项频繁集\n",
    "\n",
    "    L_k_support = apriori_gen_frequent(D, candidate_itemset, min_support)\n",
    "    # print(L_k_support)\n",
    "\n",
    "    \n",
    "    frequent_itemset_list.append(candidate_itemset)\n",
    "    one_itemset = candidate_itemset"
   ]
  },
  {
   "cell_type": "code",
   "execution_count": 167,
   "metadata": {},
   "outputs": [
    {
     "data": {
      "text/plain": [
       "[[[1, 2],\n",
       "  [1, 3],\n",
       "  [1, 4],\n",
       "  [1, 5],\n",
       "  [1, 6],\n",
       "  [1, 7],\n",
       "  [2, 3],\n",
       "  [2, 4],\n",
       "  [2, 5],\n",
       "  [2, 6],\n",
       "  [2, 7],\n",
       "  [3, 4],\n",
       "  [3, 5],\n",
       "  [3, 6],\n",
       "  [3, 7],\n",
       "  [4, 5],\n",
       "  [4, 6],\n",
       "  [4, 7],\n",
       "  [5, 6],\n",
       "  [5, 7],\n",
       "  [6, 7]],\n",
       " [[1, 2, 3],\n",
       "  [1, 2, 4],\n",
       "  [1, 2, 5],\n",
       "  [1, 2, 6],\n",
       "  [1, 2, 7],\n",
       "  [1, 3, 4],\n",
       "  [1, 3, 5],\n",
       "  [1, 3, 6],\n",
       "  [1, 3, 7],\n",
       "  [1, 4, 5],\n",
       "  [1, 4, 6],\n",
       "  [1, 4, 7],\n",
       "  [1, 5, 6],\n",
       "  [1, 5, 7],\n",
       "  [1, 6, 7],\n",
       "  [2, 3, 4],\n",
       "  [2, 3, 5],\n",
       "  [2, 3, 6],\n",
       "  [2, 3, 7],\n",
       "  [2, 4, 5],\n",
       "  [2, 4, 6],\n",
       "  [2, 4, 7],\n",
       "  [2, 5, 6],\n",
       "  [2, 5, 7],\n",
       "  [2, 6, 7],\n",
       "  [3, 4, 5],\n",
       "  [3, 4, 6],\n",
       "  [3, 4, 7],\n",
       "  [3, 5, 6],\n",
       "  [3, 5, 7],\n",
       "  [3, 6, 7],\n",
       "  [4, 5, 6],\n",
       "  [4, 5, 7],\n",
       "  [4, 6, 7],\n",
       "  [5, 6, 7]],\n",
       " [[1, 2, 3, 4],\n",
       "  [1, 2, 3, 5],\n",
       "  [1, 2, 3, 6],\n",
       "  [1, 2, 3, 7],\n",
       "  [1, 2, 4, 5],\n",
       "  [1, 2, 4, 6],\n",
       "  [1, 2, 4, 7],\n",
       "  [1, 2, 5, 6],\n",
       "  [1, 2, 5, 7],\n",
       "  [1, 2, 6, 7],\n",
       "  [1, 3, 4, 5],\n",
       "  [1, 3, 4, 6],\n",
       "  [1, 3, 4, 7],\n",
       "  [1, 3, 5, 6],\n",
       "  [1, 3, 5, 7],\n",
       "  [1, 3, 6, 7],\n",
       "  [1, 4, 5, 6],\n",
       "  [1, 4, 5, 7],\n",
       "  [1, 4, 6, 7],\n",
       "  [1, 5, 6, 7],\n",
       "  [2, 3, 4, 5],\n",
       "  [2, 3, 4, 6],\n",
       "  [2, 3, 4, 7],\n",
       "  [2, 3, 5, 6],\n",
       "  [2, 3, 5, 7],\n",
       "  [2, 3, 6, 7],\n",
       "  [2, 4, 5, 6],\n",
       "  [2, 4, 5, 7],\n",
       "  [2, 4, 6, 7],\n",
       "  [2, 5, 6, 7],\n",
       "  [3, 4, 5, 6],\n",
       "  [3, 4, 5, 7],\n",
       "  [3, 4, 6, 7],\n",
       "  [3, 5, 6, 7],\n",
       "  [4, 5, 6, 7]],\n",
       " [[1, 2, 3, 4, 5],\n",
       "  [1, 2, 3, 4, 6],\n",
       "  [1, 2, 3, 4, 7],\n",
       "  [1, 2, 3, 5, 6],\n",
       "  [1, 2, 3, 5, 7],\n",
       "  [1, 2, 3, 6, 7],\n",
       "  [1, 2, 4, 5, 6],\n",
       "  [1, 2, 4, 5, 7],\n",
       "  [1, 2, 4, 6, 7],\n",
       "  [1, 2, 5, 6, 7],\n",
       "  [1, 3, 4, 5, 6],\n",
       "  [1, 3, 4, 5, 7],\n",
       "  [1, 3, 4, 6, 7],\n",
       "  [1, 3, 5, 6, 7],\n",
       "  [1, 4, 5, 6, 7],\n",
       "  [2, 3, 4, 5, 6],\n",
       "  [2, 3, 4, 5, 7],\n",
       "  [2, 3, 4, 6, 7],\n",
       "  [2, 3, 5, 6, 7],\n",
       "  [2, 4, 5, 6, 7],\n",
       "  [3, 4, 5, 6, 7]],\n",
       " [[1, 2, 3, 4, 5, 6],\n",
       "  [1, 2, 3, 4, 5, 7],\n",
       "  [1, 2, 3, 4, 6, 7],\n",
       "  [1, 2, 3, 5, 6, 7],\n",
       "  [1, 2, 4, 5, 6, 7],\n",
       "  [1, 3, 4, 5, 6, 7],\n",
       "  [2, 3, 4, 5, 6, 7]],\n",
       " [[1, 2, 3, 4, 5, 6, 7]]]"
      ]
     },
     "execution_count": 167,
     "metadata": {},
     "output_type": "execute_result"
    }
   ],
   "source": [
    "frequent_itemset_list"
   ]
  }
 ],
 "metadata": {
  "kernelspec": {
   "display_name": "Python 3",
   "language": "python",
   "name": "python3"
  },
  "language_info": {
   "codemirror_mode": {
    "name": "ipython",
    "version": 3
   },
   "file_extension": ".py",
   "mimetype": "text/x-python",
   "name": "python",
   "nbconvert_exporter": "python",
   "pygments_lexer": "ipython3",
   "version": "3.12.0"
  }
 },
 "nbformat": 4,
 "nbformat_minor": 2
}
