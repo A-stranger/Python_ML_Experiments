{
 "cells": [
  {
   "cell_type": "markdown",
   "metadata": {},
   "source": [
    "## 1. 离散化 - 无监督离散化"
   ]
  },
  {
   "cell_type": "code",
   "execution_count": 1,
   "metadata": {},
   "outputs": [
    {
     "data": {
      "text/plain": [
       "[[0.0, 25.0), [25.0, 50.0), [50.0, 75.0), [75.0, 100.1), [75.0, 100.1), [75.0, 100.1), [75.0, 100.1), [75.0, 100.1), [75.0, 100.1), [75.0, 100.1)]\n",
       "Categories (4, interval[float64, left]): [[0.0, 25.0) < [25.0, 50.0) < [50.0, 75.0) < [75.0, 100.1)]"
      ]
     },
     "execution_count": 1,
     "metadata": {},
     "output_type": "execute_result"
    }
   ],
   "source": [
    "import pandas as pd\n",
    "\n",
    "# 等宽\n",
    "score = [0, 25, 54, 75, 80, 85, 87, 90, 95, 100]\n",
    "pd.cut(score, 4, False)"
   ]
  },
  {
   "cell_type": "code",
   "execution_count": null,
   "metadata": {},
   "outputs": [],
   "source": [
    "# 离散化：\n",
    "# 将数值属性（如考试成绩）的原始值使用标签表示。\n",
    "# 如区间标签: [0,60), [60,80), [80, 90), [90,101)\n",
    "# 或概念标签: A, B, C, D\n",
    "\n",
    "print(result)\n",
    "print(pd.value_counts(result))\n",
    "\n",
    "# 等宽 + label\n",
    "result = pd.cut(score, 4, False, labels=['D', 'C', 'B', 'A'])\n",
    "print(result)\n",
    "print(pd.value_counts(result))\n",
    "\n",
    "# 等深分箱\n",
    "result = pd.qcut(score, 4, False)\n",
    "print(result)\n",
    "print(pd.value_counts(result))\n",
    "\n",
    "# 自定义分箱\n",
    "bins = [0, 60, 80, 90, 101]\n",
    "result = pd.cut(score, bins, False, labels=['D', 'C', 'B', 'A'])\n",
    "print(type(result))#Categorical\n",
    "print(pd.value_counts(result))\n",
    "\n",
    "###### 等深分箱 与 分位数\n",
    "import numpy as np\n",
    "\n",
    "a = np.array(score).reshape(-1, 1)\n",
    "# 25%分位数\n",
    "print(np.percentile(a, 25))\n",
    "# 中位数\n",
    "print(np.median(a))\n",
    "# 75%分位数\n",
    "print(np.percentile(a, 75))\n",
    "print(np.percentile(a, 100))\n",
    "\n",
    "from sklearn.preprocessing import KBinsDiscretizer\n",
    "\n",
    "# 等宽分箱\n",
    "# ordinal: 顺序编码\n",
    "# strategy = 'uniform' : 固定宽度的bins。\n",
    "discretizer = KBinsDiscretizer(4, encode='ordinal', strategy='uniform')\n",
    "new_score = np.array(score).reshape(-1, 1)\n",
    "print(new_score)\n",
    "result = discretizer.fit_transform(new_score)\n",
    "print('等宽分箱：', result)\n",
    "\n",
    "# 等深分箱\n",
    "quan_title_discretizer = KBinsDiscretizer(4, encode='ordinal', strategy='quantile')\n",
    "result = quan_title_discretizer.fit_transform(new_score)\n",
    "print('等深分箱：', result)\n",
    "\n",
    "# 聚类分箱\n",
    "kmeans_discretizer = KBinsDiscretizer(4, encode='ordinal', strategy='kmeans')\n",
    "result = kmeans_discretizer.fit_transform(new_score)\n",
    "print('聚类分箱', result)\n"
   ]
  }
 ],
 "metadata": {
  "kernelspec": {
   "display_name": "Python 3",
   "language": "python",
   "name": "python3"
  },
  "language_info": {
   "codemirror_mode": {
    "name": "ipython",
    "version": 3
   },
   "file_extension": ".py",
   "mimetype": "text/x-python",
   "name": "python",
   "nbconvert_exporter": "python",
   "pygments_lexer": "ipython3",
   "version": "3.12.2"
  }
 },
 "nbformat": 4,
 "nbformat_minor": 2
}
