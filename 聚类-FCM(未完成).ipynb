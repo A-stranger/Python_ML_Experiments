{
 "cells": [
  {
   "cell_type": "code",
   "execution_count": 77,
   "metadata": {},
   "outputs": [
    {
     "name": "stdout",
     "output_type": "stream",
     "text": [
      "   0  1\n",
      "0  1  1\n",
      "1  2  1\n",
      "2  1  2\n",
      "3  2  2\n",
      "4  4  3\n",
      "5  5  3\n",
      "6  4  4\n",
      "7  5  4\n",
      "1 1 1\n",
      "2 1 2\n",
      "1 2 3\n",
      "2 2 4\n",
      "4 3 5\n",
      "5 3 6\n",
      "4 4 7\n",
      "5 4 8\n"
     ]
    },
    {
     "data": {
      "image/png": "[encoded data removed]",
      "text/plain": [
       "<Figure size 640x480 with 1 Axes>"
      ]
     },
     "metadata": {},
     "output_type": "display_data"
    }
   ],
   "source": [
    "import matplotlib.pyplot as plt\n",
    "import pandas as pd\n",
    "import numpy as np\n",
    "\n",
    "points = [(1,1),(2,1),(1,2),(2,2),(4,3),(5,3),(4,4),(5,4)]\n",
    "data = pd.DataFrame(points)\n",
    "print(data)\n",
    "x = [i[0] for i in points]\n",
    "y = [i[1] for i in points]\n",
    "\n",
    "plt.scatter(x,y)\n",
    "plt.ylim(0,5)\n",
    "\n",
    "for a,b,c in zip(x,y,range(1,9)):\n",
    "    print(a,b,c) \n",
    "    if a==2 and b==2:\n",
    "        continue\n",
    "    plt.text(a,b+0.07,r\"$x_{}$\".format(c),ha=\"center\")\n",
    "\n",
    "\n",
    "plt.text(2,2+0.05,r\"$x_{2}(2,2)$\")\n",
    "plt.text(1.5, 1.5+0.05, r\"$u_1(1.5,1.5)$\")\n",
    "plt.text(4.5, 3.5+0.05, r\"$u_2$\")\n",
    "\n",
    "plt.scatter([1.5,4.5],[1.5,3.5])\n",
    "plt.show()"
   ]
  },
  {
   "cell_type": "markdown",
   "metadata": {},
   "source": [
    "1. 点 $x_2$ 到聚类中心 $u_1$ 的距离  \n",
    "$$\n",
    "d_{21} = \\left[ \\sum_{t=1}^{m}(x_{2t}-u_{1t})^2 \\right]^{\\frac{1}{2}}\n",
    "$$"
   ]
  },
  {
   "cell_type": "markdown",
   "metadata": {},
   "source": [
    "2. $n$ 个点 $x_{it}$ 到聚类中心 $u_{jt}$ 的距离  \n",
    "$$\n",
    "d_{n1} = \\sum_{i=1}^{n} \\left[ \\sum_{t=1}^{m}(x_{it}-u_{1t})^2 \\right]^{\\frac{1}{2}}\n",
    "$$"
   ]
  },
  {
   "cell_type": "markdown",
   "metadata": {},
   "source": [
    "3. $n$ 个点 $x_{it}$ 到各聚类中心 $u_{jt}$ 的距离之和，此处给$d$ 换个名字 $J$\n",
    "$$\n",
    "J = \\sum_{j=1}^{c}  \\sum_{i=1}^{n}   \\left[ \\sum_{t=1}^{m}(x_{it}-u_{it})^2 \\right]^{\\frac{1}{2}}\n",
    "$$"
   ]
  },
  {
   "cell_type": "markdown",
   "metadata": {},
   "source": [
    "2. 距离 $d$ 前定义隶属度 $a_{12}^p$，表示 ${x_{1}}$ 属于 ${u_2} $的隶属度. \n",
    "$$\n",
    "J = \\sum_{j=1}^{c}  \\sum_{i=1}^{n}   a_{ij}^{p}    \\left[ \\sum_{t=1}^{m}(x_{it}-u_{it})^2 \\right]^{\\frac{1}{2}}\n",
    "$$"
   ]
  },
  {
   "cell_type": "markdown",
   "metadata": {},
   "source": [
    "定义 $x_i$ 隶属于各类别的和为1\n",
    "\n",
    "$$\n",
    "    \\sum_{j=1}^{c} a_{ij} =1 \n",
    "$$"
   ]
  },
  {
   "cell_type": "markdown",
   "metadata": {},
   "source": [
    "题目转变为：\n",
    "在约束条件$\\sum_{j=1}^{c} a_{ij} =1 $下，为求$min(J)$对应的参数 $a_{ij} $ 和 $u_{jt}$ , 即：隶属度和中心点。"
   ]
  },
  {
   "cell_type": "markdown",
   "metadata": {},
   "source": [
    "$$\n",
    "\\arg \\limits_{a_{ij},u_{jt}}  min J = \\sum_{j=1}^{c} \\sum_{i=1}^{n} a_{ij}^{p} \\left[ \\sum_{t=1}^{m}(x_{it}-u_{it})^2 \\right]^{\\frac{1}{2}};  s.t \\sum_{j=1}^{c} a_{ij} =1\n",
    "$$"
   ]
  },
  {
   "cell_type": "markdown",
   "metadata": {},
   "source": [
    "可用拉格朗日乘数法求解上述在等式约束下的优化问题，令拉格朗日函数为：\n",
    "$$\n",
    "\\arg \\limits_{a_{ij},u_{jt}}  min J = \\sum_{j=1}^{c} \\sum_{i=1}^{n} a_{ij}^{p} \\left[ \\sum_{t=1}^{m}(x_{it}-u_{it})^2 \\right]^{\\frac{1}{2}} + \\sum_{i=1}^{n} \\lambda_{i}(\\sum_{j=1}^{c} a_{ij} - 1)\n",
    "$$"
   ]
  },
  {
   "cell_type": "markdown",
   "metadata": {},
   "source": [
    "解：\n",
    "函数J的第一项，为多个 $ a_{ij}^{p} \\left[ \\sum_{t=1}^{m}(x_{it}-u_{it})^2 \\right]^{\\frac{1}{2}}$ 累加，\n",
    "只需要关注$a_{ij}$这一个元素\n"
   ]
  },
  {
   "cell_type": "markdown",
   "metadata": {},
   "source": [
    "$$\n",
    "\\frac{\\partial J}{\\partial a_{ij}} =  p a_{ij}^{p-1} \\left[ \\sum_{t=1}^{m}(x_{it}-u_{jt})^2 \\right]^{\\frac{1}{2}} +\\lambda_i a_{ij}\n",
    "$$\n",
    "\n"
   ]
  },
  {
   "cell_type": "markdown",
   "metadata": {},
   "source": [
    "验证偏导公式是否正确，假设 $m=2$, $n=2$, $c=2$, 公式展开如下："
   ]
  },
  {
   "cell_type": "markdown",
   "metadata": {},
   "source": [
    "$$\n",
    "    J =  \\left[ a_{11}^p \\sqrt[2]{(x_{11} - u_{11})^2+(x_{12} - u_{12})^2} + a_{21}^p \\sqrt[2]{(x_{21} - u_{11})^2+(x_{22} - u_{12})^2} +\n",
    "    a_{12}^p \\sqrt[2]{(x_{11} - u_{21})^2+(x_{12} - u_{22})^2} + a_{21}^p \\sqrt[2]{(x_{21} - u_{21})^2+(x_{22} - u_{22})^2} \\right] + \\\\\n",
    "    \\left[  \\lambda_1 (a_{11} + a_{12}-1) + \\lambda_2 (a_{21}+a_{22}-1)     \\right]\n",
    "$$\n"
   ]
  },
  {
   "cell_type": "markdown",
   "metadata": {},
   "source": [
    "$$\n",
    "\\frac{\\partial J}{\\partial u_{jt}} = -2 \\frac{1}{2} a_{ij}^{p} \\left[ \\sum_{t=1}^{m}(x_{it}-u_{jt})^2 \\right]^{-\\frac{1}{2}} (x_{it}-u_{it})\n",
    "$$\n",
    "$$\n",
    " =  a_{ij}^{p} \\left[ \\sum_{t=1}^{m}(x_{it}-u_{jt})^2 \\right]^{-\\frac{1}{2}} (x_{it}-u_{it})\n",
    "$$"
   ]
  },
  {
   "cell_type": "markdown",
   "metadata": {},
   "source": [
    "$$\n",
    " =  a_{ij}^{p} \\frac{1}{d_{ij}} (x_{it}-u_{jt})\n",
    "$$"
   ]
  },
  {
   "cell_type": "markdown",
   "metadata": {},
   "source": [
    "# 验证"
   ]
  },
  {
   "cell_type": "markdown",
   "metadata": {},
   "source": [
    "可用拉格朗日乘数法求解上述在等式约束下的优化问题，令拉格朗日函数为：\n",
    "$$\n",
    "\\arg \\limits_{a_{ij},u_{jt}}  min J = \\sum_{j=1}^{c} \\sum_{i=1}^{n} a_{ij}^{p} \\left[ \\sum_{t=1}^{m}(x_{it}-u_{it})^2 \\right]^{\\frac{1}{2}} + \\sum_{i=1}^{n} \\lambda_{i}(\\sum_{j=1}^{c} a_{ij} - 1)\n",
    "$$"
   ]
  },
  {
   "cell_type": "markdown",
   "metadata": {},
   "source": [
    "可用拉格朗日乘数法求解上述在等式约束下的优化问题，令拉格朗日函数为：\n",
    "$$\n",
    "\\arg \\limits_{a_{ij},u_{jt}}  min J = \\sum_{j=1}^{c} \\sum_{i=1}^{n} a_{ij}^{p} \\left[ \\sum_{t=1}^{m}(x_{it}-u_{it})^2 \\right]^{\\frac{1}{2}} + \\sum_{i=1}^{n} \\lambda_{i}(\\sum_{j=1}^{c} a_{ij} - 1)\n",
    "$$"
   ]
  },
  {
   "cell_type": "markdown",
   "metadata": {},
   "source": [
    "# Fuzzy C Means\n",
    "模糊𝑐–均值聚类算法的基本思想：  \n",
    "    与𝑘–均值聚类算法较为类似，使用模糊数学中属于[0,1]区间的隶属度指标度量单个样本隶属于各个簇的程度，  \n",
    "    并规定每个样本到所有簇的隶属度之和均为1，  \n",
    "    若某个样本到某个簇的隶属度为1，则表示该样本完全隶属于该簇。  \n"
   ]
  },
  {
   "cell_type": "markdown",
   "metadata": {},
   "source": [
    "设： \n",
    "\n",
    "    i:样本id (1<i<n)\n",
    "    m:样本点特征id (1<t<m)\n",
    "    j:类别id (1<j<c)\n",
    "\n"
   ]
  },
  {
   "cell_type": "code",
   "execution_count": 5,
   "metadata": {},
   "outputs": [],
   "source": [
    "import pandas as pd\n",
    "import numpy as np\n",
    "import matplotlib.pyplot as plt"
   ]
  },
  {
   "cell_type": "code",
   "execution_count": 17,
   "metadata": {},
   "outputs": [],
   "source": [
    "data = pd.read_excel(\"FCM.xlsx\")"
   ]
  },
  {
   "cell_type": "code",
   "execution_count": 23,
   "metadata": {},
   "outputs": [
    {
     "data": {
      "text/plain": [
       "<matplotlib.collections.PathCollection at 0x29bafa3f8c0>"
      ]
     },
     "execution_count": 23,
     "metadata": {},
     "output_type": "execute_result"
    },
    {
     "data": {
      "image/png": "[encoded data removed]",
      "text/plain": [
       "<Figure size 640x480 with 1 Axes>"
      ]
     },
     "metadata": {},
     "output_type": "display_data"
    }
   ],
   "source": [
    "plt.scatter(data.iloc[0],data.iloc[1])"
   ]
  }
 ],
 "metadata": {
  "kernelspec": {
   "display_name": "Python 3",
   "language": "python",
   "name": "python3"
  },
  "language_info": {
   "codemirror_mode": {
    "name": "ipython",
    "version": 3
   },
   "file_extension": ".py",
   "mimetype": "text/x-python",
   "name": "python",
   "nbconvert_exporter": "python",
   "pygments_lexer": "ipython3",
   "version": "3.12.0"
  }
 },
 "nbformat": 4,
 "nbformat_minor": 2
}
