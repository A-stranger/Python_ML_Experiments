{
 "cells": [
  {
   "cell_type": "markdown",
   "metadata": {},
   "source": [
    "# 情感分类(多项式朴素贝叶斯)"
   ]
  },
  {
   "cell_type": "code",
   "execution_count": 1,
   "metadata": {},
   "outputs": [
    {
     "data": {
      "text/html": [
       "<div>\n",
       "<style scoped>\n",
       "    .dataframe tbody tr th:only-of-type {\n",
       "        vertical-align: middle;\n",
       "    }\n",
       "\n",
       "    .dataframe tbody tr th {\n",
       "        vertical-align: top;\n",
       "    }\n",
       "\n",
       "    .dataframe thead th {\n",
       "        text-align: right;\n",
       "    }\n",
       "</style>\n",
       "<table border=\"1\" class=\"dataframe\">\n",
       "  <thead>\n",
       "    <tr style=\"text-align: right;\">\n",
       "      <th></th>\n",
       "      <th>Unnamed: 0</th>\n",
       "      <th>commentId</th>\n",
       "      <th>review</th>\n",
       "      <th>score</th>\n",
       "      <th>province</th>\n",
       "    </tr>\n",
       "  </thead>\n",
       "  <tbody>\n",
       "    <tr>\n",
       "      <th>0</th>\n",
       "      <td>0</td>\n",
       "      <td>180346550</td>\n",
       "      <td>好玩 爱玩 下回还玩 喜欢来 带着室友趁着假期来的 充分的让我们得心情得到了放松 下回我还想...</td>\n",
       "      <td>5</td>\n",
       "      <td>吉林</td>\n",
       "    </tr>\n",
       "    <tr>\n",
       "      <th>1</th>\n",
       "      <td>1</td>\n",
       "      <td>180346544</td>\n",
       "      <td>好玩 爱玩 下回还去。虽然来过两次了但我还想来 真的很有意思 和室友一起去 我很开心很自豪 ...</td>\n",
       "      <td>5</td>\n",
       "      <td>吉林</td>\n",
       "    </tr>\n",
       "    <tr>\n",
       "      <th>2</th>\n",
       "      <td>2</td>\n",
       "      <td>180346543</td>\n",
       "      <td>好玩 爱去 下回还来 非常喜欢 这150积分好难挣 再凑点字数求你了多给点分吧 求求你求求你...</td>\n",
       "      <td>5</td>\n",
       "      <td>吉林</td>\n",
       "    </tr>\n",
       "    <tr>\n",
       "      <th>3</th>\n",
       "      <td>3</td>\n",
       "      <td>180293661</td>\n",
       "      <td>携程上购买的套票不包括天池主峰门票，也没有提醒需要额外购买，体验不太好，对于第一次来的朋友不...</td>\n",
       "      <td>5</td>\n",
       "      <td>上海</td>\n",
       "    </tr>\n",
       "    <tr>\n",
       "      <th>4</th>\n",
       "      <td>4</td>\n",
       "      <td>180292292</td>\n",
       "      <td>来长白山如果是时间有限只能游览一天的话\\n建议直接选北景区\\n\\n说实在长白山的风景其实很多...</td>\n",
       "      <td>5</td>\n",
       "      <td>湖南</td>\n",
       "    </tr>\n",
       "    <tr>\n",
       "      <th>...</th>\n",
       "      <td>...</td>\n",
       "      <td>...</td>\n",
       "      <td>...</td>\n",
       "      <td>...</td>\n",
       "      <td>...</td>\n",
       "    </tr>\n",
       "    <tr>\n",
       "      <th>2455</th>\n",
       "      <td>2455</td>\n",
       "      <td>59614525</td>\n",
       "      <td>很好，感觉也不错，气质内涵，触动心铉，让人心旷神怡</td>\n",
       "      <td>5</td>\n",
       "      <td>NaN</td>\n",
       "    </tr>\n",
       "    <tr>\n",
       "      <th>2456</th>\n",
       "      <td>2456</td>\n",
       "      <td>115500845</td>\n",
       "      <td>帮妈妈和阿姨预约的路程，她们都赞不绝口。行程安排不错，导游服务很好，不会强迫买东西！景点风景...</td>\n",
       "      <td>5</td>\n",
       "      <td>NaN</td>\n",
       "    </tr>\n",
       "    <tr>\n",
       "      <th>2457</th>\n",
       "      <td>2457</td>\n",
       "      <td>115498637</td>\n",
       "      <td>我们是全家出游、总体来说很愉快。景区服务一般。等候进门的游客太多太多了、还不是旅游旺季</td>\n",
       "      <td>4</td>\n",
       "      <td>NaN</td>\n",
       "    </tr>\n",
       "    <tr>\n",
       "      <th>2458</th>\n",
       "      <td>2458</td>\n",
       "      <td>115497529</td>\n",
       "      <td>为了盗墓笔记才去的，要说它本来没什么好看的。。。不过大天池挺不错的，云雾缭绕中看到了中朝边界哈哈</td>\n",
       "      <td>5</td>\n",
       "      <td>NaN</td>\n",
       "    </tr>\n",
       "    <tr>\n",
       "      <th>2459</th>\n",
       "      <td>2459</td>\n",
       "      <td>58914213</td>\n",
       "      <td>秋天的长白山最美，红叶，天池，静谧，高远。天气还不算太冷，爬山涉水深处大自然之中。</td>\n",
       "      <td>5</td>\n",
       "      <td>NaN</td>\n",
       "    </tr>\n",
       "  </tbody>\n",
       "</table>\n",
       "<p>2460 rows × 5 columns</p>\n",
       "</div>"
      ],
      "text/plain": [
       "      Unnamed: 0  commentId  \\\n",
       "0              0  180346550   \n",
       "1              1  180346544   \n",
       "2              2  180346543   \n",
       "3              3  180293661   \n",
       "4              4  180292292   \n",
       "...          ...        ...   \n",
       "2455        2455   59614525   \n",
       "2456        2456  115500845   \n",
       "2457        2457  115498637   \n",
       "2458        2458  115497529   \n",
       "2459        2459   58914213   \n",
       "\n",
       "                                                 review  score province  \n",
       "0     好玩 爱玩 下回还玩 喜欢来 带着室友趁着假期来的 充分的让我们得心情得到了放松 下回我还想...      5       吉林  \n",
       "1     好玩 爱玩 下回还去。虽然来过两次了但我还想来 真的很有意思 和室友一起去 我很开心很自豪 ...      5       吉林  \n",
       "2     好玩 爱去 下回还来 非常喜欢 这150积分好难挣 再凑点字数求你了多给点分吧 求求你求求你...      5       吉林  \n",
       "3     携程上购买的套票不包括天池主峰门票，也没有提醒需要额外购买，体验不太好，对于第一次来的朋友不...      5       上海  \n",
       "4     来长白山如果是时间有限只能游览一天的话\\n建议直接选北景区\\n\\n说实在长白山的风景其实很多...      5       湖南  \n",
       "...                                                 ...    ...      ...  \n",
       "2455                          很好，感觉也不错，气质内涵，触动心铉，让人心旷神怡      5      NaN  \n",
       "2456  帮妈妈和阿姨预约的路程，她们都赞不绝口。行程安排不错，导游服务很好，不会强迫买东西！景点风景...      5      NaN  \n",
       "2457        我们是全家出游、总体来说很愉快。景区服务一般。等候进门的游客太多太多了、还不是旅游旺季      4      NaN  \n",
       "2458   为了盗墓笔记才去的，要说它本来没什么好看的。。。不过大天池挺不错的，云雾缭绕中看到了中朝边界哈哈      5      NaN  \n",
       "2459          秋天的长白山最美，红叶，天池，静谧，高远。天气还不算太冷，爬山涉水深处大自然之中。      5      NaN  \n",
       "\n",
       "[2460 rows x 5 columns]"
      ]
     },
     "execution_count": 1,
     "metadata": {},
     "output_type": "execute_result"
    }
   ],
   "source": [
    "import pandas as pd\n",
    "\n",
    "df = pd.read_excel(\"data/长白山1.xlsx\")\n",
    "df"
   ]
  },
  {
   "cell_type": "code",
   "execution_count": 9,
   "metadata": {},
   "outputs": [
    {
     "data": {
      "text/html": [
       "<div>\n",
       "<style scoped>\n",
       "    .dataframe tbody tr th:only-of-type {\n",
       "        vertical-align: middle;\n",
       "    }\n",
       "\n",
       "    .dataframe tbody tr th {\n",
       "        vertical-align: top;\n",
       "    }\n",
       "\n",
       "    .dataframe thead th {\n",
       "        text-align: right;\n",
       "    }\n",
       "</style>\n",
       "<table border=\"1\" class=\"dataframe\">\n",
       "  <thead>\n",
       "    <tr style=\"text-align: right;\">\n",
       "      <th></th>\n",
       "      <th>Unnamed: 0</th>\n",
       "      <th>commentId</th>\n",
       "      <th>review</th>\n",
       "      <th>score</th>\n",
       "    </tr>\n",
       "    <tr>\n",
       "      <th>province</th>\n",
       "      <th></th>\n",
       "      <th></th>\n",
       "      <th></th>\n",
       "      <th></th>\n",
       "    </tr>\n",
       "  </thead>\n",
       "  <tbody>\n",
       "    <tr>\n",
       "      <th>吉林</th>\n",
       "      <td>238</td>\n",
       "      <td>238</td>\n",
       "      <td>238</td>\n",
       "      <td>238</td>\n",
       "    </tr>\n",
       "    <tr>\n",
       "      <th>辽宁</th>\n",
       "      <td>73</td>\n",
       "      <td>73</td>\n",
       "      <td>73</td>\n",
       "      <td>73</td>\n",
       "    </tr>\n",
       "    <tr>\n",
       "      <th>北京</th>\n",
       "      <td>65</td>\n",
       "      <td>65</td>\n",
       "      <td>65</td>\n",
       "      <td>65</td>\n",
       "    </tr>\n",
       "    <tr>\n",
       "      <th>黑龙江</th>\n",
       "      <td>47</td>\n",
       "      <td>47</td>\n",
       "      <td>47</td>\n",
       "      <td>47</td>\n",
       "    </tr>\n",
       "    <tr>\n",
       "      <th>山东</th>\n",
       "      <td>40</td>\n",
       "      <td>40</td>\n",
       "      <td>40</td>\n",
       "      <td>40</td>\n",
       "    </tr>\n",
       "    <tr>\n",
       "      <th>河北</th>\n",
       "      <td>36</td>\n",
       "      <td>36</td>\n",
       "      <td>36</td>\n",
       "      <td>36</td>\n",
       "    </tr>\n",
       "    <tr>\n",
       "      <th>广东</th>\n",
       "      <td>29</td>\n",
       "      <td>29</td>\n",
       "      <td>29</td>\n",
       "      <td>29</td>\n",
       "    </tr>\n",
       "    <tr>\n",
       "      <th>上海</th>\n",
       "      <td>28</td>\n",
       "      <td>28</td>\n",
       "      <td>28</td>\n",
       "      <td>28</td>\n",
       "    </tr>\n",
       "    <tr>\n",
       "      <th>江苏</th>\n",
       "      <td>27</td>\n",
       "      <td>27</td>\n",
       "      <td>27</td>\n",
       "      <td>27</td>\n",
       "    </tr>\n",
       "    <tr>\n",
       "      <th>浙江</th>\n",
       "      <td>23</td>\n",
       "      <td>23</td>\n",
       "      <td>23</td>\n",
       "      <td>23</td>\n",
       "    </tr>\n",
       "    <tr>\n",
       "      <th>天津</th>\n",
       "      <td>16</td>\n",
       "      <td>16</td>\n",
       "      <td>16</td>\n",
       "      <td>16</td>\n",
       "    </tr>\n",
       "    <tr>\n",
       "      <th>内蒙古</th>\n",
       "      <td>9</td>\n",
       "      <td>9</td>\n",
       "      <td>9</td>\n",
       "      <td>9</td>\n",
       "    </tr>\n",
       "    <tr>\n",
       "      <th>湖南</th>\n",
       "      <td>9</td>\n",
       "      <td>9</td>\n",
       "      <td>9</td>\n",
       "      <td>9</td>\n",
       "    </tr>\n",
       "    <tr>\n",
       "      <th>湖北</th>\n",
       "      <td>8</td>\n",
       "      <td>8</td>\n",
       "      <td>8</td>\n",
       "      <td>8</td>\n",
       "    </tr>\n",
       "    <tr>\n",
       "      <th>云南</th>\n",
       "      <td>7</td>\n",
       "      <td>7</td>\n",
       "      <td>7</td>\n",
       "      <td>7</td>\n",
       "    </tr>\n",
       "    <tr>\n",
       "      <th>安徽</th>\n",
       "      <td>6</td>\n",
       "      <td>6</td>\n",
       "      <td>6</td>\n",
       "      <td>6</td>\n",
       "    </tr>\n",
       "    <tr>\n",
       "      <th>未知</th>\n",
       "      <td>6</td>\n",
       "      <td>6</td>\n",
       "      <td>6</td>\n",
       "      <td>6</td>\n",
       "    </tr>\n",
       "    <tr>\n",
       "      <th>河南</th>\n",
       "      <td>5</td>\n",
       "      <td>5</td>\n",
       "      <td>5</td>\n",
       "      <td>5</td>\n",
       "    </tr>\n",
       "    <tr>\n",
       "      <th>福建</th>\n",
       "      <td>5</td>\n",
       "      <td>5</td>\n",
       "      <td>5</td>\n",
       "      <td>5</td>\n",
       "    </tr>\n",
       "    <tr>\n",
       "      <th>四川</th>\n",
       "      <td>3</td>\n",
       "      <td>3</td>\n",
       "      <td>3</td>\n",
       "      <td>3</td>\n",
       "    </tr>\n",
       "    <tr>\n",
       "      <th>海南</th>\n",
       "      <td>3</td>\n",
       "      <td>3</td>\n",
       "      <td>3</td>\n",
       "      <td>3</td>\n",
       "    </tr>\n",
       "    <tr>\n",
       "      <th>广西</th>\n",
       "      <td>2</td>\n",
       "      <td>2</td>\n",
       "      <td>2</td>\n",
       "      <td>2</td>\n",
       "    </tr>\n",
       "    <tr>\n",
       "      <th>新疆</th>\n",
       "      <td>2</td>\n",
       "      <td>2</td>\n",
       "      <td>2</td>\n",
       "      <td>2</td>\n",
       "    </tr>\n",
       "    <tr>\n",
       "      <th>重庆</th>\n",
       "      <td>2</td>\n",
       "      <td>2</td>\n",
       "      <td>2</td>\n",
       "      <td>2</td>\n",
       "    </tr>\n",
       "    <tr>\n",
       "      <th>陕西</th>\n",
       "      <td>2</td>\n",
       "      <td>2</td>\n",
       "      <td>2</td>\n",
       "      <td>2</td>\n",
       "    </tr>\n",
       "    <tr>\n",
       "      <th>山西</th>\n",
       "      <td>1</td>\n",
       "      <td>1</td>\n",
       "      <td>1</td>\n",
       "      <td>1</td>\n",
       "    </tr>\n",
       "    <tr>\n",
       "      <th>江西</th>\n",
       "      <td>1</td>\n",
       "      <td>1</td>\n",
       "      <td>1</td>\n",
       "      <td>1</td>\n",
       "    </tr>\n",
       "    <tr>\n",
       "      <th>甘肃</th>\n",
       "      <td>1</td>\n",
       "      <td>1</td>\n",
       "      <td>1</td>\n",
       "      <td>1</td>\n",
       "    </tr>\n",
       "    <tr>\n",
       "      <th>青海</th>\n",
       "      <td>1</td>\n",
       "      <td>1</td>\n",
       "      <td>1</td>\n",
       "      <td>1</td>\n",
       "    </tr>\n",
       "  </tbody>\n",
       "</table>\n",
       "</div>"
      ],
      "text/plain": [
       "          Unnamed: 0  commentId  review  score\n",
       "province                                      \n",
       "吉林               238        238     238    238\n",
       "辽宁                73         73      73     73\n",
       "北京                65         65      65     65\n",
       "黑龙江               47         47      47     47\n",
       "山东                40         40      40     40\n",
       "河北                36         36      36     36\n",
       "广东                29         29      29     29\n",
       "上海                28         28      28     28\n",
       "江苏                27         27      27     27\n",
       "浙江                23         23      23     23\n",
       "天津                16         16      16     16\n",
       "内蒙古                9          9       9      9\n",
       "湖南                 9          9       9      9\n",
       "湖北                 8          8       8      8\n",
       "云南                 7          7       7      7\n",
       "安徽                 6          6       6      6\n",
       "未知                 6          6       6      6\n",
       "河南                 5          5       5      5\n",
       "福建                 5          5       5      5\n",
       "四川                 3          3       3      3\n",
       "海南                 3          3       3      3\n",
       "广西                 2          2       2      2\n",
       "新疆                 2          2       2      2\n",
       "重庆                 2          2       2      2\n",
       "陕西                 2          2       2      2\n",
       "山西                 1          1       1      1\n",
       "江西                 1          1       1      1\n",
       "甘肃                 1          1       1      1\n",
       "青海                 1          1       1      1"
      ]
     },
     "execution_count": 9,
     "metadata": {},
     "output_type": "execute_result"
    }
   ],
   "source": [
    "df.groupby(\"province\").count().sort_values('score',ascending=False)"
   ]
  },
  {
   "cell_type": "code",
   "execution_count": 12,
   "metadata": {},
   "outputs": [
    {
     "data": {
      "text/html": [
       "<div>\n",
       "<style scoped>\n",
       "    .dataframe tbody tr th:only-of-type {\n",
       "        vertical-align: middle;\n",
       "    }\n",
       "\n",
       "    .dataframe tbody tr th {\n",
       "        vertical-align: top;\n",
       "    }\n",
       "\n",
       "    .dataframe thead th {\n",
       "        text-align: right;\n",
       "    }\n",
       "</style>\n",
       "<table border=\"1\" class=\"dataframe\">\n",
       "  <thead>\n",
       "    <tr style=\"text-align: right;\">\n",
       "      <th></th>\n",
       "      <th>Unnamed: 0</th>\n",
       "      <th>commentId</th>\n",
       "      <th>review</th>\n",
       "      <th>province</th>\n",
       "    </tr>\n",
       "    <tr>\n",
       "      <th>score</th>\n",
       "      <th></th>\n",
       "      <th></th>\n",
       "      <th></th>\n",
       "      <th></th>\n",
       "    </tr>\n",
       "  </thead>\n",
       "  <tbody>\n",
       "    <tr>\n",
       "      <th>1</th>\n",
       "      <td>32</td>\n",
       "      <td>32</td>\n",
       "      <td>32</td>\n",
       "      <td>32</td>\n",
       "    </tr>\n",
       "    <tr>\n",
       "      <th>2</th>\n",
       "      <td>8</td>\n",
       "      <td>8</td>\n",
       "      <td>8</td>\n",
       "      <td>8</td>\n",
       "    </tr>\n",
       "    <tr>\n",
       "      <th>3</th>\n",
       "      <td>16</td>\n",
       "      <td>16</td>\n",
       "      <td>16</td>\n",
       "      <td>16</td>\n",
       "    </tr>\n",
       "    <tr>\n",
       "      <th>4</th>\n",
       "      <td>29</td>\n",
       "      <td>29</td>\n",
       "      <td>29</td>\n",
       "      <td>29</td>\n",
       "    </tr>\n",
       "    <tr>\n",
       "      <th>5</th>\n",
       "      <td>153</td>\n",
       "      <td>153</td>\n",
       "      <td>153</td>\n",
       "      <td>153</td>\n",
       "    </tr>\n",
       "  </tbody>\n",
       "</table>\n",
       "</div>"
      ],
      "text/plain": [
       "       Unnamed: 0  commentId  review  province\n",
       "score                                         \n",
       "1              32         32      32        32\n",
       "2               8          8       8         8\n",
       "3              16         16      16        16\n",
       "4              29         29      29        29\n",
       "5             153        153     153       153"
      ]
     },
     "execution_count": 12,
     "metadata": {},
     "output_type": "execute_result"
    }
   ],
   "source": [
    "df.groupby(\"province\").get_group(\"吉林\").groupby('score').count()"
   ]
  },
  {
   "cell_type": "code",
   "execution_count": 14,
   "metadata": {},
   "outputs": [],
   "source": [
    "jilin = df.groupby(\"province\").get_group(\"吉林\").groupby('score').count()"
   ]
  },
  {
   "cell_type": "code",
   "execution_count": 25,
   "metadata": {},
   "outputs": [
    {
     "data": {
      "text/plain": [
       "Text(0, 0.5, '数量')"
      ]
     },
     "execution_count": 25,
     "metadata": {},
     "output_type": "execute_result"
    },
    {
     "data": {
      "image/png": "[encoded data removed]",
      "text/plain": [
       "<Figure size 640x480 with 1 Axes>"
      ]
     },
     "metadata": {},
     "output_type": "display_data"
    }
   ],
   "source": [
    "import matplotlib.pyplot as plt\n",
    "\n",
    "plt.bar(jilin.index,jilin['province'], width=0.5)\n",
    "plt.title(\"吉林省游客评分柱状图\")\n",
    "plt.xlabel(\"评分\")\n",
    "plt.ylabel(\"数量\")"
   ]
  },
  {
   "cell_type": "code",
   "execution_count": 23,
   "metadata": {},
   "outputs": [
    {
     "data": {
      "text/html": [
       "<div>\n",
       "<style scoped>\n",
       "    .dataframe tbody tr th:only-of-type {\n",
       "        vertical-align: middle;\n",
       "    }\n",
       "\n",
       "    .dataframe tbody tr th {\n",
       "        vertical-align: top;\n",
       "    }\n",
       "\n",
       "    .dataframe thead th {\n",
       "        text-align: right;\n",
       "    }\n",
       "</style>\n",
       "<table border=\"1\" class=\"dataframe\">\n",
       "  <thead>\n",
       "    <tr style=\"text-align: right;\">\n",
       "      <th></th>\n",
       "      <th>Unnamed: 0</th>\n",
       "      <th>commentId</th>\n",
       "      <th>review</th>\n",
       "      <th>province</th>\n",
       "    </tr>\n",
       "    <tr>\n",
       "      <th>score</th>\n",
       "      <th></th>\n",
       "      <th></th>\n",
       "      <th></th>\n",
       "      <th></th>\n",
       "    </tr>\n",
       "  </thead>\n",
       "  <tbody>\n",
       "    <tr>\n",
       "      <th>1</th>\n",
       "      <td>9</td>\n",
       "      <td>9</td>\n",
       "      <td>9</td>\n",
       "      <td>9</td>\n",
       "    </tr>\n",
       "    <tr>\n",
       "      <th>2</th>\n",
       "      <td>2</td>\n",
       "      <td>2</td>\n",
       "      <td>2</td>\n",
       "      <td>2</td>\n",
       "    </tr>\n",
       "    <tr>\n",
       "      <th>3</th>\n",
       "      <td>4</td>\n",
       "      <td>4</td>\n",
       "      <td>4</td>\n",
       "      <td>4</td>\n",
       "    </tr>\n",
       "    <tr>\n",
       "      <th>4</th>\n",
       "      <td>4</td>\n",
       "      <td>4</td>\n",
       "      <td>4</td>\n",
       "      <td>4</td>\n",
       "    </tr>\n",
       "    <tr>\n",
       "      <th>5</th>\n",
       "      <td>54</td>\n",
       "      <td>54</td>\n",
       "      <td>54</td>\n",
       "      <td>54</td>\n",
       "    </tr>\n",
       "  </tbody>\n",
       "</table>\n",
       "</div>"
      ],
      "text/plain": [
       "       Unnamed: 0  commentId  review  province\n",
       "score                                         \n",
       "1               9          9       9         9\n",
       "2               2          2       2         2\n",
       "3               4          4       4         4\n",
       "4               4          4       4         4\n",
       "5              54         54      54        54"
      ]
     },
     "execution_count": 23,
     "metadata": {},
     "output_type": "execute_result"
    }
   ],
   "source": []
  },
  {
   "cell_type": "code",
   "execution_count": 26,
   "metadata": {},
   "outputs": [
    {
     "data": {
      "text/plain": [
       "Text(0, 0.5, '数量')"
      ]
     },
     "execution_count": 26,
     "metadata": {},
     "output_type": "execute_result"
    },
    {
     "data": {
      "image/png": "[encoded data removed]",
      "text/plain": [
       "<Figure size 640x480 with 1 Axes>"
      ]
     },
     "metadata": {},
     "output_type": "display_data"
    }
   ],
   "source": [
    "liaoning = df.groupby(\"province\").get_group(\"辽宁\").groupby('score').count()\n",
    "liaoning\n",
    "\n",
    "import matplotlib.pyplot as plt\n",
    "\n",
    "plt.bar(liaoning.index,liaoning['province'], width=0.5)\n",
    "plt.title(\"辽宁省游客评分柱状图\")\n",
    "plt.xlabel(\"评分\")\n",
    "plt.ylabel(\"数量\")"
   ]
  },
  {
   "cell_type": "code",
   "execution_count": 27,
   "metadata": {},
   "outputs": [
    {
     "data": {
      "text/plain": [
       "Text(0, 0.5, '数量')"
      ]
     },
     "execution_count": 27,
     "metadata": {},
     "output_type": "execute_result"
    },
    {
     "data": {
      "image/png": "[encoded data removed]",
      "text/plain": [
       "<Figure size 640x480 with 1 Axes>"
      ]
     },
     "metadata": {},
     "output_type": "display_data"
    }
   ],
   "source": [
    "beijing = df.groupby(\"province\").get_group(\"北京\").groupby('score').count()\n",
    "beijing\n",
    "\n",
    "import matplotlib.pyplot as plt\n",
    "\n",
    "plt.bar(beijing.index,beijing['province'], width=0.5)\n",
    "plt.title(\"北京市游客评分柱状图\")\n",
    "plt.xlabel(\"评分\")\n",
    "plt.ylabel(\"数量\")"
   ]
  },
  {
   "cell_type": "code",
   "execution_count": 7,
   "metadata": {},
   "outputs": [
    {
     "data": {
      "text/plain": [
       "'好玩 爱玩 下回还玩 喜欢来 带着室友趁着假期来的 充分的让我们得心情得到了放松 下回我还想来 我很自豪领他们来到了一个非常好的地方.好玩 爱玩 下回还去。虽然来过两次了但我还想来 真的很有意思 和室友一起去 我很开心很自豪 带他们来到了长白山 开心 在水几个字多拿积分.好玩 爱去 下回还来 非常喜欢 这150积分好难挣 再凑点字数求你了多给点分吧 求求你求求你求求你求求你求求你 给我吧 给我吧.携程上购买的套票不包括天池主峰门票，也没有提醒需要额外购买，体验不太好，对于第一次来的朋友不太友好，容易踩坑。提醒大家买票在长白山公众号里购买门票，交通票，天池票。.来长白山如果是时间有限只能游览一天的话\\n建议直接选北景区\\n\\n说实在长白山的风景其实很多地方都比它美\\n但是论到长白山天池就不能一概而论了\\n到了长白山之后记得要多付80元的商务车上天池呀\\n因为美景全在天池\\n其次是建议可以吃一下长白山的温泉蛋\\n虽然小贵 但是体验感不错\\n人参奶就因人而异吧\\n味道有点像人参洗发水呢\\n\\n建议地下森林没有雪就不要去了\\n不但累 景色也很一般.来长白山如果是时间有限只能游览一天的话\\n建议直接选北景区\\n\\n说实在长白山的风景其实很多地方都比它美\\n但是论到长白山天池就不能一概而论了\\n到了长白山之后记得要多付80元的商务车上天池呀\\n因为美景全在天池\\n其次是建议可以吃一下长白山的温泉蛋\\n虽然小贵 但是体验感不错\\n人参奶就因人而异吧\\n味道有点像人参洗发水呢\\n\\n建议地下森林没有雪就不要去了\\n不但累 景色也很一般.好看！看到了！.上山需要看天气，得及时关注。北景区除了天池，还有地下森林、绿渊潭、天池瀑布等，都是很好看的。上山一定要早，尤其是冬季四点就天黑了，不然看不完全。一年四季都是不同的景色，天池真的很美。.大美长白山，名不虚传.—………～～～～.挺好的👌…….等车时间太长，其它可以.还不错吧。.出票很快，马上就可以用了！不错的一次体验，希望下次还可以过来，这次行程太匆忙，闺蜜几人说走就走的旅程，哈哈！下次带孩子再过来一次！.出票很快，马上就可以用了！不错的一次体验，希望下次还可以过来，这次行程太匆忙，闺蜜几人说走就走的旅程，哈哈！下次带孩子再过来一次！.当天天池没开，所幸景区开了，入景区门口后还要坐18公里的景交到达核心区，个人觉得防寒装备只租护脚套就够了，大衣和冰爪完全没必要，多穿点就行了。.看到天池幸运一整年.天池关闭了，没去成.长白山竟然.景色很美，感叹大自然的鬼斧神工，但如果想看到美丽神秘的天池，必须先提前查好天气.看见天池时还是很兴奋的，冷并快乐着。就是上天池的小吧车没有很多年去时坐着爽快刺激了，司机师傅开的中规中矩的，估计现在对安全要求比较严格了吧。.还挺不错的，景色好，适合冬天来。不错。整体挺不错的，冬天天黑的快，玩的时间相对少点，外面是挺冷的，多穿些衣服。景区还行。.如果能一起买就更方便了.如果能一起买就更方便了.如果能一起买就更方便了.如果能一起买就更方便了.非常满意，直接刷身份证就可以。2号到的长白山，3号最早的票幸运的看到了天池。去天池还要单独购买80元车票。记得一定要提前订票，最好订最早的票，后面天池可能会关闭，只有最早的有可能看到天池.这个景区真的是太大了，从服务中心坐景区大巴大概还需要一个小时，到了山下需要走台阶，一直爬到山顶，需要很好的体力，但看到美丽的风景真是不虚此行。.很可惜，没看到天池！.大家注意了，冬天千万不要去长白山，十月份以后，你根本没有机会登顶，每天都是因为天气原因无法开放，我等了 3 天，听说开放了，到了门口，说是 8 点开了半小时，又关闭了，我看着蓝蓝的天空直皱眉！天气好好的，为啥不让看？\\n来都来了，不进门不合适，硬着头皮花了 225 选买了一张门票，进大门后，又坐了 1 小时大巴，终于到了心心向往的长白山，这真是不来后悔，来了更后悔的地方！长白山瀑布，我们在距离 1 公里的地方远远观望，相当于黄果树瀑布的万分之一！真的震撼！小天池，就是一个冰封的小池塘！路上还有几个温泉眼咕嘟咕嘟往外冒！其他再也没有什么了！10 块钱买了 3 个温泉煮鸡蛋，巨难吃！吃了一个扔了俩！真实体验，绝没有对长白山不敬！如有冒犯，敬请谅解！.天气原因导致天池关闭 也不可以退票的 各位要买就谨慎了 白白浪费几百元了 官网虽然贵但可以当日退 长白山经常关闭的 都是自由退票安全点 我这次就损失300了.长白山是一个让人向往的地方。来之前还想着能偶遇张起灵。没想到这天天气不给力，又刮风又下雨的，连天池的面儿都没见上。还好，长白山瀑布也不错哦。.不让退，大家买票还是去官微比较好，携程和旅行社也是沆瀣一气的，不会帮游客争取应有权益。天池主峰没开，大家都是退票出现预定其他时间，他们要扣手续费。没有关系，但是客服反馈扣手续费也不知道能不能退成功。要当天下午6点左右回复我，但是我一看规定四点半点之后退票就全扣。导致我不得不在天池主峰关闭的情况下用去看小景点。那也没关系，正常未使用天池班线是可以退35/人的费用，他们这个也不会给你退。跑路吧大家，尤其是冬季，看天池本就是需要一在妥协天气的情况下，官方渠道更有保障，不要嫌懒。微信公众号关注长白山啥都有，85的登顶车也有。.昨日过来玩，今天是邹明姐姐负责接待的,在酒店一条龙服务,第一天玩了滑雪和温泉 第二天上了诶长白山 风景很优美 酒店服务很到位 有专车负责接送 下次来还会选择这里的！.这个是不含主峰倒车票的，记得另买，这次没上北坡的主峰，下回再战.11.21看到西坡的天池啦～值得点赞👍，北坡下回再战，祝大家好运.多亏用携程提前定了票，丝滑入园，没有排队。运气很好，看见了天池，真的超级幸运。如果没有买票的话还得排很长很长的队去买票，早上9点多到的，晚上5点左右下山。差不多该去的景点都去了.首先说重点，亲测有效，和小程序预约的完全一样，扫身份证直接进场。小程序没抢到的可以放心购买。\\n我们运气不错，天气很好，长白山实在太美了，强烈推荐！.行程改变没去成，同行对朋友说还不错，天池没瞅见。遗憾。.长白山天池，我此生无憾。来到这里，了却了自己的一个心愿，除了对天池的向往，我来看我在这里修行的爸爸。山不在高有仙则名，水不在深，有龙则灵。这里的传说我，不知道是不是真的，但我知道天池如果你不来，一定会后悔一辈子。.好好好好好好好好好好好好好好好好好好好好好.长白山天池，我觉得此生可以必游的景点之一，也是东北旅游最好的景点，没有之一。东北最好的景点可能就是长白山。我是夏天来的，还希望冬天再来一次。听说这里的冬天更美，另一种美。关于长白山天池也有传说，具体可以多看看央视科教频道。现在高铁很方便，可以直达长白山。另外，一定要看好天气，要不雾天或者雨天可能什么都看不到。.还是不错的.网红打卡圣地！！！.景区服务真的很不错，吃的东西也相对其他景区来说便宜，淡季排队什么的也快，总之北景区非常好，建议第一次来的到北景区上天池看看.天池很好看，等了三天终于开放了，建议到北景区，淡季的话人也不是很多.幸亏门票订的早，同行的其他小伙伴很多在小程序上抢不着长白山门票。只好眼巴巴看着少数几个有票的进去了。\\n   山上很冷，得穿羽绒服才行。由于我们出发的早，没有花费太多时间排队.长白山，此生必去的山，上山的车非常刺激，孩子们都非常喜欢，推荐。.有雪的长白山风景很震撼，西坡看天池视野比较好，但需要爬1442级台阶，山顶风大，注意保暖，其他地方基本不需要爬，景交车可以送到，森林里空气清新，是个洗肺的好地方.终于来到梦寐已久的长白山，果然很壮丽，也看到了天池！感叹大自然的鬼斧神工，满满一天的行程很充实，满意！.冬天的长白山像一个批了银霜的姑娘，很美，冬天人也没有很多，不过上天池就要看运气了，可能遇到暴雪就不开放了。如果想住高级酒店滑雪建议住西坡，那边度假村比较集中，设施也很完善.一般般吧，长白山天池，与西藏新疆的一些景点比起来，真的一般般，玩的是北景区，里面有几个小的景点，整体还是可以玩一下的，至于那个天池，就看你怎么看了.景色不错，人好多.司机师傅很有礼貌，上下都会提醒，注意安全，有机会再去看天池风景区.特别特别幸运，我去的那天长白山上有雪，天气又好，风也不算太大，天池特别美。强烈推荐淡季出游，不过长白山天气不定，还是要提前做好攻略。.虽然今天大雾，但是天池没有封闭.美到不行，非常漂亮.服务超好 用心的运营 风景也美 天池很美 祝生意越来越好 值得来大家快来 谷底森林门口的引导小姐姐服务超好 返程去北大门口的司机师傅一年纪四五十岁男服务超好 坐车去天池的爬坡司机师傅服务好一年轻小伙.还是不错的.还是不错的.很值得一去.误会一场，由于景区退票系统问题，现旅行社已经垫付退票款。.好👍👍👍.超级幸运！看到了最美的天池！前面一天大暴雨，我们上山时候天晴了，本以为会有雾，结果天特别透亮，看到了完美的天池，非常开心.超级幸运！看到了最美的天池！前面一天大暴雨，我们上山时候天晴了，本以为会有雾，结果天特别透亮，看到了完美的天池，非常开心.总要去趟长白山吧，去感受大自然的鬼斧神工，天池宛如碧玉镶嵌在山顶，长白瀑布飞流直下，成群的温泉喷涌而出，谷底森林郁郁葱葱，美丽而神秘。.风景太美了.景色真美，看到了天池.携程景区长白山北坡门票根本不给退，还需要老多的手续费了.身为吉林人，这么多年都没去过长白山，今天终于如愿了。作为东北的神山真的是名不虚传，都说天池是个大水坑，那都是看不到的人酸的，哪有这么美的水坑。因为带着老人和孩子，所以去了北坡，上山之前还在下雨，以为看不到天池了，没想到还是很给面子的。司机师傅的驾驶技术真的非常高超，盘山路真的超级惊险，超刺激！.天池不错，有风不好.北坡景点，风大雪点，有幸遇见，登顶看湖，观光车方便，很好的地方.北坡登顶，风大雪点，有幸遇见湖泊，观光车方便.北坡景点，登顶看湖，风大雪点.天池很美！.出行当天景点告知天池关闭，景区工作人员告知关闭景点的费用会原路退回。按理携程应给客人办理相应退款，联系客服退款后先是被告知不含天池门票，后又说不明白组合票内容。请问组合票不含景点门票那是组合了寂寞吗？并且如果不含门票，我们怎么过第一道检票口。店大欺客宰客，请给个科学说法说服消费者。.国庆去的，还行。.天池很美 地下森林关闭不能游览 有点遗憾.天池很美 地下森林关闭不能游览 有点遗憾.虽然有雾 但还是看到了天池 就是地下森林关闭不能游览 有点遗憾.非常好，推荐.景色非常好，.很累很远很冷，一定要轻装简行不要带太重的东西，有些远可以吃晕车药.很累很远很冷，一定要轻装简行不要带太重的东西，需要做很久的车，可以提前吃晕车药.非常好，看见了完整的天池，景区交通非常的方便，环境不错，景色宜人，空气非常好。.同时订了三张长白山的票，钱也扣了显示预定成功，结果到长白山通知我孩子的票没抢到，太垃圾了以后都不会再用这个程序，投诉了一直推迟不解决问题我也是服了.很坑，别买.园区整洁，服务一流，非常满意.垃圾景点，垃圾携程，买个票退费那么费劲，还不如去公众号买，以后都不想在携程买景区门票了.天池关闭了，只有一个大峡谷，可以看大概半个小时，往返坐车两个小时，整体体验感比较差。\\n景区写门票可以退半价，然后携程不给退，因为只有在公众号买的才可以直接退款，景区没给携程退，协商起来也很费劲。\\n建议不要从西景区上了，只有一个大峡谷，万一天池关闭了，真的是出发即返程，还不如去北景区看看其他的景点。.环境虽然美，但坐摆渡车坐到让人怀疑人生……西坡天池要爬1442级天梯，不喜欢徒步的人士，老人和小孩，行动不便人士要慎重考虑.非常好，家乡的景区必须给好的点评，希望越来越好，有了越来越多。当然，我这也是比较客观的，登山还是要带保暖的衣服，这点我失误了.太棒了，自己约不上携程给我预约上了，牛*.值得一去 下次还来.国庆节去北坡由于天池关闭，不能上主峰看天池，其他景点一般般吧，谷底森林不建议去，全程较远，森林里除了树啥都没有，没意思。.值得一看的景点，西坡天池非常美！景区司机也非常风趣，有问必答，详细介绍景点的特点。.国庆节去北坡由于天池关闭，不能上主峰看天池，其他景点一般般吧，谷底森林不建议去，全程较远，森林里除了树啥都没有，没意思。.值得一看的景点，天池非常美！景区司机也非常风趣，有问必答，详细介绍景点的特点。.这个是门票和坐到半山腰的大巴钱，到了海拔1700左右的地方还得换小巴，80一位直达天池。运气很好，赶上了好天气，看到了大美天池，不虚此行.长白山的景色还是很不错的，票必须得按预约的时间进入，天池主峰的票得单买（而且看天气情况开放），乘车路两边的风景也挺好，游玩需要一整天。.长白山的景色还是很不错的，票必须得按预约的时间进入，天池主峰的票得单买（而且看天气情况开放），乘车路两边的风景也挺好，游玩需要一整天。.很好，天池没开很遗憾.天池非常好.非常好非常好.在这上面千万不要买票全是骗子。。。这个票买的我闹心扒拉的。。提前半个月买的票当天票很难买然后验票的时候竟然跟我说这个票没给我出是假的，这个携程我只能嘿嘿嘿了。。找他们客服理论了半天最后给我退钱然后还给我少退了。我能说什么。理论了好久理论了好多天都没给我。携程就是诈骗千万不要在这上面买票.看到了天池 真的很兴奋 。路线设计合理，值得推荐！.长白山风景很美，值得一游。.长白山风景很美，值得一游。.供应商不可退订属霸王条款。北坡主峰因天气原因全天关闭，向携程要求跟供应商沟通至少退回景区门票费用，携程处理公道，协助沟通解决，点赞携程。.首先订单约的入园时间与园区约的时间不符，到了时间不能进去，随意篡改我预约的时间。景区管理混乱，服务人员态度差，挺大的景区，***直接管理，挺横，挺差劲，上山一次大巴上山，下山没有直达车，需要不停的下车排队等下一趟车，我们下山倒车用了三个多小时，期间孩子睡觉，天气那么冷，不能直接下山真的很差劲，必须下车再排队才能上车，上车地方下车地方挨着也不能一直坐车，就得去排队上刚下的车，很扯，每个下车地方都有购物点，买东西也不带这样折腾人的，垃圾，名气很大，实则很黑，绝不会再去的地方，也不推荐其他人去，真的很垃圾，火山岩黑秃秃也毫无景色，主峰老有天气原因关闭～.景色很美，看到了天池.十一假期 人多 混乱 有的地方排队无人管 乱 插队….在景点公众号没买到，在携程这里买到了，直接刷身份证就可以用，真不错，.按价格算，有点离谱了，300+只是看了个天池，而且好多人去了还看不到，相比之下，山下的美人松公园好多了\\n瀑布很小，小的可怜，走半天真的不值～基本上就是来回坐车了～.非常美丽的秋景，能看到天池有点子运气呢，景区服务很好，给家长点赞👍.长白山北景区旅游配套很成熟，可惜因天气原因没能看到天池，里面空气很清新，其他小景点也还凑合，下次有机会再去趟长白山西景区.十一假期的长白山已经下雪，天冷风大，运气不好，没能看到天池，其他景点也还可以。景区管理很规范，就是二道河镇个别出租车司机不实在.可惜天气不好，去不了天池.提前20天订票，显示订单成功，结果到了景区，没有票，进不去。到现在都没有结果，退订单还扣钱。就更不要说赔偿了。都不要在携程订票了。真是无语.长白山服务太差.长白山服务太差.运气真好，第一次上山就看见了天池.我爱东北我爱长白山！！！.虽然因天气原因山顶未开放，但长白山北景区总体很美，有雪山、瀑布、温泉，随手一拍都是美景，不虚此行。景区很大，换乘方便，一步一景，秋来长白山，绚丽壮美。.民宿很干净 店主人很好 一次性牙刷马桶套浴巾毛巾拖鞋 很全 很干净 非常棒的入住体验 店家还给车接车送 非常nice 推荐👍.长白山主峰，上去一次就值这个价钱，当然随缘.运气不错，天池景点开放，来了才知道，天池景点是根据天气决定是否开放的，景区公众号，景点不开放是可以退费的，这里是不给退的..天池没看到.很商业，但体验不错.很商业，但体验不错.国庆期间景区小程序太难用了，果断使用携程。长白山天池有几天因为天气原因不能开放，小程序买票可以退票，好像携程是不能退票的。幸亏我去的那天景区没关不用退.买的北坡结果给改到西坡，出发当天毫无时间观念.天池关闭日  看了个寂寞 ，幸亏从长白瀑布到绿渊潭是步行的，看了沿途风景，，不然会觉得更亏，。因为长白瀑布和绿渊潭本身也真的很一般！！！.早上说有下雪，但是下午明明天气都好了，天池还是没有开放，有缘无分吧，哎！.交通：往返需要他们的大巴车才能到，单程大概需要50分钟左右，尤其说下返程的大巴车上车的时候不说是区间车，到了一个地方让所有人下车然后让大家走几百米去另一个地方，到了地方发现全是人最少有1000人要抢车挤车\\n自然景点自然没的说.房间干净卫生 住着比较舒服.非常满意，值得再来.景观出色，林子不错，天池好看，交通服务不错。.在景区可以车接车送 服务很好 但是没有看到天池😭.听人劝吃饱饭，法定节假日在三方买票要慎重。说说这次的经历吧\\n9月27日凌晨携程上订10月3日长白山门票，27日上午显示预定成功，10月2日13点35携程客服电话告知合作方没抢到票，补偿30元后退票款，本人表示不能接受，请反馈上级给解决方案，预定成功的订单最后无票，就跟我买了火车票且有座的情况下不让我上车有什么区别？14点51客服再次来电告知没票退款补偿30元。本人提出3点疑问，为何订单状态在27日显示为成功？为何临近头一天告知无票？为何携程违约不是退一赔三？且我不要赔偿只要预定成功的票，否则消协投诉消费欺诈，某音曝光。15点23客服再次来点告知明天可以正常上山。\\n至此就是携程电话被退票的过程，从2日晚到长白山脚下开始在酒店和各社交媒体遇到被强制退票的不下30多人，同酒店一家五口，还有个一家六口均是2号和3号被强制退票。至于携程为何如此操作，可能是2和3人太多，3号票黄牛加400，可想而知。以后听人劝，我以后不会在法定节假日在携程这买任何门票和酒店，不是我黑你们，就这个事儿携程你们自己查查吧，跟旅行社那副吃像，难不难看只有你们自己清楚。.9月18去的北景区，山上的秋景已经很不错了，山下还基本都是绿色，想看更好的五花山可能要再晚一周，但为了天气好还是建议中上旬来，万一没到十一就下初雪了也挺麻烦。我们去时晴转阴，还是很幸运的，不过感觉只要时间够应该都能等到，大不了下午再买票上趟主峰嘛。\\n景区整体管理比想象中成熟，9月周中人流量不大，网上订票容易(官微提前3天买，可无手续费退，不过我们住山上蓝景，前一天晚上10点前和酒店预约购票，无需买第一程)，主峰票单独购买(数量充足随时加买)。车程很长，不过除了主峰段都不太绕。指示还算明确，有困难及时提问，工作人员可进行调度。绿渊潭有餐厅(自助+小吃)，其余处都是玉米烤肠。去瀑布方向的车会一口气开到终点瀑布站，回程再一站站停，需要的话(譬如先去绿渊潭)一定提前和司机沟通。\\n北坡的视角确实有些山石遮挡但也别有味道，观景区从右到左很长的，不过始终中心最挤。a线是个小环路b线需折返，不需2选1都可以去，拍照的平台排队人挺多，似乎自行拍照是不收费的。去瀑布会途径温泉，总距离不算远但最后猛爬近200台阶有点累。绿渊潭三条小瀑布景致还不错。小天池据说较远没去，森林关闭。.长白山坐车上去雾特别多，怎么好像都看不到？好不容易挤进去，雾终于被吹开了，看到了天池的＂半貌＂还是很壮观的。长白山的瀑布很长很壮观。\\n日月潭的水很绿，像一个碧绿大圆盘一样.购票很方便，检票口有专门的通道，价格也合适，下次还会在携程购买.2号幸运的看到了天池，不虚此行，1400蹬楼梯还挺好爬的，老年人小孩多穿，出行前一定要看天气，提前预约景区门票，留点时间买特产.真的超级满意，根据推荐来的，省了自己慢慢做功课的时间，省时又省力，赞赞赞(˘͈ᵕ ˘͈❀)\\n这服务，确实没得说，推荐推荐推荐！.景色宜人，流连忘返！.景色宜人，流连忘返！.景色宜人，流连忘返！.票很难抢，天气好还临时通知天池关一整天.票很难抢，天气很好天池还临时关闭.十一期间人太多太多，等车时间太长，没什么办法。服务什么的还是很满意。很幸运，当天就前两个时间段可以上山顶，然后封山了，上了天池也没有云雾，景色很美，很震撼，其他小景点说实话就那么回事。.长白山xiooq景色很不错，天池景色更好看，天池水很清澈， 蓝天白云很美，大峡谷的森林也很茂密有原始感，很值得一来玩和度假。.出票快，唯一不足就是妈妈满足60岁老人，但也按照成人票出了.1.超级满意的体验，长白山整体服务井然有序，人很多，服务和管理超级好。\\n2.因为上山要排队乘车，上天池还要换车，人很多，但是安排的不让人觉得杂乱无章，很有秩序，不像去大同云冈时，虽然排队，但是插队，然后还没人管，在长白山服务人员很会安抚情绪，出来玩，图的就是开心\\n3.长白山真的是按点放人，安排合理，这样就能有序控制人流，不至于安排不开，也不至于发生踩踏，因为天池容客量还是有限的。\\n3.最后想说，我看见天池了，哈哈哈，多亏服务人员，说上旁边等着风吹散雾，虽然冷，但是真的很美，净透，值！.23-10-2很有幸第一次去就看到了天池.天池真的非常美.真的很美🏔️.非常差劲的一次携程购票体验，携程私自占用能购买优惠票的身份信息！全家人出游，9月28日因长白山西坡优惠票10月1日已不能购买，一行七人全部购买的10月1日长白山西坡全价组合票，其中五人的票显示预定成功，有两位老人的票一直显示待确定，29日早联系客服，客服回复我们说身份信息被占用出不了票，让我们把其他平台定的票退了才可以，我们和客服明确表示我们只在携程平台购票了，没在其他平台购买过。客服就说会反馈情况，让我等电话，然后每次客服来电话我都要解释一遍，我没在其他平台购票，不断拉扯，直至系统自动退款，也没给我解释清楚为什么我们家老人的身份信息被占用！客服给我升级投诉主管，投诉主管给我打电话一上来就给我们消费者扣一大帽子，说身份信息是我们自己泄露的，要不就是我们在其他平台买票了，反正就是平台没关系。挂掉电话后，我联系了长白山票务中心，提供了老人的身份信息，长白山票务中心查询后表示，这两张身份证已正常购票，和我们家其他五个人在一张订单上！我们要是泄露的身份信息或者其他平台购票得多巧合才能和我们其他五个人都在携程的订单上？10.1日长白山天池主峰景点关闭，西坡官方表示会退回门票的一半，携程也没给退！.非常差劲的一次携程购票体验，携程私自占用能购买优惠票的身份信息！全家人出游，9月28日因长白山西坡优惠票10月1日已不能购买，一行七人全部购买的10月1日长白山西坡全价组合票，其中五人的票显示预定成功，有两位老人的票一直显示待确定，29日早联系客服，客服回复我们说身份信息被占用出不了票，让我们把其他平台定的票退了才可以，我们和客服明确表示我们只在携程平台购票了，没在其他平台购买过。客服就说会反馈情况，让我等电话，然后每次客服来电话我都要解释一遍，我没在其他平台购票，不断拉扯，直至系统自动退款，也没给我解释清楚为什么我们家老人的身份信息被占用！客服给我升级投诉主管，投诉主管给我打电话一上来就给我们消费者扣一大帽子，说身份信息是我们自己泄露的，要不就是我们在其他平台买票了，反正就是平台没关系。挂掉电话后，我联系了长白山票务中心，提供了老人的身份信息，长白山票务中心查询后表示，这两张身份证已正常购票，和我们家其他五个人在一张订单上！我们要是泄露的身份信息或者其他平台购票得多巧合才能和我们其他五个人都在携程的订单上？10.1日长白山天池主峰景点关闭，西坡官方表示会退回门票的一半，携程也没给退！.非常差劲的一次携程购票体验，携程私自占用能购买优惠票的身份信息！全家人出游，9月28日因长白山西坡优惠票10月1日已不能购买，一行七人全部购买的10月1日长白山西坡全价组合票，其中五人的票显示预定成功，有两位老人的票一直显示待确定，29日早联系客服，客服回复我们说身份信息被占用出不了票，让我们把其他平台定的票退了才可以，我们和客服明确表示我们只在携程平台购票了，没在其他平台购买过。客服就说会反馈情况，让我等电话，然后每次客服来电话我都要解释一遍，我没在其他平台购票，不断拉扯，直至系统自动退款，也没给我解释清楚为什么我们家老人的身份信息被占用！客服给我升级投诉主管，投诉主管给我打电话一上来就给我们消费者扣一大帽子，说身份信息是我们自己泄露的，要不就是我们在其他平台买票了，反正就是平台没关系。挂掉电话后，我联系了长白山票务中心，提供了老人的身份信息，长白山票务中心查询后表示，这两张身份证已正常购票，和我们家其他五个人在一张订单上！我们要是泄露的身份信息或者其他平台购票得多巧合才能和我们其他五个人都在携程的订单上？10.1日长白山天池主峰景点关闭，西坡官方表示会退回门票的一半，携程也没给退！.非常差劲的一次携程购票体验，携程私自占用能购买优惠票的身份信息！全家人出游，9月28日因长白山西坡优惠票10月1日已不能购买，一行七人全部购买的10月1日长白山西坡全价组合票，其中五人的票显示预定成功，有两位老人的票一直显示待确定，29日早联系客服，客服回复我们说身份信息被占用出不了票，让我们把其他平台定的票退了才可以，我们和客服明确表示我们只在携程平台购票了，没在其他平台购买过。客服就说会反馈情况，让我等电话，然后每次客服来电话我都要解释一遍，我没在其他平台购票，不断拉扯，直至系统自动退款，也没给我解释清楚为什么我们家老人的身份信息被占用！客服给我升级投诉主管，投诉主管给我打电话一上来就给我们消费者扣一大帽子，说身份信息是我们自己泄露的，要不就是我们在其他平台买票了，反正就是平台没关系。挂掉电话后，我联系了长白山票务中心，提供了老人的身份信息，长白山票务中心查询后表示，这两张身份证已正常购票，和我们家其他五个人在一张订单上！我们要是泄露的身份信息或者其他平台购票得多巧合才能和我们其他五个人都在携程的订单上？10.1日长白山天池主峰景点关闭，西坡官方表示会退回门票的一半，携程也没给退！.票是真难抢，本来孩子可享受优惠票价，但也只能按照成人票才能买到，官方微信小程序更是抢不到票，一到出票时间服务器就瘫痪，没办法只能从平台或旅行社订票，风景和各项设施服务都没得说，都很棒，但买票体验是真糟糕，特别是南坡，瞬秒，下次选淡季再来吧.进去前几小时告诉我没抢到票，后来抢到票了，到门口了，告诉我天池不让上.太棒了！！！刷身份证就可以进去，很方便。天池超级美丽，下次去其他坡！.车接车送很方便，没有去过北坡，觉得西坡挺不错的，还可以在中转站去另一个景区。\\n到山后风大气温低，可以在山脚下租衣服很好！登山杖个人感觉没有必要，一千四百多个台阶也不累，就是风大刮的脸疼头疼，建议戴帽子跟口罩或者围脖，穿一些防风的衣服。.携程挺差劲，不给退票，长白山主峰都关闭了，看不了天池，在公众号买票都能退，携程就是不给退，太差劲.难得一见天池.大戏台河198的夜景票白天带我们去……，坑死.不靠谱的买票经历.只能说以后买票不能通过第三方平台，还是要去景区的公众号或者专门的售票口买票。.太赌了，看天池真是看运气.服务特别差，打电话改集合时间好几次，最后让5点集合，送到长白山之后，就在外面，特别冷的天干等票，就说7点才给票，最后和下一波来的人一起上去的，没人处理这个问题，既然都知道7点才能有票，为什么把人5点半就扔那等着，也没人处理这个问题，那么冷的天，还有老人，真是不推荐！！！而且态度也不好！.国庆期间游客多可以理解，但提前3天凌晨0点放票是不是有点不合理了，小程序根本卡的进不去，每天熬夜抢票。后来景区说当天早上6点还会放一点票，一样也是抢不到。如果没有那么多票给散客，不如直接告诉我没有，那就提前改行程不来了，省得都已经到了，进不去景区，机票酒店都不便宜。长白山很美，只是景区这个售票机制体验感太差。.运气不错，看到了天池.非常差，一堆人想被耍猴一样12点抢票.不建议买组合票，我购买了9.30，10.1的组合票，我在10.1早晨进入后才知晓了天池10.1封山，我的组合票的费用说明指出了若遇天池关闭可联系客服退款，结果携程联系了景区之后，景区不认账，说我的票中不包含倒站车且已经核销。在我得知天池关闭的时候就已经把票核销了，不给退款了。虽然不差那八十，但是景区不认账的态度让我很恼火。\\n【性价比】\\n关于景色，虽然天池关闭没看到，但是还是看到了长白瀑布绿渊潭等，景色还是不错的值得一去。.整体还可以 可惜天气原因天池没开放.方便、舒适，体验非常好。.携程买票超级方便，有专门的检票通道，感谢携程，可惜天池主峰封闭没看到，下次再来吧。.他家很不靠谱，出票时间显示9:00到10:00，其实景区出票时间12:00根本不是一个时间段，没有票了也不能瞎出糊弄游客，还好和成人票一起让进来了，这不让小朋友进来怎么办，下回不能再来这平台了！！！.，，，，，，，.长白山很美，金秋时节，层林尽染，天池很震撼，景区服务很好，指引清晰，大巴师傅开车很稳，小巴师傅开车技能满分，为我的家乡骄傲.今天是10月1日凌晨 长白山景区官方微信公众号上按理说可以买10月3日的门票 然而根本进不去 总是显示“系统繁忙 根本冲不进去”等信息 同时定好的长白山景区的酒店不能退订 ；大概率是住长白山景区酒店 住了个寂寞 门票预约不到 也许需要到时候门口现场买黄牛票了 非常差劲 景区门票管理很乱 准备打电话投诉.王应葵服务人员超级用心，不仅送了水果、耳塞还有家用器具，还帮我们张罗加了一张床，让我们感觉宾至如归，有求必应的王姐让我们对阳朔的好感度upupup！.非常好，很庆幸能能早长白山玩，祖国的大好河山令人无比的陶醉！.位置很好，在西景区游客集散中心旁，服务也很好.景色很美，服务好.长白山没次去都不后悔。这次看的湖面更全。.风景很好，天池很美，就是车费分几段收费，上山大巴，景点大巴，天池小巴.这是我到过的最坑人的五A景区 景区为了多赚钱想方设法把游客拦在几十公里以外的地方 让你们多出钱 我说心里话到西藏去的随便一个水坑都比天池漂亮  去过西藏的切记不要来  你会后悔死 而且票价很高 根本不值这么高的价格 有这么多钱去西藏也差不多  人只有看过真正美的风景 才会知道什么是最美的风景.无需取票，刷身份证即可进入。\\n天池景色很美，如果能放无人机就更完美了。\\n景区管理成熟，换乘排队秩序井然。\\n打算全部游览最好预留一整天时间。.方便、准时，非常好.棒🎉幸运看到天池.长白山太美了.真正的原始森林，真正的湖光山色，真正的神话秘境，真正的满洲圣地，真正的白山松水，真正的吾之祖乡。.长白山·天池 我赞叹过泸沽湖的纯，惊叹过赛里木湖的清，看到长白山天池的那一刻，我噤声了。不仅是因为她的美，还因为她的神秘和稀有！一年365天，长白山只有100多天可以登顶，而其中只有不到一半的时间得以看到天池的容颜！两天之内，我看到了她的阴、雨、雪、晴的模样，实在是幸运。.天池值得一看.很幸运是晴天.很幸运是晴天.真的很值得.很不错的景区，值得一去.景色很美好，设施很完善.整体设施安排很合理，景色很美.这里值得一去，景色太漂亮了。那真是大自然的鬼斧神工，比手机上看到的还要漂亮！.天气照顾！景色很美！.此景只得天上有，强力推荐大家去看一次长白山天池，绝对不会让你失望，在携程可以提前多几天预定比官网只能提前三天好抢票。天气预报不准，能不能看到天池看天意，九月是个好月份，记得带冲锋衣或者羽绒服。.一般般。。。.房东人很热情，介绍了当地免费景点。房间很干净，很宽敞，里面有2个两米乘两米的床，觉得更适合四个人住。屋里有空调、24小时热水器，还有wifi可使用，对房客来说很方便。.方便可靠，时段理想，可选日期多，不用在长白山官网提前三天熬夜抢。.方便可靠，时段理想，可选日期多，不用在长白山官网提前三天熬夜抢。.方便可靠，时段理想，可选日期多，不用在长白山官网提前三天熬夜抢。.方便可靠，时段理想，可选日期多，不用在长白山官网提前三天熬夜抢。.值得一去，不要过多的关注天气.长白山景区有很多车啊，各种倒车后才能找到山顶，不容易。去一次票价也挺贵的。不过看到天池，还是觉得很值得。实在是太好看了。.长白山天池真的是美极了，我们当天去有雾气，但等了一会儿就看见天池了，非常好看。上山的汽车也挺有意思，一路盘山公路好好玩，司机技术也很过硬。.天池！惊艳！运气极好，前一天和后一天都有云有雾还下雨，中间我们这一天天晴！美到爆炸！\\n北坡的视角不太好，人也特别多，但是还是给人震撼的感觉！\\n票价不便宜，但是感觉看到美景很值得！\\n天池绝对棒，天池瀑布只能远观，温泉蛋还是OK的\\n地下森林因为有熊出没，所以没有开放，另外两个绿渊潭和小天池就just soso，不太值得.从沈阳和大连分别有一趟普通火车第二天可以到达长白山站，门票务必从携程上面预订，景区公众号里面的票都只是近三天的票。从火车站有专门配套的公交车到达北门，然后转乘景区车辆大约五十分钟进入。其实看景不如听景，真到了这里，也就那样吧。回来的车票也要提前预订好了，只有解决了交通问题，才能安心游玩。.国庆节是一年里来长白山的最后机会，十一以后封山了。秋天的天池，池水碧绿清澈，长白山原始森林树叶色彩斑斓。.长白山的秋天真的很美！北景区进入，一共花了6个多小.运气不错，第一次去就如愿看到了天池，还有瀑布，玉渊潭，小天池景区。.运气不错，第一次去就如愿看到了天池，还有瀑布，玉渊潭，小天池景区。.长白山风景区景区，景色很不错的，特别是天池，是火山盛怒后的平静，给人一种心灵净化的感觉。绿渊潭的水像九寨沟的水。聚龙温泉能蒸鸡蛋，蛋黄不太熟，长白瀑布和小天池感觉一般。.二十五年前的冬季，长白山白雪茫茫。.有幸看到了天池，许了愿望，期待都可以实现，还有九个字九个字哦耶✌️……还有25个字25个字，说点啥，大家来的话还是做好攻略，看好哦天气，有的人来了三次才看到天池.旺季去长白山风景区一定要提前预订门票，每一个小时一拨，不能提前进入景区，因为运力所限。长白山站有公交车直达北门口，然后转中巴车接驳，到山顶还要额外掏电瓶车钱，总之一个字“贵”。风景嘛，见仁见智吧。.风景很好，五月还能看到大雪。\\n推荐来，享受北国风光，不一样的风土人情。.我们去的是长北山北景区，在游客中心上车后，直接上到长北山瀑布景点，游完后自己乘车往下一个景点，非常方便。景区景色优美，风景独特。.很值得来的一座山，要是以后有完善到开通各个坡之间的班车就更牛了。地下森林说有熊了所有暂时关了，这次还差南坡没去，留了再来一次的机会。.绿渊潭和小天池很美。.因为带着孩子，所以选择走路较少的北坡线路。全程景区接驳车换乘，几乎不用走路就可以到达天池。沿途下来景点优美，特别是温泉蛋太好吃了。最后一个景点谷底森林如果时间不充裕可以不去，来回要走3公里多。.很好  看到天池了！.美轮美奂，祖国大地景色无比壮丽.服务态度很好很好.服务态度很好很好.差差差差差.值得一去，非常美.值得去的好景点 服务比较到位 景色宜人 交通安排带来极大便利 地下森林景区没能开放实在是遗憾 总统感觉很好 在全国景点比较也是优秀的.长白山非常漂亮，在网上订的门票很方便！.长白山很漂亮，看到天池了！.值得去游！.千万不要在携程买票，一定要官网、官网、官网购买，携程不便宜还不是全票，会吞票严重影响出行和心情。长白山景色是没的说，很美，三江之源名不虚传！.长白山北坡景区开发最为成熟，人也最多，适合带老人和孩子的家庭，景区内需要换乘两次环保车上山，几乎到达山顶，需要再爬300来米到达天池。.很值得去，每个景点都超级好看。天好，天池那个美啊，建议大家早点去哦，我10点开始检票的，一直不停的看，终于在五点看完最后一个景点下山到北坡集散中心已经快六点了。携程订票很方便，我提前十几天就买好了。要是在公众号上订，只能提前三天订，旅游旺季根本抢不到合适时段的票。.昨日从长白山西坡下的松江河出发回延吉，路过二道白河，也就是长白山北坡所在地，在几个地方和角度都看到了长白山，因为长白山上还没有下雪，所以长白山这时候还没有变成白色。\\n     天气好，远观长白山很清晰。.服务挺好的，需要提前预订，能帮忙预约到第一批上山门票，超级赞。我的行程分了两天，其中一个虎园临时改时间也能帮忙调整，棒棒哒.服务挺好的，需要提前预订，能帮忙预约到第一批上山门票，超级赞。我的行程分了两天，其中一个虎园临时改时间也能帮忙调整，棒棒哒.长白山是必须要去一次的！非常推荐大家前往长白山\\n很震撼很好冲冲冲.第一次去就看到了天池，很幸运，景色也很美，有绿渊潭、瀑布、温泉、小天池等等，谷底森林如果走到底有点累，建议体能不是很好的可以走不远就往返回来，因为走到底也是一样的景色.我们的导游叫金红梅，东北大姐，爽朗热情。 真的感觉非常好。 一路热情推荐，解决问题。感受非常的好.看天池，冲冲冲.很好很好很好.美不胜收，.美不胜收，........一定提前订票，如果人多没提前定可以选择包车进入，就是价格有点贵.东北风景最好的景点了，山顶看天池很震撼，7月份的时候山顶还有雪，就是坐车时间太长了，从服务中心需要坐将近一个半小时才能到天池.东北风景最好的景点了，山顶看天池很震撼，7月份的时候山顶还有雪，就是坐车时间太长了，从服务中心需要坐将近一个半小时才能到天池.天池yyds.景点肯定是没问题的，但是在携程上订票一定要注意，退票调整的啥的，不能单独操作，比如一次性买了4个人，也不是团体票，但是临时一个人有事啥的，这一个人的票就不能退，要退就全退，要不就浪费.📍第一次来，幸好有工作人员的耐心讲解，收获非常美好的回忆。\\n\\n人生只有一个结果是确定的，那就是生命终会终结。\\n\\n人生不是轨迹而是旷野\\n\\n希望我们都拥有随时可以为自己而做选择的勇气.长白山东北第一山~不错.长白山天池，绝对值得一看！！.最垃圾的景区，门票224元啥也看不到，玩不着。上主峰还要80元，要排队两个多小时才能坐上主峰的车。长白山旅游股份，不顾及旅客感受，票卖出去了，服务打折！.看到天池了 特别美 比去过的其他5A景区都要震撼.山美水美，季节美.服务态度很好.遇上大雾 没看到天池！0分！.非常好 看到天池恨值得 全程也不会太累.长白山风景秀丽，空气清新，是暑假避暑胜地.风景很漂亮。.携程买票和景区官网售票门票时间不同步.携程买票和景区官网售票时间不同步.几千里路去看天池，预定门票和车票，到景点后还要买车票，天池又没有看到，地下森林又临时关闭。.天气不是很冷，也不用租大衣，而且上去之后还看到了天池，出租车司机也说我们运气不错。通体玩的很开心，风景也很好看，值得一去.不错不错👍.看到天池了.不错错不错.不错不错不错不错.很方便，不错。.很方便，不错。.很方便，不错。.很方便，不错。.很方便，不错。.很方便，不错。.值得一去的.组织有序，旅游感受好，第二次来长白山北坡景区，10年前来过一次，感觉有很多变化，但旅行还是很不错，也看到了天池全景，非常幸运.景区安排非常周到，组织有序.交通安排的非常好，几段都很有秩序感.久闻长白山大名，今天终于得以一见，只可惜天池未开眼，天空下着小雨，只看到雾茫茫一片，景区组织管理很到位，循环车接送很及时，跟司机了解态度很和蔼，讲解回答很仔细，另外一个景点地下森林由于有大型野生动物出没，也没开放，所以今天有些遗憾。不过其他景点打卡很好，.很不巧，赶上个大雾天，没看见天池，只看见白茫茫一片，人还是很多，还下着雨，天气倒是不冷，其他的景点有循环车接送，很方便，也很有秩序，温泉和瀑布很好，那大瀑布飞落直下，很壮观，车一直送到集散中心，服务很到位。.携程买票免去了夜间刷票的困扰.携程买票免去了夜间刷票的困扰.很幸运！！！.运气好，上下阴雨绵绵，山上晴空万里，看到天池，好美好美！.值得一去，很美。.长白山好美.好运气，一睹天池美景，长白山管委会管理和运力没得说，北坡全程拉到天池脚下，一上去就看到蓝宝石一样的天池湖面，下山路上去看长白瀑布，吃个温泉蛋温泉玉米，下山后在老山门下车去聚龙泡个温泉，简直太舒服了.21号去看到了天池！超级幸运！！从天池主峰上下来的时候下了一点点雨，去了温泉广场，后悔死了怎么没多买几个温泉蛋，真的太好吃了！瀑布也很美！只不过是自己一个人，下次再去长白山，希望是两个人吧！.可以提前三天订票，不必担心买不到票，到了直接刷身份证就行，非常方便。.这个要极力推荐！真心赞👍🏻一家5人用车，2老2大1小包车上山不排队不绕路不浪费时间，省时省力省心，真是太爽了，所有景点都打卡到人还能神采奕奕，才是旅行该有的样子！感谢吴恩民师傅，驾驶手把一流，盘山路非常难开，我们只管观风赏景拍摄录影，惬意自在。商务车况新、空间大，酒店接送，师傅说这是专业运营的长白山车辆公司，安心有保障。Ps. 私下问了其他包车渠道，都比这个价格高。亲身体验下来，携程真香。.不错，，下次还会再来.运气太好了，我们上山的前后一天都下雨看不到天池，我们那天居然天晴而且特别透亮，看到天池无敌美景，太开心了。唯一不开心的是大家都赶着早上挤到门口，排队等了好久，但是中午下山时候门口一个人都没有了，建议景区在卖票的时候就多宣传一下，告知游客如果就是看天池，不看其他景点的游客，不要一大早去挤，中午吃了饭再上山一样来得及的，而且还不排队。.应该玩两天的 第一天去了西坡没买到北坡的票.非常的震撼.非常的震撼.景色很漂亮，运气很好，看到天池啦.非常方便，还没手续费.非常方便还没手续费.非常方便，还没手续费.非常方便，又没手续费。.吧不错的旅游体验.风景优美，自然伟大，震惊凡人.此行我是非常幸运的，一家五口人买票的时候除了我自己其余的人门票都没有问题，唯独把自己买错了日期，当日票售罄的情况下，在检票小姐姐的指导下，历经了40分钟，终于抢到了一张退票，超级幸运，更幸运的是还看到了天池全貌，很震撼！.中国。 长白山风景名胜区！非常的不错，很高兴，很开心的来到了这里，有登顶的木栈道，有一群喜欢登山的朋友们，大家在一起，相互帮助，一起登顶！.大美长白山，就是看管不严，各处都碰到有人抽烟，乱扔垃圾，美丽的原始森林有白色垃圾，还有不道德正路不走，踩踏原始森林，得加强管理。\\n照片纯天然无修饰，天公作美，最适合欣赏天池！就是拍照人太多，一直在排队，只能放弃排队拍照。.除了一个劲儿的等车倒车以外，都还不错……看到了天池比啥都强，票可以迟到不可以早到哦！千万别搞错了！.先坐大巴车45分钟，再换成坐20来分钟吧，说65分钟，我大概分了一下，到了开始爬阶梯，1400多步，我这种平时不锻炼的大概用时个把小时，挺累的，下来半小时，观景台待了3分钟。真想阶梯边上有个滑梯滑下去😄风景不错，空气好。时间原因还有几个景点、漂流都没去。.旅游很愉快.挺不错很好的.我总感觉长白山这是欺诈消费，到长白山了为什么这里面的班车车票组合让人感觉池北旅游班车就是到天池主峰的，但是到景区其实还要买80元的天池车票，😵\\u200d💫😵\\u200d💫😵\\u200d💫😵\\u200d💫.谢谢携程，我在小程序上完全抢不到票，感谢感谢！.此套票不合主峰套票，也不注明.此套票竞不含主峰车票！.千万别再携程上买票，一定要在官网上买，退票还扣钱！谨慎买携程滴门票.这个人真不是个好东西.体验不好，坐车太麻烦，尤其地下森林，因工作人员不作为，导致游客发生口角冲突.地下森林因为工作人员的不作为，导致游客发生冲突.地下森林那不建议去，坐车麻烦，派车的工作人员也很差，排了一个多小时的队伍结果他从后面放人上车.携程上买的票，明明没用，景区非得说已经刷过身份证了，不给退款！都不去核对入场时间，很差，非常差！.总体超赞赞赞赞赞赞赞赞赞赞赞赞赞赞赞赞赞赞赞.体验非常好，下次还会再来的.^◡^..长白山可以多次多角度欣赏.景点很好，刷身份证即可入园，乘车单程1.5小时，西坡要爬一千四百个台阶。上面没有卫生间。峡谷也很好玩，王池风景很好，整个景区服务很好，排队不多.挺好的，就是代理商不行，儿童票加微信没人回，不发二维码，购少儿票和老年票建议还是官网吧。.挺好的，就是代理商不行，儿童票加微信没人回，不发二维码，购少儿票和老年票建议还是官网吧。.挺好的，就是代理商不行，儿童票加微信没人回，不发二维码，购少儿票和老年票建议还是官网吧。.挺好的，就是代理商不行，儿童票加微信没人回，不发二维码，购少儿票和老年票建议还是官网吧。.垃圾，大巴车，池北旅游往返，两个往返大巴车，竟然没有主峰车票，现场买主峰车票，麻烦死了.玩的很开心.玩的非常开心.本以为在携程上所购买的套票含括了全部的景点和交通，但在到达景区验票时却说还要购买主景区的每人80元的门票。花钱买票不是问题，问题在于排了长长的队后不被放行，却被告知还要再扫码、填资料、购票一顿忙活让人措手不及，也让旅行游玩徒增了一些麻烦和不快。真是无法理解：为什么不能在携程一票或一次购票解决所有票务问题呢？？？如果有解决不了的技术和程序难题，那也应该在购票的页面上加以提示🔔让顾客有在景区购票的意识和心理准备才好。不能不说这是一个比较严重的不足。.西景区套票基本都含了。平台购票方便，但必须提早订，建议提前一天否则晚了订不到。整个行程差不多5、6个小时，建议预留充足时间。.景色非常的美.长白山天池值得一游.长白山景区，位于吉林省安图县二道白河镇池北区东南部，东南与朝鲜毗邻，坐落于长白山北坡，距长白山34公里。主峰长白山多白色浮石与积雪而得名，素有“千年积雪万年松，直上人间第一峰”的美誉。景区是拥有“神山、圣水、奇林、仙果”等盛誉的旅游胜地。非常值得推荐！.长白山很美，景区内服务人员很耐心，不用担心找不路，全城有工作人员指示.夏天凉爽，冬天深遂，拥有火山地貌和原始森林.客服很热情.很有趣，想再去，一个很神秘又要凭运气的景区。游完需要很多的体力。一定要提前订票，用携程提前订票比官方抢票方便很多，刷身份证就进。.很有趣，想再去，一个很神秘又要凭运气的景区。游完需要很多的体力。一定要提前订票，用携程提前订票比官方抢票方便很多，刷身份证就进。.很有趣，想再去，一个很神秘又要凭运气的景区。游完需要很多的体力。一定要提前订票，用携程提前订票比官方抢票方便很多，刷身份证就进。.目的地标志性热门景点之一，推荐.长白山，作为吉林人而且是专业学但有的人30多年了一直没去过是我的心病，这次组织了一大波人一起去的，5大3小，我一个人带了7个女同胞哈哈哈…很美，绝对值得一去，以前上学的时候就说长白山从山脚到山顶可以体验一年四季，虽说有点夸张但是也算是真实情况了，在山脚下还穿着短袖笑哈哈，到了山顶赶紧给孩子租了大衣怕孩子感冒，大人硬挺着没租大衣，结果导致下山回来都被长白山的等吹不舒服了，2个人都感冒了。转天池巴士的时候，候车厅显示屏显示（大雾，目前天池不可见）结果到了天池就看到了，真的很幸运很开心，虽然风很大，人超级多，但是真的超级幸运，希望山河无恙、国泰民安、家人平安、生意兴隆哈哈哈….长白山，作为吉林人而且是专业学但有的人30多年了一直没去过是我的心病，这次组织了一大波人一起去的，5大3小，我一个人带了7个女同胞哈哈哈…很美，绝对值得一去，以前上学的时候就说长白山从山脚到山顶可以体验一年四季，虽说有点夸张但是也算是真实情况了，在山脚下还穿着短袖笑哈哈，到了山顶赶紧给孩子租了大衣怕孩子感冒，大人硬挺着没租大衣，结果导致下山回来都被长白山的等吹不舒服了，2个人都感冒了。转天池巴士的时候，候车厅显示屏显示（大雾，目前天池不可见）结果到了天池就看到了，真的很幸运很开心，虽然风很大，人超级多，但是真的超级幸运，希望山河无恙、国泰民安、家人平安、生意兴隆哈哈哈….长白山，作为吉林人而且是专业学但有的人30多年了一直没去过是我的心病，这次组织了一大波人一起去的，5大3小，我一个人带了7个女同胞哈哈哈…很美，绝对值得一去，以前上学的时候就说长白山从山脚到山顶可以体验一年四季，虽说有点夸张但是也算是真实情况了，在山脚下还穿着短袖笑哈哈，到了山顶赶紧给孩子租了大衣怕孩子感冒，大人硬挺着没租大衣，结果导致下山回来都被长白山的等吹不舒服了，2个人都感冒了。转天池巴士的时候，候车厅显示屏显示（大雾，目前天池不可见）结果到了天池就看到了，真的很幸运很开心，虽然风很大，人超级多，但是真的超级幸运，希望山河无恙、国泰民安、家人平安、生意兴隆哈哈哈….长白山，作为吉林人而且是专业学但有的人30多年了一直没去过是我的心病，这次组织了一大波人一起去的，5大3小，我一个人带了7个女同胞哈哈哈…很美，绝对值得一去，以前上学的时候就说长白山从山脚到山顶可以体验一年四季，虽说有点夸张但是也算是真实情况了，在山脚下还穿着短袖笑哈哈，到了山顶赶紧给孩子租了大衣怕孩子感冒，大人硬挺着没租大衣，结果导致下山回来都被长白山的等吹不舒服了，2个人都感冒了。转天池巴士的时候，候车厅显示屏显示（大雾，目前天池不可见）结果到了天池就看到了，真的很幸运很开心，虽然风很大，人超级多，但是真的超级幸运，希望山河无恙、国泰民安、家人平安、生意兴隆哈哈哈….长白山，作为吉林人而且是专业学但有的人30多年了一直没去过是我的心病，这次组织了一大波人一起去的，5大3小，我一个人带了7个女同胞哈哈哈…很美，绝对值得一去，以前上学的时候就说长白山从山脚到山顶可以体验一年四季，虽说有点夸张但是也算是真实情况了，在山脚下还穿着短袖笑哈哈，到了山顶赶紧给孩子租了大衣怕孩子感冒，大人硬挺着没租大衣，结果导致下山回来都被长白山的等吹不舒服了，2个人都感冒了。转天池巴士的时候，候车厅显示屏显示（大雾，目前天池不可见）结果到了天池就看到了，真的很幸运很开心，虽然风很大，人超级多，但是真的超级幸运，希望山河无恙、国泰民安、家人平安、生意兴隆哈哈哈….长白山，作为吉林人而且是专业学但有的人30多年了一直没去过是我的心病，这次组织了一大波人一起去的，5大3小，我一个人带了7个女同胞哈哈哈…很美，绝对值得一去，以前上学的时候就说长白山从山脚到山顶可以体验一年四季，虽说有点夸张但是也算是真实情况了，在山脚下还穿着短袖笑哈哈，到了山顶赶紧给孩子租了大衣怕孩子感冒，大人硬挺着没租大衣，结果导致下山回来都被长白山的等吹不舒服了，2个人都感冒了。转天池巴士的时候，候车厅显示屏显示（大雾，目前天池不可见）结果到了天池就看到了，真的很幸运很开心，虽然风很大，人超级多，但是真的超级幸运，希望山河无恙、国泰民安、家人平安、生意兴隆哈哈哈….长白山，作为吉林人而且是专业学但有的人30多年了一直没去过是我的心病，这次组织了一大波人一起去的，5大3小，我一个人带了7个女同胞哈哈哈…很美，绝对值得一去，以前上学的时候就说长白山从山脚到山顶可以体验一年四季，虽说有点夸张但是也算是真实情况了，在山脚下还穿着短袖笑哈哈，到了山顶赶紧给孩子租了大衣怕孩子感冒，大人硬挺着没租大衣，结果导致下山回来都被长白山的等吹不舒服了，2个人都感冒了。转天池巴士的时候，候车厅显示屏显示（大雾，目前天池不可见）结果到了天池就看到了，真的很幸运很开心，虽然风很大，人超级多，但是真的超级幸运，希望山河无恙、国泰民安、家人平安、生意兴隆哈哈哈….挺好的啊我的天.真的美，可能是太幸运了.幸运能看到天池，刚下山就变天了.购票时，缺乏明显或明确的关于景区7周岁以下儿童免票的政策介绍，也没有根据身份证号码给予提醒的程序，导致我在当天门票仅显示成人票有余票的情况下，为幼儿购买了成人票。后来得知景区购票政策后，与贵司沟通，被告知专员会电联。但是专员仅两次通过贵司热线95010与我联系时，我均未接到来电，又无法回拨，最后又通过短信告知如下信息：【携程】订单号：************ 产品名称：长白山景区-门票+交通我处已与供应商核实:1.非景区售票。2.渠道不同，我们保证能进，但是不做免票。我可以理解贵司不做免票的处理，但是如果贵司能在购票前有更清楚的说明，或者购票后能有更有效的沟通方式，会更好。.看到了天池很幸运，下山就开始下雨了，真的是万幸.很满意，出票快，不用抢票了，顺利进景区，看到了天池，很漂亮，天气很好。西坡和北坡风景各有不同，景区服务人员态度很好，运转快。.运气爆棚，那天山下下雨山上太阳高照，天池太美啦.值得一游 大自然的秘密.旅游很方便，每个景点都有摆渡车.14年到现在，来了三次，改建的东西不少，实际内容还是那些，山顶上的硬件设施还需抓紧更新修缮！.没去的建议必须去一次，今天阴天且大雾，以为看不到了，在山顶突然开盲盒般的雾散了！虽然没有晴天的倒影，但是别有一番风味！像一幅画！下回定要换个季节再来！同时工作人员，二道白河的商家人都非常的棒！体验感很好！.......很不错，景区内坐车很方便.景区车非常方便，等待时间不长，很好.西坡景点不多，天池完全凭运气。.长白山值得一去，不过最好在淡季去，要不然人山人海。.长白山值得一去，不过最好在淡季去，要不然人山人海。.需要体力，做好准备，带着装备。😄.就一句话长白山真的值得来一次票也可以5a级景区值得这个价钱.很棒的旅行.登顶车排队两个小时.登顶车排队两个小时.登顶车排队两个小时.登顶车排队两个小时.怎么没有免票.不能退票！不能改签！景区主峰夏季本来就充满不确定因素，这几天一直有雨，主峰大雾，没有开放，8月4号这天，11点后北景区全天关闭，如果迟一点进去，连票价都收不回来。要是行程出了问题，完全没有保障。想退票，打电话给供应商，供应商推给客服，客服推给专员，专员推给供应商……排队客服跟等信息搞下去一天没了。总之，供应商说了算！投诉找12315跟长白山**服务不管用，各种推脱，不管事，只能找携程上海本部（第一次写差评，再见携程）。建议没买到票的，出行前晚上或者早上刷刷官网，可以买到。官网随时退，不收任何手续费。第三方购票都是霸王条款，各种扯皮，简直浪费时间浪费心情。.很方便，买了可以推迟进场但不能提前进场，省去了排队的时间，景区很大，景区坐车要一个多小时，登上台阶最后看到了天池，很漂亮。.很方便，买了可以推迟进场但不能提前进场，省去了排队的时间，景区很大，景区坐车要一个多小时，登上台阶最后看到了天池，很漂亮。.买票根本没提醒孩子不用购票 没用上还不让退票差评.非常推荐来看天池.门票很方便.约的九点的票，不到八点就到了集散中心，阴天还有些飘雨，八点四十五通知可以排队进了，预检票，然后验票，排队乘车，下车的时候还是阴天，再换乘天池的车，穿越了大雾之后，就见到了蓝天白云，真的很幸运，不到十一点就到了天池景区，排队等候时间也不长，景区人员态度良好，环境卫生很好，景色优美，没有去小天池，下午五点从谷底森林返回，能少一趟换乘就更好了。.风景没得说，非常震憾，不虚此行。但价格确实太贵，一点都不亲民，为了看风景一人要花305元，让多少人望而却步。希望降价再降价，让利于民！.风景没得说，非常震憾，不虚此行。但价格确实太贵，一点都不亲民，为了看风景一人要花305元，让多少人望而却步。希望降价再降价，让利于民！.风景没得说，非常震憾，不虚此行。但价格确实太贵，一点都不亲民，为了看风景一人要花305元，让多少人望而却步。希望降价再降价，让利于民！.很幸运，没有雾，看到了大美天池.我从远方而来，赴你一面之约⛰️\\n遇见就是幸运，不止天池⛰️YYDS8.6.没有想象中的那么挤，去天池的分流排队挺好。\\n长白山天气多变，山下大雾下雨山顶天晴，很幸运看到了天池，非常壮观，不虚此行！.不虚此行！.不虚此行！.不虚此行！.不虚此行！.不虚此行！.长白山北坡是个成熟的景区，所有景点都有指引，无需担心不知道路线怎么玩。只要天池开放，一定要先看天池，不然山上天气多变很可能错过了。我们的路线是先看天池，然后乘车看瀑布、绿渊潭、谷底森林。小天池没看，因为看评价说不好所以就放弃了。谷底森林其实就是个地下森林，需要走约3公里的路程，到头了还是个森林，其实不看也行。下午应该四点左右关闭返程栈道，如果错过了需要原路返回，非常累。\\n整个行程需要花一天的时间，很累！一定要保存体力、及时补充能量。特别强调一下，长白山的司机个个都有素质，不仅笑脸相迎，而且谈笑风生。\\n长白山，不虚此行！.幸运的看到了天池，虽然就2分钟，但真的很美。.幸运的看到了天池，虽然就2分钟，但真的很美。.两次看长白山，两次不同的没，好似成长一样，年少透明清澈，如今犹抱芘琶.225元组合票不包括主峰车票，要单独购买主峰车票80元.我们真的是幸运儿✌️✌️.挺好的，就是看天池还要再买80元的车票.太棒了，物有所值.太棒了，真是物有所值.还未入园，就显示已入园，还没有二维码了.值得一去的好地方！.长白山非常好玩，我们居然非常顺利的看到了天池，携程订票很方便，不用去官方抢，全程也都很通畅顺利，没有出现票务问题，非常难得.玩得超开心.温度舒适，景色宜人.长白山是一座休眠的火山，是一座令人神往的火山，长白山的湖谷池山泉林峰，都是秀丽动人，世界罕见。而且资源丰富，动植物种类繁多，是天然的博物馆。值得去游玩研究探索。.拨开云雾见晴天，运气不错，值了！天池很美，以后还会再来，愿一切得偿所愿！.暑期里长白山的票太抢手了，公众号提前三天的票早就抢光了。从携程找到了为数不多的票，赶紧下单预定，没有一早入园时间的，最早只能订10点到11点入场票。8月2日早早来到北坡集散中心等待检票，天空一直淅淅沥沥下着小雨，广播里也在说主峰上小雨，大雾，大风，天池不可见，视天气变化，随时准备关闭。听着我的心里哇凉哇凉，想着第一次来长白山，怎么也得上去看看拍个照再回去。中午一点终于上到了主峰，雨停了，但大风呼呼的刮着，山上很冷，人也很多。大家都在期待大风将雾气吹散，终于在一点二十分左右守得云开见月明，天池露出了它的面貌。太美了，在周围白云的包裹下天池展现出了最美的一面，众人顿时欢呼雀跃，纷纷举起相机记录这一刻的奇迹。第一次上长白山就看到天池的我始终相信，这一切都是最好的安排！.司机师傅很热心，帮我们一起关注天池上的天气预报。车辆干净整洁，师傅开车很稳。一家人选择包车还是很省心的。特别是有老人孩子，可以免去换乘排队的时间.环境宽敞干净.有没登上天池.在万达骑电单车东西放车筐忘拿，20分钟去拿就丢了.长白山天池景区很喜欢，景色美。.非常好，景色优美.超美的天池和景区，值得。.超美的天池.超美的天池.在这个多雨的季节看到了超美的电池，我们就是那30%的幸运儿。.长白山景区周边商业收费合理，商家服务周到，热情。.西坡景点进出景点有大巴和中巴接送，带着孩子们登上1千多层台阶看到长白山天池，风景很美，很有成就感。.大自然很不错，天池很好，其余景点属于硬凑收门票和车票的，倒车太麻烦，没有直达山下游客中心的车。.一路坐车上山   一点都不累  山上下雨  风还特别大  但是雨水很干净  孩子玩水也很开心  温泉蛋值得尝一尝  玉米也甜.一辈子，总要来一次天池吧！.天气很好，景观很美.天气很好，景观很美.天气好，景色美。.人多，景美，赶上天气也好.人工讲解根本没有讲解。提前一天通知集合地点，检票没有码，讲解员现沟通的，到了里面除了组织一起做天池的车，都是自己玩。强烈要求退人工讲解费。.坐车一个半小时，排队一个小时，到达天池。首先感觉没有吹的那么邪乎，不容易看见全貌，只要天气好没问题，第二北坡确实视角不咋地，看不到全貌！其他几个景点就是个打卡没啥意思。整趟下来，感觉最有意思的是80小面包车票，盘山公路，全程加速冲，比过山车刺激.暑假在公众号很难到抢票，携程提前订票安心放心，长白山玩的很好，看到了天池。.暑假在公众号很难到抢票，携程提前订票安心放心，长白山玩的很好，看到了天池。.景区管理太不人性，太落后了。完全没有服务意识。景区管理拿游客当猴耍。排个队，哪怕人多，你就让排队按顺序有序进入就行了。偏偏设置五个区，每一个区要重新排队，导致每一个区开门游客都是拥挤跑出去的，很危险孩子还被人挤倒了一次。.景色很好，服务态度极差，全程没有好好说话.长白山门票很紧俏的，半夜刷不到票，还好携程订票方便，保证出游。.长白山门票很紧俏的，半夜刷不到票，还好携程订票方便，保证出游。.长白山门票很紧俏的，半夜刷不到票，还好携程订票方便，保证出游。.长白山门票很紧俏的，半夜刷不到票，还好携程订票方便，保证出游。.不错，值得一去.不错，值得一去.比公众号好用，能提前抢票，出票很快的.自驾、大巴、小巴秩序混乱，设计这套路和采纳者满脑子都是💰。.都不错的，服务也很好，景色很美的 环境好，干净，礼貌待客之道.西景区的政策是门票当天中午12点之前不使用可以免费退票，没有任何费用。但通过携程平台买的半价票提前一天就不让退了，全价票收20元退票费。我本来是基于对携程的信任，以为和景区官方统一的政策，闭着眼睛下单买的。实际退票结果真是大大辜负了我对携程的信任。以后景区门票应该不会在携程买了.7月29日，一早小雨。入园乘车到长白山天池，风大，冷。11点左右。雨渐停，A线隐约可见天池。转至B线，风吹云散，天池清晰可见，幸运，不虚此行！.北坡是长白山小程序上抢的票，想着万一大雾啥的看不到，就在携程上订了西坡的票，没想去北坡晴空万里，天池美不胜收，隔天又去西坡爬了1442级台阶，结果大雾外加下雨大风，权当锻炼身体了。.非常不错的景区，附近酒店里吃饭还是很安心的.哇咔咔，夏季来这里没错了，！！.携程票还是靠谱的，尤其是在小程序一票难求的情况下。.长白山值得一去，百闻不如一见。.长白山天池景区值得去.很不错，六月初去的，雪还没化呢，气温正好，和七月份去的感觉不一样，很爽。上次是七月份去的，有点热，就山顶还可以，下面太热.看见了，超清晰.赶上下雨，景区管理混乱，体验感最差的一个景区。.一次很奇妙的体验，第一次经历恶劣天气竟然在山顶⛰️都说看天池凭运气，这运气也未免有点太差了哈哈哈哈哈哈.景区和景色都很不错，只是旺季确实人太多，从进山门到登上主峰用了3个多小时，其它小景点也很不错。另外，票价还是比较高，建议降低点票价.景区和景色都很不错，只是旺季确实人太多，从进山门到登上主峰用了3个多小时，其它小景点也很不错。另外，票价还是比较高，建议降低点票价。.太坏了，层层收费没有服务，停车收费，大门设的八丈远大巴收费，小巴收费，疯了，凭什么？修索道吧，弄这些破车多危险又耗时，只能说设计和采纳这套方案的人太坏了。.方便，不要看抖音啥的，买这个就可以.方便，不要看抖音啥的，买这个就可以.方便，不要看抖音啥的，买这个就可以.方便，不要看抖音啥的，买这个就可以.景区非常好，排队的地方基本上都有椅子，而且时间也不参，吃饭的价格和山下差不多，景区开发的非常好，人员分流做的很好，天池排队太长的时候可以去别的地方先玩.挺好的 挺好的 就是太累了太累了 在携程上买票还能一张票省下来一块钱属实很赚 买票速度够快 景色够美丽💃 都欢迎各地的朋友来我们长白山游玩！.虽然那天下着大雨，但是也没有减少游览的兴趣。车辆在游客中心发车，到达长白山瀑布后，就自己根据需要进行游玩了。非常方便。下次会再来。.早上9点出发，忙活一天，尽在等车、坐车了，上主峰还得买车票80元/人，上去雾大、风大、冷，啥也看不见。感觉徒有虚名，不值得跑几千里路来看。.玩的非常不开心。人特别多。景区管理的也很不到位。明知人很多。还不多加人手管理。派队人挤人。携程上面220那个票价不是全部包含。还有个上坡单独每人80元的车费。合计人均是300多。做的所有车的司机态度都非常不好。很能糊弄人。不会再去长白山。早上八点半检票进去以后。正常去山顶就不到一个小时就可以看见天池。我们排队排到快一点才上去。排队排了五六个小时。上去以后也都撵你赶紧下去。就在天池上面待了不到十分钟。非常不值当.不虚此行，携程买票很方便，未出行退票到账也快。长白山景色真不错，赶上暑期就是上天池要排队比较久，其他都还好。刚上去时是大雾天，但是没有轻易放弃，等了半个小时，竟然云开雾散了，看天池要靠缘分真的一点不假。.景区管理有序，安排合理，景区内消费的价格还好，价位不会高的离谱，海拔2600多米，坐车上去很刺激，很好的体验，幸运的是看到了天池！大喜.一天尽坐车了，从二道白河开始排队乘车，一小时到换乘点，去主峰继续排队，至少一小时，乘车半小时到山顶，全是雾，而且风大，好冷，啥也看不见，几分钟又坐车返回。.长白山景区，位于吉林省安图县二道白河镇池北区东南部，东南与朝鲜毗邻，长白山自古以来就是中国的神圣领土，是中华十大名山之一。长白山在《山海经》称不咸山，北魏称徒太山，唐称太白山，辽金已有长白山之名。主峰长白山多白色浮石与积雪而得名，素有“千年积雪万年松，直上人间第一峰”的美誉。景区是拥有“神山、圣水、奇林、仙果”等盛誉的旅游胜地。夏日的长白山虽然没有皑皑白雪，确是避暑的理想胜地。景色也很美丽，值得关注.很不错的服务.官网只能提前3天订票，非常“智能”，还是携程靠谱，景区风光无限好，只是天池需要看运气了。.长白山景区位于吉林省延边自治州境内，风景秀丽。.长白山的名字有一个变迁的过程。《山海经》中称不咸山。汉代称单单大岭或盖马大山。后魏称从太山，太皇山。唐代称太白山。自金代以来因其主要部分全年覆盖白石和冰雪而命名“长白”。史称长白山。.流水线式！地下森林阉割版。.流水线式！.流水线式。.挺好的，很方便.挺好的，很方便.西景区不错.景区游客很多，天气十分给力，看到了天池真容。我们去的时候是晴天，到主峰穿了自带的轻薄羽绒服。一定做好防晒。.感觉非常好.好不错哈不错.秋天的长白山人少景美，空气能见度高，银河星空都很通透.除了秋天的彩林，冬季的积雪，还有夏季凉凉的溪水.不错，不错，一票到底，山上的景非常的迷人。只可惜主山没开门。.景色优美 祖国的大好河山 一定要去.长白山景区，是一生必须要去游览的景点，特殊的地形地貌景观和原始森林以及温泉♨️都是亮点。可惜天公不作美，我们去的当天天原因，没有上到天池。.值得一去。.值得一去。.景区景色还是很震撼的，尤其是天池，总体还是很推荐来的！\\n但人也是真多，提醒大家在这里买票的套票不包括一段交通，要另外提前买好，否则就还要现场买且排队等很久。\\n另外想要来的一定要早买票，这里的票完全按照你选的场次时间才能进入，不能提早进入的哦～.景区景色还是很震撼的，尤其是天池，但人也是真多，提醒大家在这里买票的套票不包括一段交通，要另外提前买好，否则就还要现场买且排队等很久。\\n总体还是很推荐来的！.景区景色还是很震撼的，尤其是天池，但人也是真多，提醒大家在这里买票的套票不包括一段交通，要另外提前买好，否则就还要现场买且排队等很久。另外想要来的一定要早买票，这里的票完全按照你选的场次时间才能进入，不能提早进入的哦～总体还是很推荐来的！.很好，非常好.携程定景区票很坑。明明天气不好看不到天池的概率100%，不可以退票！相比，景区公众号上买票可退可换，人性化了很多。我很反感携程！.六人一起出游，推荐的景区！拍的图片都是原相机无滤镜，景色还是很震撼的。\\n可惜买票有点晚，进去的也晚了，大家一定要提早买票买到早场次！都是按场次的时间才能进去的。.图片都是原相机无滤镜，景色还是很震撼的！推荐去～\\n可惜买票有点晚，进去的也晚了，大家一定要提早买票买到早场次！都是按场次的时间才能进去的。.图片都是原相机无滤镜，景色还是很震撼的，可惜买票有点晚，进去的也晚了，大家一定要提早买票买到早场次！都是按场次的时间才能进去的。.游山玩水，门票包含了大交通，各位一定要携带好身份证件，因为玩刷了才能进去，大巴车跟凉快，可以把你送到任何地方，但是你需要排队.游山玩水，门票包含了大交通，各位一定要携带好身份证件，因为玩刷了才能进去，大巴车跟凉快，可以把你送到任何地方，但是你需要排队.游山玩水，门票包含了大交通，各位一定要携带好身份证件，因为玩刷了才能进去，大巴车跟凉快，可以把你送到任何地方，但是你需要排队.很幸运观赏到天池.景色很美。.超赞，第一次去就看到天池了，太幸运了.服务很好，导游田少东讲解幽默诙谐，给的都很有用，很幸运，去一次就看到美不胜收的天池！！！！.长白山导游小哥热情负责，给我留下了深刻的印象。对长白山的知识丰富，不仅详细解说了山脉的壮丽景色，还分享了许多有趣的历史和传说。总是热心回答我们的问题，确保我们对每个景点都有全面的了解。他们组织得井井有条，保证我们游览的流程顺畅，不错过任何重要的景点。而且导游小哥对环境保护非常重视，提醒我们保持良好的游客行为，爱护自然资源。导游小哥的热情和责任感让我们旅行更加愉快。.长白山景区，童鞋们去时一定要随时查看天气，主峰天池因为天气原因随时会关闭。我这次就是个教训，订的中午时段登山的门票，到景区北峰入口，提示主峰天池关闭了，只能退票住了一宿，次日登山的。.上山下山倒了好几次车，就是为了多收费！差劲👎最后登主峰的面包车开的更是差劲👎和死亡飞车似的，说坐车让师傅慢点开，还说我们有要求16分钟到……你们领导只认时间不管客人的死活吗？非常差劲👎.长白山景区管理很成熟，服务周到设施齐全，交通方便，秩序井然。环境保护得很好，景色如画。已经是第二次来了，二道白河镇建设得很气派，吃住很方便。.长白山景区管理很成熟，服务周到设施齐全，交通方便，秩序井然。环境保护得很好，景色如画。已经是第二次来了，二道白河镇建设得很气派，吃住很方便。.第二次到北坡了。景色依然美不胜收。现在的天池更加蔚蓝通透，毕竟自然环境保护得更好了。景区管理很到位，秩序井然交通方便，服务设施齐全。.出门忘了看天气预报🌧不过还是看到了雾中的天池，云雾缭绕的长白山也是一种奇特的体验.不虚此行，值得一游.好好好好好好好好.很遗憾没有看到天池.长白山景区很不错，也要看天气。.去的西坡景区，推荐天池和王池，风景不错，其他的不去也罢，没啥亮点。说说缺点吧，西区集散中心离景区太远，需要一个小时车程。人太多了，很多时间都在排队倒车，部分游客素质低下，在景区抽烟和插队。希望景区加强管理，也请游客注意个人素质。.就是等候时间太长，且要中途转车，再排队等候。建议早些时间开园，减少排队等候时间。.开门太晚，等待坐摆渡车时间太长，且在棚子里等，那叫一个人多。到天池需要2个多小时才能到。中途还要再够一次票，转车去天池。很是折腾。对于老人和孩子都很困难。建议，本就为了去看天池，就不要买2次票了，一次购票，减少中转乘车期间。2次乘车都要等候很长时间，且我们还是在暑期之前去的。暑期会人更多。希望景点提高服务水平。让全国各地游客满意。.路上的杨柳依然神彩奕奕的低垂着黄绿色的发丝，好像冬天的降温没带给她们多少伤害。我倒感受到她们内心的寒冷，叶子摸着十分冰冷，也缺少了昔日的水分。冬天的到来，摧残了多少无辜的生命，又演绎了多少生命的童话。.路上的杨柳依然神彩奕奕的低垂着黄绿色的发丝，好像冬天的降温没带给她们多少伤害。我倒感受到她们内心的寒冷，叶子摸着十分冰冷，也缺少了昔日的水分。冬天的到来，摧残了多少无辜的生命，又演绎了多少生命的童话。.【景色】\\n【趣味】\\n【性价比】各方面都挺好的.这个组合套票漏了一个去主峰的车票。既然必须坐车去才能去主峰，为什么不包含在里面呢？结果排队等到了，才知道还需要单独购买一个去主峰的车票，浪费了时间，有点坑爹。.游玩的特别开心，值得一去。.游玩的特别开心，值得一去。.环境优美的自然风光.偷出无效票 后改半价票 偷取差价 毫无歉意 称我应为他们偷换低价票的卑劣行为退票重订 不按要求退订就出半价票赚取差价 当日通讯记录、检票记录、检票人员处均可核实 全价付款单更是随时可查.七月初去不用穿厚衣服，穿了个薄外套也不冷，天池很好看，花80块坐车去天池也很值，车很刺激，窗外的景色也漂亮。.一是卖票方式太差劲，门票加上三段车票钱二是老年人优惠券也就优惠个门票其他车票一分不少，三是价格不便宜，全算上三百多，老年人也得二百块钱.避暑的胜地！加上风景优美的山峦！.西坡比北坡累但景色好很多.各方面都挺不错的.长白山很美，见到天池很幸运，很震撼，长白瀑布也很壮观，谷底森林很美，绿渊潭、小天池、也非常美，净化视觉，净化心灵，乐在其中。.真方便，满意。下次订票还会来这里.这个门票一开始觉得贵，玩好觉得实在是很划算，车要开很久到天池脚下.景区安排，服务非常好.去时有点晚.雨天，啥也没看到，就花钱去坐了几趟车，真不明白为啥集散中心要设置那么远。.雨天，啥也没看到，就花钱去坐了几趟车，真不明白为啥集散中心要设置那么远。一定要晴天去.雨天，啥也没看到，就花钱去坐了几趟车，真不明白为啥集散中心要设置那么远。.雨天，啥也没看到，就花钱去坐了几趟车，真不明白为啥集散中心要设置那么远。.景色很美，干净整洁，山清水秀。.长白山很美，服务没有跟上。候车厅太挤了，容易出事故。回来时，为啥还要在一个站中转？为了给商户卖东西方便吗.很壮观啊！连绵不绝，值得一去。.很壮观啊！连绵起伏，值得一去。.很壮观啊！很原始啊！值得一去。.田少东师傅非常风趣幽默，服务非常认真仔细.总体感觉很好，环境特别漂亮，一生中值得以来但是管理感觉存在问题，第二段儿坐车买票的提醒不清楚，好多人到了检票的地方才发现自己还差一张票。中午时间坐上车也不发车。.好玩，真好玩。.玩的很开心.风景如画，景色宜人。.景色特别好。值得一看。比如上山的交通车费，没有提前说明白。我们自己感觉包括三个交通，应该是包括了这一趟交通费，就是感觉排队有点儿管理上有问题。而且坐车上车不发车。不知什么原因？.虽然很好，但可以直接搜“长白山”公众号买票，那个更方便！客服对门票的有些优惠政策并不是很了解！孩子在公众号是可以直接打折的！2023/07/01后就没有联票优惠政策客服不知道！.虽然很好，但可以直接搜“长白山”公众号买票，那个更方便！客服对门票的有些优惠政策并不是很了解！孩子在公众号是可以直接打折的！2023/07/01后就没有联票优惠政策客服不知道！.虽然很好，但可以直接搜“长白山”公众号买票，那个更方便！客服对门票的有些优惠政策并不是很了解！2023/07/01后就没有联票优惠政策客服不知道！.端午节第二天去的、天气很好、人很多，八点到的、排队一小时坐上车、一个小时车程转车去天池、天气特别好、上去就能看见天池、还是很震撼的、不得不说工作人员超级好、都很有耐心、整个景区人很多、但是不会感觉排队很长时间、很井然有序、这点做的真不错，如果景区的饮料再便宜点就好了、十块钱可乐还是有点贵.非常漂亮，之前的已经评价.非常棒，之前的票已经评价.第二次来长白山了，这次是陪家人来的，正好赶上了大晴天，天池景色比第一次好太多了，大为震撼，和第一次完全是两个感觉，真是美不胜收，叹为观止。再就是景区管理和服务我觉得这些年也有了巨大提升，车辆无缝衔接，几个景点也是可圈可点，没一个都不是鸡肋，都值得去一趟。性价比很高的一个景区，可以算是东三省扛把子了，怎一个美字了得啊.投诉：我们买的长白山北坡景区和魔界漂流套票，一人255元，结果长白山旅游结束后，出租车把我们拉到魔界漂流处（挂着大牌子也是魔界漂流），两个女售票员说没有我们俩人的名字，也不认携程上的截图凭证，不让我们进，说二道白河镇有三个魔界漂流，最后没有漂成，我们来回白花了60元打车费，套票也白套了。形象大打折扣。长白山景色不错。.天池很美，服务很好.最差的一次旅行，没有之一，.不咋样票很坑.非常震撼的景区，此生必去榜.方便快捷，凭身份证入内，一切通行.雨季来有可能看不到天池，但是长白山无论何时，景色真的是很美，有山有水有绿荫，森林环境空气新鲜，绿树成荫，瀑布美景映入眼帘.景区进门处验票小姑娘热心帮忙，我年岁大了不会网上购票，她耐心帮我们完成网上购票。非常感谢！.值得去，但排队等候时间太长.18年来玩的时候制度很好，效率极高，排队时间短，风景也好。23年再来的时候，制度不合理，还没到长白山，在门口搞所谓的分批制度，等待时间极长，等待人数巨大，前后等待两个小时，还没到长白山已经站的腿麻了。.长白山景区风景优美，可玩性好，非适合途步健身空气清新，景区内还需增加凉亭、椅子供游人休息，另早上进山验票排队时间在2小时左右太长了，流程及交通还需优化。.垃圾景区，不要来.垃圾景区，废物，工作人员智商也极差，不推荐来.路途遥远，坐观光车来回需要2个小时，这还没完，接着就是上主峰，排队等候发现225元只是买了一个入场券，顶峰80元还需要购买，毕竟路途险峻，上去比较难，也算值吧。运气还是不错，天池终于可以看到，气温也可以接受，不是很冷，下山坐观光车等待时间太久，浪费很多时间，这个服务一点不好！总体来说300元这个价格不值！其他景点只能呵呵！.天池景色还不错，北坡看完下面还有几个小景点比较鸡肋。景点距离比较远，一直在坐车。西区看天池角度好，但是要爬很久的山。.夏季来长白山玩，那真的是避暑好地方啊.长白山体验感极差，进景区三个小时一直在排队等换乘车，非周末和节假日，坐完大巴坐小巴，在携程上订的不含天池主峰车票，现场还需要重新购票.长白山原始森林，百年多的参天松柏，高耸入云。运气好的话，还能找到天然野山参呢。.到了游客服务中心，刷身份证就能进站上车，车辆一直开上长白山瀑布景区。景区内车辆衔接非常好👍长白山的景色也非常特别。值得一游。.长白山度假区景色优美宜人远眺更加开阔风景如画.好玩好看，环境绝好！.很好看！很好玩！.携程平台还是很给力的，比官网有优惠。景区环境还是挺好的，各景点交通车换乘也方便。就是人太多了，从游客中心开始，到进闸坐大交通的大巴要挤几次，一批批放人，排队秩序不太好。不喜欢排队的话要很早，赶景区一开就进去。还有主峰受天气影响大，一定要看天池的，要关注景区天气和开放情况，尽量多留本地旅游时间，等天气好再进去游览。.转车转车转车，下个山转了四五趟车。.很好很好很好.别从携程买票，差点没进去.森林覆盖率高，空气清新，山色变幻，山上的松鼠很可爱.值得去的景点.一个月前看到了天池，很幸运，酒店租的衣服30元，哈哈哈.【景色】不错\\n【趣味】不错\\n【性价比】不错.在长白山北坡和西坡之间有一座大桥，大桥的名字叫做“前川大桥”，这座大桥非常的漂亮和壮观，桥的全长是448米，桥的下面有很多红房顶的民居，很多摄影人喜欢到这里拍照，很出片的。\\n【景色】美。\\n【趣味】高。\\n【性价比】高。.长白山适合冬天滑雪夏天避暑，现在设施都很完善了.不是特别好的体验 买的8-9:00的入园票 四点出发 开车奔着天池去的 到站7:50左右散客中心排队  开园8:20左右 延迟20分钟也不说什么 到了也没说不开放 进去了 坐大巴40-70分钟左右下车后 准备倒车去天池 告知不开放 等车回散客中心 又耽误了10-20分钟 更过分的 三人付了六百多就做了个车  自己车停还收取了25元停车费 （天池不开放就不开放 临走的时候还说 暂时不开放 不能为人流 浪费他人时间吧） 总体感觉挺差的.美丽的风景，别致的建筑，值得打卡！.第二次进入长白山北区，天气十分晴朗，登上主峰后白雪皑皑，看到冰峰的天池，我们太幸运了。国际森林看到参天大树，景色壮丽，吃的温泉煮鸡蛋味道很好。.非常好玩！！！！！！！！！！！！！！！！！！！！！！！！！！！！！！！！！！！！！！！！！！！！！！！！？！！！！！！！.风景很好很美.买票太麻烦.乘公车曲折上山，穿上冬季外套，山上很冷，祈求好运看到天池吧！运气好的能看到天池，祈福，下山，游玩景区。.服务很好，导游热情，物超所值。.最顶级的火山景区，你想看的全都是，规模又大.天池像一面蓝色的镜子，宝石💎蓝！.五一去的，排队等待进山就将近四个小时，没进去山那，就已经累死了，啥也不想干了，慢因为啥就因为车少，五一人多你都买出去票了，不知道多提前安排点车吗.景色挺好，就是贵死了，贵死了.美景无需多言.根本就是骗子，没看到天池，就在峡谷逛了半小时，做接驳车来回三个小时。。体验太差。。你不开天池就应该给退费.去到长白山，有谁跟我一样，是因为盗墓笔记里的小哥😁.服务不错的.导游很好很有耐心.真的很不错，到有很逗.风景怎么样不知道，本人原计划4.29计划去长白山，由于天气预报问题显示当天暴雪(实际上没有)，车票等等退票克扣近100，门票也没有第一时间退回然后4.30到长白山，什么东西都准备好了，于是上山前十分钟得到通知强风无法上山，然后网上售票处购买门票，但由于系统故障无法购票，于是又等到5.1，早早去买票，由于人数众多且存在黄牛，仍然买不到票，无奈原路返回。其中带上克扣的手续费，共花费600-700，也没能登山，并且浪费了半个假期时间，真心要去长白山的建议，除非你能忍受当地山上昂贵的伙食和傻逼的售票系统，并且能降低期望，登山还不一定有天池开放，并且地处边境，来回车费和用时都相当不菲和长久，来东北其他地方都比这强，旅游达人非要打卡那当我没说。\\n东北有众多旅游景点，抛开风景不谈(我也没上山看过)，长白山是条件最差的一-组，北坡那边，客栈是处于山下往上21公里，没错,要走盘山公路，除非能直接买票.上大巴去山上，大巴车票和门票一 起报销，买不到票可以去客栈，那里度假村吃的仅仅几家且价格昂贵，天然温泉300左右(没泡过，仅实话说价格)，还有漂流(付费项目)，如果对地点不嫌弃，南方一些景点的漂流性价比更高，总结是，山好不好不知道，但应该是好，只是被当地的旅游机构搞臭了，去到当地你要守规矩，规矩是人定的，你受不了可以别来,他一天就放这么多票，抢不过其他游客和黄牛就怪你自己不行，很少写长评，个人意见仅作参考，不回复任何反驳，你反驳就是你对。.什么都没看到.妥妥的好评.非常满意，景色太美啦.下雪上不去.4月去的看到了北坡天池，很震撼。冬季看天池只有B线开放，感觉A线的景观会更好些。景区内有游览车，景点之间很方便也不需要等很久。基本不用走路对不爱爬山的人很友好。.冬天去非常的漂亮，适合带小孩度假.看到天池了.成熟的景区，管理规范。就是见天池真容得看老天爷脸色.非常幸运第一次来就看到了天池  整个路程非常愉快 门票都是透明的 车接车送非常方便  大自然的力量让我特别震惊  真的是非常非常好.长白山景区很赞，就是租大衣，鞋子护膝这边不要坑旅客了\\n天气不怎么冷，忽悠游客组大衣，\\n除了这些景区服务，设施，景区内食品价格很人性化.一共4个小景点，门票太贵，严重不值，接驳车费用太高，还搞三次接驳，收三次接驳车的费用！把原来的登山门向外扩了30公里，安排高收费的接驳车！.很不错出票快.。。。。。。.虽然雪地摩托车和上主峰的车都需要另外付钱 还是觉得很值得一看 没后悔到这里来 唯独“主峰暂时开放 视天气情况随时关闭”这样的标语太生硬 不好.看到天池了！好开森！绝对属于此生必打卡景点之一 景区运作也是比较成熟的.很开心的行程.去的那天天气非常好。在长白山顶看到天池了。风很大，气温很低，但是玩的很开心。下山以后就去了大峡谷，非常休闲的路线，值得推荐给大家。.挺好玩的 人很多.11111.超级漂亮，天池一览无余.非常值得一去，夏天的避暑胜地，风景很美，山上比较冷，带好雨衣.不适合冬天，经常出现由于天气原因的景区关闭情况。1.31日去的，就由于大雪关闭了天池景区，只能走了下1.4公里长度的大峡谷景区，但是从西景区游客集散中心单程坐车70分钟！从时间和费用上看性价比都不高。.挺好的。。。。.出行准时，顺利上天池，点赞彭师傅.体验非常差，组合票比分别单独购买贵130，跟携程反馈后说没办法监管商家，只能自认倒霉，就非常离谱离谱离谱！！！！😡😡😡而且之前也有旅客反馈过这个问题，一直未做出解决办法.天池没有开，来回坐摩托上去的，七十块钱往返，价格不贵，挺合理的，没有传说中那么冷，零下十几度，等天池开了再来一趟，真棒👏🏻.运气超好 来的第一天就看到了天池 美不胜收.还行，天气原因没上天池，但是其他能玩的都玩了，长白山还是不错的，服务环境住宿，不亏是国际旅游度假区，过了出景区的时间打了电话景区也把我拉出去了，还挺不错的.景点没得说，非常美～.神仙地方，很值得去玩的，天堂一般.自驾游来的天沐温泉♨️白天去了北坡回来办理入住泡了个温泉，很不错，服务很周到，距离酒店五公里有个铁锅炖，味道也不错，免费车接车送，很满意的一次体验.值得一去，风景美丽环境优雅，性价比高.长白山景区的交通衔接得不错，自驾车先到集散中心，在硕大的停车场停车后，买票进入大门，坐大巴 30分钟山路去换乘中心，下车后换面包车去主峰，一路都是S弯，需要各种抓紧才不至于被甩来甩去。.看完西坡的天池，再来到北坡看天池的车票需要重新购买。山下的景区车都是包含在西坡购买的门票+车票里的。西坡人少，需要爬台阶，看到的天池全景视野开阔。北坡人多，商业化程度较高。参考部分网友的经验结合个人的经历，夏季选择接近中午的时候上山看到天池的几率比较大。车票稍贵。图片分别是北坡长白瀑布，西坡天池全景。.非常棒很不错.差评、因下雪主峰天池关闭商家给不退钱、给商家差评！.整个天池都是你的，独享美景，没有人挤人的感觉，值得参与的行程.长白山 北坡 池北 西坡 池西 连接的巴士信息。去以前电话咨询是否发车.烦死了退役军人没有福利得大家注意.长白山秋色是迷人的.这票真心买的不咋的.这票不如官网买.长白山天池又称白头山天池，坐落在吉林省东南部长白山自然保护区内，是中国和朝鲜的界湖，双方各拥有一部分水域。天池在长白山巅的中心点，群峰环抱，离地高约20余里，故名为天池。都说情侣来了能白头到老，今年很幸运 睛空万里。.知名旅游胜地，自然总体是不错的，如果基础建设，尤其是人性化设计上更进一步就好了.长白山景区主要看点有主峰看天池，长白山瀑布，绿渊潭，和地下森林。从进山，上天池，景点到景点之间，全程都要坐景区车，车票一共要二百元左右，不便宜。9月末，山上有点冷了，要穿厚一点，租大衣也可以，50元。这个季节瀑布水流量不大。瀑布下面有许多温泉泉眼，所以瀑布流下来呈现出一种冒烟的效果，很奇特。绿渊潭是一处很漂亮的小瀑布，池水碧绿。地下森林就是在深林里的栈道，跟地下没什么关系，可以随便走一走，景色一般。景区有六七个小时就能玩完了。景区里有卖吃的喝的，价格还好，有特色温泉蛋温泉苞米。.不凑巧的是下大雨，天池关闭，就为了天池去的，不过景色还可以，也不算浪费这趟旅行了.【景色】赞\\n【趣味】强\\n【性价比】高.长白山天池值得一去的旅游圣地！.不打折，买完10分钟后才可以刷身份证，不如公众号买方便.景色宜人、空气清新、气势磅礴、等车过久、无法爬山.长白山景区位于吉林省安图县二道白河镇，与朝鲜接壤。长白山自古就是我国的神圣领土，也是我国著名的山。景区最有名的景点是天池，是我国最高最大的湖泊，长白山瀑布群很壮观，黑风口云雾飞腾犹如仙境，聚龙泉是温泉，堪称长白山第一泉。.景色宜人，很好的感觉，很不错！.长白山景区分为西、北、南三个坡，以北景区开发最早，设施最为完善，交通最为便利。北景区集森林🌲、火山🌋、瀑布、温泉、雪山🗻、潭水于一体，能在同一天体验到一年四季的感觉。景区大巴车循环🔁，最大限度的节省了游客的体力。.长白山自古以来就是中国的神圣领土，是中华十大名山之一。长白山在《山海经》称不咸山，北魏称徒太山，唐称太白山，辽金已有长白山之名。\\n主峰长白山多白色浮石与积雪而得名，素有“千年积雪万年松，直上人间第一峰”的美誉。景区是拥有“神山、圣水、奇林、仙果”等盛誉的旅游胜地，也是满族的发祥地，在清代有“圣地”之誉，皇帝须亲自或委派大臣到吉林乌拉（今吉林市）望祭长白山。.【景色】登高望远美景显\\n【趣味】勇攀高峰身心健.放心来就对了，体验感一级棒，总之非常推荐各位来打卡.长白山天池值得一看再看 多次来长白山 夏季冬季皆可！长白山天池的景色绝对值得一观！ 但建议大家可以单独买这个门票，不需要讲解！.长白山南坡太美了，绿树蓝天，山间云穿行。南坡游客较少，不用排队，坐观光车上山，步行五分钟到达天池观景区。观光车司机师傅态度热情，途中还给大家讲解。\\n   景色真的很美，但也有不和谐的景象。一家人带着孩子在天池观景区，小男孩多次翻越围栏，摘花拍照，景区工作人员多次提醒，劝阻无果，一家人我行我素。在这么美的火山地貌保护区，随意踩踏摘花，小孩不懂事难道家长也没教养？山顶比较冷，工作人员长时间值守，扯着嗓子提醒他们，依旧多次翻越护栏，实属不该。.景区很漂亮，很幸运看到了天池，原始森林，还吃到了好吃的温泉蛋，但是人超级多，进山门以及游览过程每个景点都需要倒车，倒车就需要排长长的队，一天有一半的时间在等车。.夏季避暑圣地啊，真的是值得一去！.长白山的经历还是让我感到难受。\\n中国人多，假期景区人更多。\\n景区导游要挣钱养家都能理解。\\n但是打着VIP的大旗拉着一车猪牛羊肉，到一站割一刀，出钱还得卖力“抢”破棉袄。为了自己不麻烦把麻烦都丢给客人真的太过分了。\\n花了很多钱，一个成年人598，67岁老人493，62岁的545，5岁的孩子还要200¥。然后租个破棉服要每件50。被她一顿劝说。一车40个人，去租棉服还得靠抢的。租完棉服，到下一站又说得买鞋套。雨里排着队跟她去买鞋套，\\n每人又是20¥。买完鞋套说租棉服的押金都得交给她保管。可是最后还棉服的时候又是我们一个个乖乖陪她去排队。\\n进景区也是，明明检票的是上车查优惠票旅客证件的，她非要先把大家身份证先收到她手里。一路的态度都在显示自己导游的权威。说话态度就好像我们欠她的都来端着钱给她添麻烦的。\\n该干的活不干，客人逃票她也只是嘴上说说。东北人的口碑不是好客的吗？幸亏我认识的东北人不止她一个。\\n刚进景区就开始抱怨帮忙卖票的酒店都不了解情况为了赚钱瞎宣传VIP服务路线，优惠政策也不懂。但是没有享受优惠政策的已经买票上了“贼团”的也不给退差价了。贬低别人抬高自己有意思吗？就为了别人下次来找你买票？\\n地下森林根本没带我们去。（我以为是经典路线，就问了一句，是不是今天就不去地下森林了，她居然又开始说酒店瞎宣传说我们那个酒店的经理事儿最多，酒店只是说🈶️大巴车直接到酒店接送，进山走VIP通道，没有像她说的乱承诺）像她这么不专业的导演没见过\\n\\n最后说赠送我们一个“飞跃长白山”。\\n但是这个只有五分钟，后面还有一个飞跃神州，但是每人要交60¥\\n一共20多分钟，影院的人告诉说飞跃神州是8分钟。\\n开了一个小时的车到影院。一路给自己插播广告，说他们两口子都是景区的，这的景区他们都能拿到优惠价格，加她微信，以后买票能省很多钱…）进了影院大楼又等了半个多小时才进场。看完出来，一肚子🔥再也不想上车了，决定自己回酒店）\\n经过纪念品店，正好碰到大王导游在那边带她的逃票孩子玩。跟她交代我们走了，再（也不）见！\\n这个号称景区官方的VIP服务，体验真的很差！抢装备额外花费了一个多小时。十点半到主峰游客服务中心，告诉我们11点回去集合，来回等于给我们留了20分钟还不到的时间，AB栈道只能选一个。这一天人挤的头昏，做了一天的大巴车，池看到一角，山看到一块。关键导游的脸色真的吃不消。.森林茂密，空气清新，环境优美，适合夏天避暑.山好水好空气好。。。。。。。。.我宣布从此我就是你们的自来水，非常满意，希望以后能一直保持高品质💛.早上八点半从酒店出发，到旅游集散中心大概九点左右，此时已经排了不少人，我和我朋友排队排了一个小时才坐上景区的大巴车，这点是真的煎熬，希望景区在等待区加一些空调，这样业不至于十分煎熬，从而降低游玩体验.官方套票里面写了包含到主峰天池的车票\\n进山后必须再强制排队买80的纸质票\\n否则无法上山\\n强行设关卡 不透明\\n可能手动爬西坡会好一点.主峰长白山多白色多白色浮石而积雪而得名.千万别在这里买，去长白山官网买，同样的东西这里买多花了60元。.千万别在这里买，去长白山官网买，同样的东西这里买多花了60元。.千万别在这里买，去长白山官网买，同样的东西这里买多花了60元。.千万别在这里买，去长白山官网买，同样的东西这里买多花了60元。.千万别在这里买，去长白山官网买，同样的东西这里买多花了60元。.方便，值得推荐！.深林遇梅鹿，直上长白山，鹿🦌，禄💰，见者同喜！ 非常非常的漂亮和美丽。说实实在在的话，春天绿色植物，覆盖了整个山谷之中，一片片绿色的树木，草地，也非常喜欢！.景色宜人，很不错的选择，很喜欢这个地方\\n！.景区卖的票有问题，全是坑，说70岁的老人免票然后还是要一人收178，上山上之后又要80。导游和景区还有平台相互踢皮球，问他们具体的某一部分多少钱都支支吾吾，不知道是联合起来宰客还是怎样。大家来的时候一定要擦亮眼睛不要让骗了.环境好服务好，是真正的国家5A级景区。不知道里面有泡温泉的，要不住在里面体验感会更好一些。门票如果第二天能够再次使用就可以更完美一些。.景色美，很不错的选择，很喜欢这个地方！.哈哈，长白山夏季避暑圣地啊，真的很凉快.中国。吉林省  长白山天池风景区！非常非常的漂亮和美丽。说实实在在的话，绿色植物，覆盖了整个山谷之中，一片片绿色的树木，草地，非常喜欢！.长白山，是鸭绿江，图们江，松花江的发源地！.美丽的长白山雄浑大气，植被茂密层次分明，山顶的天池更是仙境一般的存在。.风景真好很美。。。。。。。。。.美丽的地方，值得大家一去的哦！.这里风景非常优美，气候宜人，推荐来游玩。.风景优美，空气好清新，有时间可以看看.\\u3000今天到长白山度假区，这里的酒店真是舒服啊，一觉睡到第二天早上。打开窗帘，映入眼帘的就是雪的世界：屋顶还是一如既往的白雪皑皑，空中飞舞着零零星星的雪花，雪花落在窗台上，如同秋天落叶飘落一般无声无息。地面像铺上一层厚厚的白棉被，街道也都被光滑的白雪打磨得干干净净。汽车也像屋顶一样铺上一层天衣无缝的白雪，使周围更添加了一些风趣。远处无边无际的山脉和近处美仑美奂的酒店群都是银装素裹。这梦幻般的童话世界简直就是来自眼睛的“天籁”!这一顿美景大餐，真是绝伦无比啊!\\n\\n\\u3000\\u3000一路上静悄悄的，似乎只有我们的车子在雪中移动似的。路边的积雪堆得山一样的高，有些顽强的植物却还从厚厚的雪下钻了出来。路旁全部都是密密麻麻的松树和白桦树，树枝上挂满了积雪，好像披上一层银白的面纱。天色和地上的白雪汇成一体，分不清是在现实世界还是在梦里。乱舞的雪花拍打着车窗，连窗户都结冰了。慢慢地，天色稍微明朗了一些，前方的树林变得更茂盛了，也越来越高了。这沿途的风光真是令人心旷神怡啊!.年平均气温一点三度，从十月到次年六月都有积雪。.森林谷、大漂流，夏季避暑好去处！.风景优美如画，空气好清新，有时间可以看看.主峰长白山多白色浮石与积雪而得名，素有“千年积雪万年松，直上人间第一峰”的美誉。景区是拥有“神山、圣水、奇林、仙果”等盛誉的旅游胜地，也是满族的发祥地，在清代有“圣地”之誉，皇帝须亲自或委派大臣到吉林乌拉（今吉林市）望祭长白山。.在那里藏着许多神山、圣水、奇林、仙果，有着“千年积雪万年松，直上人间第一峰”之称白雪，与森林、冰雪与温泉组成了一幅又一幅神奇却绝美的景色。.长白山景区是国家AAAAA级旅游景区，主峰长白山多白色浮石与积雪而得名，素有“千年积雪万年松，直上人间第一峰”的美誉，太美了。.非常漂亮，空气好清新，有时间可以看看.此生必去的山。磅礴大气，景色雄浑壮美。天池、瀑布、峡谷、温泉样样精彩！.美丽的风景，天空蔚蓝，空气清新.景色真美，空气好清新，有时间可以看看.前段时间去了长白山，除了长白山运动滑雪、漂流，其实还可以泡温泉、赏雪景。\\n高饱和度的穿搭是我在雪季一直会运用到的穿搭方式。\\n-\\n我入住的长白山万达喜来登度假酒店。\\n酒店就在万达国际度假区，距离汉拿温泉山、水上乐园、哇酷冰雪乐园和度假小镇等地距离都在十分钟左右路程。\\n当然可以选择乘坐酒店接驳巴士（基本十几分钟一班）\\n-\\n🌟关于餐饮：\\n除了正常的自助餐厅以外\\n酒店的中餐厅——采悦轩，给我非常深刻的印象。\\n大厨用当地新鲜食材融合的粤菜的手法，让我体验了一把北方舌尖体验\\n还有拔丝人参这样奇妙的菜品在这里诞生。\\n.\\n最后说到房间，我的房间是正对滑雪场的，随时可以看到雪友们热雪澎湃的滑行时刻。\\n标准的“景观位”！\\n过年不如去长白山滑雪去吧\\n-.长白山很美，尤其是夏天更值得一去.景色很美，山上天气多变，雨天看到天池很不容易.😅85块钱的大巴，声音和拖拉机一样.此行必去的：进入长白山，1.从二道白河镇驾车到长白山北景区游客中心，购买门票105元，乘坐景区交通85元，到达北坡山门口。景区交通换乘中心（80元）倒小车大概20分中到达天池。A线最高点天文峰（有登上天文峰，事业皆成功）；B线是有天池碑两个字（这次没开）。没有想象中的冷[呲牙] \\n正对面是南坡，👈左边就是朝鲜，南斜对面就是西坡，今天也是全天关闭。需要爬阶梯1443级才能到天池。\\n2、从天池到森林瀑布：位于长白山天池北侧，天豁峰和龙门峰中间，河又叫通天河，离天池约1250米。.畏惧的感觉就是雪太大了，有点滑.长白山脉主峰位于吉林省白山市长白朝鲜族自治县，是鸭绿江、松花江和图们江的发源地。是中国满族的发祥地和满族文化圣山。长白山脉的“长白”二字还有一个美好的寓意，即为长相守，到白头，代表着人们对忠贞与美满爱情的向往与歌颂。.此生中一定要去的地方。巍峨的白头峰和惊艳的天池，美的让人震撼。.这里有着很大的旅游空间，北方冬天就是特别冷！.长白山是一座休眠火山,是巨型复式火山。一月份属于长白山景区的淡季,景区外很多很不错的民宿也就一两百一晚上,比旺季时便宜了不少。即使看不到天池,路上的风景也很震撼,一路上可以看到冰雪木屋、雾凇等,拍照也太美了,不虚此行。.当前的长白山，是一片白茫茫的世界，到处都是厚厚的雪花，走过去比较艰难，一百米的路段，得好几分钟，雪地上留下一条深深的脚印。.没有雾爬山上去还是很舒服的，注意保暖.长白山天池时很美的，开车去要注意山路十八弯.就这个车的路线，就好像有那个大病.长白山西坡、北坡下已是白雪皑皑皑皑白雪景象，放眼望去天地之间已无分割。\\n   美丽的童话世界，我老是在想：\\n【景色】：那半米厚的雪域跳下去是什么感觉？\\n【性价比】特高。\\n\\n【趣味】特美。.感觉很不错，一定还要再带家人去！.值得拥有！.景色宜人，适合所有人来看看，非常有幸，第一次来就看到了天池。还是冰封天池，漂亮！不过确实很冷，没穿厚衣服的，建议租个大衣！.长白山景区分三个坡可以参观，分为北坡（二道白河），西坡（松江河），南坡（长白县境内），景区季节不同景色不同，最原始的是南坡。\\n\\n【景色】美。\\n【趣味】高。\\n【性价比】高。.长白山景区的景点很多，最为推荐的是天池、长白瀑布、绿渊潭和小天池。大小天池当然都是必看项目，长白瀑布也非常有看点，地热温泉景观令人震撼，颇有几分日本大涌谷的味道和神韵。众所周知，长白山地区的水质极好，是很多矿泉水厂的水源地。到长白山旅游，建议一定要体验一下当地的温泉酒店，很有特色。出浴后，再来一顿东北特色铁锅炖，人生中最惬意的享受、旅游中最美好的体验亦不过如此。.每一次来到长春，都一定会安排2-3天到长白山游玩。长春市的人文历史，加上长白山的自然风光，可以构成一个美好的假期和一次完美的旅游体验。长白山景区距离长春市不是很远，从长春市区出发，乘坐长途巴士不到半天的时间，即可抵达风景迷人的世界级旅游景区。如果你想报名旅游团，从长春出发，去往长白山，那么，无论你是乘坐飞机还是火车抵达长春后，都建议住在高铁长春站附近。因为旅行团大多从此地发团，可以大幅节省早上跟团路上交通的时间。.不错，第一次来就看到了天池。景区整体环境优美，适合游览。.长白山风景区美丽如画，尤其是冬天的时候，太美了.太幸运了,第一天北坡就看到了美丽的天池,平静的水面,像一面镜子。第二天去了西坡赶上了小雨,回来小雨变成了冰雹,被冰雹砸脸的感觉啊啊啊酸爽!但是等了会儿也是看到了天池,雾蒙蒙的也是美丽!西坡下来台阶有个休息区,避寒好去处,有免费热水供应,冲了咖啡不要太美丽!锦江大峡谷也是很漂亮,最后出来的时候有个礼品店,有一个可爱的送柴熊的摆件,没有带回家,很是后悔!两个坡的门票和车费一人379这样!下次来一定去南坡。.可以在长白山的山林雪地间驰骋。这里地处世界滑雪黄金纬度42°—46°，每年11月初到4月中的滑雪季积雪深度达1米以上，雪质松散，是理想中的滑雪胜地。.风景非常好，山很高，有点冷，好好玩.这里就是著名的旅游胜地，长白山！.长白山景区，位于吉林省安图县二道白河镇池北区东南部，东南与朝鲜毗邻，坐落于长白山北坡，距长白山34公里，距双目峰中朝边境65公里，区域面积52.42平方公里，现为国家AAAAA级旅游景区。\\n长白山自古以来就是中国的神圣领土，是中华十大名山之一。.运气很好，看到很美的天池。携程买票比现场贵十几块钱，但是有赠送了一个景点。这景区很奇葩的是上天池还要现场再买一次车票，携程也没有标注清楚.风景很美，天然温泉，森林覆盖率高，空气很好，不足就是服务不到位.长白山主峰海拔2691米，有北、西、南三线可以攀登。天池，我国最大的火山口湖，也是世界海拔最高的火山湖，为东北三大江——松花江、鸭绿江、图们江的发源地。据说天池一年仅有三分之一时候才得见，于是决定从西坡、北坡分两次探顶，增加邂逅天池的几率。.风景非常好，非常好玩，好好好好好.想换个时间，退票慢，想要订的看好时间，差点耽误事，虽然解决了，但是还是挺不开心的，写的随时退，但是并不能随时退，大家一定要想好！.一般人都会选择冬天到这里，可以滑雪 什么的，其实夏天也不错，避暑！.长白山山顶长白，松江河流入松江，春夏秋冬四季风景如画，西南北三坡视野不同。.好不好看，看你的运气！但是值得去一次！.长白山是关外第一山，东北第一山，它是一座休眠的活火山，在历史上有记载的喷发过三回，1597年、1668年和1702年，距离最近的已经有300年了。最高峰2691米，五岳最高的华山也才2100多米。\\n\\n天池水深373米，平均水深204米，年平均气温3—5摄氏度，南北长4.47公里，东西宽3.37公里，周长13公里，水域面积9.82平方公里。天池是火山喷发后形成的巨大“漏斗状”火山口蓄水成池。\\n\\n单就看天池来说：\\n北坡60分，西坡80分，南坡90分\\n除天池外其他风景：\\n北坡还有些风景，西坡和南坡基本上没啥可看的\\n建议：年轻人自由行选西坡，自驾或包车选南坡\\n\\n门票：西坡与北坡共享门票，5日内有效，但景交、大巴需要另买。\\n北坡门票105，班线车20，大巴85，倒站车80\\n西坡门票105，班线车24，大巴85，爬1442台阶。\\n南坡票105，大巴85，走路5分钟。\\n\\n交通：\\n北坡：火车到吉林敦化，敦化到二道白河镇有客车，住宿也在这，镇上去游客中心有都是车，客栈也可以帮你拼车。\\n西坡：火车到吉林敦化，敦化到松江河镇有客车，住宿在此镇，去游客中心的车也很多，也可以拼车。\\n南坡：目前只能自驾或包车，没有官方游客中心的车，因为人少.天池值得一看.挻好！！！.风景非常好看，天池很美，山很高.还不错，挺好。.物有所值，提前提前关注天气.长白山天池很不错！.去了延边怎能不去长白山呢！天池就是一个震撼，天池的水那么蓝那么好看！又加了很多雄伟的感觉，还有瀑布，我们是秋天去的，枫叶也好好看，实际看起来更美丽！让人不禁赞叹哦.挺不错的 景区主要是自然风光游览 推荐天池.天池美不胜收、有机会再去玩一圈.长白山景色宜人，十一期间金黄的树叶美不胜收不来后悔哦.风景优美，景色宜人。以后有机会还会再来.整体还是不错的.整体还是不错的.哈哈哈哈哈哈.服务和景点都非常棒.很值得去 而且购票很方便 很多不懂的也有 耐心.秋景很美，有幸看到了天池，绿源潭不错。.秋景很美，值得一去。.秋景很美，绿源潭不错。.长白山北坡景色很美，尤其是天池，湖水幽蓝，非常的漂亮。谷底森林，空气清新，是天然的氧吧，绿渊潭也很美。景区的巴士车乘坐也很方便。.景色挺好，服务完善.上山路上的景色。下了天池，有大瀑布，绿渊潭，地下森林等小景点。体验一把真是刺激。不过山顶风很大.第一次去就看到天池了，真的太漂亮了.服务态度很好，景色很美.景区特别号，服务人员工作热情.这里已经通高铁了，去长白山更方便了.一天的行程，虽然有点赶，但是长白山的美景让我们忘记了一天的疲惫。现在长白山天池顶峰，俯瞰山下连绵不绝的林海；站在瀑布旁，眺望雄伟壮观的瀑布；坐在温泉旁，吃着温泉煮熟的鸡蛋；这一天的行程唯一的遗憾就是没有在山里住一晚，泡上一个美美的温泉浴，下次一定补上！.一天的行程，虽然有点赶，但是景点的美让我们忘记了疲惫，雄伟的山峰，笔直的美人松，清澈的泉水，可以煮鸡蛋的温泉，都是美好的回忆，如果时间允许，我更希望在山里住一宿！.景好，服务也很好.九三放假，人不多，玩的很好，感受长白山脉.很棒的一次体验，因为疫情不能出远门，带孩子第一次上长白山，就看见天池了！孩子兴奋没玩够.非常值得去，客服也很好，景区非常规范.美丽的天池，壮美的瀑布，震撼的大峡谷。风光无限！.航拍长白山和天池，这是分几个时间段和季节拍的，所以天池的水是不一样的，今天是我的家乡延边朝鲜族自治州成立六十九周年，谨以此片献给美丽的家乡。\\n【景色】美丽。\\n【趣味】高。\\n【性价比】特高。.值得一去\\n【景色】\\n我还看到了各种蘑菇🍄和可爱的小松鼠🐿️.非常可惜没能看到天池，还是要靠运气.***.天池值得一看.不去会后悔，去了也会后悔。刚刚vv不帮不帮那你就啵啵啵啵啵啵啵啵啵啵v啵啵啵啵啵啵啵啵不不不不不不哈哈v不不不不不不不不会不不不不不好好计划.方便，快捷.出游前一天才想到订票 之前看小红书上都是排队很久 正好看到这款包含vip通道的果断订起  客服人员态度超赞 很贴心告知集合地点给到定位以及路程交通情况等 很幸运也看到天池 整体来说性价比超高 亲子出游后面大戏台没有体力去了😂.长白山天池在蓝天白云下非常漂亮.天池很美，很开心的旅程.园区里面的工作人员服务还算比较热情，游览路线设计得也很合理，.长白山很好，携程不行。.非常值得一去。太美了.看到的天池一览无余不错，只是几个人挺贵的门票付出了双倍！提醒大家千万千万不要在携程买景区门票！！我们是在人海中的景区门口用携程买了次日的门票（太相信携程了，他们卖不出当日门票），通常拿到纸质门票日期忽略都能进，可是携程买的门票，检票口没有购票信息！景区人员说没收到钱！携程钻了疫情的空子！真是“坑爹坑人”！打电话无用，过后未使用门票还不给退！确显示订单已完成！再看看购票信息8点入园？？？网上天池景区入园是有分阶段的！完全没有诚信的携程卖门票！记住未使用的几个人的门票不自愿的捐给你们了！多发不义之财吧！.这里票价贵，多花了几百，不满意.等换车时间多，需要体力，今年没有想到，遇见大晴天，所以半截袖完全可以，根本不需要任何防寒服装，但是及时你带棉衣，还要准备防晒衣，我本人胳膊被太阳晒红了.师傅非常热情，服务特别周到，早上送的肯德基，非常有心.景色不错，但排队时间太长，景点指示不明晰。景区收费较贵，门票不含去长白山主峰的80元车费，景区游玩时间中坐车和排队花了90%。.都说天池是难得一见的地方，我们一行5人7月21日早上7点到天池，门口人山人海，只好手机在携程买票，眼花买了第二天的票，门口刷证件不行，出示了携程购买的次日门票信息，还是不让进，1000多公里从北京开过来，我们又都不是年轻人，又经过门口1个多小时层层排队怎么能回去等次日呢？在检票人指导下，通过长白山小程序买了当日套票1010元，方进去！携程票购票期待退回未用门票！.自然之美，大自然的杰作\\n【景色】.坐上去主峰的车上时（估计到顶还需要1个小时，因为有大约60辆车排队），已经是中午12点！排队坐车3.5小时！所以，是全国旅游景区效率倒数第一！体验最差！.人挤得像沙丁鱼，被赶来赶去像猪猡，买了门票车票还不许看天池，要看另买票。劝大家别来上当！.还不错就是下大雨没看到天池.我要投诉！本人由于年老没看清日期错误付了第二天的天池门票，刷身份证进站才知道日期订单是第二天，携程无法人工投诉。这笔支出没使用，查看显示已完成！请求退款！可以接受损失！希望尽快解决！政策是人订的，应该因情况因人而异！.去天池还要购买上山车票，排队费时间，天池景色优美，这么远跑来，不看可惜，看了费了一整天时间！.**，买的儿童票不提前生成二维码，到现场需要给携程打电话，半小时打不通供应商电话，本来的好心情荡然无存，最差的体验，以后不会再用携程.很幸运，第一次来就看见了天池，就是人太多了，时间都耽误在了各种排队上。.西坡、北坡离得并不近，从北坡到西坡需要近两个小时车程。如果时间紧张，只能看一处，我建议还是西坡。南坡新开，据说要预约，一天1000人。.很好很好很好.都不错，都不错，都不错  都不错.北坡景区还可以，就是天气变化太大，需要自备雨具.比景点买贵了9块钱。.去主峰的路的车票，能不能网上买？带着孩子和老人还要重新排队购买，比较麻烦。其他的景***很美，天池给人的感觉非常震撼。我们去的时候天气比较好，在下山的过程中，下雨了，天气预报是有冰雹，期待下一次冬天的时候再去看一下有雪的天池.挺好的，挺好看.特别希望上去一次，上次已经购票了，但大雪封山，没有体验。.我们运气很好，登上山顶后天池一览无余，太震撼了，大自然真的很美很奇妙，天池让我有再去一次的冲动，北坡一点都不累，老人孩子还是选择北坡.炎热夏季的避暑胜地，天然大氧吧。.看到网上发的图片觉得好美就决定过来了，当天赶上了大晴天，长白山风景一览无余，天池真是太美了，不枉此行，工作人员也非常热心，整体感觉特别好.这张票订错了！！！人票不符！！！无法使用，要求退款！！！.票价比到景区买贵。.需要花80买车票 总的来说还是值的.长白山确实非常值得推荐给大家，美丽景色什么就不说了，就说一下最近应该注意事项，山顶天气变化无常，准备来一定要注意天气变化，[cp]6.29日的长白山天池，我是28日上午十点多到达，被告知因暴雨冰雹关闭，我们开车40分钟左右返回二道白河镇休息一晚，29日登山后又是大雨倾盆，摆渡车停止售票停止登山，此时下面山门已经封山退票了，在上面的好在最后上去了，建议最近有去长白山游玩的尽量第一批登山8点开门，提前排队人特别多，第一波赶不上如有恶劣天气后面的就进不去了，当然天气好就2点之前都可以登山，不过个人观点还是建议尽可能赶在8点第一批次进山，因为我只来了这一次两天都是智能第一批上山，后面的就无法上山，所以建议来玩能早则早，不然耽误的是你自己时间。再说说景色，天池真的非常美，但是至于看不看得到天池有一定运气基础，我们遇到大雨时天池可以看到，也有人天气大好却见不到天池，还有就是山顶没有想象中那么冷，我里面短袖外面一件春外就一点不冷，也可以租衣服，上山一定要备足吃的还有喝的，山上售卖亭非常少，每个景点之间有摆渡车，游玩一圈下来也要大半天，至于谷底森林终点是挺远的有一段大爬山路，但是路途的原始森林大树灌木真的很美，还有就是视个人体力考量吧，我第八张照片会放谷底森林的最后观景台图片供参考，务必带雨衣和准备防雨鞋套，一点重量没有有备无患，图中瀑布那个图片是绿渊潭水是黄色的因为暴雨泥石流发水造成，平时据说是绿色的水很漂亮，银环湖也是一个爬坡山路，可以参考图中图片。.冬天的长白山滑雪圣地，就是小镇里物价不便宜.性价比高，有趣好玩，景色不错，总体超赞，***.观光车的票还是应该买的，不然走起来会很累，不过票价偏高，景点的景色也马马虎虎性价比低，景色一般，.总体超赞，景色不错，.景色非常好，个人运气y也比较好，西北两坡天池都看到了，先说西坡吧，西坡虽然景点少，但是天池的视野极佳，大峡谷也还不错，强烈建议西坡；北坡虽然开发成熟，基本靠着交通工具即可直接看到天池，但是视野一般，其他几个景点，如小天池，绿渊潭，聚龙泉，地下森林都很一般，不过瀑布确实不错，值得一去，温泉蛋比较实惠，味道也很不错。唯一吐槽点是北坡需要两次车费，将近170每人，有点偏贵。最后吐槽一点，我们在西区锦江大峡谷寄的明信片快一个月了，还没收到，这个有欺客之嫌，希望后续改善.长白山人参挺不错的，出至这里的哟.值不值得各人判断，只是奔名气去的。景色普普通通。.还可以经济实惠.【景色】中国最美的冬天，美👍👍.景色优秀，环境不错，值得一去。.其他都不错，可惜天气不好没能上天池.有趣好玩，总体超赞，.景色不错，.景色不咋地，天池开放了，还花了80块钱买车票去看，结果雾蒙蒙的，天池是冻住的，啥也没看见，巨坑。感觉现在的景区都是穷疯了吗？进去要买90的景区交通票，看天池要另买80的越野车（实际就小中巴车）票。然后还啥都看不见。景色也不好。不推荐哦！可玩性低，性价比低，.……………………………………………………………………………………………………………………………………………………………….讲解员压根没跟着.p这里值得一去景色伊人是个有趣的地方性价比高.车费贵s人，景色很好，建议出游前先搞好车费!毕竟现在直达高铁还没通车，尽量不要在黄松浦林场和长白山附近订酒店!保准你住的起吃不起饭，前不着村后不着店，就那么几家饭店都是一起的！饭费超贵。建议在敦化站下车，50元拼车到二道白河镇，建议订二道白河镇的酒店。之后坐大巴上山20元景色不错，.景色宜人，景区工作人员都非常礼貌和负责，唯一可惜的就是没有看到天池！.一次很好的旅游.安图现在有高铁了，去了特别方便.非常值得一去的东北名山。天池特别美。.东北雪景，，，    我们是不是都要去看看看！.长白山景区，位于吉林省安图县二道白河镇池北区东南部，东南与朝鲜毗邻，坐落于长白山北坡，距长白山34公里，距双目峰中朝边境65公里，区域面积52.42平方公里，现为国家AAAAA级旅游景区。.长白山景区位于吉林省，与朝鲜接壤，顶峰有著名的长白山天池。长白山人参夏天凉爽宜人是个避暑的好地方，冬季的长白山白雪皑皑是滑雪圣地，春季漫山野花，秋季五彩斑斓.有趣好玩，性价比高，.特别好、值得推荐.景色一般，可玩性低，.除了交通不便哦，觉得其他都很好，瀑布真的没什么可以看的，朝鲜族风味特别不错。如果看到过新疆天池，我觉得长白山天池仅仅是打卡而已。.长白上景区地方不错，值得一游。.长白山值得一去！.订票方便！不用排队！.大美长白山！值得！.没看到天池，不过秋天的瀑布也很漂亮.去的时候山上下大雪，没去成，很可惜。只在山谷里走了走，看了看雪景，还算不错。.景色不错，总体超赞，.景色很美，值得一去！游人很多！！.晴天的时候壮丽景观非常难得。。.长白山可以游玩的地点可谓是数不胜数，西坡、南坡、北坡各有各的特点，如北坡的温泉和瀑布，西坡的地下深林以及随处可见的天池等。不仅如此长白山一年四季都各有各的美景，只不过对于大部分南方人来说冬季才是其魅力所在。.吉林省5A景区 名副其实 一山分四季十里不同天.中国最著名的景区，冬天的旅游圣地。.零下40摄氏度的长白山,每一张照片都是与寒冷抗衡后的战利品,我们是北坡出发,全程都是有大巴和登山车接送的,山顶真的冷到爆,风大到走路都会踉跄,哈哈哈哈!不过雪景真的美翻,天池已经冻住了,啥也看不见,哈哈哈哈,一个失望,不过能感受到大自然如此之壮阔,还是蛮不错的,看完天池,导游说还有四个景点,当时的我是奔溃的,哈哈哈哈哈,敷衍看完景点,下山好开心,哈哈哈哈哈,一定要租所有的装备!!!.不错的一次旅行.看到天池真的需要运气，虽然这次没有看到有些遗憾，但是认真的去了其他几个小景点，还是不错的。下次还要再来~希望山顶没有下雪！.好玩，有冰雪大世界还能看到天池。.长白山脉主峰位于吉林省白山市长白朝鲜族自治县，是鸭绿江、松花江和图们江的发源地。是中国满族的发祥地和满族文化圣山。长白山脉的“长白”二字还有一个美好的寓意，即为长相守，到白头，代表着人们对忠贞与美满爱情的向往与歌颂。长白山最早见于中国4000多年前的文字记载中。.登顶还要交80元.北国风光一览无疑 千年积雪万年松 一片白雪皑皑 太美了.去的时候一定要看好时间，和天气，因为有的时候一旦下雪，就会封山，就相当于白来了，景区的精髓都在西坡，现在管理的严格了，不能下去看水了。.北坡门票交通车票小贵，但也和其他景区门票索道票相对。天气好，看到了天池，风很大，不算太冷。包车司机带去的服务区租的护膝雪靴大衣不是非常必要，实际上走的路不多，交通车会送到各个景点。.有了高速公路 选择去长白山旅游的人越来越多了 风景优美 冬季温泉度假也不错.冬天想去看天池，可惜天公不作美，因为大风天池关闭，只能在看些其它景观，对于南方人来说，雪景也是值得的，一定要穿多些！.很好很好很好.景色不错，.景色不错，冬天很美.不错哟 环境不错的 可以去试试.虽然疫情不能去长白山天池看雪了，但心已神往.我国著名的旅游景点，5A级景区，坐落在中朝边境线上，主要景点包括天池，小天池、瀑布、王池等，也是一个吃住玩都比较成熟的地方。.景色真的很美，一定要上天池，但是要额外再出80块，但还是要去。另外，门口会拼命推销大衣雪地靴什么的，实际里面根本没这么可怕，大家一定要慎重了。。。.终于看到天池了！.非常不错的旅游景点，包括北西南三坡（互相不能互通），各坡的景色各异，各有特色，现在长白山景区冬季旅游也非常火爆，看景滑雪非常有趣。.很漂亮哦\\xa0.值得一去 天池很美.景区分为西坡和北坡，一般都说北坡最漂亮，但是现在也都拦起来了，只能在上面拍个照，也不能用无人机，上面有时下雨下雪的就见不到天池了。.有趣好玩，景色不错，总体超赞，性价比高，果然是5a级景区。不枉此行！.必去打卡的景点～景点众多～必须好好安排.景色不错，，性价比高，有趣好玩，……………………………………………………………………………………………………….非常冷，上去一定要租衣服。景色不错，如果看不到天池。就等等，.【趣味】单/双板 长白山滑雪🎿✔️\\nPS：东北小甜甜的酒店大堂and雪地遛狗 游记。\\n成功的路上并不拥挤，越到塔尖越孤单😒。\\n【性价比】不错.大美长白山，不虚此行。长白山的风景很好，原生态的森林，天然的氧吧，走进去人的呼吸都非常舒坦。美丽的天池，值得人们观赏。长白山旅游开发保护的很好。从北坡上去不辛苦，即使老年人和女孩小孩都没有问题。推荐大家去游玩。.冬天的长白山特别美，人少景美。.停车方便，购票方便.风景优美！好似一幅美丽的画卷！.景色不错，.第一次长白山就看到天池，那天天气很好，不过第二天要返程的长白山下午航班取消，当天下雨鲁能滑雪场也没开，又多住了一晚，不过走的那天还是没有看到下雪，有点可惜.到了天池总得去看一眼吧，但真的性价比超低，时间游览车费都要消耗多多。如果不是面子问题，其实山下景色更好些。.性价比很高，周边除了长白山玩的地方也很多.位于吉林省延边州安图县和白山市抚松县境内，因主峰上常年积雪，有许多白色浮石而得名。无数游人冒着风雪来此打卡，欣赏“千年积雪万年松，直上人间第一峰”的壮丽之姿.天池天池天池.刮大风没看到天池，总体来说还不错。.锦江木屋村位于\\xa0抚松\\xa0县漫江镇\\xa0西北\\xa0约5公里的锦江右岸的密林中，距锦江约1.5公里，原名孤顶子村。据\\xa0抚松\\xa0县史志记载，该村建于1937年。\\n上个世纪90年代中期，\\xa0通化\\xa0师范学院美术系教授王纯信在\\xa0长白山\\xa0老林子里写生时，发现了孤顶子村木屋建筑群，便以调查报告方式上报了\\xa0吉林\\xa0省文化主管部门，建议借助\\xa0松江\\xa0河镇开发森林文化旅游的时机，对木屋村予以保护和开发。近些年来，国内外一些专家学者、摄影家纷纷前往考察、研究、摄影。.景区管理乱的很，停个车政策几种说法，一些红马甲为了赶人说免费停车到集散中心，到了也没人说，走的时候喇叭一放，说收钱，不叫别想走.天池很美，原始森林很震撼。景区摆渡车服务很好，一辆接一辆井然有序。.还行，交通车的位置太挤了，去的时候大雾下雨，所以没什么看的，吃的温泉蛋不错，。。。。。。。。。。。。。。。。。。。。。。。。。.景色不错，有趣好玩，性价比高，总体超赞，.非常漂亮的景点，冬天去味道格外不一样，你准备一下啰.特好，特别好，没下雪。.非常幸运，天气晴朗，一睹天池真容，为天池美景点赞！总体超赞，.难得一见的雪景景色不错，体验很好，值得推荐，有趣好玩，.非常好的景色，值得去。但受天气影响大，最好先查天气预报。.值得推荐，.体验很好，景色不错，值得推荐，有趣好玩，.景色不错，值得推荐，体验很好，.景色不错，体验很好，.能看到天池的人是幸运的。.景色非常美.这里值得一去，景色不错，累并快乐着，原始森林的感觉不错.景色不错，.景色不错，.值得推荐，景色不错，.景色很美，值得一览.长白山四季都很美 是东北最著名的景观.值得推荐，体验很好，。.建议直接在长白山公众号订票，不要在携程订，长白山公众号可退票，携程不行。千万不要在携程订！！！.下雪天池封闭.山上下雪，天池封闭.总体感觉一般般把 一直在不停的坐车 到了天池业看不到 上面非常冷 一点要带厚衣服 重要的事情说三遍 但是看到天池概率太低了 其他的就没啥乐.长白山值得去.峡谷浮石林也蛮有意思的，大戏台河主要是看夜景，长白山不用说了，山水风景真的非常可以.体验很好，值得推荐，有趣好玩，景色不错，，.标题：最差旅游体验，没有之一。1.购票时入场预约时间8：30-9：30，到检票口发现入场预约时间被设为12：30-1：30；2.经携程客服和供应商联系，被告知向工作人员说明情况可进入，重新排队至检票口被告知必须按照预约时间进入；3.与供应商联系申请退票被告知退票需要和携程客服联系，与携程客服沟通后决定不退票重新排队检票，到检票口后发现供应商已经退票。8：30抵达候车室出现问题，10：30最终被退票，重新购票能预约的最早时间为11：30，全天计划都被打乱，严重破坏旅游体验。除了我之外，看见另外一个在携程购买门票的家庭也出现类似问题，下次不会在携程买长白山门票了。.每一座山都有其独特的地貌 秋季来长白山 黄绿红苔原地貌还是很美的 很幸运看到了天池 静静的就像一面镜子体验很好，景色不错，值得推荐，.值得推荐，景色宜人.携程上写的5岁儿童需要购票，结果就给孩子买了一张，而到了景区咨询了工作人员，小孩根本不用购票，景区大巴车也免费。这个票还退不掉。第一次给差评。体验不佳，.值得推荐，体验很好，景色不错，有趣好玩，.携程一群***废物，给个电话号码都是错的，耽误我游玩，影响我们心情，除了收钱你们还能干嘛，性价比低，体验不佳，.景色不错，值得推荐，.值得推荐，景色不错，.世界最高的火山湖，湖水湛蓝清澈，无与伦比。温泉地表色彩斑斓似油画，小天池湖面如镜，倒影完美，绿渊潭潭水碧绿，银练高挂，地下森林古树参天，倒木横立，一派原始的森林生态.景色很不错！ 真的很美！.天池还是可以的体验很好，景色不错，.房间干净 \\xa0酒店品质 ，老板夫妻人很好 免费接送 第二天还帮忙安排车上景区 整体感觉很nice 推荐👍.温水很适合宝宝游戏值得推荐，有趣好玩，.房间舒适，交通便利，温水舒服值得推荐，体验很好，.景色非常好，虽然这次去长白山下雨下雪，天池大雪封山没有上去，依旧不影响长白山的美！真正的大自然，山上雨雪飘飘，山下晴空万里！值得推荐，景色不错，.不愧为中华十大名山，国家5A景区。风景如画，建从北坡上山，风景更美。.景色不错，..看到了天池还算幸运，一路上植被也很丰富，就是路线设计的太单调了，除了各种换乘达到山顶看一眼天池之外，沿途基本都不开放，就连下车后想附近走走，都会被凶神恶煞的保安恐吓斥责，也就这一次，完全不会考虑再来。.看到了天池还算幸运，一路上植被也很丰富，就是路线设计的太单调了，除了各种换乘达到山顶看一眼天池之外，沿途基本都不开放，就连下车后想附近走走，都会被凶神恶煞的保安恐吓斥责，也就这一次，完全不会考虑再来。.非常好的5A景区，值得一去，去的北景区，可惜天气情况 、天池未开放，下次去南坡一定要看到，看来北坡不欢迎我、听说今天天池非常好看.长白山北坡上山，简值就是太棒啦，山峰地势险峻，河流众多，森林树木密布，有许许多多的著名的景区景点，温泉，滑雪场，天池，暗河，太漂亮了。.风景非常美，本来想前一天去，可是前一天下雨怕看不到天池就改了第二天，第二天刮大风天池封闭，唉没有缘分，山里比较冷多穿点衣服。.由于风大，天池顶峰直接封闭了，整体票价真的太贵，105的长白山门票可以用五天去北坡南坡等，另附85的景区环保车到北坡但是只有一天有效期，如果第二天去南坡还有再买景区环保车。如果天池开放，还要再付80元的登顶环保车费用。真的就靠开车赚钱了，我觉得景区被这样管理真的很遗憾不推荐。看我拍的图片就知道了，这种峡谷和松树的景致在东北很多森林公园都可以看到。没必要来交通如此不便利的长白山可玩性低，体验不佳，性价比低，.“一山有四季，十里不同天”。秋季的长白山太美丽，如油画一般。长白山的气候也像小孩子的脸，说变就变，上山时可能什么都看不到，但再回去看一眼，可能就晴空万里.景色不错，有趣好玩，体验很好，值得推荐，.长白山景区处于东亚大陆边缘，濒临太平洋的强烈褶皱带。在2亿年至7500万年的中生代以前，就曾经过多次地壳变迁活动，形成古老的岩层.景色不错，体验很好，有趣好玩，值得推荐，.体验很好，景色不错，.非常漂亮的旅游景点之一！景区风景优美，风光无限，气候宜人，适合休闲旅游。.不能去天池，还要这么高的门票性价比低，体验不佳，景色一般，可玩性低，.景区很大需要二次转车.推荐去西坡，北坡看到的天池太小了 不过二道白河镇比松花江镇漂亮，别被东北人忽悠了 不老实 会坑人.景色不错，值得推荐，有趣好玩，体验很好，.值得推荐，体验很好，有趣好玩，.还可以景色不错，.景色不错，.体验不佳，不可退改，呵呵。大雨自认倒霉，建议到官网买，可退可改。.体验不佳，官网票可以随时退改，这个票不可退改，遇到大雨暴雨就自认倒霉。不推荐购买。直接去官网买。.景色不错，有趣好玩，值得推荐，.景色不错，森林之王.景区管理不错，定价合理。.天池非常漂亮，开心值得推荐，体验很好，景色不错，.这才是真正的5A景区，服务对于景点来说，有问必答，而且态度也很好，疫情期间，每台车的消息，整洁，要求都做的尽善尽美，景区分流也很科学，景点更是人生中值得一看，我还吃了温泉鸡蛋和温泉玉米🌽，价格一点都不贵，值得推荐.体验很好，值得推荐，景色不错，.天气不错 风景真的很美 长白山景区很不错.性价比低，.看见天池了，很舒服的天气.看见天池了，很舒服的天气.还好了，就是两次车不便宜.风景美如画，比想象中还要漂亮，以后有机会还会再去的，真的比想象中要美有趣好玩，体验很好，值得推荐，景色不错，.有趣好玩，值得推荐，景色不错，体验很好，.去的那天天气很好，天池全开，真的很漂亮，也很幸运，看见云好像从地里长出来的一样，真的很神奇，很漂亮，下次有机会的话，还会再来的，虽然我是吉林人，但也是第一次来长白山天池，真的和我想象的不一样，比想象中的要美，我爱长白山天池，我爱吉林。值得推荐，体验很好，景色不错，有趣好玩，.有趣好玩，景色不错，体验很好，值得推荐，.超值，景色优美，值得一游！景色不错，体验很好，有趣好玩，值得推荐，.天气太冷了.长白山北门景区景色好！管理规范！性价比超高！天池的景色无与伦比！.去过东北好多次但是一次也没有去过天池，但是这次终于如愿以偿了，而且运气还是特别的好，老天爷也给力，美景.值得推荐，景色不错，司机小哥哥很热情，会给你提出合理的意见，保证您可以顺利登山。下次去，我还是会选他。.景色不错，值得推荐，有趣好玩，体验很好，.值得推荐，景色不错，有趣好玩，体验很好，.避暑胜地，人少可去。.值得推荐，景色不错，.很好很不错的一次游玩体验体验很好，有趣好玩，值得推荐，景色不错，.长白山被评为“中华十大名山”，是一个以森林生态系统为主要保护对象的自然综合体自然保护区。长白山是一个年轻的，典型的火山地貌区域天池位于顶部，是火山喷发后形成的高山湖泊。.长白山北坡景色挺好的，上主峰坐车需要另付费用，每人八十元，其他景点环保车在票里都含了，这次很朋友一起来的，景色没得说，人品好到爆，上去看到了天池全貌，到瀑布需要自己走台阶，酒店我定的一般，就是大众型的。唯独遗憾就是没有走完全部景点，漂流体验一般，主要是河流比较缓，适合小孩老人，想体验刺激一点的漂流，建议去其他地方.长白山景区位于安图县二道白河镇池北区东南部，东南与朝鲜毗邻，坐落于长白山北坡。主峰长白山多白色浮石与积雪而得名，素有“千年积雪万年松，直上人间第一峰”的美誉。景区是拥有神山，圣水，奇林，仙果等盛誉的旅游胜地，也是满族的发祥地，在清代有圣地之誉，也是中华十大名山之一。.值得推荐，景色不错，体验很好，有趣好玩，.有趣好玩，值得推荐，体验很好，景色不错，.老家吉林的长白山自然风景区，是一个很神秘，也很传奇的景区！相传，能看到天池真面目的人并不多，长白山是我国与五岳齐名、风光秀丽、景色迷人的关东第一山，因其主峰白头山多白色浮石与积雪而得名，素有“千年积雪万年松，直上人间第一峰”的美誉！.特别推荐，一生必去的一个景点。看见天池全貌的那一刻很激动，太壮观啦.北坡风景比西坡好，价格也贵一些，因为上天池要付车费，不过座车的时候要是在副驾驶也挺有意思的，建议先北坡后西坡，赶上了大晴天，人也不多，天池上很美，瀑布，小天池，地下森林没啥意思，绿渊潭可以打卡，很美很有意境\\n下图部分是北坡附近的朝鲜族延吉自治州的湿地花海.北坡风景比西坡好，价格也贵一些，因为上天池要付车费，不过座车的时候要是在副驾驶也挺有意思的，建议先北坡后西坡，赶上了大晴天，人也不多，天池上很美，瀑布，小天池，地下森林没啥意思，绿渊潭可以打卡，很美很有意境.特别棒有趣好玩，值得推荐，体验很好，景色不错，.景色体验很好，景色不错，值得推荐，有趣好玩，漂亮，值得一游，7.23日去的，天池顶一点都不冷，还可以穿半袖的，看到很多人租的棉大衣拎着走。.值得去可以多待几天天气原因不一定会当天能看到.长白山脉是欧亚大陆东缘的最高山系，地处吉林省东南部，位邻中国与朝鲜边界。长白山脉，是松花江、图们江和鸭绿江的发源地，其中松花江发源于长白山天池。1961年建立了2150平方千米的长白山国家自然保护区。.天气晴朗的时候带着家人一起去溜达溜达非常棒的选择.携程买门票，不给发二维码（儿童），联系客服***好友再发二维码，太麻烦了😡\\xa0景色不错，值得推荐，体验很好，有趣好玩，.值得推荐，有趣好玩，景色不错，.同天据的白雪皑皑，环境还是很不错的.人也好，天也好，很愉快的长白山天池旅游！值得推荐，体验很好，有趣好玩，景色不错，.小天池，谷底森林真心坑人啊，小天池就一水坑，还没有净月潭里面的小天池大呢，.以前去过一次长白山，感觉不管是不是节假日，人都很多，这次没找到上次去的宾馆，后来在路上发现了那个宾馆，看星星很美，黄松浦也不错，只是要走出去一些，.长白山我去过两次，虽然从高处看就是一个普通的水泡，但是到了现场就感觉心旷神怡，心胸特别宽阔.景色不错，值得推荐，.运气不错，天池今天风小，而且天气晴朗，可以看到风景如画的天池，不需此行，网上购票很方便，出示身份证即可入园，值得推荐.景色不错，有趣好玩，.值得推荐，景色不错，.非常值得一游.看到湖水的一刹那，一切辛苦都值得.值得推荐，景色不错，体验很好，有趣好玩，.这个季节到长白山，应是最好时节。.主要是以长白山天池周边附近的山峰构成的风景区，包括了北坡、西坡和南坡（不长开放），各坡的景色秀丽，风光多姿多彩，是我国著名的风景区。.很不错的旅游，长白山真的很美。建议可以领小朋友去一趟，大自然的奇观.春踏青，夏消暑，秋赏叶，冬玩雪，长白山一年四季都适合游玩。这里夏天的天池美色更是堪比新西兰🤩，疫情期间国外肯定是不用想了，其实我们国内大好河山也多多哦.天池景色很美.长白山的景色很美.我国著名的旅游景区，在吉林省东部，包括北、西、南坡景区，但不能在景区内互通，均能见到天池，南坡不经常开放，其它两坡配套比较成熟，可根据自己喜欢选择。.非常漂亮，一年四季都是不同的美景，值得去看看.旅游资源非常丰富，除了自然风景外，还有丰富的地热资源，北坡、西坡开发较早，配套服务也非常完善，适合各类人群旅游度假。非常不错的景点。.长白山我国北方著名的旅游景点，有长白机场、铁路、高速公路通达，非常的便利，吃住等旅游配套也比较完善，景点主要集中在北坡和西坡，具体去那个坡游玩，还是看自己的时间安排。.真是值得一去，运气好能看到天池，很美，我喜欢夏天去，东北夏天非常美。二道白河镇的烤肉特别好吃，念念不忘啊！.长白山池北区旅游项目开发得早，早在1996年初就开始，所以长白山北坡就旅游方面来说比较成熟。\\n\\n【景色】美\\n【趣味】高\\n【性价比】高.我国著名的旅游景点，分为北、西、南坡三个互补相通，各自独立的景区，景色各有千秋，每个景区游玩需要一天时间，最佳的旅游时间是在七八月。.非常好的景区，一年四季风光各有不同，景色秀丽迷人，这里的旅游种类繁多，温泉、滑雪、休闲观光等都非常丰富，而且配套设施也完善，非常不错的景区。.长白山非常值得游玩，环境保护的很好，但最好玩两天，不然看不全，会很累。比较推荐天池，地下森林，瀑布，有时间在体验一次温泉.长白山风景很美不虚此行.长白山的秋天，层林尽染，一副画中游的感觉。太美了。.在吉林省东部，我国著名的旅游景点，比较成熟，常年开放的有北坡和西坡，景色各有千秋，每个坡游玩都需要一天时间，非常值得去看。.地处吉林省东北部，安图、抚松、长白县，主要是以天池为主的自然原始森林景观，这里树木参天，植被茂盛，环境干净整洁，空气清爽。非常不错的景区。.冬天去的北坡，特别的感觉还可以。.长白山景区是这里自然保护区的一部分，有北坡、西坡、南坡三个景点，而且景点不能互相沟通，各景点各有特色，从这个景点到另一个景点开车要二个小时左右，比较好玩的还是北坡和西坡。.长白山景区非常精彩，有时间一定要去看看.去长白山的最好时节，是在秋天。漫山红叶，层林尽染。再美的文字在她面前，都显得苍白无力。采一朵枫叶，细细端详。仿佛一年四季，风霜雨雪，都包含在这片叶子里。.长白山一直想去的地方，可以我们上山风雪太大，天池没看到有机会还想去下一次吧。.我国著名的旅游景点，尤其是冬、夏两季，是游客云集，热闹非凡。这里景色秀丽迷人，森林资源丰富，空气清新，还有丰富的地热资源，非常棒的地方。.长白山景区主峰常年有积雪覆盖而得名，海拔高度挺高，景区主要看点有神山，泉水，奇石，森林等，生态环境优美，游客很多，也是当地名胜之一。.包括北坡、西坡、南坡三个景区，其中南坡不长开放，那两个景区游玩都需要一天时间，景色各有千秋，建议5-6月去西坡，山下是山花烂漫；7-8月去北坡，气候适宜看天池和长白瀑布。.好听好听好玩好玩.去长白山，最浪漫的季节是秋天。漫山红叶，浓情蜜意。每一处景都让人驻足，每一棵树木都饱含浓情，没一片红叶都写满相思。秋天的长白山，如诗如画。.不错的啊呀.不错的啊呀.很棒棒哦！.一个身份证一个，不能代领.长白山脉主峰位于吉林省东南部[1][2]，是鸭绿江、松花江和图们江的发源地。是中国满族的发祥地和满族文化圣山。长白山脉的“长白”二字还有一个美好的寓意，即为长相守，到白头，代表着人们对忠贞与美满爱情的向往与歌颂。长白山最早见于中国4000多年前的文字记载中，《山海经》称“不咸山”，北魏称“徒太山”，唐称“太白山”，金始称“长白山”。.巍巍长白山，流传着久远的传说，滔滔天池水，流淌着神秘的河。记得从前看动画片“人参王国”的时候，就对长白山特别神往。这次去长春之旅，特意报团去了长白山，也看到了天池，那一片冰天雪地，厚厚的雪盖，让我这个南方人一饱了眼福。.吉林省长白山风景区，人称关东第一山，它是中华十大名山、是满族的发祥地、是五A级旅游景区，不仅有原始状态的森林，还有苔原、草甸、湖泊、河流。特别是有着世界上海拔最高，积水最深的高山湖泊，神圣的天池引来了各方游客，确实，她也没有让大家失望，天池的独特美世间稀有，冬冻冰面皓白，夏融池水湛蓝，十六座山峰环绕，山上天气多变，水中神兽时常显露，而这不是神秘的传说。无论是冬天夏天，长白山都是游览人群的极佳地 。推荐！.一个你值得来的地方.估计是我们去早了，雪下的不大，人也特别少.对此次行程很满意.服务好 风景优美.长白山是国家五A级景区，以神山、圣水、奇林、仙果等盛誉齐名。素有“千年积雪雪山松，直上人间第一峰”的美誉。去长白山最方便的是西门。去西门必经之地是安图二道白河镇。从二道白河镇包车和拼车都很方便。.风景还挺好的，但是冬天太冷了。.长白山景区位于吉林省的抚松县白河镇，是我国5A级旅游景区，长白山景区主要有天池，长白山瀑布等著名的景点。我有机会在2017年的8月份，前后二次前往游玩。.非常漂亮的地方，以后有时间还去，哈.长白山景区是美的，美得让人窒息，火山灰岩千万年形成的独特风貌，原始森林，各式各样的湖泊，瀑布，地热资源\\n【景色】美哒哒哒.人均350，门票加租护腿！2小时溜达玩了！和北方的景点和南方的真得没法比，除了贵，景色不错，我去的那天天气非常好！里面的吃的不贵，就是门票贵，哈哈哈(ಡωಡ)hiahiahi，估计可能没有下次了！！.去的那天天气很好！门票加租护腿350一个人，2小时溜达玩，实在是贵了点！！！.去的那天天气特别好，除了门票贵，别得都挺好的，300一个人，就转了2小时就出来了。还有门口全都是忽悠租护腿的，50一个，贵死人，工作人员还说不戴护腿下来腿要废掉，头头是道让人不敢不租！！太坑了.我国著名风景区，位于东北吉林东部，主要包括长白山天池、小天池、地下森林等景点，来这里看美景外，还可以泡温泉，品东北农家菜。.冬天去的长白山，作为西北人我也是长见识了，长白山的雪太大了，当天因为雪太大，天池也关闭了，没去成，如果下雪的话，建议提前在山底下租靴子，大衣，眼镜什么的，50块钱一件，每件押金100，真的很有必要，山上风大雪大，感觉风有10级，都要全副武装\\n冬天来基本只能看到雪，其他没什么了.满意+满意.去的时候天池封山了看不了，剩下的景点就随意逛逛。在谷底森林遇到一场大雪，来自南方人的激动！顿时感觉谷底森林的景色很美，空气也好(˶‾᷄ ⁻̫ ‾᷅˵).我国著名的旅游景点，目前主要开放的是北坡和西坡，两个景区都可以看到天池，效果各不相同，两个坡还有其它景点可以游览，总体感觉景色不错。.大自然的鬼斧神工。.非常方便，快捷.就听了一次，没啥用.很好，喜欢这里，好玩，方便，有特色。赞一个，携程买票方便快捷。.方便快捷，很不错的体验下，这里很有特色，很好玩，有携程买票也优惠。.人很少 挺好的.不建议在携程购买，同样项目景区190元一人，多出的10元是温泉折扣优惠！ 景区服务质量还有待提高较南方一些著名旅游区的整体软件水平还有有一定差距的。 司机师傅人好健谈！.总体来说还不错.长白山的景区服务管理都特别好，景色更是无与伦比，太值得来了。.一条龙服务很方便！.长白山从每年9月底开始降雪，至来年6月中旬冰雪融化，长达9个月的雪期使其在冬季成为滑雪爱好者的天堂。夏季的长白山鲜花盛开，植被繁茂，不过花期很短，到7月中下旬娇嫩欲滴、笑靥迎宾的鲜花便逐渐凋谢。积蓄了漫长寒冬的能量，只为努力绽放月余的花期，生如夏花，依然绚烂。\\n二、住宿\\n来长白山的旅游者主要住宿地点有二道白河镇（现更名为池北区，离北景区较近），松江河镇和万达度假村（离长白山机场和西景区较近），其中二道白河镇有前往西景区和长白山机场的收费巴士，还有到北景区的公共汽车；万达度假村对住客有免费接送机及免费往返西景区的大巴，其他交通都需要包车或拼车或跟团，交通还是略有不便。\\n我们选择了入住万达度假村，这里的优势是有免费接送机，免费到西坡的巴士，有一些免费游玩项目，酒店是国际连锁；劣势是度假村较大，内部交通不太方便，酒店和餐饮价格较贵，离居民生活的乡镇比较远。\\n\\n到底去哪个景区？\\n长白山有四个景区，当地人称为四个坡。从地形图可以看到朝鲜境内的东坡树木已被砍伐。\\n- 东坡：在朝鲜境内\\n- 南坡：近几年都没有开放，只有去年开放了一年，今年仍然没有开放。\\n- 西坡：开放时间较晚，可以看到更近更全的天池水面，但需要在2200米海拔攀登1442级台阶，需要一定体力，也有人力滑杆可以选择。\\n- 北坡：最成熟的景区，可以看到世界上落差最大的火山湖瀑布（长白瀑布）和温泉群。离天池水面距离比西景区远，看不到全景，但步行路程短。.就一个天池能看看，其它没什么可看的。当地包车司机可坏了，极力渲染山顶天气不好，让买雨靴，结果山顶艳阳高照。对延吉印象一落千丈，不会建议同伴去。.挺好的，方便快捷.林长白山是一座休眠的活火山，风景优美，其中天池是最令人向往的，能否看到天池既要看天气也要看运气，这次我就碰上了大风，天池就像深闺中的大家闺秀，让这么多人对她趋之若鹜；北坡景区比较完善，除了天池还有其他美景，长白山瀑布、温泉、小天池、绿渊潭、地下森林，各有特色，给人美的享受。.买错了票不给退 垃圾商家.全是雪，天池和绿渊潭看到的都是雪，去长白山不适合冬天去，要去也得准备雪镜和穿暖，天池上风大，不要去租衣服，眼镜和其他，太坑了，50一件，自己准备好了才去！.速度快。。。。。长白山很不错哈哈哈。欢迎。。。。。。。。。。。.秋天的景色很漂亮，可以住景区度假村，各档次酒店都有，度假村内设施也非常齐全，配套预定北坡一日游等线路，休闲游玩两不误，推荐。.千万不要在携程买，直接现场买一共是190.冬季上长白山，景点都被冰封了，门票包含的景点其实都挺小的，上天池需要另外购买80块的车票！景区消费还是挺良心的，不像某些地方那样商业化.很美丽的地方，不过上天池比较冷，注意保暖。.长白山景区位于吉林省是中朝两国的交界山，也是国家5A级的旅游度假景区，来到吉林一定要来长白山走走。主峰长白山常年积雪，长白山也是一座著名的休眠火山，分北坡，西坡，南坡三个不同的入口。几个不同入口的距离都比较遥远，一天只能游玩其中一个点，要分开几天才可以游玩完毕。其中北坡的景点相对多一些，大部分人都会选择先游览北坡。.玩得开心，景色美，人热情，不枉此行.很美，冬天也很美，就是有点冷。.北坡看不到天池全貌，看到的只是天池一个角，冬天风大雪弥漫，更看不清了.提前在网上买好景点门票，到景区之后直接排队进园，现场不卖票.长白山景区多白色浮石与积雪，素有“千年积雪万年松，直上人间第一峰”的美誉，也是满族的发祥地，在清代有“圣地”之誉，主要有天池丶长白瀑布等景点！.运气太好了，还能上天池.避暑胜地，主要是二道白河好吃的真的太多了。.巍峨壮丽！！.住在度假村挺方便的，秋天的长白山很美.好取着方便.从长白山北坡游览，一路下来先是去了天池，再是看了瀑布，随后跟着大部队来到绿渊潭，这个景点不大，不过景色怡人，潭底翠绿，水质清晰，此处有一个小瀑布，与潭水遥相呼应。.长白山景区主要分为北、西、南三大景区，天池是长白山的必赏之景，此外，还可观赏山上的长白瀑布、锦江大峡谷、谷底林海、高山温泉等众多自然美景。长白山是一座休眠的火山，位于主峰火山锥顶部的天池是我国较大的火山口湖，也是世界海拔较高的火山湖。.长白山值得一去；就是等车真是让人心烦啊；交通还需提高.价格高了，其中的车票是虚构的，无车可坐。.天池真心不错呀 很壮观 对面就是朝鲜 可惜了一家一半儿的湖.很方面便捷！就是不要旺季去。排队排到怀疑人生！.长白山景区是个大概念，分长白山西坡、北坡、南坡，我常去的是西坡，这边登山有1442个台阶，每次登山成功就感觉很爽，感觉自己很棒。\\n【景色】美\\n【趣味】高\\n【性价比】高.第一，长***接听人员态度极差，给延边人丢脸，影响景区形象，如遇外国友人，丢人可就丢到国外了。\\n第二，景区售票点竟然不能使用支付宝和微信，超级落后，票买的多谁会带那么多现金？无奈\\n.第一次来东北，就见到了原始森林，然后第2天我们就去了长白山景区，看到了更加原始的神，而且里边景区坐的很多景，都特别好看，有山有水的很美！.我的中国心这也太美了呀！！！\\n长白山希望大家多来参观哦？？。.第二次来长白山，这次天气不错，看到了天池，真美！.去的北坡，人很多，但是很壮观，不过不适合小孩子，但是真的很美.是人品爆发了，出行天气非常晴朗，坐车也不用排队，天池非常清晰的在我们的眼前，我就穿了一件衬衫加一件迪卡龙双层的夹克，到了山顶感觉不是非常冷，但是徒手抓一把雪玩一下就受不了，看完了天池就到聚龙潭，温泉口没有腾冲的那么壮观惊艳，长白瀑布就在聚龙潭前多走一会儿，其他小天池、绿渊潭没什么好看的，地下森林因为时间不够所以没有去看，估计这季节全部叶子都黄了或者落了没啥好看的。很满意的一次出行。.方便快捷，服务周到，短信形式告知详细.很好 该逛的逛到了 大概半天时间 天池开关不确定.特意去看天池，结果关闭了，没有看到。其他景点都一般般，没达到预想。山底是出租衣服的也忽悠人，说山顶下雪了，风很大，会很泠，搞得大家租大棉袄上山，那么重，累得不行。.秋天的长白山景色特别地辽阔壮丽，色彩浓烈鲜明，神圣静谧的天池、五彩斑斓的树林、历史沉沦的的火山石……希望下次来的时候景点能开发得更多.风景很不错，开车了大概三个小时从延吉到了二道白河，在二道白河坐景区摆渡车大概半小时到山门，山门还要再转车半小时到景点，不太需要自己走路.这个季节北坡真的是没什么好看的。由于天气原因无缘天池。相比之下，觉得西坡更好玩.上不了天池，不开山也不提前跟我们通知，体验感很差.非常美丽的地方，人间仙境非常值得来.进入景区后需换乘环保车，北坡和西坡都可登顶天池，西坡登顶需攀登1442级台阶，正常情况要40分钟左右。.买了北坡门票后，三天内去西坡可免门票，天池景色绝美，非常值得一去！.长白山的淡季，人不是太多，7人座小车，因山顶风太大，只开了B路线，A路线关闭。之前定了另外一家因前一天下雪被取消了重新定了这家。.黑心的商家，明明订单写的不允许退票，自己暗中把票退了，还不承认，难道是鬼退的，挣这种黑心钱了，有良心么？携程用各种理由推卸责任！你们这么干迟早会倒闭的！.自然风光无限好，看看风景心情会好很多。.方便快捷，很多到现场没有门票的，幸亏在网上买了.很不错的一次旅行，客服很热心，就是捆绑摆渡车没有起到作用，因为住在景区里面，不需要乘坐摆渡车。.山上很冷，都是雾气，啥也看不见，能看见的都是幸运儿，反正我是啥也没看见。。。。。。。。。。。。。。。。。.还不错，有幸看到天池了………………………………………………………………………………………………………………………….很幸运，天池，云海都看到了，太美了！不虚此行！.方便快捷，躺在床上就办了。强烈推荐。.人挺多，倒车次数也挺多，不过安排的还算合理，没都蜂蛹在一起，每个景点都有分散。加上天气不错，天池看个完整就给个好评吧！.5A景区，国内排名第一的天池风景区值得一看，天气变幻无常，一定选好时间和季节！人多，各个景点均需排队等候！.十一黄金周去的，虽然人多。但是景区实行分时段进入，秩序井然。摆渡车和环保车上游客就发，不需要等很久。上山的车也很多，天池，聚龙泉，小天池，绿渊潭超美。.不错，景色很美，就是人比较多，排队时间较长.小孩没有身份证，说身份证号就可以。三天内北坡西坡通用，不错！.设置的摆渡班车、环保车太坑了，北坡和西坡景区均如此，变相多收费，耽误游览时间！建议管理部门早该管管啦！.卫生安全位置方便  很好  很不错  周边有市场  很方便  就是交通一般  公交车很少  需要打车.卫生安全位置方便  很好  很不错  周边有市场  很方便  就是交通一般  公交车很少  需要打车.220的票不包括去主峰观天池的车票，那个需要单独80元钱，坐车之后走20分左右就可以看到天池，很幸运，今天阳光明媚，看到天池啦，真的很美，我觉得拍出的照片不及亲眼看见的十分之一。长白山空气很好，风景也很好。.挺好的，网上购票特别方便，山上挺冷的，长白山，天池很漂亮，绿渊潭值得一看.门票价格贵，还不包含到天池的车票，很不方便.没看到天池，人很多，服务的话只能说一般吧(๑˙ー˙๑).没办法，一直坐车，环保车，景区内交通车，登顶小车，环境所限。天池还是值得一去的，毕竟是最深的火山湖。.景色宜人，看到天池了，真的很美，很壮观，绿渊潭特别漂亮游玩的也挺好，坐车上山挺刺激的，人是真的多呀..总体来说是不错的，就是人多，到处都得排队。感觉这个季节，西坡景色美过北坡，北坡到处光秃秃的。西坡大峡谷很漂亮。另外天池好美，不虚此行！.以后要来的亲们一定要早早订票。当天是没有可能在现场买到门票的，来之前查看好天气，山上较冷，饺子穿冲锋衣或者棉服！.游玩长白山北坡，在携程订的票220元，比在官网多**元，想玩的游客最好在官网订票，在住宿的酒店都可帮你在官网订。.服务挺好的，交通便捷，一路坐车上的山。北坡基本不需要走路。如果大家想泡温泉，买温泉的景区套票能便宜不少。.于10月1日在携程购买10月3日长白山天池的门票一张，购票款已付220元。3日早上去检票口查验门票情况，显示本人我无票，即无法入园，在与客服和延边**电话沟通后，虽然表示解决问题，但是迟迟无结果。最后在各种争执下于7:30分解决当日门票问题。此次事件大大影响了我游玩的心情，浪费了我近二个小时的时间。耽误了我的行程安排！.忘记***********算了.天池还可以，其他景点一般吧，国庆期间人多，景区环保车调度不合理，景点不多游览时间也不长就是在等车等车等车！.第二次去长白山了，第一次上去了没看到天池这次去看到了，第一天北坡没上去，第二天从南坡上去了看到天池了，真的很美，不虚此行。.长白山的门票确实不算很贵，但交通比较贵，这个80，那个80，人均交通费就小200元。但是天池很好看的.我一共买了四张票，都给差评，真的太生气了，把携程和商家的态度和处理都写出来，本来照顾老人和孩子就很辛苦，严重影响我的出行质量，我要求退票，携程客服还告诉我让我返回售票处管告诉我不能上山的工作人员要工牌号和电话和姓名，脑袋是不是有病，和供应商合伙欺负消费者，只听供应商编瞎话，自己不会动脑，查高德吗？知道今天长白山什么情况吗？晚上快9点的时候还有游客没有下山，因为摆渡车不够用，和我们今天早上情况是一样的，连车都不够，下午几个小时天池一直因为人多不能上山，就这情况我不知道供应商的瞎话半个小时从火车站到摆渡车的神话怎么编的让携程的客服们这么相信，我也是服了，我的钱就是不要了，我也要一直投诉，这就是霸王条款，不管你同不同意退，这种情况都是不合法的.不是很差是极差，景区不让上跟我们有什么关系，为什么其他平台根据今天的情况都能退票只有携程不能退？无良的供应商还各种借口，告诉我预订的票都能进，别人预订的不能进？难道携程就能尽量，编瞎话也得编个像样的，第一次说游客8点到8点半就游完了，欺负我没去过呗，我爷8点出发为啥8点半我才走到买票的，而且被拒之千里之外排队，看着保安无法控制局面，外面没有大巴车所有人焦虑的等待，告诉告诉我怎么做到的？第二次打电话又变卦，行，给你个机会圆一下，你倒是说个符合常理的，说游客8点下火车，8点半就排队上摆渡车了，问其他平台订单人没有一个说不能退的，告诉我一分钟就到账，有的被推第二天有的直接退票，这个票千万别买，景区有VIP不用排队，而且三天内两个坡都能重复使用，携程的不能，我说完我的遭遇所有人都不敢相信，我自己都不敢相信这是携程干的，怪不得我朋友都不推荐用携程，这回找到原因了，霸王条款，霸王态度.必须差评，今天长白山人超级多，早上八点半到的，门口堵了20分钟，到排队的我一看，里三层外三层，早上7点前的还没进去，场面相当混乱，工作人员说我这八点的估计今天够呛了，因为已经没有大巴车了，VIP和包车也都没有了，我带的老人和孩子肯定不能在这赌，因为是景区原因要求退票，一直到晚上也没回信，而且我问了好几个人，有一个官网预订7点半的都被告知进不去，景区直接就给退的票，还有**定的说明情况后马上就给退了，商家竟然给我打电话说他的客户今天8点下火车，8点半就上山了，当时官网定的都在场连保安都说开什么国际玩笑，难道是坐火箭去的？不想退就直说，编这种可笑的理由，拜托你早上高德一下景区门口提前多少米就开始排队了？车进去至少20分钟，走路得30分钟，排队至少4小时，无良的商家无良的携程，真的是做大了不知道怎么服务了，还记得上大学时在机场里求大家办会员的场景，一晃十几年了，以前一直信任携程，最近的几次体验太差了，太失望，拜托学一学京东和**，现在连***赶不上了，怪不得周围没几个定携程的，一打听就我自己定了，由于今天早上人太多可能给老人累到了，去西坡的路上都已经休克进医院，我都不敢想在那种混乱的情况下，如果真的排队一上午再进不去孩子和老人会怎样，无良的商家态度非常恶劣的问我都去了为什么不上去？我想说还能要点脸不？别人预订的上不去，我预订的就能上去，还问我为什么不排队等，我真想大骂一顿，太不要脸了.景区内车很多，服务态度好，不建议人多时来，要排好长时间的队。.价格较贵，不包括上主峰的，害得我重新返回买票.不同视角的天池很壮观，小天池，瀑布、绿渊潭、聚龙泉、地下森林各具特色，是一次难忘之旅。.打电话问客服咨询，客服说不清楚直接挂电话，.别来了不值得，为这一潭水来回买票坐区间车三个多小时，每次都要倒三次车.长白山就不用说了，很漂亮，盘山公路比较多，坐车上山难免有些颠簸，不过有女朋友的陪伴，对着长白山旅行的期待总是快乐的.大骗子，从早上五点半到12点连去天池的车都没坐上，除了排队就是走路，骗局一，坐环保车直接拉到瀑布广场，从车站到瀑布广场1000米，如果不去就接着坐车到下一站再换乘去天池，每次换乘都要等半小时，另外分导人员极其不负责任，告诉人们走路20分钟到下个站点，排队等车要一小时，所以人们都选择走路，可是走路要一个小时。骗局二，小天池就是个小水坑。.很漂亮，天气很好，能看到天池全景.天气特别好，看到了天池，不虚此行。地底森林没有去上，天气好不开(･∀･)天气不好才开，看完这条规定真让人无语╯﹏╰.赶上了好天气  天特别晴  就是坐车好累.性价比高，天气好，看到天池了，赞.很幸运看到了天池，去长白山北景区最好在二道白河中转，吃住行都方便，可以关注长白山微信公众号了解相关信息，从二道白河打车去山门单程60元，要是能拼车去也很划算。.运气很好看到了天池，9月中旬至9月底不会下雨的时候基本都能看到天池。大家可以关注***公众号了解相关信息，最好从二道白河镇中转，吃住行都方便。.比较方便吧。一路几乎没有等待，玩的不错。.无与伦比的景色竟然遇到了，十一下雪，天空放晴，震撼天池美景一览无余，而且山上一点不冷，非常舒服的阳光晒着，一点不冷！.不错的景区服务，还会再来的，再见！.昨天去了，长白山北坡。天气不错。能看天池，心情棒棒哒！长白山风景不错，流山玩水的好地方。但天池海发高天气冷。多拿点儿厚衣服就行。.风景非常优美，各项服务都很到位，来玩的游客很多。赞一个，下次还会再来。.一年最多上来十多次，亲戚朋友客人来了就安排长白山，各种天气的天池都看过，有种要来吐的感觉，但是看看天池的景色呼吸下天然的森林氧吧心情非常的好.长白山上幸运地看到了天池，并提供了方便的服务,玩的很开心，好评.总体感觉还可以外，因为名气大，所以管理有点强势。山顶上看天池的最佳点，拍照被强制付30元才能拍照。.这里风景很美，如诗如画，运气很好，看到了天池，西坡北坡都看到了，天池很蓝，不真实的美。很多朋友怀疑我P图了。绿渊潭也很漂亮，秋季层林五彩缤纷，好看。不过西坡的锦江大峡谷，因为树木枝叶挡住视角，观景体验一般。.秋天的长白山特别美，尤其是下过雪以后的景色。延吉的美食也很多，主要是朝鲜族风味。.实拍无滤镜，忽略渣像素，真的是无法用言语来形容它的美，一种很独特的美，不是壮观，不是雄伟，不是霸气，而是令人深深的着迷，一个让人忘却烦恼的地方，不得不感叹祖国的大好山河.订景区门票建议在官网上订购，其他网站订票需咨询好时间。以免耽误行程。.历史悠久，峰顶常年积雪，白雪皑皑，天池风景如画，云雾缭绕，很美…….一般呼呼呼呼呼呼呼呼泸沽湖柜台上↑上就会T1T1T1回呀啊呀那咋整泸沽湖不阿姨了瓜娃我困困求***你啊绥滨妈呀咯咯啊咋啦呀剔骨鸭阿姨来呀阿库娅娃娃.由于天气原因天池关闭 不给退票 官网订是可以退票的.再累也值得，因为景色真得是太美太美了！.吉林长白山是一座休眠的活火山，风景优美，其中天池是最令人向往的，能否看到天池既要看天气也要看运气，这次我就碰上了大风，天池被厚厚的云层遮住，不过当我到达观景台时，一缕阳光忽然透过云层，天池开始若隐若现，云层逐渐变薄，天池终于漏出了真容，围观游客一阵惊呼，但仅仅几秒就又再次沦陷了，天池就像深闺中的大家闺秀，让这么多人对她趋之若鹜；北坡景区比较完善，除了天池还有其他美景，长白山瀑布、温泉、小天池、绿渊潭、地下森林，各有特色，给人美的享受。.吉林长白山是一座休眠的活火山，风景优美，其中天池是最令人向往的，能否看到天池既要看天气也要看运气，这次我就碰上了大风，天池被厚厚的云层遮住，不过当我到达观景台时，一缕阳光忽然透过云层，天池开始若隐若现，云层逐渐变薄，天池终于漏出了真容，围观游客一阵惊呼，但仅仅几秒就又再次沦陷了，天池就像深闺中的大家闺秀，让这么多人对她趋之若鹜；北坡景区比较完善，除了天池还有其他美景，长白山瀑布、温泉、小天池、绿渊潭、地下森林，各有特色，给人美的享受。.长白山风景区位于吉林省二道白河镇的北面，景区分为北坡西坡和南坡，是国家5A风景区。其中主峰最出名的当然要数火山爆发造成的天池。冬天白雪覆盖，春夏鲜花盛开。景区门票105元不含环保车，同时如果需要上天池则要另外购买80元一个人的票，乘坐大吉普车上顶峰，包来回。.景点人很多，感觉排队的时间太长，不过长白山天池真的很美，还是值得一去的，就是在携程网上买门票居然比在现场买还贵五元.去天池时转弯秀车技，晕车的人要注意.门票这么买很合适，有车接送非常方便，司机是老司机，本地人，还给我们推荐饭店。.人品大爆发，看到了壮观美丽的天池！建议在初秋以后去长白山游玩，那样就可以大概率看到天池，而且满山红叶，此时红红黄黄绿绿的特别好看！.景色不错 就是天池车票比较坑 建议乘车点给个天池实时影像，当然这样估计很影响收入.省心省力，客服服务很好，时间安排余度充足。.天池很美，每次倒车排队买票都很痛苦.感觉非常好，天池很壮观，不过上山车票要到景区里买。有机会会再来的。.在这里定的这个220的 都包含啥我说下哈 门票钱 从二道白河到山门的大巴(往返)，从山门到除主峰外的景点通勤大巴。想去主峰得交80/人门票，12座小车载你去主峰天池，说三遍！说三遍！说三遍！整个北坡景区都游览得花300左右，希望对泥萌有用。.首先得说用携程买票特棒！；转车耗时间，三次等车一次比一次等得时间长；车辆设施，大巴、摆渡车都不错挺舒适的。去天池再花80，回来坐的车子减震特差坐得特难受；景色一般，就天池相对有点新鲜感，其他的风景就一般.去长白山，就是坐车，累，不过团购的票还是挺给力的，天池美景看到了，很不错.长白山景区是吉林最有名的景点，长白山天池真的非常漂亮，据说冬天会更加漂亮，去长白山一定要泡温泉，非常的不错，推荐一下啦。.建议大家还是去***买票，在携程买票不能退，如果下大雨了你根本退步了，硬着头皮往上山上，小雨都看不到天池，别说大雨了，200多块钱就白花了.车接 车送 很好的服务体验 不错.***.工作人员太度非常好，交通便利，卫生干净。.上山前听听，对毎个景区都有些了解.很好很方便，只是还有一段上主峰的车票需要另买，提前买就图方便快捷.携程现在不正常做生意了，订票后发短信告知凭身份证入景区，大清早当地电话要验证码，说出票，疑似骚扰电话，问携程客服，客服说不用理这个电话，结果到景区扫身份信息没有，门票没预订成功，有找当地的电话，才给办了票，携程的服务太*了，票价比景区还高，用了好几年携程，越来越*，携程准备**.很坑。携程上门票比景点卖的还贵。虽然贵的不多，但是还是贵。.明明门票有效期是72小时，结果第二天不能用了也不给退，详情页也没有说清楚具体，导致我白白亏了两百多块钱.长白山的门票可以去两天，所大家可以在长白山下住一晚第二天继续，不然一天游玩太匆忙，而且太累了！.第一次来长白山，总体感觉不错。介绍和实际相符。.很好很美丽很大很优秀 很便宜                                                            很美丽.看到天池啦 天气很好 服务很好 .太差劲儿了，你们穷疯了吗？我订完有个联系我说预订时间上车，后来，直接包车上山的。然后说票已经使用了。我使用**啊？查查当天监控看看我在没在车上？.该景点值得一去。遗憾的是有雾没有看到天池。.总的来讲，门票、摆渡车不贵，上山的环保车较贵，长白山天气变化太大.其实景区不是太大，却反复收交通费，包括旅客中心、景区内交通（不含天池），去天池交通费，结果就是门票100元出头，交通费将近200元，而且游客中心～景区中心站，景区中心站~天池只能坐一次车，游客中心停车场也要交20元停车费，感觉景区是想方设法捞钱!天池雾大啥也没看见，除了绿渊潭景点还不错，其他景点太一般了.人超级多！超级多哦！带孩子来的，真的不建议！人多，容易发生磕碰啥的不安全。而且坐车时间久，容易不舒服。.人很多！！！携程的价格比**卖的贵十块。然后排队等第一个车的人巨多！巨多！！！！相信我！然后还要花钱再买车票，坐车。感觉竟坐车了.去的时候听朋友说，长白山天池风光秀美，但不是每个人都能看到。我们就想去碰碰运气，可天公不作美，没看到天池！有点小遗憾，山下其他镜色还不错，还是值得去看看的！.天池风景区值得一去，环境优美，设施完备，风景优美，满意！.景色很好，就是吃的太少了。没有特色！.服务很好，就是转三次车太浪费时间了.全家人出游、一站式服务很贴心很好.符合心理价位、一站式服务很好很省心、.项目描述根本就没有约定的具体出行和到达景区时间，只是圈定了一个时间范围：早8：00—下午15:00，让我们误认为只要在他们圈定的这个时间内出行就可以。完成交易后，钱款交完了，发来信息让早上八点半至九点半之间必须要进入景区。与客服人员沟通，态度蛮横，告知如果迟到了，那就不管了，然后就把电话给挂了！！.项目描述根本就没有约定的具体出行和到达景区时间，只是圈定了一个时间范围：早8：00—下午15:00，让我们误认为只要在他们圈定的这个时间内出行就可以。完成交易后，钱款交完了，发来信息让早上八点半至九点半之间必须要进入景区。与客服人员沟通，态度蛮横，告知如果迟到了，那就不管了，然后就把电话给挂了！！.记住西坡北坡是通票 不要买重复了 退起来很麻烦 两个景区都值得去 人品好 第一次上去就看到了完美的天池景观^_^很是激动呀 路上拍到空中天池 厉害吧.风大，到了买去主峰车票的地方可以感受一下，觉得冷就租大衣吧。.长白山景区要想看到天池的话，还是要看缘分的。我们这一天去就没有看到，只看到了浓雾，而且山上真的是风很大，很冷的，一定要多带一些衣服.由于订的住处离景区近，离北区集散地较远，没能在指定地点上次，导致摆渡车二次消费。以为摆渡车为到景区后的服务，其实是离景区20多公里远的市区，但既然摆渡车是统一一个公司的，为什么就不承认我的票，反而要求我在车上买票，退掉网上购买的票，感觉携程与景区应该再做沟通，保障游客权益.订票后客服第一时间就电联通知我们行程安排，很负责任。建议大家如果是高峰期就早点去，因为到那还要排队。.长白山景区值得去玩一下，非常有特色，天池，瀑布，地下森林，都值得一去。但是建议大家先到官网看看相关信息，包括价格等信息，不要轻信广告。2019年8月11号官网成人全价门票105元、大巴85元、摆渡车20元，全部加起来是210元，我是按套餐220元购买的，各位多多比较，谨防上当受骗。.方便，快捷，客服态度好。很不错。.方便 便捷 免买票排队。满意 满意.景区很不错，下次还会来，还会选这家.门票135,进门就要坐车85,到半山还要坐车80,看到天池要看人品，一般人看不到，我也只是看到了1分钟，然后又被雾给遮住了。.人特别多，风景非常秀丽，令人神往，值得花费时间和精力去看一看，不会，国家第一批5A级景区，从山脚下的高丝林，再到中间的灌木丛，再到上面的小树丛，一直在最上面的草丛，一只山顶的没有草，让人们感受到植被变化非常明显。.定票时没有体现预约时间的事项，还是自己及时发现，要不根本没人管。电话咨询携程相关人员对预约事项也爱理不理，如此服务，祝携程早日****！.人巨多排队巨长，北坡共排了3h，风景不错，过山车也不错，景区限流，提前2天买好很重要，否则计划可能被打乱.着急购买了3张220元成人票！忘记了队里有一名超过60的老人！询问是否可以换一张！被告知“出票之后退票有10%票损”买票不到10分钟！到了现场工作人员告知长白山门票没有和任何机构进行合作！现场直接买票还便宜5元！.长白山天池风景区景色很美，值得大家去旅行.还好 。。。。。。。。。。。。。。。。。。。。。。。。。。。。。。。。。。。。会。。。。。。。。。。。。。。。。。。。。。。。。。。。。。。.美丽的安图，神奇的长白山！我魂牵梦萦！.西坡北坡都去了，还都看到了天池！惊艳啊！西坡北坡不需要重复买票，景色和车程都完全超值啊！感触最深的还是长白山景区管理非常的成熟和规范！上山下山那么多班车，各环节交接井然有序，每隔一段都有安全员卫生员，一有不文明行为及时制止，垃圾什么的几乎看不到。那么大一座山，到处干干净净，真真下足了功夫。我们带着孩子有些特殊，每一次乘车都有人员主动上前带我们走绿色通道，超级感动！比心！.摆渡车排了两个小时，山门排了两个小时，环保车直接把我们带到温泉广场，等到逛完温泉广场和瀑布来到换乘站的时候，倒站车车票限购，排了一个半小时都没买到，此时已经近四点，果断包车去山顶，如果继续等80元一张的倒站车那么今天肯定是上不了天池了，而2600元10个人的包车却可以直接上车，翻了三倍多，还好看到了天池，景区一天能接待多少游客应该有个数吧。.表达的非常清楚，北坡西坡都要去，没有一个人告诉我惠民政策买一份就行，真上火，还是我自己发现的，然后也不给退！恶心！.游玩长白山是比较辛苦的事情，但还是挺值得的。网上购票还是需要的，不然从山上下来就没法回集散中心了。如果包车的话一定要谈好回去的价格，不然到时候只能被司机漫天要价了。刷身份证还是挺方便的。.大爱长白山，买门票方便，直接进入，可惜赶到这边下雨没看到天池。.方便省事，服务周到，节省时间！！.除了排队就排队，根本接纳不了这么多人，排队秩序混乱，使游客之间经常发生冲突.挺好的，终于看到天池了，幸运之神眷顾了我，再让我选一次我一定选环保车和倒站车，这样就不会耽误时间了，第一次去做了好多冤枉的事，从携程上订票真的很方便，还有携程微信群也很不错，万能的活地图^ - ^.还好吧！！！！！！！！！！！！！！！！！！！！！！！！！！！！！！！！！！！！！！！！！！！！！！！.到哪儿都排队，整一天时间，很不方便.一共买了四张票，二张成人，一张学生票，按携程的说明为7-18岁，还有一张票是6岁以下或者身高1.2米以下，这张票价是115元。我还特地电话联系了携程当地的服务人员，问四岁的小孩是否凭户口本进入，回答是的。（可能会有人认为我缺乏常识，不过我是第一次在携程上遇到这种事。我使用携程很多年了，还是比较信任携程的，所以看到这一款产品当初并没有怀疑携程方面有问题。）问题在于经景区现场工作人员确认，身高1.2米以下儿童是不需要任何费用的，不管是门票还是车费都不需要。个人认为携程对于不需要收费的项目且没有提供任何服务和帮助进行收费是违反基本的职业道德的。从携程本身发展的角度来看，也是一种并不聪明的做法。.买了5份语音电子导览，结果就发来4份，沟通无果只有作罢了。从早上七点半开始从集散中心等车，到晚上六点半回到集散中心，全天都在坐车，并且是燃油车，乱糟糟的一次旅行游玩。.景点可以，就是这摆渡车票是不是太假了，根本就不存在的.很好景色美。值得一去，出票快省时间.景色不错，天池摆渡车票不包括，80每人.来这一趟1000多公里真的不枉此行.网上购票不用在集散地排队买票很方便。.出租车接送很及时，我东北小哥就是很nice.沿路景色秀丽，换乘站人很多，下大雨等了一个小时。但是雨过天晴还是看到了天池，不虚此行！有很多人说会看不到，我抱着忐忑不安的一颗炙热火热的心，坐在换乘的7座汇众小客车上，一路在司机熟练又不失惊险的行驶当中一路向上，朝山顶天池的方向奔驰而去。我怀着忐忑，不安，憧憬，向往，幻想，期待的心情一路之上左顾右盼。看着祖国的一片大好河山，我此时此刻的心情十分，不，是万分，不，是全分的激动。我恨不得能背后长出一对隐形的翅膀，让我翱翔在这美丽的天地之间，后来一想我好像有点恐高，算了吧。雨停，到了，人多，排队，等。看了，走，坐车下山。.用起来是挺方便的 购买这个之后只需要再买一张去往天池主峰的车票就可以了 我是一家三口一起去的 购买了两张成人票一张学生票 结果出票出了两个时间 真的很烦 不能一起进 之后找客服反复确认可不可以一起进 客服说可以 结果到了当天景区的工作人员说不行 我自己又在那等了一个小时 真是醉了 .去的时候是秋天，赶上下雪了没看到天池是一个遗憾.长白山是吉林当地最美的风景名胜景区。.值得去，山上山下两种气候，天池很兰。.很好，玩的很开心，下雨有点失望。不过总体体验很好！.24号上山，下大雨，山顶大雾，没看见天池，很冷，空气好。建议到***公众号上购票（门票+车票），原以为这里订的会是团购便宜价，没想到竟然是加价不少，太坑。除了帮买下票，没有任何服务.回家睡觉随便你几句话大呼小叫十几年你手机手机睡觉睡觉几点回家大小姐生机勃勃多好多好的好的吧哈哈哈红红火火恍恍惚惚哈哈哈哈.好好的吧苏随便吧大姐姐的VR测给娃就好上市公司v是不是就多大好吧啥不抓紧时间血红蛋白随便拿大家都好充电宝等到你.玩的还不错。天气很好。天池也看到了。就是人很多。.长白山是东北最值得一去的景点了.选对天气依值得看，壮观的很，.真的超美，还要再去！，雪很大，要带墨镜才行啊空寂无人的山岙，留下了历史的强蛮。想起李白、苏东坡、王安石这么多年过去了，余秋雨文章里一样清寂。.好看是真的好看，无敌好看\\n北坡主峰上山的车子过于刺激，也基本上直接顶到天池附近，大幅度节约体力，这点给好评!\\n但是你看上去的景区门票不是真正的景区门票 按照你准备看天池为基础 大概是门票+环保车+主峰车且票为必须购买不能选择不买，价格还很高 差不多300+吧，不买票也不给你走的计划 是直接不能参观的\\n景区内部车辆准备不足，我是稻米节去的 等了那是相当久的车子，这点还希望努力哦\\n【性价比】.喜欢长白山，滑雪爱好者嗯雪景非常美超级好玩.景点不错，唯一坑在票上。出来旅游头一次听说在这上面提前订票还不能退的那种，居然还要多收费。也许怨我不清楚票价就订。可是我也是相信这个软件可以给我们带来便利和实惠。居然卖高价，单价单买高出30元一个人的总价。良心何在.长白山位于吉林省中朝边境，长白山的北坡，西坡和南坡属于我国，东坡在朝鲜境内。北坡开发的比较成熟，景点最多，人气旺；西坡开发晚，夏季景点稍微多点，冬季只有两个景点，锦江大峡谷和天池，能不能看天池还得看天气。西坡胜在人少清静吧。南坡处于待开发状态，开放时间比较短。.去的是长白山的西坡，一天中体验到了风 雨 雷 电 冰雹 大太阳.一般吧，时间很短，聊胜于无而已.长白山的美，任何地方都替代不了。天池更是冬季去一次，夏季去一次，两季的风光无限。白雪沙沙，细细腻腻。绿草如茵，欣欣向荣。.长白山景区主要分为北、西、南三大景区，分开售票。天池是长白山的必赏之景，也是众多游客心中的祈福圣地。此外，还可观赏山上的长白瀑布、高山花园、锦江大峡谷、谷底林海、高山温泉等众多自然美景。.人生值得一去！太壮观，太美丽！而且上去必须依靠一定的体力来完成。一览美景！.查好天气再去，一张门票可以使用三天，非常合理.值得一次或多次前去观看或登山体验。长白山北坡西坡和南坡我都分别多次多年登山体验和拍照，因为我非常喜欢这座山。\\n   四月份摄影人就开始进山拍照了，直到深冬。.这次是去临江的时候，然后跑了几个小时到了长白山，这里的景色真的是超级美，景区也太大了，各种美景都是非常的多的，尤其是山上面的天池，真的感觉到太神奇了。.长白山天池真的很好看，我们第一次去就看到了天池的全貌，有好多人来了好多次才看到，因为只要天气是阴天就看不到全景，会有雾气，天池那里会有点冷，建议多穿些衣物\\n【景色】很好看，高山湖泊。还有一些别的小景点，坐大巴可以一路玩过去。\\n【性价比】不是太高，门票有些贵，而且还要单买大巴票，有点重复收费.景区很成熟管理很好。但北国假期旅行社太差，O隐形购物，景点给时间太少。影响心情.去过三次了吧 非常喜欢长白山 森林茂盛 自然的感觉 负氧离子很高 建议包车前往.很值得去 白白的风景美 下次还会去.很美\\n【景色】我很喜欢心情很好.正好去临江的时候，就去了一趟长白山景区，也是跑了两个多小时，但是真的没有白来，被这里的景色美到了。而且长白山景区的景色非常的多，也是很大的！.一共去过两次长白山，冬天和秋天。冬天不必说，积雪的童话世界，值得一提的是秋天的环长线也太美了。路边偶然经过的秃尾巴河、锦江大峡谷，念念不忘。.当天山上凄风苦雨，没看到天池。单山下的景色很好，原始森林里还看到了松鼠.长白山是一个非常值得来的地方，他的景区真的非常大，而且都是一些自然形成的景观，不管是雪山还是一些茂密的植被，都非常的漂亮，而且这里的空气真的是超级的新鲜，让你呼吸每一口都觉得特别的舒服。.母亲节活动门票加环保车，好像还有二道河镇车，自驾去的没坐，共108说是半价，现场买票才105+85，平台上125+85，活动可以，但是没有活动就买亏了.长白山的景色没得说，但是到那游玩最好自由行，自驾去最好，景区里面没有缆车，只有景区大巴，从山脚到山顶景色很漂亮，只是很多东西都是人为的。.我非常喜欢长白山景区。曾经列举了中国几大名山，问过很多朋友：泰山、黄山、张家界、长白山，单纯看自然景观，最爱哪一座？朋友大多选择黄山和张家界，唯有我选择长白山。我喜欢北方的山，北国风光，千里冰封，万里雪飘，这种壮美的河山才是我的最爱。.冬天1月份去的，需要坐雪地摩托车上山。.冰雪中的长白山十分惊艳，令人赞叹。人类对火山的感情，就像对爱情，又敬畏，又憧憬，又恐惧。不考虑人文历史宗教信仰因素，仅从个人审美角度看自然景观，我喜欢东北亚火山远胜过东南亚火山，比如富士山、长白山、汉拿山。.我是自驾游来的，住在二道白河镇，买的这个套票，强制性的带有摆渡车，实际上我们去景区门口买票更划算，携程订票没有一丁点优惠到，好多花了四个人的摆渡车钱。景区也就那么回事吧，东北人自己支持一下。.太坑了，230我们自己开车去的山门，都没说清楚，而且里面要去天池还要没人再另外掏80块的车费，携程没讲****明白，在**也不会在这里订门票了.风景很美，盘山路很刺激，遗憾的是没看到池.很出名的景点，人也很多，景色真的很棒的.长白山我去了三次了，还没去够，北坡和南坡都不错，据说可以从山脚下走到天池边儿.天池长白山景区位于吉林省东南部, 作为国家5A级旅游景区，无论是夏季避暑，还是冬季玩雪，都吸引了众多游客到此一游，不过天气不好是看不到天池的哦.真是个不错的天然氧吧，空气真好。天池是冻着的，不过看得跟清楚。.长白山是一个非常大的景区，而且里边有不同的景点，尤其是上边的天池是非常值得你去看的，那天由于天气原因没有上去也是非常遗憾，但是山下的景色也是特别的美。.现在长白山值得一去，四季分明，冬天温泉滑雪，夏天山花烂漫，山珍野味，散散心还不错，当地的山泉直接罐装农夫山泉，蘑菇木耳人参都不错.被忽悠大发了，司机小哥跟我说冻死我，结果跑来景区租了大衣80，护膝80，鞋子又80，门票210，然后跟我说天池不开放，除了风大点，我的装备完全够用好嘛，山上只有0度，还没有上海的冬天冷.推荐你们冬天去 因为冬天去可以滑雪。而且是天然雪 不是人造的.其实就是爬山，西边山坡爬一次 北边山坡爬一次，都看到天池了也没怎么样，要不是有信仰的韩国人不会有什么感受。.长白山旅游四季皆宜，时时各有特色，各具魅力。.有一种世外桃源的感觉，值得去看看。.去东北的时候走了1000多公里，顺路去长白山看了一下，真的是超级美极了，而且景区真的是超级的大，所有的景点真的是都非常的漂亮，而且整个景区给你就是非常壮观的感觉，非常值得一看！.长白山是5a级景区，长白山机场也是第一座森林机场，坐落在离西山门不远处。整个景区非常大，大到只能乘车，环保大巴来回85元。春季去的，山上的白雪非常不错，只是去的两天都是天池关闭。运气不好,,Ծ^Ծ,,.长白山景区给人一种非常震撼的感觉，景区超级的大，而且各种树木山林还有瀑布是非常多的，而且每一个景点都是那么好看，一直以来就喜欢这里，这次终于看到这么美的景色了，很高兴！.天气好的时候值得去，看运气！！.匆匆忙忙的上山，匆匆忙忙的下山，冬日不建议，没啥景色，春夏秋好点吧，山下很美.去年就想去的，没去成今年一定要去，看长白山天池，喜欢长白山的寓意长长久久白头到老！.从安图包车到长白山门口，路程需要大概三个小时。进入景区乘坐大巴车，下车之后，当我站在山下，不禁惊叹大自然的伟大与人类的渺小。当站在山下的一刻，我的感受是人本身应该降低自我感觉的重要性。感受大风吹过，经历山河洗礼，人间值得。.景区真的是超级的大，而且特别适合慢慢的去欣赏这种自然景观，尤其是窗台山顶和天池景区，真的是你意想不到的惊喜，而且无比壮观。.清明假期参团长春长白山旅行团，景点真挺不错，值得一去。参加这个团有缘让我们相识，因为有缘让我们能在一起游玩，虽然时间短暂，但和大家在一起相处的这两天很开心，也感谢美女导游刘函的热情讲解介绍，各方面关心以及一路相伴。我会把这次开心的旅游留在我美好的记忆，祝各位朋友你们永远幸福平安！.一路的云海，如果晴天天池仙境尽展碧蓝，真的美。.人生非常值得一去的地方！但是看不看得到天池，就看个人人品了嘿嘿.长白山是特别大的一个山西，所以说它的景色肯定是特别美的，这里大部分都是原始森林，而且森林覆盖率极高，山上的各种景色都有，尤其是上面的天池，特别震撼的感觉！.非常干净，就是游客人数太多，山上排队过长.这里山清水秀，植被茂盛，景区主要分为北坡、西坡（还有一个南坡，但是不长开放），这两个景区都能看到天池，景色不同，每个景区游玩都需要一天时间。.很好的消费体验，在携程办理很便捷.这个门票好几百块全浪费了，携程不可靠，太坑了，在门市哪里是免门票的，从携程订了3张票好几百块全白费了，还不能退，携程真是太坑了，以后再也不会在携程买任何东西，携程太让人失望了！.长白山真的其他地方没啥好看的，直接上去天池就足够了，而且天池相当的神秘，据说每个季节不是经常能看得见的，特别是雾大的时候。冬天结了，冰上去的话看到的是一个平白的冰面。.有点忽悠人，产品标头和实际不符。**这次是我最失望服务。极差.还可以，算负责任的帮我们订好了票.***.很美丽的地方，大自然的空气很舒服.是东北地区最美的自然风光景区，巍峨高大，壮丽无比，因为海拔较高，终年积雪不化，而得名，同时这里也是中朝两国的界山，有界碑供游客拍照留影。.风景超美 自然环境保护很好 值得再去的好地方！.長白山上的好兒郎，這首歌琅琅上口，終於來到了長白山，一片白茫茫雪地，亞熱帶地區的人難道來到這裡，還到採蔘人家做客，買了整顆人蔘，也了解人蔘的特性，真是收穫滿滿啊.之前带妈妈宝宝去游玩的 风景很美 门票也划算 当天购买超划算.2018暑假去的，台风大雾前后两天封山，中间抽空去了，天池肯定没看到，喜欢绿源潭，一潭碧水，清澈见底….大雪纷飞的长白山，厚厚的积雪覆盖了整座大山，勾勒出一幅幅美丽的山水画！！大雪封山上不了主峰\\n雪地摩托太野了 喜欢喜欢！氤氲缭绕、天人一体、旖旎景色如仙境，仿佛到了原始社会的远古世界！.很坑，门票都不用收费，摆渡车用不着.很好玩，值得过去，自然的气息。.时间太长忘记了好不好，有的时候网上标注的不是很明确.夏天去的，风景很棒，一山看四季，长白山是欧亚大陆东岸的最高山系，地势高，地形复杂，等温线大多呈南北向与山脉走向近乎平行，气温随高度降低明显，自山下至山上，在不同的高度上存在不同的气候类型，形成明显的垂直气候带.五月的长白山，树木已绿，却缺少了鲜花朵朵。乘坐景区游览车到达了天池，当天天气很好，天池清晰可见，冰雪还在覆盖，对面远处的中朝分界线也清晰可见，当地朋友说我们的运气很好，有些人去几次也看不到天池，经常是白雾茫茫。长白山还有个五彩泉，泉边有卖热矿泉水煮的鸡蛋，很有名。山上的森林很深，要走很长的路，植被很茂密，尽头是深不可见的深谷。虽然只是匆忙一日，见到了天池，却是很幸运。.非常棒，雪非常厚，冬天去太梦幻了！！.景色宜人，我们分两天从西坡和北坡上去的。一天是烟雾蒙蒙，天池随烟雾浓度时隐时现；一天是晴空万里，天池景色尽收眼底。当地人说我们的运气超级好，天池景色不是谁想看就能看到的。.长白山景区森林茂盛，大树参天，特别是在秋高气爽的九月长白山色彩斑斓，风景非常优美，空气特别清新，行走在上山的途中享受美丽景色，心旷神怡。.如果身体状况允许。又耐寒的话，冬天的长白山更是景色迤逦优美。一片银装素裹，到处是白色的世界。一定要注意防寒防嗮，特别是雪盲症，最好要佩戴墨镜以防万一。.-30度 超级无敌冷 瀑布去了一下，天池带娃不敢去.长白山景区真的是没的说，因为这里的树保护的都特别好，原始森林一样沿着小路一直爬上去，能够看到各种美景，而且天池的美景非常值得一看。.凡是跟一山一蓝沾边的全部是骗子，长白山根本不要门票，是免费进去的，还卖这个票，携程也不管制一下吗，完全欺骗消费者，然后出票和加我们的客服是一山一蓝的工作人员，目的就是卖一山一蓝的温泉票，环境多差，态度多差想必已经看到过很多评价了，也不是什么天然温泉，就是一个澡堂子，位置还特别特别偏僻，又荒，回来根本打不到车，进去了还不给浴巾不让泡，非让去买他那里的泳衣，这种严重欺骗消费者的心因为，我会跟携程平台投诉，希望重视.冬天去免门票，只需要大巴车和去主峰的越野车车票。大巴车85带保险，越野车80在换乘中心买票。冬天如果下雪主峰可能会封闭，最好当天去之前先打电话问问一下客服中心。04335742286.冬季的长白山景区开放的地方并不是太多，而且门票也没啥优惠的，来这里游览的都是南方的游客为主，因为南方人到北方看冰雪的，感觉特别好。.我去的是长白山天池北坡景区，到达山下的时候，正好一场倾盆大雨，瓢泼而下，本来以为到山上肯定看不到天池的真容了，可是，我们运气真的好，到达山上后雨已经停，还看到了美丽的天池。\\n北坡景区的其他景点也不错，长白瀑布、u型峡谷等都值得一看，可不要错过哦。\\n一定要安排一整天时间，在景区慢慢玩、慢慢看，充分领略长白山的好风光。.我在海拔2700米的这里穿羽绒服加棉大衣还冷，感觉在北极一样，我这身材大风都能把吹跑，还人参呢，人都差点吹跑了，手脚冻木。.景色非常好，太漂亮了，莽莽林海，满眼都是绿色。我是五月份去的，山顶刚下完雪，可惜的是天池还冻着呢，没有看到天池的蓝色，但是雪有一人多厚，也是另外一种风景.长白山景区具有东北粗犷之美，也不乏南国秀丽之色，冬季的雪景就更美了！.冬天的寒假带小朋友去滑雪，第一次小朋友接触雪橇是在猛犸象山，没有任何教导就做缆车上下了，后来和同学在6年级去北海道请教练了2小时，没有教练一样缆车上去，长白山正式请了3次教练，所有坡都上了，今年春节带小朋友再去.长白山风景区比较大，分为北坡，西坡和南坡。三个景区距离比较远，要分别游览。我去的是北坡和西坡。北坡景点比较多一些，上天池要座到站车。有幸在北坡看到了天池的真容，很不错。西坡看天池要爬一千多的台阶，在高原上还是挺不容易的，好容易登顶结果没看到天池，挺遗憾的。.1993年7月和2018年7月份分别去了，都看到天池了,很幸运!!.很壮观的山，原始森林植被保护得非常好，建议秋天去，路边全是惊艳的，火一样的红叶，山顶有微薄的积雪，脚边是温泉的热气，土壤是黑色的，用壮丽来形容绝不为过。.长白山是鸭绿江、松花江和图们江的源头，长白山景区是拥有“神山、圣水、奇林、仙果”等盛誉的旅游胜地，是国家5A级旅游景区，长白山景区内森林密集，大树参天，色彩斑斓，层林尽染，风景非常优美，空气特别清新，负氧离子含量特别高，行进在森林里不仅可以享受大自然的美景，而且给自己开启一段心灵之旅，让自己的内心保持一份纯净。.长白山，东北第一高峰，有千年积雪万年松，直上人间第一峰的美誉，在我国众多的名山中，长白山的纬度最高，其海拔和面积超过国内的一般名山，北坡的天池非常漂亮.长白山不错，网络订票能够快速入园~.还行好想好想好想好想很喜欢嘻哈嘻哈\\n.累啊，各种排队，也知道必有此结果，就一个天池，全国的游客去参观，只能这样安排。排了一天队，看了十分钟。.从携程***车、景区大巴、长白山北坡门票联票，要提前至少一天购买，很方便，刷身份证就可以了！.门票超划算，省去排队等候时间。.到达长白山西坡检票处进去，乘坐之前订的环保车40分钟左右到达景区，我去的时候是9月28号，人流量不算大，开始了爬1400多台阶，真是空气清新，但是不运动，爬着歇了好几次，到达了就开始拍拍拍，下楼梯回去真是累了，腿一直突突，不知道为啥，20分钟一趟的环保车人坐十几个人就返回了.这是我第一次坐在一辆奔驰旅游车的副驾驶上，不断飙升的海拨，直至2500多米，耳鸣症状很明显，坐车很刺激，不断的转圈，从换乘点坐车再到天池大概16分钟，中途在景区中居然有座坟，没敢拍照.大家定的时候注意下，长白山主峰因为下雪是可能封山的，如果提前订票封山的话想退票很麻烦，第三方好像是你放假他也放假，携程也不能马上解决。现场买票也许有时也不错。.一颗星都没有，服务态度超级差。千万别定,携程客服一点用没有。可以自己拼车，自己买门票。不用定。.长白山景区位于吉林省东南部，东南与朝鲜毗邻。长白山景区是国家5a级旅游景区，主峰长白山多白色浮石与积雪而得名，素有“千里积雪万年松，直上人间第一峰”的美誉，景区拥有“神山、圣水、奇林、仙果”等盛誉，也是满族的发祥地，在清代就有“圣地”之誉。.景区门票卖125，环保车85，池北集散中心摆渡车20。这里要34，坑爹，还不让退！9月中旬来旅游的千万不要在这里订，网上下载长白山app或者现场买有的是票，人不多景色美，这一次上当了。两人能省28！血的经验教训告诫大家。.慕名而来，景色非常好。也是来的很是时候，晴空万里。秋景绝佳，如诗如画。.景点的景色非常棒非常壮观啊，非常值得冬天去看看。.长白山景区那是相当大的，官方有西北两个景区，北区人气旺一些，西边稍弱。两个景区能从不同的角度看天池，各有千秋，可以都去。\\n还有南和东两个方向。南坡要有专业人士带才行。东在朝鲜境内，可以报个团过去。.不包含去天池的车费，不太好吧。.大家可以询问入住的酒店前台有没有车到景区。微信导游提供了很多帮助.环境优雅，空气新鲜，气候适中，周围风景迷人，性价比高，住着舒服。老板很热情，主要干净卫生，强烈推荐.長白山上的好兒郎，不怕風雪冰霜，這些在電視聽到的歌及畫面在眼前呈現，一片白雪忙忙、大雪紛飛的景象，對於來自南方的我們，真是太難得了。導遊還帶我們去採人參人家吃飯，順便認識人參採收情況，再買一些回家補氣啊！.北坡坐车有点辛苦，北坡太美了，西坡也很美.帮母亲订的 母亲说一路玩的很开心 也很方便.很推荐大家来这里走走逛逛，长白山分北坡西坡南坡，北坡靠近二道白河，西坡靠近松江河镇，南坡靠近长白县。活火山的温泉达到83度，碰巧遇到好天气。真是让人印象深刻的好地方，真是太美了，仿佛置身于人间仙境般，能有机会来到这个地方，真是人生一大回忆，感谢各位同伴一起一路相陪，又为我们的旅程划下更璀璨的新页！！！.长白山分南坡西坡北坡，西坡靠近松江河镇，离万达度假区较近，北坡靠近二道白河。一共去了三次，终于在第三次看到了天池，真是全靠运气啊~.去的长白山西坡，看天池的角度很好，1442级台阶没有想象中那么累，每级台阶不是很高，比较平缓，很多老年人都能爬上去。实在嫌累还可以坐滑杆。.长白山值得一看，环境保护的特别好，二道白河也是很好的疗养地方，大多数当地人实在，但是也有因为旅游旺季宰客的现象，这已经是普遍现象了.运气很好，第一次去就看到了天池，非常非常的美.天池带着神秘面纱，一睹真容需要缘份，活火山的温泉，天然美景让你感觉大自然的力量太神奇了………….方便，进景区后要想上天池还要花80元车费，不过很值像座过山车。.不要在携程上订票！不要在携程上订票！不要在携程上订票！去长白山要看天气，有时候会封山，携程不给退票，我们带着孩子冒大雨上的山！而且什么摆渡车，就是从二道白河镇到景区大门口，可是我们住在黄松浦林场，位于二道白河镇和景区的中间，车不停，票不给退，自己又花钱上的山！.这两天去了长白山，整个景区很大哦，我们去了锦江大峡谷和长白山天池，整个的景色还是不错的哦，就是天气下着雨，有点冷，长白山空气好.长白山果然名不虚传 景色很美好.几乎没有性价比，门票规则有问题，景点内排队时间长，除了天池其他都没劲.长白山景区位于吉林省东南部，东南与朝鲜相邻，坐落于长白山北坡，面积52.42平方公里。长白山景区是国家5A级旅游景区，主峰长白山多白色浮石与积雪而得名。景区主要景点是看天池，另有瀑布群、黑风口、温泉等景观。.还可以吧！ 就是人太多，人挤人！ 没法慢慢享受.不能单独选门票、环保车和摆渡车的组合，而且不能退改！.第一次来长白山，路上听导游说，由于天气的原因，大雾缭绕，来这里十次要有八次看不到天池，山上很冷，上山还要穿上厚重的羽绒服。心里充满了好奇，也想看看这次自己的运气如何？还是天公作美，在连续下了两天的雨后，第三天我们登山时，天空晴朗，白云朵朵，阳光充足，艰难地爬过一千四百多级台阶，终于如愿以偿地看到了久违的——长白山天池。看着一览无余，平静湛蓝的湖面，感受着大自然的伟大，不禁感慨，真是不虚此行。感谢天公，感谢携程，感谢导游！谢谢你们让我们完成这次完美的旅程！.不能退票，霸王条款，不保护消费者权益。差评，建议官网买票或现场买票。因为票价都一样.天气预报有雨，行程取消，携程不退票，糟心，没消费不给退票，绝对差评；这种不顾消费者权益的套票，绝对不能买，大家擦亮眼睛.长白山值得一去，摆渡车得去长白山大厦有点麻烦。返程还好到酒店门口。进山门还需要买80元主峰车票，人很多。景色不错。.等了两天总算看到了美丽的天池，值得.名副其实的天池，看到了就是赚了.时间错了，就没法退了，晕死，霸王条款.总体体验较差，上北坡的时候得包车才能上的去，西坡下来的时候根本没告知还有两个游客集散中心，只能说景区需要做的工作还很多.西坡还值得去看看，北坡就算了，不值得去，尤其是瀑布，周围光秃秃的，完全看不出大瀑布的气势。景点很小，没有特色。.景区跟漂亮，环境不错，就是收费太多，摆渡车加门票加环保车加登山车，四个收费才能到达山顶！算下来门票真心不便宜。.长白山的景色真的很美，天池的水真的很蓝。.景区环境不错，但是门票太 贵了，除了门票120,还有环保车票80.上山车票80，夏天限行还要坐摆渡车，算下来300多元才能进去一次，有点贵了！.很好 挺方便的  来回都有车接 .导游很周到，服务很好。大巴车来回接送很及时。.导游很负责任，服务周到，大巴车接送很及时很方便，超赞！.导游很热情，服务周到，大巴车接送及时，赞！.8月份去的，爬的西坡，花海已经没了，看了天池，大峡谷，净排队了，感觉没什么意思.环境好，房间很干净，很舒适！老弟态度很好，很热情周到！下次再来还住你家。.挺好的，方便快捷，服务也挺好的。.大自然的馈赠，天然的美景，让人流连忘返.7月底去的长白山，我们一行人开车让导游带进去的，实际来说，长白山真的很不错。长白山天池是一个特别值得一去的景点。.真的特别烂 排队排半天  去天池还要排队坐车  看天坑十分钟 路程结束 别的小景点更是不值一提.除了人多      不错~~~.我们上的北坡，早上出发时还下着雨，天池下等候时看上面云雾缭绕，还以为看不到天池了，谁知道登上天池那一刻，云开雾散，阳光真的象洒下来似的，天池魔术般的出现在眼前，一瞬间由苍蓝色变成翡翠的蓝绿色，太美了，需要注意的是长白山不认户口本，只认身份证，儿童票需要提前和携程联糸，让他们协调旅行社将儿童半票二维码发过来，让景区检票那扫二维码就行，还有携程上订的摆渡车实际上是旅行社的大巴车，不是游客换乘中心的摆渡车，不要弄错了，头天旅行社会打电话通知你明天的上车时间和地点，总的来讲，不虚此行，看到了天池，一切不快烟消云散.比以前繁琐了很多，不过这次旅游看到天池还是不虚此行！.天池景色很美，但也有看不到的时候，我上的是北坡，这几天天天下雨，建议在网上买票，这样可以早点去，也可以先游地下森林等.服务周到，景点非常值得游览，导游和司机很热情。.长白山旅游，最大的愿望就是上山看看中国最深湖泊的天池，只要有机会，就要到火山顶看天池，不过，能否看到天池，就要看老天爷的脸色了，十有八九是看不到天池真面目的。.虽然这个夏天东北也很热，但是因为山区海拔高一些所以还是比较凉爽的。景区人还是不少，看到天池，还是围着拍照，上车睡觉，下车拍照。.非常好景色，值得一看，有机会还会再来。.景色宜人，很美，值得一看。还会再来。.优惠政策很好，景色宜人，很美值得一看。.很值得再去的地方，景色很美，令人流连忘返。.不推荐买这种套票，在长白山官网买210，这款携程订的399，里面捆绑了一个温泉，但是据本地人讲，那个温泉就是热水池子，我们根本没去，两个人白花了将近400元，天池很值得一看，就是这个套票让人很不满意。.不错，景色漂亮、美食诱人、服务热情，还有我们运气很好，天气不错，看到天池了。遗憾的是除了天池其他的没看到，人太多了。.***.7月28日登顶长白山，游览期待已久的长白美景，提前做好规划，尤其查好天气预报天气晴，但是山上气候变化多端，可能随时下雨，非常幸运，上午10点左右我看到了美丽的天池，当时兴奋的心情无以言表，据说长白山一年中有200多天阴天，所以看到天池很幸运这个季节山上并没那么冷，正常穿衣服，长裤，短袖外带个外套就可以了，雨具和防晒的要有！.小曾导游人美又善良，感谢一路的帮助。.好，好，好，很好。天气不错哦。.还好吧。还行。天池很美，天气不冷不热。.还行吧，没什么亮点。只是天气很好，天池景色很美。.个人觉得还是定这个比较好，自己想怎么玩就怎么玩，不用跟导游赶场似的看。.天池非常壮观，景区内的管理很到位，景区内的卫生间是我去的所有景区最干净的。.摆渡车是从长白山大厦接到长白山检票口的，一定要看清楚自己住在哪里，其实完全没必要买这种套餐，那边配套设施很齐全…这就是捆绑消费，而且服务态度真的不行，感觉略凶，需要改进.中国十大名山之一东北的生命之山，景色好不好我都不想说，你们可以排其他名山第一在我眼里长白山是最壮观最有灵气的山了，天池的水就像是一双美丽的眼睛，超美的一个山.心中一万个***掠过,约好6点半出发,到现在快8点还在等车,早知如此自己打个车买门票了得,这种服务在现在还能有市场..值得一去的地方，就是远点，夏天去很凉快！.因为人品好，一来就看到了风轻云淡的天池，碧蓝透彻，想想上下山时现实版的过山车，吓得我的小心脏，只看了北坡，就撤了。既然不白来一趟，何必挨个景点来回挤呢.要先从山门坐景区大巴到中心换乘区，然后再乘坐其它线路的大巴车到其它地区.如果不去泡温泉还是到现场买票便宜的多.在小区时候通过课外读物，知道东北长白山的存在，再后来从军来到了长白山脚下，虽然有了近距离接触，但是，军纪严明，只能看着长白山的风光无限魅力饱饱眼福，只是到了最近亲临现场，才真正触摸到这种美。.我想大家来到长白山百分之九十的原因就是来看天池的 所以说 到西坡是不二之选 即使下大雨 风很快就会把雾刮走露出天池的真容 西坡看天池的角度最全面是毋庸置疑的 \\n现在说说另外四个附带的小景点，首先锦江峡谷不推荐 只要你去过类似景点就会觉得非常一般\\n至于高山花园和鸢尾花园大巴车是各停留五分钟 建议不用下去 直接到王池去 通往王池的路才算是真正的高山花园 问题是大部分人到这都没有选择下车 我想这是非常后悔的事情 \\n如果长白山西坡景区满分一百分的话，天池我给八十分 王池则是剩下的二十分 另外几个小景点建议各位就不用浪费时间去体验了 把时间都留在天池和王池.长白山景区里还是不错的，但是建议周边的小景点还是不要去了，景区里足够玩一天。天池能不能上去也看运气成分，刮风，雨雪天那都是不会开放的，在上天池的那一段环保车票是独自发售的，需要单独购买，允许上去的话建议还是去看一下的好毕竟都到那了。还有长白山的温泉鸡蛋要尝尝，是从里向外熟的，可能吃的时候蛋清是熟不透的，但是蛋黄确已经熟透了。.整个景区很大，除了东边在朝鲜境内其余都分别开了景区，进入需各自买票，各个景点之间有景区内环保车通勤，长白山景区又分为西坡和北坡，一般去长白山的都是冲着天池去的，所以都会去北坡。.七月盛夏在蒙蒙细雨中从北坡游玩长白山，完全没有夏天的感觉，整个行程在云里雾里，仿佛在仙境一般。来这里的游客大都想登顶一睹神密的天池，但多半失望而归，在雾汽的笼罩下，根本什么也看不见。一路上的风景还是相当美的。.北坡和西坡景色各有特色，两天都有幸看到了天池.还可以，就是人多，看到天池了，.这个门票稍微便宜了一点，长白山还是很推荐来游玩的，只不过里面车票还有消费，因为你还要购买一个去天池的越野车票，每人80（学生，老人不半价或免票），其实也算是半强制消费了，但是天池的景色是真的很好，而且那个越野车很有意思（就是面包车），推荐来玩！.一次很棒的旅行✈️，一键预定，旅行无忧！.不得不说自然风景山水就是好啊，纯天然的比什么都强，长白山一个四季的景色各不相同，如果要领略它的全貌的话其实是要多来几次的，景色很吸引人。.2018年6月13日（也就是昨天）早上十点左右的时候在长白山主峰景区，在我奶奶走失的时候帮助了我奶奶的25号车司机先生，真的很感谢您！.进入长白山景区，乘坐专门大巴进入景区，不许吸烟，到中转站全体下车，改乘中巴，上山，司机技术了得，连续弯道不减速，直接开到2600米。.非常完美，大戏台原生态景区非常美.如过说长白山是吉林最著名的景点  东北平原第一名山并不为过  首先天池在晴天的时候看全景  确实很壮观  北坡和西坡小景点加起来近十个  虽然都没有天池给人的视觉冲击力强  但各有特色  也很不错  两坡相距较远  中间有1小时的车程  门票三天内通用  景区大巴票要分开买  去西坡的话建议住在松江河  北坡的话一定要住在二道白河（小镇很美） 人多的情况下可以包车  要是想省钱就夜里坐火车往返  两坡有往返大巴  但只有三趟  时间上来说并不方便  还是就近住好一点\\n推荐交通: 飞机 包车\\n推荐住宿: 松江河就住在散客集散中心附近就好；二道白河可以住在长白山居文化主题客栈（设计很有意思）.值得去，天然大氧吧，空气质量好，各种树种，特别高，景色宜人。.真的，特别美，我也特别喜欢，下次还去。.景致不错，度假村环境好，长白风景不虚此行.景区设施完善，管理单位，非常适合老人孩子去玩！.这个季节不适合去长白山玩，套票挺贵的 一个人310再加上天池80 ，一点都不值，景点环境太差。.这家的客服非常有耐心，设身处地的为我着想并省钱，经常出游的我，对于这么有素养有耐心，为客户着想的长白山一山一蓝旅游的工作人员真少见！非常感谢！！！.景色很不错，从各路上山都有不同的风景，一定要去看看。.不错的旅游景点，值得去玩，很美。.景区管理有序，上山的接驳车运行环境良好。整个景区的自然风景也很值得走一走，通过携程订票非常方便直接凭验证码进入景区。天气好的时候可以看天池.长白山是中国一定要来一次的地方，真心的冷，所以这里的天然温泉是非常值得感受的了，泡的太太舒服了，其他的景色，和其他的山差别不算大.坐车登上天池，看到纯净蓝色的湖水，俯瞰山下的壮丽山河，心旷神怡，仿佛身处云端、傲视群山之感。但需要提前规划好当地天气，山上和山脚的天气完全是不一样的.长白山是东北的名山，实际上是围绕着天池的一圈山峰的统称，因常年积雪，山头白色而得名，这里的风光迷人，四季不同，令人流连忘返。.风景的确不错，一定要亲自去一次。.朱家尖南沙海滨太美了，海滩黄色，去那天浪很大，在里面冲浪非常惬意，以后还会来的.从山下一路上山，不同气候带的树林，登顶后可以欣赏天池。.天然的植被，到这里恍如仙境，又下了点雨，云雾迷蒙，甚是有趣。.这里是纯净自然美丽的地方。天池里有神秘的故事，今天有幸排到了天池里的宝贝，请各路专家给予帮助解惑，本人百思不得其解。连续排的天池，最后一次拍到特别的一张，仔细看看，真是神奇！.这里是纯净自然美丽的地方。天池里有神秘的故事，今天有幸排到了天池里的宝贝，请各路专家给予帮助解惑，本人百思不得其解。连续排的天池，最后一次拍到特别的一张，仔细看看，真是神奇！.非常值得去的景区，壮丽的雪景和山林值得一看，我们去的时候还有雪，可惜这个季节的长白山天池是冻着的，据说这里一年四季景色各不相同，都非常值得一看，有机会会在其它季节再来.非常值得一去的景点 很好 很不错.清明期间的暴雪让这次的长白山之旅美轮美奂。千里冰封，万里雪飘的壮美可把我震撼到了。 四天三晚，除去来回两天，4月6号和7号玩了北坡（绿渊潭、长白瀑布、谷底森林）、西坡（大峡谷、天池）还有刺激奇幻的森林漂流。这次的行程感觉特别幸运，特别是原本全天关闭的天池在我的念叨下临时开放一小会，遗憾的是主峰风雾太大了没有看到牛奶天池的全貌。最后，北方真的巨冷冷冷！Ps：附图是绿渊潭、大瀑布、森林漂流、天池主峰。.真实有效，快捷方便，小伙伴们值得拥有。.非常值得一去，尤其是冬夏两季，游览好去处.还可以，导游不错。天气有点冷。.位于中朝边境，无法形容的景点，赞到爆，虽说去的时候因为下雪没看到天池，但是就景色而已，已经是漂亮极了，很想再去一次，看到天池.作为南方人我真的从未来过这么冷的地方，我们是2月上的山顶，山上的温度大约在零下40度，穿了两件羽绒服都感觉好冷，风大得我根本不敢动，生怕一动就被刮走了。真的是太神奇的体验，虽然没有运气看到冰封的天池，但是冬季的长白山漫天飞雪真的是太美了。.第一次没看到天池，第二次心满意足。.可以，跟父母老婆孩子一家五口出行。.上了长白山，才知道，雪能如此细，冬天可以这样冷。.长白山的景色真美，最好的季节是10月，自驾也是可以的。.长白山景区是国家AAAAA级旅游景区，主峰长白山多白色浮石与积雪而得名，素有“千年积雪万年松，直上人间第一峰”的美誉。景区是拥有“神山、圣水、奇林、仙果”等盛誉的旅游胜地，也是满族的发祥地，在清代有“圣地”之誉，皇帝须亲自或委派大臣到吉林乌拉（今吉林市）望祭长白山。.不适合冬天去，看景纯靠碰运气，下次夏天去了再来评价.很壮丽的风景，对南方的我来说是一次非常有趣的体验。.好大的风景区，真漂亮，春夏秋冬都值得去.非常值得去的一个地方，特别是冬天的长白山，白雪铠铠，雾气缭绕，一片梦幻的感觉。长白山r北坡主要景点有:大天池，小天池，长白山瀑布，绿渊潭，地下森林。特别推荐上长白山瀑布的一路美景！.绝对要去的地方，非常不错的地方.景色优美，风景宜人，是一个神山，圣水，奇林，仙果的旅游胜地。.长白山天池还是不错滴！就是全部冻上了！.方便快捷实用性高，非常满意，下次还会选择。.非常遗憾没有见到完整的冰封天池！\\n想等风小雾散的，结果等来了一场雪，唉，太冷了，南方人的一身正气也顶不住了，下次有机会再去看全景！.景区建设非常完善，尤其是西坡特别适合老人和孩子游玩，基本不用走路就到山顶。.第一次去长白山是十年前的秋天，很幸运看到完美天池，秋景很美，地下森林天然氧吧，负离子爆棚，走进去很舒服。这是第二次长白山之行，选择了春节这个时候，完全是另外一番景象，简直美呆，五星推荐，雪地摩托真的很刺激，十年门票不涨很不错有些人觉得越野车80上天池太贵，体验过后你会觉得，160都该给。.很好的景点，见到许多植被，如仙境一般.非常值得再去的！上次是夏天6月份去的，所以几乎没有雪。一定要在冬天再去次，还可以滑雪。景色就不用多说啦，只要是盗墓笔记的粉丝，自然是非去不可的。.风景很好，山不高，很快就上去了？很幸运，看到了天池。天池给人感觉没有那么神秘，没有想象中的好。总体还行吧，去的时候一定要避开人多高峰期。.夏天去好凉快，一路上有美人松陪伴，景区内绿树环绕，天然的大氧吧！.虽然气温很冷，但是风景真的很不错.好漂亮的一个景区，对于少见冰雪的南方朋友来说真是太惊喜了，特别是在寒冬季节里，地上积满厚厚的积雪，河面结冰，树上挂冰，一片白茫茫，怎是一个美字可以表达的！.长白山脉是鸭绿江、松花江和图们江的发源地。是中国满族的发祥地和满族文化圣山。长白山脉的“长白”二字还有一个美好的寓意，即为长相守，到白头，代表着人们对忠贞与美满爱情的向往与歌颂。.长相厮守，白头偕老。虽然单身狗一个人去的，但景色实在是太漂亮啦，大爱！希望还有机会再去！美丽神秘的天池，宏伟壮观的地下森林，一步跨过松花江，等我，再去感受你的魅力！.一定要去，不过推荐夏天去，又避暑，还好玩，冬天去，天气太冷，还看不到天池等各种景点.不错，非常好，挺美的环境特别的好清新，.挺好。西坡北坡风景都很美，天气晴好的时候可以很幸运的看到天池。景区有车上山不用爬很多山，因此也不会很累。适合玩上两到三天.长白山作为大东北白山黑水的标志性景点，是许多游客到东北的首选。这里相对来说还是比较好的保存了高纬度地区的森林的风貌。但是相比较于发达地区，这里的管理和服务水平还有待提高。.一山一蓝的温泉就比较坑了，188元一位就是一个室内大澡堂子，一个房只能两个人，小孩超过一米按大人算。不过长白山的景区还是不错的，除了天池还有小天池，绿源潭，长白瀑布等景点可以看。.景区很大，美美哒，空气清新，但是车辆管理不太规范.标准景点，全部玩完的话需要一天.冬天上长白山绝对是考验人的心理素质，门票是西坡的价格，210门票85车票135雪地，孩子太小不让坐雪地摩托哦，最起码高于1.4米，美景就是太冷..去了还想再去的地方！看到天池会很幸运哦.景色优美，特别，不来会后悔的哟.吉林地区最著名的景区了，自然条件不错，很有特色.我是12年7月上旬旬去的长白山，在中山区乘坐越野车上山顶看天池。车票好像是70元每人。听说不是谁去都能看到湖面的哦，我的运气还好了，在山下时天是阴的，等到了山顶晴天了，如愿以偿的看见了“天池”的真面目。山顶风比较大，很冷，幸好带了厚衣服，另外晴天时紫外线超强一定注意防晒哦。.门票很方便，进入景区的时候只要扫码就可以直接进入了。提前预定下进入景区的时间，会给你出票（两个二维码）。长白山和魔界真的很棒，魔界需要早起大概六七点到那里，因为雾气落了就不好看啦。长白山风景壮美，入园后有一定几率天池会不开放。如果开放的话需要另外买80元的做车看天池的票～祝好运～.非常美的地方，特别喜欢谷底森林，虽然走的路蛮长的，但是空气特别好，景色也很有特色。.零下20度来到长白山魔界，所在水系是长白山天池流泻而下的温泉水，常年不结冰，雾气蒸腾，出现雾凇和树挂，氤氲缭绕、天人一体、旖旎景色如仙境。.去的月份不太对 冬天的天池看不到什么 合适八九月份去比较合适 .吉林人必须去的地方，国家5a级自然保护区.长白山休眠火山，现在有积雪啦！.冬季夏季都有不一样的风景，非常值得去休闲的地方.很美好的地方，值得一去，和朋友家人一起出去玩。.很不错的旅程，很多和朋友一起去。登山滑雪泡温泉看天山，美景无穷.和朋友们一起，冬日的北国，风光无限～～去年过年去的～～还是性价比比较高的.很美，冬天去的，真的很冷！上了山，看了天池，冰坑，哈哈.六月份去的，依然很冷，山上的雪很厚，但涧水奔腾咆哮，很震撼.清新的空气，秀丽的风景非常值得去看看。如果有机会看看周围的大森林也非常好！.非常值得去的地方！我们去的时候有雾，上山的路被雾气遮盖的严严实实，感觉在伸手不见五指的蒸汽里飞……一阵风过，雾气瞬时散尽，所有景物跳出来一样的惊人！！非常难忘的一次经历！.太棒了，很多大牌酒点，度假区很方便，景区服务很好，天池很漂亮.景色真的不错，在天然氧吧的树林中漫步，吃一个温泉水煮的鸡蛋，很好玩.冬季到东北来滑雪，滑雪就去长白山。现在长白山有机场了，还建了度假酒店，因此去那里也方便了，但价格也很贵。长白山景区主要是滑雪，对初学者来说要在教练的帮助下，才能有保障。而且那些教练也敬业。.长白山天池不错，春夏秋冬景色各不同…….老家的长白山，还没去过，有机会一定去.总体来说很好，温差大，六月份去要租羽绒服，景色也不错.长白山景区分东南西北四个入口，一般去北入口的较多，天池等景点都在北入口，去天池在大门票外要单独买票，大门票对于江浙沪游客今年有半价优惠，冬天大雪封山时天池可能不开放，去的话先去天池，下来之后去绿渊潭，再去瀑布，地下森林在大雪时基本也不开，小天池景区冬季基本啥也看不到，不建议去。.长白山景区“千年积雪万年松，直上人间第一峰”，凛冽中孕育的清艳，林海雪原配天池，这绝对是视觉上的享受。.冬季爬长白山天池。看的是千里冰封，万里雪飘的感慨。一定要注意保暖，戴上偏光镜或墨镜以免雪盲症。而且要团队出发，互相照应。景色非常美丽。.置身于冰天雪地，欣赏天池的绝美景致，长白山之旅不可错之地。备注能不能上到天池，还得看天公作不作美，同时注意防风保暖也很重要哦。.长相守，共白头。这就是长白山的寓意，多美的名字。\\n长白山脉是鸭绿江、松花江和图们江的发源地。是中国满族的发祥地和满族文化圣山。山脉区域总面积1964平方千米，核心区758平方千米，最高峰其实不在我国，而是朝鲜境内的将军峰，海拔2749米。中国境内最高峰白云峰，海拔2691米，是中国东北的最高峰。\\n11月底的长白山景象，像仙境一般。美得醉人，也冻人。山上的天气阴晴不定，风雪大，一定要在补给站租好大衣和护膝。当日虽为晴天，但因风大，通往天池的道路关闭，留个小遗憾下次再来吧。.除非赶上山顶晴天能看到天池，否则性价比一般。.北坡景点多些。有时间建议北坡西坡南坡都要上去。.暑假开车带孩子自驾游，江苏昆山出发，途径天津，沈阳，通化，到哪里都有朋友在，一路吃吃喝喝的，在吉林碰到堂哥带着大侄子，就一起到长白山了，两个小孩子玩的开心，天池上天气多变，上去时很冷的。运气还是不错的，大雾弥漫，等了一会就散了。山上消费有点小贵。改天写个详细攻略上来。上山下山坐的车很刺激！.能不能在长白山景区里面挖到千年好参？哈哈哈…….寒风潇潇，飞雪飘零\\n长白山上，雪山飞狐.去的时候雪还没化，从照片上看确实很美.一年四季都可以去的，从北坡和西坡上去会看到不同的景点.长白山景区，中国著名景区之一！.冬天去很美很美很美，但也很冷很冷很冷！可以在门口租皮护膝等！.长白山之冬，雪舞冰峰，长相守，到白头，似雾凇，似雪松.孩子喜欢，大人也高兴！看到了天池就开心。.长白山长白山，风景秀丽，值得一去.位于吉林省长春市的长白山天池是我国一处著名的自然景观。这里数亿年前曾经是非常活跃的火山群，火山喷发之后形成了目前的长白山天池。\\n长白山景区由许多著名的景点所组成。.季节的缘故，上去看到的是一片雪白，还是得上去看看的，否则怎么知道什么景色呢.林海雪原配天池，这绝对是视觉上的享受。.长白山景区位于吉林省东南部，东南与朝鲜毗邻，坐落于长白山北坡，距长白山34公里，距双目峰中朝边境65公里，区域面积52.42平方公里。.方便，快捷，感谢携程网，下次还定.长白山景区是中国著名的冬季旅游圣地，12月份的长白山已经被白雪所覆盖，完全是一副冰雪的世界，对于南方地区的人来说，这儿简直就是一个冰雪世界.非常值得一去 景点附近 吃和住都有.交通虽然不方便，但是来了之后感觉真的很美，就是买人参感觉没什么用呢，不知道怎么吃。.去了两次都没有看到天池，一次有雨，一次有雪，还有再去的理由！.国家级风景名胜区位于吉林省境内，天然景观.Bang\\nBang的很，呵呵呵呵.这里值得去，趣味也很好，性价比还不错。.长白山是我国中国十大名山之一并与五岳齐名、名光秀丽、景色迷人的关东第一山，为国家首批5A级风景区，因其主峰白云峰多白色浮石与积雪而得名，素有“千年积雪为年松，直上人间第一峰”的美誉。长白山是一座休眠火山，历史有过数次喷发。因此形成的独特的地貌景观神奇秀丽、巍峨壮观。著名的长白山天池位于长白山主峰火山锥体的顶部，是我国最大的火山口湖，也是世界海拔最高的火山湖。从天池倾泻而下的长白飞瀑，是世界落差最大的火山湖瀑布。此外长白山大峡谷集奇峰、怪石、幽谷、秀水、古树、珍草为一体，沟壑险峻狭长，溪水淙淙清幽。.位于吉林省长春市的长白山天池是我国一处著名的自然景观。这里数亿年前曾经是非常活跃的火山群，火山喷发之后形成了目前的长白山天池。.没有想到长白山这么美，全家到长白山旅，真是不虚此行，感受到了祖国之大！之美！.向往已久的长白山终于在眼前了，真是太开心，太激动了。整个大山被皑皑白雪覆盖着，树枝挂着的雪有些已结冰有些随着摇动树木细细碎碎地飘落，好漂亮啊。\\n不过好冷啊，大家一定要装备足足的。.北坡景区比较成熟，适合老人和孩子，景区特别美，如果看到天池就更幸运了！.去的那天下很大的雪 眼镜都整不开 因为是报团的 还是进去了 其实这样的天气不该进去的 因为看不到什么 就是坐车在山里上下 而且景区的车协调不好 在冰天雪地里等很久都没有车 要冻死了.去的时候是5月中旬。天池的学没有化。其他的景色很美。.能看到天池真的是很幸运因为这里经常大雾弥漫.怎么说呢，长白山应该是东北最出名的景点，但是对于西南方的自然景点可能没那么出彩，它的美丽还看天气，天气不好，你就什么都没看到，而且天气不好的可能性非常大。很多人都要第二次甚至更多次才能看到天池。但是整个过程趣味性很大，我去的时候是雨夹雪，硬生生把来自广东的女孩冻得要死，手机都会自动关机。.早点去人少，景区工作人员很负责.白皑皑一片，树木茂盛灌木丛林，也是植被很多，野生动物品种繁多，环境优美壮观。.北坡相对来说人更多,山势比较险峻，个人觉得不如西坡好看。门票和摆渡车费用不低，国内景点都是如此了，没什么性价比。一年四季都有不同风景可看，值得去一次。.吉林长白山，鸭绿江、松花江、图们江的源头，满族的发祥地。.东北第一名山长白山，美的像仙境一般.虽然都是山路，可是能看见美丽的风景，一句也不觉累！.景区下了雪，非常震撼，进大门就坐车，一直拉到天池边上。基本不用走路。看完天池还有四个景区，之间全有倒站车循环的，坐满就走。景区规划完善。风景也算优美。天池还是很震撼的，完全跟没去之前想像的不一样。.主要景点是西坡和北坡，两张门票，建议住在万达度假村～虽然价格贵一点，但是很安心.冬日的北国风光，哈尔滨长白山，一起去北方看雪吧。.整个长白山景区非常大，东面属于朝鲜境内，南面西面北面属于中国，在顶上还立有界碑，山上天气变化很快，要注意保暖.很不错的一次旅行，白雪皑皑大美长白山.个人感觉西坡比北坡看天池更清晰，北坡比较大，除了天池其他景点比较坑，没有必要去，西坡是一条天梯上天池，景色震撼，天池更美。.北坡，免了大门票。但是还有交通很贵。比原价的门票都贵.天然大氧吧！天池的景色好美！为什么有人看不到呢？真可惜。西坡，北坡，不一样的天池！.冬季的长白山去不去都无所谓了，一片白，白得发傻，谁来谁后悔的景色，真的没啥看，很多地方都没开放，假如是是一大早去的话，中午就差不多结束了，很没劲的。.一年四季都有不同的色彩，推荐自驾，延十五道沟欣赏沿途的风景！.一般的商务酒店，旺季的时候价格不算低。服务还好吧，早餐就是一般水平。离西湖较近，离机场打车110左右.千里冰封，万里雪飘，很遗憾因为大风没有去成天池，这样寒冷的地方，我应该再没有来的勇气了～～就给人生留一点遗憾吧～～.长白山景区以其景色繁多，多姿多彩而闻名。在山脚下可以看到成片的松树林，再往上是各种野生的權木，再向上有各种野花，山顶则只能看见苔藓。漂亮的植物加上美丽的山谷令人陶醉。.在长白山登上峰顶后，看远处朵朵白云在脚下漂荡，这样的云海终生难忘。由于海拨太高，山顶植被不同，但更有旷野自然野趣的感觉。.傍晚的长白山天池看起来棒极了，别有一番韵味在里头。夕阳洒落在山峰抢，下了一层的白雪走过后，留下长长的一排脚印，偶然吹过微风，天池波澜不惊，看起来美极了！.长白山是吉林省的著名山脉。乘景区特殊的专车，登上长白山顶，体验一览众山小的感觉。看着远处朵朵白云，心情感觉心旷神怡，美极了。.长白山峰顶是附近山峰的主峰，登上长白山顶，会有一种一览众山小的奇妙感觉，看着漂在其它山峰的山顶上的朵朵向云，感觉心情好极了。.天池无以伦比，内陆高山地带。但高峰期人数无序控制，败兴!二道白河吃住皆败笔!.和家人一起出游。第二次来。第一次没有看到 的二次看到了.长白山是松花江的发源地，这里植被茂密，到处是高大的松树，是我国最重要的林场，为国家建设提供了大量的无数的木材，近年由于环保意识提高，森林砍树率才逐年下降。.值得去好好看看，景色非常美丽，.景色优美，期待夏天再去一次，和家人一起感受.长白山是我国东北最漂亮的山，也是物产最丰富好地方，山中至今还能挖到野生人参，更别森林履盖率百分之百的原始森林，以及漂亮到难以置信的天池。.长白山景区最著名的景点是长白山天池，天池是一个由火山喷口积水形成的巨大湖泊，站在湖边，宽阔的湖泊的视角几乎接近一百八十度，纷纷相机太差，美景无法全面记录下来，太遗憾了。.一定要去爬一次，从山下到山上，不同气候地带的树林。.淡季去玩的话，吉林省的身份证可享受免票.是中国满族的发祥地和满族文化圣山。.长白山北坡是最早开发的区域，成熟的景区，但是这里最主要的景区天池确是要靠运气的，一年365天，有250多天是看不到的。\\n山下天气晴朗，到了山上却是主峰关闭，因为下雪关闭了。那么就去了北坡的其他几个景点，瀑布，小天池，森林。\\n山上因为有雪很滑，漫步上去看瀑布，旁边的沟里流淌着温泉，烟雾缭绕，还有硫磺的味道。看到这个情景就像日本的侦探片里的场景。阳光灿烂照耀着眼睛都睁不开。\\n 小天池叫银环湖，就是一个小水塘，这里拍过电视剧\\n地下森林在平面上看不出，是低于地坪的，导游说需要在飞机上才可以清晰看到它的不同之处。\\n么看到天池，期待下次再来。.景色迷人，天池天气变化莫测，水的颜色也有变化，值得一游，错峰游较好，节日人太多，车要排队很长时间，位在二道白，现在建设的很美的镇子，住宿方便，出游方便。\\n，.非常好，值得推荐的一个地方。希望有机会再来。.景区景色很美，感受了一年四季的天气变化.吉林省为数不多的几个5A级别景区.很好\\n美啊............景区非常大，玩2天没有问题…….西坡上去，看到了天池，北坡就没再上，玩了其他景点；西坡景色很美，但为了看天池，一直在爬坡，因为人多排队时间太长，看完天池下来其他景点就没时间玩了，北坡景色就逊色些，但是能看到温泉。总体上感觉，长白山就是看天池的，但只这一样看到了就很值，天池的景色随时在变化，一会儿象蓝色的镜子一样，很平很静的，一会儿又白雾蒸腾，水面变白，象冰面一样，太神奇了！长白山的温泉资源很丰富，感觉冬天来泡泡温泉应该不错，泡在温热的池水中，看周围雪花飘舞，应该妙不可言吧。.地下森林需走好远路程，景色一般。瀑布也挺远的，周围没什么树木，没什么好看。温泉鸡蛋口感还行，IO元3个。绿渊谭和小天池据说也不好看。.特别方便 之前没用过在景区下载的直接用.去长白山旅游的话，建议选择两个时间，一个是冬天，一个是夏季，冬季的时候去长白山，可以看看冰封的天池。夏季的时候去看长白山，可以看看平静的天池。不过前提你得预算好，一个人上一次天池，长白山的话需要500块钱左右。门票，环保车票，越野车票加起来真的是相当的贵。.身为东北人，第一次来长白山，以前总想全家一起来，总是延后，终于来了。风景太棒了，不多说了上几张图！.还不错，很值得来看一看，就是天池结了冰.摩托艇推荐，一定要坐。冬天下了雪，天池没有太惊艳.摩托艇上山，那感觉真是太棒了，冬天天池结冰，好不容易爬上山顶，却没什么看的.排队人太多，根本没上去，白白花了三百块.长白山天池是三江发源地，景色秀丽，壮观。能看到天池的全貌在夏季不容易，与季节和天气有关。值得一看。景区管理到位，做车等待时间在假日需要时间长一点，西门可以看到天池的全貌，很震撼。.很好！长白山上山路很曲折，不过很刺激！.长白山值得一游，坐越野车上山很刺激。冬天去的，看到的是冰封的天池。.景色有特点，包括了多个带，趣味性好，性价比一般.不累很好玩，乘车直达山顶，五一去的，山顶积血，天池看不到.很不错，值得一去。特别是配合万达的滑雪场.都说这里三个月要挣到一年的钱，所以东西都很贵.美丽的长白山，秀丽的天池，看天池要凭运气.去的时候山上下雪，好美！不过天池就看不见了，灰蒙蒙一片！还有韩国人超级多！！！！.秋天来看到天池的机率非常大，秋天的长白山也非常美红叶白桦树，松树️，负氧离子，温泉度假，如果有时间非常值得来，.这里值得一去，不错原始森林的选择.长白山是东北最冷的地方，但确实漂亮，山区比较大，周围都是白桦林，大片原始深林，让你感受到不一样的感觉，这里周围都很方便。.长白山景区特别美丽，值得一去。.景区可以从南，西，北三个们进入，主要的景点都在西坡，北坡.云南丽江家庭游:\\n       美女导游齐齐对我们的热情招待和无微不至的关心体贴，做100[%]的事，干120[%]的服务,不光全程一路上耐心生动地去讲解各种景区景色典故，头头是道娓娓道来，显示了过硬的专业素养，而且细心体贴善良，全心为游客着想，在吃住行程等各个方面都安排妥妥当，她是一位难得的好导游，我们对齐齐导游服务是五颗星☆☆☆☆☆，下次如果再来，或者朋友来，一定要求齐齐导游来带，祝她事业蒸蒸曰上，红红火火！.好，方便，享受到轻松便捷的服务。.值得一去，很好！感觉很好，不错！.很好  景色不错  就是有点下雨.长白山，一座休眠的火山，其中天池更是引人入胜，纯净的湖水，像是一面镜子折射出最纯粹的光芒，还有神秘的原始森林，奇俊的山峰，壮观的瀑布，密集的温泉。.长白山天池位于长白山主峰火山锥体的顶部，是我国最大的火山口湖，荣获海拔最高的火山湖吉尼斯世界之最。天池四周奇峰林立，池水碧绿清澈，是松花江、图们江、鸭绿江的三江之源。\\n目前长白山的北坡、西坡、南坡三个景区都可以到达天池，但因角度不同，三处看到的天池景致也各不相同。而北坡是最早开发的旅游景观地带，设施完善、功能齐备，每年接待游客量超过百万人次。景区内可观赏到垂直植被带、硫化温泉群、长白飞琼瀑、神兽弋天池四个著名的景观；还可以领略美人松的飘逸、地下长林的浩荡、小天池的宁静、绿渊潭的幽兰、大峡谷的豪迈、二道白河的澎湃、岳桦林的遒劲等原始景致，风景非常优美。.为什么只有套票，没有单独的门票.风景的确不错，夏天去的，和雪景完全不同。.很快，而且有几块钱的优惠，不错.挺不错的，买完了就可以验证，而且进去很快.非常值得去的北国风光，夏季到那里的火车始终爆满，只能买到站票吧火车在原始森林出行一晚上，下来到进去还有三十公里路需要拼车才能到。.这是一次非常完美的旅行，感谢。.值得去看看。行程自主性高。还会去。.地质文化公园，天高云淡，水清木绿！.大东北风光美丽土地肥沃人更俊俏.值得去，风景非常美特别感谢携程当地导游杨师傅团队，安排的司机赵师傅车技好，准时，没有强制购物，在长白山旅游提供优质的服务，再次感谢。.可以值得一去不过有些地方没有必要去.很幸运，看到了天池，景色优美，空气清新，很值得一去。进入景区基本上都要坐车，司机驾驶相当有水平，态度也很好。挺遗憾，时间有限，未能仔细浏览全部美景。.很美，不过冬天去不合算，光是景区内车费都得小几百（必须），还得租衣服鞋子啥的（每样50），加门票、住宿人均小1000（仅太白山景点），不过住宿挺好的，不要在太白山门口，到小镇上去，温泉酒店，室内室外都可以泡！倒是秋天想再去走走，秋天应该能自己走不坐车了吧？.好玩吗真希望有时间去看看应该不错的.买了票没去……太冷了……太冷了……冻回酒店就买了回家的票……但是听说景色是更美的……没事……下次…….帮同事代购的门票，大家玩得很好.長白山景区位于东北吉林省安图县、抚松县和長白县的三县交界处，东部同朝鲜毗邻。長白山景区是国家5A级旅游景区。主峰白头山多白色浮石和积雪而得名。.天气好美 溪流里的水好凉 但也很清澈  夏天适合避暑.非常值得去 很漂亮 能否看到天池全看运气.人间仙境，天池景色很美，值得去看看.北坡设施齐全，适合老人和孩子，一点都不累。.风景这边独好，终于成为幸运同学，看到天池真面目了.跟随淄博柳泉户外南满大回环第五天，来到了长白山西坡，门票125，环保车85，换乘环保车后足足走了40公里，一路好风光，五星推荐。.长白山旅游景区交通费用太贵，垄断价格。.景色还好，值得称赞的是空气！绝对是个洗肺的最佳地点。地处长白山的万达小镇，景色怡人，各种档次的度假酒店遍布整个小镇，餐厅的种类足以满足旅行休假的需求，有机会会再次光顾的。.不是旺季人不是很多，值得一去。。。.值得去看一下啊，长白山景区面积非常大。.天池真是天外有天的感觉，映入眼帘的是一幅美丽的图卷。.门票电子化使用方便，体验非常棒.门票电子化使用方便又环保，非常棒.长白山天气变化莫测，山腰大雨磅礴，以为看不到天池了。不想到了顶上天气一片晴朗，如愿看到了美轮美奂天池。.住在万达度假小镇，多了些休闲项目，比如缆车，速滑什么的，天池经常看不到，水雾弥漫，不过我幸运的看见了全貌，夏天去绝对避暑，7月鸢尾花开的不错，8月就谢了，但8月开始度假区水上乐园开放，总之值得去看看.不错，喜欢长白瀑布，温泉煮鸡蛋真的很好吃，还有咸鸭蛋！.很值得一去，作为一个吉林人必须要去一次嘛.非常值得一游。太美了 一脚不小心踏进了朝鲜。惊的一激灵.一大天就排队了，早上6点开始排队，6点半售票，7点半才进入景区，人超级多，分流，到哪都排队，哪哪都是人，还算幸运，看到天池了，回来又拍一个小时队，建议修建观光火车！.风景挺好看的，虽然很多人上山只是为了看一眼天池，但登顶之后，那种一览众山小的感觉还是会满足整个人。看不见天池里的水怪，不知道是否存在，但是传说让它更神秘，更让人期待。温泉煮鸡蛋很好吃，其他的景致也很好，盘山公路上的景致尤为美丽.西坡从池西游客中心买的票:门票125，交通车85（含池西到西坡山门汽车交通）。天气预报是阴有阵雨，到了终点确是阳光灿烂。第一次来，就赶上好天气，也欣赏到了天池美景。满山的黄的,白的，红的小花，。汽车开了约1小时，树木从针叶林慢慢变成灌木，高山草甸。景色非常美。游客较多，使得1442的爬山道远看成了一字长蛇阵，蜿蜒曲折。因为天气好，穿的短袖短裤也不觉的冷。游客虽多，但景区组织得力，大家都有次序欣赏拍照，天工作美，整个天池一览无余。.本来满怀欢喜的冬季去看看长白山，玩一玩东北的雪。但是到了长白山景区附近的，村落住下以后，当地人说现在这个时候没啥好玩的，心中就大打折扣。买了门票上山，发现很多地方都是被封了，只剩下那么一点点小景区，上天池，也是冰封了。冬季来真的有点后悔了。.非常好，很便捷，长白山景色真的是美极了，不虚此行。全家都很开心.长白山绿渊潭，这个景点非常漂亮，碧绿的水，水中还有金樽鱼。这里的瀑布我感觉比长白山瀑布要好看青山绿水瀑布，很漂亮，环境好！空气清新！.中国十大名山之一，以冬季的白雪最有特色，瀑布、温泉、天池、地下森林，构成了不同季节的不同景色。.非常超值，导游也好，总之很满意！.很成熟的景区，去了北坡和西坡，西坡因为要爬台阶对体力要求高一点.西坡和北坡都去了，下图的北坡和西坡的照片。北坡换乘好几次车，而且是山路，海拔高，孩子晕车了，也可能是高山反应。西坡相对换乘次数少点，人也少点，就是那1442个台阶对于我们这种不怎么锻炼的人来说是个挑战！.七月去的长白山，一路上去积雪越来越多，天池并还没有化，但是总体还是蛮漂亮的.长白山是去年开会时去的，报了一日游，太美了.冬季的长白山真是白蒙蒙的一片可玩性并不是太高，只有那么几个景点开放，一个是大水潭，一个就是天池。说实话都没太大的看头，天池都被冰封住了，白蒙蒙一片，拍照的时候太阳大，还反白严重，拍出来的照片都背光。.长白山景区在吉林省，东面和朝鲜接扯。其中的天池是火山爆发后形成的火山湖。游客可以分别从北坡，西坡和南坡进人。景区内还有瀑布，峽谷，花海，美不胜收。.满眼都是绿，树木高高大大的随处可见，空气超级好。体会十里不同天，天公说晴就晴说下就下，超级棒！.景色很特别，就是周边酒店吃饭都特别贵，.不错，就是山路十八弯有点害怕.长白山西坡七月初景最美，王池花园 高山花园鲜花盛开，七月半花期已过，就剩天池和锦江大峡谷可游览了！去西坡最好在七月初！.景色秀丽，去时天气晴朗，天池看的清清楚楚。但就是人太多，排队时间长。从山底到山顶全是流水车，很方便。.长白山确实美！风景好，人好，酒店贵，吃饭贵 ，景区大，人也多，各种玩各种开心！！五月下雪，真美！.长白山确实美！风景好，人好，酒店贵，吃饭贵 ，景区大，人也多，各种玩各种开心！！五月下雪，真美！.的确是比现场买便宜了，建议到携程购票！.避暑圣地啊，望天鹅溪水潺潺，彩虹美.长白山西坡位于白山市抚松县松江河镇地域内，是四坡中火山地貌最为壮观、最具典型的地区、观看天池最佳地区。长白山西坡开发的相对较晚，景区内秉承现代旅游理念，少建筑，多自然，依然保留着原始秀美的自然风貌。.长白山是吉林省与朝鲜交界点风景，优美。.长白山景区的旅游体验非常棒，景区管理到位，北坡的景点较多，建议先去瀑布这条线，下午去天池，上午雾大，下午看到天池的可能性会大些。最后是地下森林。携程买票进景区方便，刷二维码进入，上天池的车票要单独买，记得哦。景区票只能现金购买车票。我们住在万达度假区，到景区大概2个多小时的车程，一天在景区有些紧，套票中的温泉项目没有时间体验了。如果不住附近，建议只买景区门票。在景区买票人不是很多。.长白山北坡，景色很美！我们有幸在最后时刻看到天池。但售票处混乱，初到的游客很容易蒙圈，其实北区是分2条旅游线路，一条花80元买小白车的车票，直接过72道弯上山看天池。另外一条线路是花85元车票买中巴摆渡车票游览小天池，地下森林……景点。建议初到游客主动问下售票处.方便。刷二维码进院。免去了排队等候哦.景点是很漂亮没的说  主要是来吐糟一下附近黄松浦林场的小丽旅馆（一进去右手边第一家）  刚开始预定说的好好 他们家有车送上山10元一个人  等你去了 又说什么早上7点前才可以送   还规定要在他那吃饭 才可以帮订票   菜超级难吃  卫生也成问题  订票还比长白山官网多5元  老板娘一开始也不说 后来问了 才说是什么保险费 （保险费是自愿购买的 她连问都不问）  归根到底 诚信有问题    大家可以去后面有一家叫山茶花的   老板娘一看就很热情  弄的干干净净的  饭菜做的很好吃   小份小鸡炖蘑菇 80/份 （贵了点 但是味道很好）.长白山指位于吉林省东南部，是风光秀丽、景色迷人的东北第一山，因其主峰长白山多白色浮石与积雪而得名，素有&amp;quot;千年积雪为年松，直上人间第一峰&amp;quot;的美誉，是首批国家5A级风景区。走进长白山，就是走进雄浑和博大。以长白山天池为代表，集瀑布、温泉、峡谷、地下森林、火山熔岩林、高山大花园、地下河、原始森林、云雾、冰雪等旅游景观为一体，构成了一道亮丽迷人的风景线。.慕名而去失望而归，住宿门票都非常贵，进入景区还要买两次摆渡车车票，感觉特别坑钱，性价比不高，山顶夏天也还是很冷，一定要穿冬天的装备，雨衣一定要备！.能上就是运气，希望下次换个季节来仍有好运气.我们是冬天去的，白茫茫的一片，而且也很冷，领略到东北的壮观和威武！.优惠不多，但方便购买和使用，可以.赶上暑期高峰，人很多。景色很好！.在这里门票。呵呵。毫无意义。一点不便宜。强烈不推荐.因为是假期去的，所以价格贵。但滑雪场的服务、设施还比较好。.好地方，值得去，尤其是冬天，可以滑雪。.很值得一去的地方，尽管爱情未能因为白头山而白头，但是还是希望能再去。。。.景区内最著名的就是天池了。天池像一块瑰丽的碧玉镶嵌在雄伟的长白山群峰之中，它是中国最高最大的高山湖泊。也是世界上海拔最高，积水最深的高山湖泊。是中朝两国的界湖。.今年正打算去看看，还有滑雪场，提前预习一下功课。.雪域天堂一一长白山，人杰地灵…….长白山是中国与五岳齐名、名光秀丽、景色迷人的关东第一山，因其主峰白头山多白色浮石与积雪而得名，素有“千年积雪万年松，直上人间第一峰”的美誉。.第二次去了，感觉非常好，特别美。。。.第二次去了，感觉非常好。。。。。.长白山景区位于吉林省东南部，东南与朝鲜毗邻，坐落于长白山北坡，距长白山34公里，距双目峰中朝边境65公里，区域面积52.42平方公里。\\n\\n长白山景区是国家AAAAA级旅游景区，主峰白头山多白色浮石与积雪而得名，素有&amp;quot;千年积雪万年松，直上人间第一峰&amp;quot;的美誉。景区是拥有&amp;quot;神山、圣水、奇林、仙果&amp;quot;等盛誉的旅游胜地，也是满族的发祥地，在清代有&amp;quot;圣地&amp;quot;之誉。.风景秀丽，山清水秀，空气清新。.雪域天堂长白山，我向往的地方。.很方便，手机二维码就可以刷票进去.很方便，取票有专门通道，当然人数一样多，需要排队.景色秀丽趣味十足性价比超高的人气爆棚.很不错，就是有点冷，还是值得的去的.因為是優惠9元的門票，性價比超高，另外天池封山的机率好像也高，但我們去那天就沒有封啦哈哈哈，天氣也挺好，就是比較大風，冷死了～.買到優惠票！又上到天池，好棒～.一直想去，正在筹备，祝自己一路顺风.15年盗墓笔记的纪念会在长白山开展，我这个盗迷也就顺便凑了个热闹。78月山下很热，但上山很凉快，很适合避暑～山上景色特别棒，天气晴朗的时候还可以看到对面朝鲜大兵.人太多了,不好买票,多亏了在目的地找了导游。.真的很给力, 。有氧森林,空气棒棒哒--.这里空气清新，山花飘香，7月里的天然空调。.作为我国的十大名山的长白山久负盛名，而其作为爱情的见证和《盗墓笔记》迷的圣地，更是被大家所向往！广传的天池水怪的传说也为长白山蒙上了一层神秘的面纱。抛去所有的宣传因素，我觉得长白山最大的看点便是火山地貌和层次分明的植被分布了！温泉水域和绿潭池水遥相呼应，更以天池的一汪碧水锦上添花！有人说，我上长白山不为别的，就为了看一眼天池！其实不然，长白山其他景色，依然有其独特的看点。写这次点评，主要是回答大家最关注的三个问题！1.怎么能看到天池？答：我去的时候是7月中旬，正是雨季，上山时乌云密布，很多人按捺不住心情，直奔天池，当然除了雾什么也没看到！我建议先去玩长白瀑布那条线，玩完下午两点左右回中转站，看山上天气，这时是最为晴天的时候了，千万别错过！如果还是乌云密布，那就不要上去了，完全浪费精力！如果是大晴天，前面就当我什么没说，直接上天池，上午10点以后都没问题！我建议9月中下旬上山，看到天池几率很高！2.上山需要租棉衣么？答：这个问题主要试用于5-8月上山的人。因为其他月份不用说，你自己就会带棉衣。我想说5，6月份你是一定要带厚衣服的！因为山顶风很大，还有积雪，而且我也不建议5月上山，因为几乎看不到天池，还冷。对于七八月份，我觉得，如果那天晴天，可以看到天池的话，其实不穿棉衣没问题，但如果你很怕冷，或带孩子，那还是带件外套最保险了！如果那天阴天，非要上天池的话，那厚衣服还是带着吧！3.我怎么到景区？答：虽然二道白河没有直接区景区的公交车，但长白山旅游业还是很成熟的，有很多大巴每天去景区，15元一人，下了车站，自然会有人找你，问你去不去长白山，这个完全不必担心！祝大家在长白山也能玩的愉快，看到天池！希望对大家有用，也是我写的目的！.长白山是中国的5A级景区，景区分东西南北四个坡，每个坡的景点和景色不同，但最著名的就是俯瞰天池，天池景色优美，水质清澈，气候凉爽，非常漂亮。这里也是中朝的边境线，因此也有一些异域风情。.第一次去，从西坡上的，一开始不明白观景台上人们为什么欢呼，后来被天池的美震惊了.到了长白山，天虽不下雨，山下也无风，却硬说天池上风大，因此不让上天池，白来一趟，也从此让我知道了什么叫＂长白山常白来＂！.最美的风景，真的是最美的自然景观。.比起其他地方的度假区，这里就属于改革开放前的状态！被人家甩出八条街！.很好玩的，不同海拔不同植被，天池漂亮.长白山非常漂亮  7月份去的 雪景特别美.很值得去，风景优美，景色怡人，气候凉爽，适合夏天避暑，比天津气温低十人度&amp;#176;自助游玩应该提前听取酒店老板的建议很好。\\n\\n&amp;#176;.长白山风景很美，很信用一睹天池真容，不枉此行！.山上风景不错吧！山下风景较差，收费极高，导游忽悠忽悠人.以后还会选择携程订长白山的门票，非常方便.很方便的，挺好用，工作人员第一时间打来电话确定订单～.对于一个住在南方的孩纸，看到这雪景，简直了，赞.天池确实蛮震撼，去的时候预报，零下40度，在下面租的衣服，护膝，感觉一点都不冷，上山的路，感觉景色更美.非常值得推荐的地方，绝美的风景，无法用言语表达！强烈推荐.景色很美，外出举行还是很不错的地方.没yon，网上订票的一样排队买85元倒站车票，网上不能预定倒站车票，所有不能省事。.这里无法用语言形容，简直是人间仙镜，无论任何地方都美不胜收，旅游最佳地。.还行，景色可以，停车也还方便吧.很好，真的非常非常好玩。长白山欢迎您。.很幸运，很漂亮。景区的工作人员服务态度都很好.去景区还要再排队买环保车票，建议也能网购环保车票.下了飞机就陶醉在长白山山区的美中，仿佛是一副浓浓的山水画，长白山周边的景观也很有特色，感觉可以常住此地不愿归途。爱上你了，长白山.东北风光真心不错值得推荐！.长白山横跨吉林省，现在开发的就有北坡，南坡，和西坡，其中南坡据说植被很好，开发的最晚，没多少人去，这个就不作考虑。北坡是开发的最早的也是最成熟的一个线路，主要景区有天池，长白瀑布，温泉群，温泉鸡蛋玉米，绿渊潭，小天池，谷底森林，费用是门票成人125，学生证65，给你拉到各个景点的面包车90，如果上天池必须还得买个越野车的票每人80，车票没有学生票。这些景点都不错，都能游玩。西坡就不一样了，我姐姐去年去的西坡，什么大峡谷都没玩上，车根本不给停。因为西坡照比北坡开发的还不成熟，怕游客不安全，不放人下去玩。如果在7月中下旬去长白山就建议去玩西坡（当然北坡也一定要去），因为那里有高山花园，花期很短，高山的花为了吸引虫蝶传粉会开的格外艳丽，7月下旬就开始凋零，除此之外不值得去西坡玩。西坡是独立收费，门票100，面包车90，没有越野车，但是要登1000+的台阶。所有门票只能玩一天，要是去两个坡就花两份钱哦！.最原始的，不加修饰的纯自然之美，身边每一处不美景，普通的机场路边就感觉不虚此行。长白山有山，山阔60与与平方公里，高2200米，壮哉，长白山有水，深373米，奇哉！其有雪，四季飘落，有泉，沸如开水，能煮食物。六月底到十月温暖如春，怎能不爱长白山。.长白山夏天比冬天景色更吸引人，而且更容易看到天池的风貌。.人们喜欢夏天特别是7.8月来游览，但是那时是长白山雨季，能看见天池的概率小，而且景区容量有限，建议秋季9.10月份游览，景色最美，或冬季来，感受漫天大雪。.景色太美了！气温宜人值得推荐！.长白山的天池还是很值得一去的，不过也要看运气，运气好可以看到美丽的天池，运气不好什么也看不见。绝对看人品这次去了西坡和北坡，可惜西坡因为下雨迷雾重重，白茫茫的一片，什么也没看见，倒是爬了1400个台阶上去，还是有点失望的。第二天去了北坡，那天天气格外好，不过山上可是很多变的，的确，越往上天气越不稳定，我开始担心又看不见，高山的迷雾开始飘忽，时而散去时而笼罩，但是今天运气还是眷顾我们的，等上到天池时，迷雾正好散去，露出了美丽的尊容！不过天池的水色是根据天空的颜色显露的，因为天气阴沉，天空显现灰蓝的，所以天池水也是灰蓝色，不过这样已经满足了，总比什么也看不到的好。北坡是从高往下观看天池，比较远，我想西坡如果可以看见应该会更漂亮，因为西坡比较近，看出去的视线比较平，所以还是有一点点遗憾的。不过旅游嘛，本来就有着很多天时地利人和的不定因素，所以难免会留下点遗憾，这也许就是遗憾美\\u200d♀️.门票125，景区环保车85，去看天池的越野车80，基本不用走什么路，都是乘车。.太壮观了，我认为是东北三省最美的地方。就是票价贵了点.世界级景区！国家五a级景区，每年迎接几百万世界各地的游客.很好的，满意，谢谢，下次再来！.很好的，满意，谢谢，下次再来!.非常满意！不虚此行，看到了天池！.非常喜欢，建议经常有这样的促销活动.避暑好地方，就是来的早了十来天，西坡高山花园没有开！也算是个遗憾吧！.是个不错的地方，空气很清新，景色美极了，我第一次就看到了天池，太美了。是个世外桃源。.建议去长白山之前先咨询，因为天气原因，天池经常上不去.长白山的夏天，感受到关东第一山的秀美风光，瞭望世界上海拔最高的火山口湖天池，瞻仰世界上落差最大的火山口湖长白瀑布，畅游原始森林第一漂流地大戏台河。.天气原因天池上不去 其他挺好的.大森林，无边无际，天然的氧吧。景致优美，天池神奇无比，值得一去。.五一那会去的长白山，用一个词形容就是  仙境。\\n就是景点比较少，不过景点很壮观，值得去一次。.环保车上的广播内容听不清、广播声的音量不大不小、就是噪声。景点服务差。.真的不错，不枉开车那么久来的，山上风光果然不一样.挺好玩的，下次还会来，坐车上山，感觉不错.好用！旺季必备！淡季可以看清天气到景点买.非常非常美！去过好几次了！感受每个季节不同的美.国家5A级景区，千年积雪万年松，直上人间第一峰.      环境优美     山清水秀.环境优美   山青水秀    .非常好玩   环境优美   可以常来.不错，淡季倒是看不出来快多少。.电子票很方便，凭着二维码就可以了g.电子票很方便，景区piao\\u2006liang.好玩，风景很美，但是买票真的有点贵。.好玩，风景很美，但是买票真的有点贵。.好玩，风景很美，但是买票真的有点贵。.真正的价优景美，超值，不枉此行。.值得一去再去的景点，每季节不同的风景，而且长白山本地的导游都很热爱长白山天池，是真心的，比其他地区导游好太多了。.北门服务非常的好。公交车很方便，.长白山景区空气氧离子丰富，绝对是城市中人绝好的天然氮吧和心灵补给站。\\n唯一问题景区管理处有点乱收费，我说的是交通费，从景区门囗到倒车点往返85元，车程大约40分钟; 接着倒班车到天池要乘另外的车，车程约15分钟比较多弯上山路，往返另收8O元。\\n个人觉得两程加起来乘车就165元，有点离谱。.当场买即可，很快收到短信，打开链接收到验证码，扫描即订，筒洁快速。.扫码入园，无需排队买索，很方便。.10/1去的，还没有积雪，碰上下雨，总的来说还是很不错的，住在凯越酒店有很多配套设施免费可以游玩，还有温泉美食。如果积雪更好玩.长白山是中国与朝鲜的陆上分界线，有“千年积雪万年松，直上人间第一峰”的美誉。拥有“神山、圣水、奇林、仙果”，是满族的发祥地。.可以从西坡，北坡，东坡分别上去，风景各有不同.长白山景区亿万以前是火山口喷发之地，现在还能看到噴发后留下的火山岩石，而且浮力很强.阿巴巴啊我一件事好吗嗯你电话给我发过来.来早了，天池才刚开始冰化，山上风很大，冷。.当地的司机师傅比较的实诚，景区门口有工作人员忽悠借东西的，护膝有点需要，其他完全没有必要，纯骗钱。景区门票只收现金～，辛亏网上可以买。景区大，显得人少，非常不错哟，有温泉蛋和温泉玉米，价钱公道，冰棍看着也不错，但是实在没有勇气在长白山吃啦.我们去了，不错，风景特别美，值得一去。.景色宜人、风景秀丽、适合短途出游.这是第三次来了，三次都看到了，幸运，北坡，壮观，服务热情，景色大气，6月12日，天池的水大部分还是冰雪，没有想像的那么冷，.闻名世界的俊美高山！独一无二高山湖泊！都在向世人展示它的魅力！.来得早了，天池上还漂着小雪花。.长白山脉是鸭绿江、松花江和图们江的发源地，“长白”二字寓意长相守，到白头，代表着人们对忠贞与美满爱情的向往与歌颂。.因为是淡季的时候去的，感觉炒鸡赞，人很少，整个景区非常安静。很多餐厅都没有开门，所以进景区的时候需要自备干粮和热水，记得一定要带热水壶.景色十分秀丽，性价比非常好，期望再去。.好评！！！！！！！！。。。，，，.好评！！！！！！！！！！！！！.挺方便的 全程无纸化操作 现在阴天 希望能看到天池.上山40公里 必须买观光车票 .6月2日到的白河镇溜达了一天，3日上长白山，赶上大雪，天池封上了，很遗憾，溜达的其他景点，真正让我感受到了一天领略春夏秋冬，这个景点大雪纷飞，下个景点春暖花开啊，不过景色还是挺漂亮的，别有一番风味，听当地人说9月初来最好，人不多，山上景色宜人，9月15日以后天池就要下雪了，这地方天气阴晴不定，大家做好保暖，上山一定要租大衣.电子票速度很快，今天运气很好，到天池的时候正好云开雾散，十分钟后就下起了雪.电子票速度很快，西景区这个时候来真是太赞了.由于隔天刚下过雪天气超好，用两天时间分别去了北坡（125门票+85环保车+80主峰车票）和西坡（125门票+85环保车），都看到了天池，风景如画，就是门票有点贵....很好，就是天池没开，因为下大雪.下大雪，看不到天池，看了别的景，一直下雨.景色非常美，非常震撼，真是值得一去的地方。.长白山是关外第一山，清朝时因为是满族的发源地，作为龙脉而一直封禁，因此名声不显。长白山有一部分是朝鲜的，还剩北坡、南坡和西坡。南坡靠近中朝边境，有个边防站会检查个人身份，上次去因为自然灾害，南坡不允许进入，不知现在如何。.和现场买票价格是一样的，只是省去了排队的麻烦.方便、快捷，大概用了1分钟就预订成功.很方便  不用排队取票   直接刷二维码就能过.不一样的人生旅程.值得去体验不同人文.骗子，付完款了不让用！两张票顶一张用，要什么学生证，优惠证！订票时怎么不说呢！大骗子.非常值得游玩，一年四季各有不同！.不错，推荐，下次还去，挺棒的。.5月底去的，还没有完全解冻！但是作为一个南方娃，比起一潭碧水，我更喜欢没完全解冻、被包围在雪峰中的天池！美到无法形容呀！去的是西坡，山上风太大了，还是要穿羽绒服，唯一美中不足的就是，端午人太多，不能在天池边上静静地坐上一会儿，只能随着人流走.去年十一去的，真的很幸运可以看到天池，真的很美很壮观，都说想看到天池可遇不可求，看来我们真的很幸运可以看得到，美美的，棒棒哒.景色很壮观，只可惜天池没开，有机会再来一次.看是看见了，但是没化。就是有点坑。。。.景点美，除了那天下中雪没有看到天池，有些遗憾.只要在大厅报预订码就行，非常方便，好评！.只要在大厅报预订码就行，非常方便，好评！.只要在大厅报预订码就行，非常方便，好评！.景点不多，而且都距离比较远，但是服务很到位，环保车非常多！.价格稍微有点贵，但是值得，风景很美！！！.价格稍微有点贵，但是值得，风景很美！！！.价格稍微有点贵，但是值得，风景很美！！！.价格稍微有点贵，但是值得，风景很美！！！.不须此行，看个冰天池，不过能看到还是很幸运的！.二维码验票也挺快捷，只是最好在入门前下好二维码，景区有时网络不好。西坡的上天池台阶1442级而且风挺大，5月份来需要注意保暖，北坡景区上天池就不需要走几步但是多个80元的倒站车票。峡谷在绿树间看大自然的鬼斧神工，心情很好.西坡门票孩子有优惠买的半价，二维码验票也挺快捷，只是最好在入门前下好二维码，景区有时网络不好。.发的二维码，使用也比较方便。西景区从山门到天池车程要四十多分钟比较长。入口验一次票后面就不用再查了.发的二维码，使用也比较方便。西景区从山门到天池车程要四十多分钟比较长。入口验一次票后面就不用再查了.方便快捷，假期出游首选网络票，不用排队.很美，不冷。\\n在山顶仰望天空，很深邃，很空旷。\\n可惜季节不太对，没有看到美丽的天池，只有封冻的水面，下次选一个暖和点的季节再来.很不错，可惜季节有点不对，下次再暖和点再来.很不错，可惜季节有点不对，下次再暖和点再来.很不错，可惜季节有点不对，下次再暖和点再来.很不错，可惜季节有点不对，下次再暖和点再来.很不错，可惜季节有点不对，下次再暖和点再来.很超值，季节有点不对，以后天暖了再去一趟.105只是入园门票，只是门票。\\n.端午大片的高山杜鹃开放，非常非常美，有机会还会去.景色不错~天池若隐若现趣味横生~价格偏贵~总价近300，这个跟太白山相比性价比差很多~.风景不错，环境优美，空气新鲜，适合我们去放松。.确实很不错，长白山没白去，山上景色很美，虽然我们是抓住冬天的尾巴去的，山脚下的二道白河小镇真的很不错，说真的要不是没时间我还想在那多住几天.没看到天池，伤心。但是看到了雪景也是还不错吧。.好地方值得一去，现在还有雪呢？人生没有遗憾。.非常不错 就是常年大雾 很难看到全景.山上雪还没融化，运气很棒，没封山，风景很美很美，.非常方便，直接扫码入园，一定提前截图二维码，景区信号不稳定。.非常方便，直接兑换，不过一定提前把二维码保存好，景区信号不稳定。.非常值得游玩的好地方！空气特别清新，景色也很迷人，每年的七八九月月份是游玩的最佳季节，不过要想看到天池还是需要运气的，碰到大雾天气，会封山，游玩之前做好天气查询！.景区管理非常完善，北坡一点也不累，特别适合老人和孩子。.很方便，扫码进入！现场买的票！.很好，第一次去看到了天池，很漂亮.空气好，相对来说，该景点还是不错的，顶一个支持一下。.行驶在上天池的盘山上，刺激非常震撼.去的北坡，设施完善，管理到位，天池美伦美幻！.很值得去的地方，奇特美丽的自然景观.网上订票最方便了，千万不要到景区售票处购票，排队耽误时间.网上订票最方便了，千万不要到景区售票处购票，排队耽误时间.网上订票最方便了，千万不要到景区售票处购票，排队耽误时间.好的很好，很好，很好在？很好好.在携程网买门票真好，很方便，可以打折，服务人员态度很好。.在携程网买门票真好，很方便，可优惠，服务人员态度也好。.这次去了北坡，先从松江镇坐火车到二道白河下车，然后打车去北坡售票处，然后还是坐大巴车，我先去吃的温泉煮鸡蛋，看瀑布拍照，然后一路向下走，最喜欢的是绿渊潭，下午的绿渊潭鳞光闪闪特别漂亮，出了绿渊潭，走一会就能看到真正的长白山山泉，非常的清凉，带走了四瓶嘿嘿.去观世界上海拔最高的火山口湖瀑布---素有“天际第一流”美称，摄影爱好者可以拍摄落差为68米的瀑布。.我们住在松江河，虽然是八月份去的，但那里却非常凉爽，当地的铁锅炖很好吃，水果也很便宜。.长白山是世界名山之一，天然氧吧。.很好 在携程可以打折 服务人员态度也好.很好 不愧是5a景区 景色也美.方便，二维码扫描快速入园，还有优惠哦.方便，二维码扫描快速进园，必须赞.入园很快，就是运气不好天池没来但其他景点还是不错的.去体会深山的原始呼吸，了解“一天有四季，十里不同天”独特自然景观。.进门快！便宜！出门不错的选择！.进门快！风景美！不错的选择！比现场买便宜！.境内风景秀丽，清新怡人，素有“千年积雪万年松，直上人间第一峰”的美誉。.空气好，春天去的，物价较低，到了夏天、人一多就要了命了.虽然天池的雪没化，但是雪山的美是另外一种感觉，温泉群也感觉很好，下次一定要去泡温泉.五月份能看到大雪纷飞，估计除了长白山也没别的地方了，唯一的遗憾是下大雪，没能上到天池，不过别的景点风景也很好，雪玩的很过瘾.很好玩啊  温泉鸡蛋好吃  风景特别好 .长白山之行没有准备没做功课，就是因为特价促销，但是非常惊艳，长白山很美，白雪皑皑，天池大美.景区设施非常完善，而且管理单位，游玩的很开心，非常值得推荐。.去的长白山西坡，住在松江河火车站，酒店提供叫车。第二天一早直接到了景区楼下，他还负责给我们送回来，价格不贵！西坡进去坐景区大巴，大概15分钟，然后才开始爬山，就是1000多个台阶，上去后就是平台，就可以看天池了。感觉西坡半天时间就能玩完。北坡还没去过！.总得来说还是特别好的，就是我们去的那天前一天刚刚下了雪，所以，主峰没有开，有点可惜。.景色很美，票价很值，值得游览的景区。。.景色好，环境好，服务也好，就是天池还结冰呢，太冷了.长白山最出名的当然是它的雪和她的天池了，初秋来长白山也就天池最好看了，天池真的是像一个山上围成的一个盆子一般，就像在天上有一个湖，很漂亮.非常棒，很愉快，但是非常累的一次游玩.长白山天池一游，真的很不错。服务很好.长白山天池一游，真的很不错。服务很好.五星。在长白山北景区买游览车票（往返）85一张！机智如我啊，查了一下携程，竟然比景区买优惠15元/张！并且是即买即用！！！记住了，一定要从携程买。省钱。还有携程只能享受一次优惠，每次限3张，如果随行人多，就分几个手机买。订票成功后，会收到短信，凭手机短信二维码扫描上车，特别方便。关键是省钱。\\n我从携程买车票前咨询了景区客服，他们称不了解携程这个票的事儿。。。呵呵。\\n如果携程能推出长白山门票优惠票就好了。.门票便宜了二十元，很好的优惠券。.长白山是非常值得一去的景点，尤其是天池。5月中旬山顶的天气仍然阴晴不定，进山门的时候天池还是封闭的，但是到换乘点的时候又开了。上去苏果看不到天池一定要等，一阵风过去把水汽吹散就能看到了。祝愿大家都能如愿看到天池。.下车看到景色之后感觉真的是不虚此行，提前买好票了特别方便 扫一下二维码就可以 不用排队。.在携程网买门票真好，不用排队直接二维码扫扫就可以了，很方便，游玩的很高兴。.在携程网买门票真好，不用排队直接二维码扫扫就可以了，很方便，游玩的很高兴。.网上购票验证快，不用排队，节省时间。.长白山天池景区是国家一级重点项目.不错哦不催可以还行吧就是这样方便.长白山还是很好玩的，环保车还是很有用的，不会那么累.在携程买门票很方便，节省了排队买票的时间，直接扫二维码进去，很棒.长白山冬天有积雪，夏天倒是没什么看的，所以建议冬天去，长白山的天池也可以说是非常出名了，是去长白山必去之地，而东北的雪山真的让人感觉到和西藏的雪山是不一样的感觉，建议一去.这里买票真好，省钱又省心，赞一个！.风景很美，值得一去，白雪皑皑，一定要看天气预报，趁天晴去才能看到天池.长白山景区非常美，值得一去，建议旅游淡季的时候去，人不多也不挤.旅游车司机态度和蔼，服务周到，开车平稳。.扫码方便快捷，观光游览省时省力，感谢大自然！.自然景观让人心情愉悦，取景拍照忙不停，景区卫生整洁。.长白山真的很漂亮，这次没有白来.环保车司机很热情，很专业，五星好评！.验票很及时，景区很漂亮，就是游人比较多，要排队坐车.天气真心好，天池看到了好开心，风景一级棒，厚厚的白雪，太美了，扫二维码很方便.天气真心好，天池看到了好开心，风景一级棒，厚厚的白雪，太美了，扫二维码很方便.天气真心好，天池看到了好开心，风景一级棒，厚厚的白雪，太美了，扫二维码很方便.天气真心好，天池看到了好开心，风景一级棒，厚厚的白雪，太美了.非常好就是有点冷多穿衣服哈哈哈.长白山北坡和西坡各有各的美景。盘山道的车要单独买票也是不方便。还需要再次排队.电子票很方便的。推荐。不过旅行门票太贵了。人也很多。.长白山风光秀丽、景色迷人的关东第一山。.您主题哦呜去咯呕吐kurus退.长白山风景区是一座另人向往的著名景点。.长白山的景色很美，还看到了天池超级超级美，很不错的旅行.去天池上面风都能把你吹个半屎，今天去看天池只看到了结冰的天池，不过也算不错了。10块钱吃了3个鸡蛋，还算好吃?.挺不错的，门票因为是学生票没花多少，进去还要花额外的车费去峰顶看天池花得倒是挺多的，85元+80元.特别方便，不用排队买门票，而且不像别的景区还得把门票取出来，各景区应该推广一下这种方法，大家都省事.特别方便，不用排队买门票，而且不像别的景区还得把门票取出来，各景区应该推广一下这种方法，大家都省事.这个票很适合那些没有***，而且过票速度非常的快，非常好.长白风景区景色怡人，水质甜美，空气清新.两年去了三次，夏天冬天的景色都看过了，不过还是要八月去比较好。.好玩的一天，有车很方便，省去了很多路。满意.很开心的一次游玩 用携程网购票 又实惠 又便捷 以后再去那玩 还用携程网 购票 不用不知道 携程真奇妙.长白山景区很值得去一趟，风景很美。从网上直接订票也非常方便。总的来说很不错。.第二次来了，这次虽然没看到碧绿的天池，但是五月上旬看到雪也是十分惊喜！.第二次来了，三年前携程还没进来。很优惠，冰雪的长白山别有风情.方便快捷，服务周到，热情！超赞！.一共4公里的景点就开1.8公里来回，还没转就结束了，就是坑人，员工都说没什么转的.第三次到长白山了，依然那么美丽。车票真的很优惠。过几年在来。.虽然是吉林人，但还是第一次去长白山，五一去的还是很冷啊，在山下租了大衣和鞋子，一路上遇到的人都非常热情好客，愉快的旅行(^з^)-☆.司机人非常好，会在沿路给你讲长白山的景点，长长的上山路变得轻松愉快！其实坐了才知道车票真的一点都不贵，因为来回的车程真的很远，每一个景点都可以随意上下，美好的长白山之旅！.很漂亮呀，车开的很稳，不错。。。。.很棒，天池很美，上山的路超刺激，玩得很开心.中华十大名山之一、国家5A级风景区、关东第一山。东部的长白山自然保护区，“雄山托天池，林海藏珍奇”，是世人瞩目的神奇之地。.去年刚毕业，有点后悔没能在能用学生证买票的时候买票。这个季节不太合适去，7、8月份的时候去的话，风景估计比现在漂亮，而且景区里有些景点这个时候没有风景可看应该便宜些卖.如果买门票的时候，能一次性包括里面的汽车乘坐的票就好了.还行，就是这个季节不太合适去这.门票价其实还好，就是觉得那个环保车票给两次有点过了，为什么不能一次性把两次的给了喃？九寨沟的就一次性全给了，比较方便，就不用多花时间等买票了.还行，比较方便吧。下次还会有的.大山，值得一去，但不建议五一去，怎么说呢，除非是喜欢冬日风情的朋友…….长白山风景如画，值得一去，四季风景不同。最好七月来玩.不错，提前买不用排队，建议提前买，保存二维码.很好啊，现场订的马上就有电子票，免去了排队买票的时间，评论还有返现！.还好吧。            .还好，不过山上休息的地方太小，风大，很冷.很好，就是他们机器信号不好，扫的费劲.天池很美，能看见真的很幸运！大峡谷稍显逊色，景区车宣传可与科罗拉多大峡谷媲美，有点夸张了。.长白山很美 电子票真是方便 不用排队 连进景区都是独立通道.五月挺遗憾没看到天池水，七月再来.很划算，在车上很舒适。路上的风景很好看，挺美，长白山值得一去。.刚下过雪的第一个晴天，有幸看到天池真容，不过没有很大震撼。可能是北坡视野不够开阔，天池显得比想象中小气。风吹起浮雪，远处是凌厉的镀上雪色的山尖线条，天池是安安静静的一块白，倒也别有趣味。\\n跟天池比起来，天池瀑布，更确切的是去往天池瀑布的一公里多步行路，景色倒格外好，要不是寒冷，还真不想走。地下森林一路都在大同小异的典型东北森林中穿梭，坚持到最后，才别有洞天的出现广阔景象，美。\\n车票买了是二维码，检票人少，上车更快，推荐。.是在当天去的路上买的 买完极速出票 非常好用 二维码扫一下就过了 跟小伙伴玩得很开心.挺不错的，不过各位去的时候注意天气，风大上不了主峰很麻烦。.长白山很美！！！手机买票也很方便！！！！如果有机会，会再去的，推荐七八九月来，那时候雪就化了！！！.凭二维码很快就进入了园区 免去了买票和排队的烦恼 节省时间 方便快捷 .景色很不错，就是爬山特别累，现在这个季节如果不上天池多穿点的话完全不用租雪地鞋和护膝但是护膝真的巨暖和.进园时间快，不用排长队，安享专用通道，方便快捷。.感觉很好玩，喜欢上山的那段路，开心.使用很方便，不用在排队买票。扫一下就可以进了，.总体感觉还不错~唯一的遗憾是没有看到液态的天池，听说要七八月份雪才会化……门票略贵，125的门票+85环保车+80上主峰看天池的车，一个人将近三百了要~~.长白山景区是中国的著名景点，值得推荐。.再过一两个月来，景色应该会更好~.这次瀑布和温泉没去上，遗憾~~.有单独的检票处扫二维码，不用排队买票，省时且使用非常方便.还行，挺好的！今天非常幸运天池开了！哈哈虽然风比较大，但是也没想象中的那么冷！绿渊潭里有幸看到了一条金鳟鱼！呵呵小宝也非常的激动，环保车很方便.长白山北坡自然景观非常棒，做观光车和倒站车可以直接到达天池。.工作人员服务好，态度好。车很干净！.1 这是我游过的最好的山，更壮丽，更震撼，景点更多\\n2  一定要带羽绒服，虽然夏天温度高一些也看见有人穿个毛衣或厚外套就上去了，但山脚下所有人都租那死贵的50块一次的旧大衣时，你没带羽绒服，又不租，一帮人劝你，你自己都不好意思。而且还没到天池，那大风就吹的你都要飞起啊。\\n3 至于鞋子，除了冬天，我觉得运动鞋就行了，我朋友租完鞋都后悔，很沉，不暖和，还潮。\\n4 有三个景点有关东煮，地下森林的最经济实惠，相对来说，.长白山景区四季积雪，是夏天的避暑胜地.长白山中华十大名山之一排名第六位，长白山天池中国最美五大湖泊排名第四位！长白山的美名不虚传，可谓是一山有四季十里不同天，可在游览长白山的几个小时内感受到一年四季的变化！长白山一生必看的美景！快行动吧.不错 就是赶上大雾 没看到天池的全景 有点遗憾.不错 就是赶上大雾 没看到天池的全景 有点遗憾.夏天的时候，长白山的山顶也是白雪皑皑。非常的冷。路非常的不好走。要有当地的专业车来看。.长白山特别好，去了很多次，每次都有新感受.非常好，特别优惠，希望携程下次还有这么好的活动.非常好的选择，环境优美，客气新鲜.特别不错，有幸看见雪山，环境优美！.特别不错非常好的选择！景色优美.长白山，一座另人向住的旅游热门景点。景色很美。.去年十二月底去的东北，作为南方孩子来说，去那儿就为了看雪。从哈尔滨到雪乡再到长白山，最美就是长白山了！幸运的是，长白山天池被我看到了！坐吉普车上到那山顶，风呼呼地刮，雪粒一直刮蹭我的脸庞，全副武装，口罩雷锋帽手套，建议再租个滑雪眼镜，这些在山顶上一刻都脱不下来。住的地方是万达，也滑了雪，总体感觉挺好哒。\\n如果要再去东北，我就只去长白山景区了。听说长白山那边有机场～.个人觉得其实秋天去才是最美的，可以看红叶，雨水也比较少，看到天池的几率更大.很美，而且玩的不累，只是这里的出租车司机的素质有待提高.太美了，而且玩的不累，只是这边出租车司机的素质有待提高.***.这里一天的时间太紧张，值得多一天的时间慢慢逛，尤其金达莱盛开的时候.冬天的天池很美，的确值得一看，上车的车费较高，但也省了很多途步的时间，有时间的话慢慢走，可以观赏沿途风景，赏心悦目，可惜我们时间不够。.南方人还真没见过大森林啊～参天古木，各种放大版的植物，东北黑土地肥沃啊～.电子票，人多的时候节省排队购票的时间。没现金的首选。.9元的门票，值。冬天去的。山上风比较大。吹得脸十分疼，没去过是体验不到的。强烈建议带好护目镜，门口有收费停车场。还有租护膝什么的。建议自带，比较贵。自己穿暖了，感觉没多大必要租。.五月底去是淡季，风景不错人也少，就是太冷了.长白山淡季可以买西坡和北坡的联票，携程网上都是分开的票，害我们多花了一次门票钱。.长白山淡季可以买西坡和北坡的联票，携程网上都是分开的票，害我们多花了一次门票钱。.长白山淡季可以买西坡和北坡的联票，携程网上都是分开的票，害我们多花了一次门票钱。.长白山淡季可以买西坡和北坡的联票，携程网上都是分开的票，害我们多花了一次门票钱。.长白山淡季可以买西坡和北坡的联票，携程网上都是分开的票，害我们多花了一次门票钱。.长白山淡季可以买西坡和北坡的联票，携程网上都是分开的票，害我们多花了一次门票钱。.长白山淡季可以买西坡和北坡的联票，携程网上都是分开的票，害我们多花了一次门票钱。.长白山淡季可以买西坡和北坡的联票，携程网上都是分开的票，害我们多花了一次门票钱。.长白山景区位于吉林省东南部，东南与朝鲜毗邻，坐落于长白山北坡，距长白山34公里，距双目峰中朝边境65公里，区域面积52.42平方公里。\\n长白山景区是国家AAAAA级旅游景区，主峰长白山多白色浮石与积雪而得名，素有“千年积雪万年松，直上人间第一峰”的美誉。景区是拥有“神山、圣水、奇林、仙果”等盛誉的旅游胜地。1983年夏，邓小平登上长白山极顶,题写&amp;quot;长白山&amp;quot;、&amp;quot;天池&amp;quot;横幅，并发出赞叹：&amp;quot;人生不上长白山，实为一大憾事！” 。长白山自古以来就是中国的神圣领土，是中华十大名山。\\n自己走的北坡没跟团，最庆幸的看见了天池。听说不是谁去都能看到湖面的哦，我们一家3口的运气还好了，在山下时天是阴的，后来还下起了雨，等到了山顶晴天了，如愿以偿的看见了“天池”的真面目。山顶风比较大，很冷，幸好带了厚衣服，另外晴天时紫外线超强一定注意防晒哦。\\n从进大门就坐车，一直拉到天池边上。基本不用走路。看完天池还有四个景区，之间全有倒站车循环的，坐满就走。景区规划完善。风景也算优美。天池还是很震撼的，完全跟没去之前想像的不一样。只有看了才知道。门票125，学生票63，第一张环保车票85，换乘天池车票80.基本就是长白山的门票就是125+80+85..不错价格很合适，帮别人买的，很实惠.冬日长白山，静谧而美丽。期待天池花开的季节.长白山西坡攻略，入住蓝景花溪温泉酒店，早晨乘车到长白山西景区门口购门票、环保车票，坐环保车到达雪地摩托换乘点，乘雪地摩托到达登山台阶1442台阶起始点（雪地摩托很刺激，大约7公里抵达台阶出发点），大约一个小时抵达天池，一路风景超乎想象，可以看到两米高的雪，刺激…。下山乘车到大峡谷，风景独特，特别赞。备注：长白山天池门票通用，只需购买一次门票，西坡北坡可以通用。只需购买环保车票即可，雪地摩托135元往返，景区内环保车无需在购买。.很方便的，顶一个支持一下，景区要现金，还是携程给力。.很方便的，顶一个支持一下，景区要现金，还是携程给力。.很方便的，顶一个支持一下，景区要现金，还是携程给力。.捡到这么便宜的门票千年一回啊开心.长白山出过建州女真，金日成也在这里打过游击。但无论如何，中国的疆土这个事实不能改变。.***.***.***.长白山是吉林比较有名的景点，来这里大部分是希望看到天池的，当然除了天池，还有长白山美美的风景，真的很漂亮，而且里边的树都特别高特别直！.景色太美啦，白雪皑皑的，非常好。.冬季的长白山，雪裹群峰。每年的11月至次年3月，便进入了长白山赏雪、玩雪的最佳时期。避世、滑雪、亲子、温泉，东北风情的度假体验，长白山满足你对冬季的所有幻想。而长白山柏悦度假酒店，满足你在长白山高品质度假的所有需求。.景色宜人，避暑圣地，欢迎朋友们来这里做客.纯天然景色，四季景观差异很大，可以分不同季节前往观光游览。.值得去看一下啊，长白山，海澜江，延边自治区风景优美。.很好地方，，，值得一来，，长白山，，下次还找你.长白山景区包括长白山的三年面，原始森林和长白山天池，在山下可以欣赏茂密的原始森林，山顶可以欣赏美丽的长白山天池，溪水瀑布交相呼应.蓝天白云，空气好的不要不要的！超赞！滑雪场给力，就是教练挺贵！呵呵.冬季去东北看雪，少不了去长白山走一走，但是冬季的长白山景区开放的景点比较少，这一百多块的门票感觉有点不值，除了看瀑布、水潭，也就只能上天池了，但是上去的时候又告知必须要越野车的车票，价格相当贵，太不爽！.很好，太优惠了，没想到，这价格游长白山。.冷啊，呵呵，下面晴空万里，上面雪花纷飞，在二道白河见到了真正的美人松。下雪封路，只见到了瀑布，没有机会乘坐猎豹，登顶看天池。.零下40度，8级大风，未见天池，但是风景美如画.门票是没问题的，只是长白山的接待能力有问题。没有那么大接待量，就不要接收那么多的团队申请，也不要没有限制的放人进去。.非常好，划算，携程旅游棒棒滴！.长白山一年四季景色迷人，但天气却变幻莫测，运气好的才能看到天池，有些人往复去了多次无法领略她的魅力。.长白山是东北乃至中国重要的山脉之一，这里有丰富的动植物资源，山石气势磅礴.景区到处是参天大树，空气清新，有一些人工景点，四季都有不同的风景。.记得那天路上各种换车来回辗转了⑧个小时，只为了上山看天池一眼！但不得不说，路上各种风景真的是太美了，大自然的景观，那种有上而下的望去，很是壮观！当顶着零下三十度，还大级别寒风凛冽的去看了犹如水墨画的天池，冬天的天池真的是美呆了！.我们冬季来长白山还真的像当地人所说的没什么好看的，花了一百多块钱的门票，还有八十多块钱的车票，只能够看到一个瀑布和一个水潭。其实我们真正想去看一下的是那个天池，却被告知还要买上天池景区的越野车票，我真想骂人了。.去了长白山，遗憾的是当天长白山天池没有开放，只是去了绿源潭、小天池等景区，不过所有的地方都是冰封着的，希望下次来可以看到天池的美景.里面配套的设施非常齐全，非常好.长白山主要分为北坡、西坡、南坡三大景区，分开售票。天池是长白山的必赏之景，也是众多游客心中的祈福圣地。.目前长白山的北坡、西坡、南坡三个景区都可以到达天池，但因角度不同，三处看到的天池景致也各不相同。天池水面海拔达2150米，因其所处的位置高而得名，天池是火山喷发自然形成的火山口湖，呈椭圆形，当火山喷射出大量熔岩之后，火山口处形成盆状，时间一长，在雨水、雪水和地下泉水的作用下，积水成湖，就形成了现在的天池。天池湖面面积10平方公里，是一个巨大的天然水库，在周围十六座山峰的环抱中，沉静清澈的天池犹如一块碧玉一般，给人以神秘莫测之感。.两个字，漂亮。大自然的鬼斧神工造就风景如画长白山。.雪花飘舞中登上了长白极顶白云峰，其时云雾弥漫，三米以外天地大隐，空中传来滚滚啸声。立于此，天风遏，热血激.我们西坡 北坡都去了 双坡游 . \\n如果只来一个地方的话 推荐这里 西坡 \\n看到天池机率很大 当然还是靠运气 看缘分 \\n我们两天看到四五次  还是感谢老天眷顾 没白来. \\n风景不应多说 大自然的鬼斧神工 实在太美丽 太惊艳 不用加滤镜的美 . \\n景区都是环保车接送 环境保护的很好 ..本地人说节假日最好不要来，路上全是车，最好的时间是九月中旬，人少车少，还不遭罪，特别是带孩子来玩了那个时间是最好的了，。.长白山是个曾有过喷发历史的火山。顶峰天池是个由喷发形成的火山口湖。是国际生物圈保留地的重要组成部分， 林海之内，珍禽异兽和奇花异草应有尽有，许多地方林木繁茂，人迹罕至。.第一次来这里我想的这辈子总得来一次吧，还真的睡了一次就够了，太失望了，主要是性价比太低了，一点享受的感觉都没有，感觉一直在被坑骗腰包一样。在景区的售票处还不能够刷卡，真够落后，还不如直接的在App上面支付然后跑去团购的窗口那里去取票！.冬季的长白山很漂亮，也很冷，除了天池很难看到，下面的长白瀑布，小天池也不错的，另外去边上的万达小镇住一住，滑滑雪也不错。.景区很大的。一张门票可以玩几天。.长白山景区作为五A的景区，可玩性实在是太低了，如果不上天池的话也没什么值得好看的，就那么两三个点，跟九寨沟比较的话，这里的门票￥100多一点还行，但是所包含的景点的还是比较的失望，你要上天吃的话还得花80块钱的越野车费，而且这种车不太安全，虽然说很刺激，没有出事的情况之下可以这么说，如果真的出事的话呢那是要出人命的。.怎一个美字得了，一天四季，山下温泉。.是一座巨型复式火山，由于其独特的地理位置和地质构造，形成了神奇壮观的火山地貌，典型完整的动植物资源.冬季的长白山水另一方的景色，到处都是白茫茫的一片，很多的栈道都已经被封闭了，可以看的景点其实不是太多，瀑布是可以看得到的，实话说也就只有北坡值得一去，直接到上长白山天池，如果天池被冰封的话，同样也是白茫茫的一片！.长白山一定得冬天去看雪，太美，美轮美奂，简直无法用语言形容。来之前一定要记得查好天气，要不赶上天池不开放，就亏大了，记住一定要保暖，巨冷。.值得一去，特别是南方人去感受冰天雪地无语伦比景色宜人。.不同季节我的航拍长白山及天池。.这里有滑雪场，有山顶温泉，很好.值得大家一去，去的时候天气不错，没多久下大暴雨，算是很狼狈的一天但是好在我们一行人的心情很好，什么困难都不是问题.有好几个地方可以登顶看天池。现在这个景区游客中心万达酒店。也修整得越来越规范了。.千里冰封，万里雪飘，白雪皑皑，冰冻三尺。\\n那纯洁的白雪，让人忍不住陶醉。大雪如鹅毛，飘飘洒洒给大地带来装饰。.住在万达喜来登。天气不错，有阳光，很多深圳朋友来。.长白山景区是坐落在延吉，与朝鲜隔江相望，最著名的就是天池，建议大家2一定去一趟。.景区很大，要做很长时间的区间车，景色宜人.长白山：是否看到天池基本靠人品，接驳车上去另行收费80元/人，一路景色超美，苍茫的天涯是我爱......不过长白山感觉夏天去景色会更美呢。.因其主峰白头山多白色浮石与积雪而得名，素有“千年积雪为年松，直上人间第一峰”的美誉。.长白山--是东北第一高峰，号称“东北屋脊”。长白山景区内有天池、长白瀑布、地下森林、高山滑雪等代表性景观。.茫茫一片冰雪也掩盖不了长白山的绚丽.长白山有纵横数百里连绵不断的森林，数不清的清澈见底的河流，进入长白山区，无论是乘火车还是汽车，都一直在森林里穿行，小河在身边流淌，人与自然融为一体，这样的感受只有在长白山区才会有。天气晴朗时登上山顶俯瞰长白山天池，他的大气磅礴震撼着每一个向往他的心灵！夏季远望池边对面山坡，有如巨型水墨画一般，长白山的美，只能亲眼所见，难以用语言描述，任何拍摄技术也无法真实再现长白山天池的美。.整个景区交通比以前便捷许多，夏冬风景各有千秋。.留恋不舍，让人无法以后不去。。.长白山景色挺漂亮的，上面风很大，不用力站好的话风都可以吹着你跑。我们从紫玉酒店出发，做出租车包来回120元，应该算是比较便宜的了，不够风景区门票费还风景区上山车费比较贵，门票125,上山巴士85,中途再转吉普车80,山上坐一下雪地摩托50。除了车费还要再景区租大衣，护膝，防滑脚镣，衣服吃得多的可以不用租大衣，租这些挺贵都挺贵的，一个人得花掉150块。不过能看到天池还算不错了～.大美长白山，每一次来这里都会有新发现。.十月一去的时候人比较多，天气很棒，到山顶看天池时候刚好没有雾，棒极了！特别清楚，天池很漂亮，大爱这个地方，有机会还要去！.长白山景区是国家AAAAA级旅游景区，主峰长白山多白色浮石与积雪而得名，素有“千年积雪万年松，直上人间第一峰”的美誉。景区是拥有“神山、圣水、奇林、仙果”等盛誉的旅游胜地，也是满族的发祥地，在清代有“圣地”之誉，皇帝须亲自或委派大臣到吉林乌拉（今吉林市）望祭长白山。.天然的原始森林，美丽的自然风景，红黄绿三色树叶，美不胜收。.很好看。值得去游览。当地的景色和图片宣传很&amp;#39;&amp;#39;很震撼.长白山太美了天池冰瀑树挂滑雪非常棒.大美长白山，大美中国，有生之年必须来一次！.没上得去，西坡封山，只能在山脚下转转.到处是雪，松树，美景白雪，值得看看.大美长白，一年四季，季季有美景，冬季领略北国风光，滑雪胜地，泡着温泉看着雪花飘飘，别有风情，春季看到春的希望找到了春的喜悦，感受绿色的气息，夏季感受高原花海的震撼，秋季感受金色海洋，收获的喜悦，更容易领略天池的美。.去了长白山北景区。花了290元（125+85车票+80天池车票），游玩了4个小时，全部看完了。景色可以，就是觉得性价比太低，景点太少。.如果说盛夏的长白山有着22度的沉静，那么从12月开始寒冬的长白山，白茫茫林海簇拥的天池，还是弥漫着一层一如既往的迷雾；无风的滑雪场，又开启了一场雪中的盛会；泡在热气腾腾的温泉里，看外面白雪茫茫的世界，美赞！.长白山，是我国东北第一高山，最高海拔为2691米，高山上，一年四季中，常有冰雪覆盖，伴有雾凇的胜景，成为旅游者来到长白山观看重要景观之一。.长白山行从哈尔滨出发，飞机行程30小时，入住万达酒店，机场免费接机车程20分钟左右，本来此次目的是看天池，天公不作美大雪❄️两天没停，放弃去景点，改在酒店滑雪、泡温泉两天，注定明年再来。.地下森林的浑然天成，狠美。温泉煮鸡蛋的尝试。.风光秀丽，美不胜收，人间天堂。.门票贵，游人多，排队长，但是一切都是值得的，这座休眠火山风景如画，真以为置身于欧洲，负氧离子超多。登天池之巅，你更会被大自然所震撼。.天然氧吧，空气清新，景色秀丽，据说只有运气特别好的人能看见天池.长白山的服务人员的服务都很到位，而且很有规矩，感觉特别正规、安全！因为景区无法刷卡，所以通过携程买的电子票，很方便！.特别好，环境不错，以后还会去的，卫生方面也不错，希望继续保持，早点种类也很多，一切都很顺心，下次去还会选择这里.特别好，环境不错，以后还会去的，卫生方面也不错，希望继续保持，早点种类也很多，一切都很顺心，下次去还会选择这里.长白山景区是到东北旅游的必去景点之一，这里的冬天的雪景对比较少见到雪的南方的朋友来说绝对是一种震撼，不过山上面风很大温度也很低一定要做好保暖防护措施.值得一去的美景，不虚此行呀！美美美！.长白山是很多人心里的圣山，可惜的是前天大雪没有上到主峰，不过其他景点都很好，白茫茫一片，而且看到冰冻住的瀑布，对南方人来说不错的体现.北坡的景观丰富、景点最多，最能代表长白山的特色。北坡景区有壮观的长白瀑布、神秘原始的谷底林海，以及大冬天里一片热气弥漫的聚龙温泉，还有小天池、绿渊潭等小景点。山上温泉广场有小摊售卖口味独特的温泉鸡蛋，可以尝尝。.冬天的白雪皑皑真的是令人喜欢到极点。.长白山一个充满神秘而且美好仙境，它的冬季，更是因为有粉飞的雪花，让这里分分钟上演一段“雪奇缘”。而滑雪就是这冬季最认人兴奋的动动了，穿上色彩鲜艳的滑雪服，戴上炫酷的墨镜，就充满了征服雪山的勇气。.瀑布，大峡谷，林海，真的是美轮美奂的一片天地。.放眼望去，茫茫林海，北风吹来，万树银花，洁白的雪浪此起彼伏。无暇的白雪，洗尽你周身的疲备，乐而忘返。.长白山，白雪遮盖了一切，那些连绵无边的雪山，像是大师笔下的“留白”。这里真正远离城市，看别处看不到的成片茂密的纯净森林冰雪世界！.一下车俺就兴奋地往山门跑，远远就看到白色的山门上书写着“长白山”三个大字，激动难耐啊！当俺准备戴帽子遮阳时才发现漏在旅馆了，这时司机大哥凑前来说：“俺帮你买门票能省5元。”为略表俺搭车的谢意，俺就随他去到旁边一家旅行社里，工作人员说付168元，俺正纳闷票价本来就这个价嘛！.长白山温泉大小就几十处，水量、水温、水质一年四季基本恒定，矿物质含量很高，有“神水”之称。在雪景中泡温泉，别有一番“天浴”意境。.从长春坐大巴4个多小时到长白山万达度假村，午饭后去长白山滑雪场滑雪，第二天花一整天时间游览长白山北坡景区，晚饭在二道白河长白山大厦里面的朝鲜餐厅用餐，第三天上午就坐飞机回上海了，如果时间允许，建议大家再放半天游览西坡。.这里气候多变，常有蒸气弥漫，瞬间风雨雾霭，宛若缥渺仙境。.长白山景区位于长白山国家级自然保护区内，位于安图，抚松，长白三县交界处。长白山是中国十大名山之一是全世界闻名的，每年全世界来长白山游玩的人不计其数，他们主要是欣赏天池和希望看到天池怪兽，欣赏长白山天池西坡是最佳的地方就像在看大海一样特别舒心，长白山西坡坐落于松江河镇是去西坡的主要小镇，欢迎全世界的朋友来长白山旅游到松江河镇参观所有的一切，大美长白山欢迎你，谢谢。.这是第二次来了，上次去的西坡，所以这次就来北坡了。北坡道路比较险，倒车次数多。但可以直接坐车到山顶。西坡得自己走一千四百多级台阶，体力不是很好的有些累。但西坡省钱。景色各有不同。希望对大家有帮助。.长白山是一座巨型复式火山，由于其独特的地理位置和地质构造，形成了神奇壮观的火山地貌，典型完整的动植物资源，富有北国情趣的冰雪风光。长白山是欧亚大陆北半部最具有代表性的典型自然综合体，是世界少有的“物种基因库”和“天然博物馆”.长白山景区非常值得一看，现在正是赏雪的季节，景色不错，雪,下得很大很长,大得铺天盖地,顷刻间便染白了长白山的一切；长得像长白山的梦,太赞了。.11月去的 听说西坡被封了 所以只能从北坡进入 挺遗憾的 很多去过的游客都反应说西坡角度更好 离天池更近 但是需要徒步1400左右的台阶 门票125 环保车85 越野车（登主峰）80\\n当地人说10月是去天池的最佳时间 因为刚刚下了第一场雪 山里的植物都还能看见 我们11月去的 都被雪覆盖了 不过景色还是很美的 景区服务站有租赁服务 但个人感觉 只要衣服穿的够多 并不需要租赁 上山风大 需要带好口罩 拍拍照片 20分钟最多了 越野车下车的点就是绿渊潭景点\\n绿渊潭好像是人为的景色 去的时候瀑布半冰半水 拍不出什么效果 而且出口也被大雪封住 只能入口进出 然后再坐环保车前往温泉瀑布\\n温泉瀑布 挺小的 冬天拍摄效果一般 而且大冬天上去有点累人 所以不介意租赁大衣 负重太重了。。。温泉蛋很好吃 鸭蛋的蛋黄好吃 流油的 鸡蛋的蛋白好吃 软软的 下山有两种方式一个是坐人力雪橇滑下去 30元/人 大约5分钟 还有种就是自己原路返回走下山 大约是10分钟 然后就要坐环保车出山门了 一天就结束啦.山峰、池水、森林、草地都覆盖着白雪，静谧、纯净到没有一丝杂质，万树银花，仿佛进入了白色天国。白雪遮盖了一切，那些连绵无边的白雪，就像大师笔下的“留白”。.简单百宝箱计算机的技能新年大吉二级甲等你才能你才能才能电脑党建党建党建嗯见不到你小轿车积极参加.长白山景区位于吉林省东南部，东南与朝鲜毗邻，坐落于长白山北坡，距长白山34公里，距双目峰中朝边境65公里，区域面积52.42平方公里。长白山景区是国家AAAAA级旅游景区，主峰白头山多白色浮石与积雪而得名，素有&amp;quot;千年积雪万年松，直上人间第一峰&amp;quot;的美誉。景区是拥有&amp;quot;神山、圣水、奇林、仙果&amp;quot;等盛誉的旅游胜地，也是满族的发祥地，在清代有&amp;quot;圣地&amp;quot;之誉。.是国家AAAAA级风景区，景区风光美丽迷人，资源丰富，动植物种类繁多。有天池，长白瀑布，聚龙泉，黑风口等著名景点。.去过多次，很好空气清新，喘气都很.长白山的景色非常美，让人心旷神怡。就是景区管理有些混乱，一下雨就没有工作人员维持秩序，抢车打架时有发生，票价也稍贵。.还行吧，就是人多，有点恐怖啊，据说赶上历史高峰了，到处是人，到处排队，最好还是别赶在人多的时候来了，乐趣损失大半。一切向钱看，国内的景点都如此。.还行吧，就是人多，有点恐怖啊，据说赶上历史高峰了，到处是人，到处排队，最好还是别赶在人多的时候来了，乐趣损失大半。一切向钱看，国内的景点都如此。.还行吧，就是人多，有点恐怖啊，据说赶上历史高峰了，到处是人，到处排队，最好还是别赶在人多的时候来了，乐趣损失大半。一切向钱看，国内的景点都如此。.还行吧，就是人多，有点恐怖啊，据说赶上历史高峰了，到处是人，到处排队，最好还是别赶在人多的时候来了，乐趣损失大半。一切向钱看，国内的景点都如此。.还行吧，就是人多，有点恐怖啊，据说赶上历史高峰了，到处是人，到处排队，最好还是别赶在人多的时候来了，乐趣损失大半。一切向钱看，国内的景点都如此。.还行吧，就是人多，有点恐怖啊，据说赶上历史高峰了，到处是人，到处排队，最好还是别赶在人多的时候来了，乐趣损失大半。一切向钱看，国内的景点都如此。.还行吧，就是人多，有点恐怖啊，据说赶上历史高峰了，到处是人，到处排队，最好还是别赶在人多的时候来了，乐趣损失大半。一切向钱看，国内的景点都如此。.这个真的值得去，夏天六七月去，风景独好！山上的泉水可以随意喝很干净，天池化了之后蓝色的特别漂亮还能看见朝鲜的过界.长白山，四季有不同的景色，11月，已经是长白山的冬季，遇到一场暴雪，长白山就像一幅水墨画展现在眼前，北坡景区，除了天池外，还有长白瀑布，地下森林，小天池，绿渊潭等小景点～.中国长白山的银装素裹！有人说冬天的长白山是一片雪域王国，千里冰封，万里雪飘。也有人说冬天长白山是人间无暇的仙境，万树盛开的银花。.我爱我的家乡！人家有大美，天地长白山！.长白山是火山喷发而成，山体呈黑色，.当大家还沉迷于稻城、喀纳斯、北疆浓烈的秋色，远在东北的长白山，早已悄悄下起了第一场雪。长白山，白雪遮盖了一切，那些连绵无边的雪山，像是大师笔下的“留白”。这里真正远离城市，看别处看不到的成片茂密的纯净森林冰雪世界！无暇的白雪，洗尽你周身的疲惫，乐而忘返。.山清水秀空气好、银装素裹更妖娆.爬北坡，看天池，实在太美了，拍了好多美照.要想见到长白山的天池是要讲缘分的.景区的瀑布远了点，看不太好。瀑布下的温泉挺好的。碧渊潭也挺好看的，小天池也不错是雪山飞狐的外景，药王谷的那一集，我挺喜欢的。.冬天来了。冬天的长白山是美丽的。美丽的长白山冬天是白雪皑皑的。是如梦如幻似真的长白山。喜欢雪的朋友吗这里是你们的天堂。特别是长白山魔界风景区的雾凇让你留恋。感觉有魔力一般这里的雾凇是你想不到的美。.景色很美有点冷。建议带一件厚衣服.一定要来看看，非常美的自然景色.刚山上下了雪，山下没有。所以上去后，长白山另一种美。.中国十大名山之一的长白山景区是长白山国家级自然保护区内，位于吉林省安图，抚松，长白三县交界处。长白山也是世界闻名的名山之一。每年来自世界各地的人超过百万。他们喜欢长白山的自然风景和长白山的天池。大美长白山欢迎你。.长白山天池必来的一个景点，游玩后可以去松江河镇吃些铁色美食.天气不错，空气一级棒，秋季前来，景色有独特的感官.景色没得说，正漂亮，而且感觉到大自然的鬼斧神工。天池看到非常清楚，一定要多穿点，北坡还是比较冷的。好不容易自己冲，你不借.非常好用，性价比超高，建议大家多用电子门票，非常节约时间，特别要记得提前存码图，景区信号不好.非常好用，性价比超高，建议大家多用电子门票，非常节约时间，特别要记得提前存码图，景区信号不好.十月初去的景区，在南方还穿短袖到这必须是长袖，温度明显低很多。这里空气很新鲜，坐车进入景区可以看到非常大的灌木，显示了它的历史气息。值得来！.西坡和北坡都去了，两个地方距离差不多单程要两个小时，所以要分两天去。北坡比较成熟，景点较多，有瀑布。西坡景点较少，要看去的时间，如果不是花季，环保车很多景点都不停。但是西坡看到的天池比较全面。.长白山景区，主要是看天池，目前有北坡和西坡两条线路。北坡有专车送往山顶，费用会贵些，而且会有岩石遮挡小部分，看不全，但是其他的景点会多些。西坡看天池要爬1442级台阶，省钱费鞋，天池可见全貌，但是其他的景点差一些。现在去北坡的游客比西坡多很多，大部分团队都会走北坡，我们走西坡近一些，所以选择了西坡，去的时候高山花园还闭园了，只有王池和大峡谷可看。.中朝两国的界山，千年雪山，一山有四季，十里不同天.没啥可看的 真的没啥可看的 好没意思的.非常方便，特别是好网友提醒电子票提前拍照非常重要……北门人多，还是西门更有味道……不过时间充足建议都去玩，不同感觉.非常方便，特别是好网友提醒电子票提前拍照非常重要……北门人多，还是西门更有味道……不过时间充足建议都去玩，不同感觉.非常方便，特别是好网友提醒电子票提前拍照非常重要……北门景多人多，还是西门更有味道……不过时间充足建议都去玩，不同感觉.有西坡和北坡,都值得去,景点不一样。西坡的大峡谷是亮点,王池花园令人陶醉。北坡是大巴车直达坡顶,看到天池不费体力。小花鼠随处可见。其它的动物还有梅花鹿等。.景区分为北坡，西坡和男坡。北坡开放的最早，也是旅游设施最完善的地方。西坡主要是有万达国际度假区所以人也越来越多了。南坡几乎不开放。想要看天池基本靠缘分，山顶的天气变化很快，很容易就封山了。.景色挺好的，就是完全要坐车，车票好贵，而且不能打折，天池的景色取决于天气，如果没雾的话会更好。全部景点中就地下森林有些路程要走，其他的并不累。但是一定要多穿衣服，天池上特别冷。.门票好贵，北景区：125门票+85景交（进门必备）上天池主峰另付80景交费用换乘。西景区：去125门票+85景交。儿童老人可以半价，下载长白山易通APP可以网上直接购票，电子扫码进门，不用排队。有导游证领队证的没有出团计划都不能用，西北都不能用。旺季西北景区不能联票，据说冬天的时候可以联票，不过我没试过。十一期间游客很多，具体如图，但是景区管理很好，并没有安全隐患，景交车从不超员，排队时间也不会特别长，给景区的管理点个赞！秋季景色绝美！具体如图。.端午自驾去长白山，虽然景色不是最好，但胜在人少，两个坡景色不同，各有特点，总体来说还是很值得一来的。.各种排队 排了好久也没能上去天池。相当的遗憾啊，就是冲着天池去的，但是直到四点左右也没能上去.长白山这个季节已经蛮冷的了。十一人多，早早赶去，已然人山人海。山下天气晴朗，天蓝，云不厚，觉得看天池有望，不料山上正在下雪，白茫茫一片，完全看不到天池。。.去的时候人太多，从入园就开始排队，大概4、5个小时才登到山顶，幸运的看到了天池水，总体还不错.出行的时候是5月份，长白山早晚温差变化大，一大早穿着厚外套就兴奋的准备上山之行，开始一路上是一片绿油油的树林，到了一半全都是白茫茫的一片…对于南方的孩子来说，很唯美的画面。.12月初去的 冬天上长白山 满山全是厚厚的白雪 高的地方一米多厚 小盆友们就像老鼠掉米缸了 零下20多度的气温 居然还玩得不肯走 风景也很美 像水墨山水画 就是租护膝这些比较贵 我是自己买了带过去的 提醒大家风大护膝一定要租不然腿冷的吃不消.为中朝两国界山，景色极佳，高山湖泊奇特，我国上山的三个坡都有看点，森林资源丰富，动植物种类2500多种，天池还是我国最高的矿泉湖，非常好看。.交通便利，停车方便，网上订票取票服务态度好，有网购票专用入口上车，山上景色美丽空气清新，高山晓雾，云海日出，日落。\\n美得不要不要的。\\n准备去高山区的朋友，自备厚实衣物，滑雪帽，以防山顶大风吹的人半夜头痛欲裂（前车之鉴）高山区住宿条件艰苦，做好心理准备。\\n景区内饮食物价较高，建议自备干粮饮水，\\n以上是个人心得仅供参考。.天池，长白瀑布，绿渊潭，都是很美的地方！.长白山景区位于吉林省东南部，东南与朝鲜毗邻，坐落于长白山北坡，距长白山34公里，距双目峰中朝边境65公里，区域面积52.42平方公里。[1]\\n长白山景区是国家AAAAA级旅游景区，主峰长白山多白色浮石与积雪而得名，素有“千年积雪万年松，直上人间第一峰”的美誉。景区是拥有“神山、圣水、奇林、仙果”等盛誉的旅游胜地，也是满族的发祥地，在清代有“圣地”之誉，皇帝须亲自或委派大臣到吉林乌拉（今吉林市）望祭长白山。1983年夏，邓小平登上长白山极顶,题写&amp;quot;长白山&amp;quot;、&amp;quot;天池&amp;quot;横幅，并发出赞叹：&amp;quot;人生不上长白山，实为一大憾事！”。长白山自古以来就是中国的神圣领土，是中华十大名山。长白山在《山海经》称不咸山，北魏称徒太山，唐称太白山，辽金已有长白山之名。[2].天池西坡门票好贵啊，一个人200多.确切的说，长白山景区有多大范围不知道，不过令人惊喜的是，山下二道白河镇的建设，颇有现代化生态区的范，公园，栈道，步行街，未来的模样，非常宜居。.很值得游玩啊。西坡位于抚松县松江河镇交通特别方便。火车。汽车。飞机。特别是西坡的天池特别漂亮。像看大海一样美丽。北坡位于安图县也是不错嘛。北坡景点比较多特别是温泉。在游玩北坡以后可以泡一下温泉很解乏。最后说一下长白县去那里的十五道沟。中途有中朝边境值得刚看。.10月的长白山是非常漂亮的 叶子颜色丰富 景色迷人不多说看图吧.总的来说，还是挺不错的景点，一定多穿衣服，冷。.长白山景区是值得一看的。特别是西坡在西坡看天池就像看大海一样。.景色非常优美、感叹大自然的神奇之处～这是一次净化心灵的旅途，等长白山有雨、有雾才算没白来，关键是我们避开了雨和雾，守得云开见日出～感觉超级棒、景色～全在图里～.由于航班变动提前一天上了山，运气很好去天池的时候雾散了，等我们拍完照，雾又起了，虽然十五号天气没有十七号好，但跟上过多次都没看到天池的人相比，我们一行六人三对母女运气已经很好了，看到天池意味着此次东北之行圆满了！.除了长白山，别的就不要去了，什么萨满部落，跑马场等等都是人工建设的，没什么意思，门票还比较贵，不去二道白河的免费的公园，十分漂亮，小镇子十分的靠谱…….：站在长白山高处，脚踏三江源头，任思绪飞腾。想这长白山之水，奔泻而下，一路北泻，经吉林，傍长春，在松原转身东去，再给哈尔滨、佳木斯一个美丽的身影，汇入黑龙江后，又与乌苏里江汇合，浩荡流入鄂霍次克海，那是多么的波澜壮阔！如果说松花江是东三省的血脉，这长白山就是这块黑土地的造血之源！比松花江源海拔稍低处，则是鸭绿江和图门江之源了.森林公园很不错，都是原生态的，有山有水，.王池真心不推荐大家去了，过了花季，一路走过去，花都败了，走到王池，失望，就是一个小水泡子，还不干净。.我们南坡北坡和西坡，我上了西和北，各有各的风景，北坡要再坐个越野上去，80不含在门票内。北坡相对人多，西坡有一小段可以徒步看森林风景。都很美。.长白山列为中国十大明山每年来这里旅游的人很多。西坡位于抚松县松江河镇坐火车在松江河镇下车。坐飞机在长白山机场降落交通非常方便。北坡位于安图县的二道白河镇坐火车在二道白河下车。大美长白山欢迎你。谢谢。.玩的很好，游玩顺利，取钱方便，坐车呢很方便哦，直接换票，订票很快！！！携程给旅游带来很多好玩的，也节省了大家的时间.门票加穿梭车价格不菲，但非常值得，景色太美了。.去的时候天气不是很好， 但 还是看见了天池，，，感觉夏天很美丽啊，，，，，，，。，.大美长白山，好景制好心情，电子票超级方便，景区管理比预想的我好.长白山是东北必去的最好玩的景点，景色优美，空气清新.大美长白山，这个季节不仅天池美，枫叶更美.大美长白山，自然好风光。北西两登顶，天公不做美，未见天池景。.不错的地方！令人向往的地方！美不胜收的地方！天，特别的蓝！云，特别的白！树，特别的高！氧，特别的爽！水，特别的甜！花，特别的色！天池，像画！还想再来一次！真的！.登临西坡览全湖，北坡凡馆称博物，戏台溪瀑洗俗心，白河公园水趣足。\\n西坡看湖和北坡不同，西坡看着宽，北坡看着窄，所以看湖首选西坡。\\n秘笈：最好自由行，在坡顶呆着时间不受限制，那里天气变化快，多呆半小时，可能就会看到更好的效果。\\n北坡去景区路上，右手有长白山博物馆。每到一地，我都尽可能去当地博物馆。这个馆比较一般，可能这是个人感觉，因为我塾悉东北。但去一下有必要，对长白山的了解更立体了。\\n此行精彩处有三：西坡高山苔原是一，北坡景区外的戏台河景区是二，溪瀑众多，能看能玩，比庐山\\n小溪和张家界金鞭溪好，规模不及云台山的溪瀑，但里程短，分布密，玩着容易，兴致盎然，堪称小云台山溪吧，强烈推荐。\\n秘笈：景点白天人少，可以从容游玩拍照，坐在溪边洗脚。我在上游还打了瓶水直接喝。晚6：30景区开彩灯，照树照水，旅行社组织人来。所以有时间可专门玩一天。\\n精彩之三是池北区市内公园，或者说白河镇内公园。在步行街附近。此园善于用水，集自然的河流与人工的湖，溪，泉，瀑于一园，有开阔有狭窄有热闹有幽静有文雅有通俗，玩半天一点不觉烦，不觉单调。\\n我们两天的行程很充实，但有点累，三天更好。西坡一天，博物馆加戏台河一天，市内公园一天。.长白山是中国几大名山之一，它山高而陡峭，特色吸引广大游客前去游览。.票没问题，保险到了以后工作人员告诉我根本没有，简直无语到了极点，就是景点，要不然就投诉了.长白山西坡景区非常漂亮。在这里看天池就像看大海一样宽阔。七月份来可以看到高山花园的花海。九月中旬来也是特别漂亮的季节。满山的五颜六色特别是枫叶很美。大美长白山欢迎你。谢谢。.订票很方便，长白山北坡要早起，西坡倒真没排什么队，就是冷啊，风吹雨淋。不过下雨都看到了天池，没白等5个小时啊.北坡热，西坡冷，花了50块租了件大衣，裤子湿了，长白山西坡防冻防湿很重要。另外携程上预订门票很给力，不用排队取票，把二维码截图下来（怕山门信号差）扫一下就行.8月6日去的，包车没法开到山门口，要换公交车，还下错山门，走了一段路才到。广场上都塞满了人，根本找不到工作人员问询，二维码这时也没用，和纸票排一起。进入大厅才有扫二维码的队伍，还是排队，接着排队上环保车，也有扫二维码，稍快。排队等车，乘车，下车，再等车，去景点。上天池的人特多，拥挤，我俩都不用自己撑伞就已经在伞下了，呵呵。上到山顶已经1点多了。看完天池下山到中转站，人不多了。再去温泉广场，瀑布。地下森林只是下山路上经过，没进入。后悔，应该前一天住二道河子的，结果万达小镇过来时间太长了，2个多小时，耽误一早上。.8月5日，万达小镇到西坡，很近，20多分钟的车程，山下植被茂密，大峡谷换乘，峡谷内很阴凉，不用撑伞。山上很热，很晒，台阶上人多，都撑着伞，走不快，走走停停，有凉棚可以坐一会儿。山上风很大，天池很漂亮.一次没玩够，还要再去一次，棒棒哒。.原始森林很美，生态环境保护的真好！.我们是八月份去的景区，按理说天气很温暖了，可是那里的早晨还是非常冷，很多人都租了羽绒服，我们一天的行程游览了天池、还有地下森林，看了瀑布，还去泡了温泉，有冷池和温泉池2种，挺有意思的。.景色太美了，随高度上升树木种类不同，一定要去.人很多，全程游玩大约六到七个小时，其实实际游玩时间也就三个小时就够了，其余的时间都是在排队排队排队，很是烦人，尤其是孩子和老人很受罪。其他的就不用再说了，景色超美，天很低，云彩就在脚下，天池的水碧蓝碧蓝的，很值得去。.人品大爆发人品大爆发人品大爆发人品大爆发人品大爆发人品大爆发人品大爆发人品大爆发.西坡和北坡共上去3次。第一天大雨西坡能见度很低。后面两天分别上了北坡和西坡，都完美的看到天池，很美。值得推荐。.西坡和北坡共上去3次。第一天大雨西坡能见度很低。后面两天分别上了北坡和西坡，都完美的看到天池，很美。值得推荐。.主要是火山喷发石灰岩，景色还算不错，有好多小松鼠.景色甚好，景区管理垃圾，垃圾的景区管理。人多人多人多人多人多人多人多人多人人多多.快捷方便，推荐大家使用网上购票，节省时间，，并且价钱都是一样的为啥还要去排长队呢.人太多了 扫码入场确实节省了一点时间 但是入园后的乘车排队 耽误了太多的时间 一下午就看了个天池.我们很幸运，这天天很好，看到了长白山天池，地下森林是我最喜欢的地方，原始森林，空气非常好。希望下次有机会再去，陪孩子，陪家人。.建议大家去之前都买好电子票，比去了再买快很多，不用到处排队！暑假还要十一人相当多，哪哪排队，排队的时间比看景的时间多多了.如果是从长春坐大巴去的，车上会推荐《格林宾馆》，大巴会有分成，千万别住，就是一家黑店。如果你非要住，记得宾馆是能讲价的，入住之前仔细检查毛巾和床单有没有染色，以防中招，一个外地人到那就变成弱势群体。二道白河镇非常小，附近的几条街都是宾馆，你住哪其实都无所谓，走路十多分钟镇里哪都能去。二道白河镇的正规出租车包车去长白山是60元，也就是一人15元。如果你们不够4个人，记得前一天提前拦几个路上的taxi提前拼好，而且58同城上也有电话，提前定好车就是15元。大戏台河景点千万别去，不值门票，你看他们推荐的那么热情就知道猫腻多大了。.二道白河住宿吃饭并不好，安图也一样，所以建议住吉林长春，早点走玩一天就返回。住的好吃的好.最好住在大城市附近的，吉林市长春市，早上走，到安图高铁早点走，凌晨到，提前约个车，送到二道白河北坡，玩一天，晚上返，不用住当地.下雨，天寒地冻，雾气濛濛，全身湿透，略窥一二，两次登坡，心诚则灵，早一天天晴，迟一天也天晴，偏偏这天，风雨交加，幸好略睹芳容，知足者常乐.女儿还不到7岁。还是要了门票。虽然写着含6周岁 骗人的。进了景区要坐环保车。小孩儿应该半价呀  但是没有半价票 不合理。想看天池。你要再买一次环保车的票。这样一人合300元.上北坡天气不好，人在云里走，冷，天池都看不清，西坡那天天气不错，天池一览无余，就是爬台阶累死.长白山风景区包括四个坡，北坡、西坡、南坡在我国境内，北坡开发最早、西坡开发时间不长、南坡刚开始。去长白山旅游，一般从延吉出发，交通、住宿方便。延吉距北坡大概230公里，距西坡近300公里，为了增大看到天池的几率，可以既去北坡又去西坡，需要两天时间，通常要在二道白河住一宿。可以包车从延吉始发，每天800-1000元。.长白山是非常值得去的景点，这里的设施越来越好.瀑布，花园，天池，森林，景色优美。.7月8月不要来，9月初来，西坡看天池，北坡附近景点玩，二道白河真不错，休闲公园和美人松苑我最爱\\n\\n，松江河不好。.7月8月不要来，9月初来，西坡看天池，北坡附近景点玩，二道白河真不错，休闲公园和美人松苑我最爱\\n\\n，松江河不好。.7月8月不要来，9月初来，西坡看天池，北坡附近景点玩，二道白河真不错，休闲公园和美人松苑我最爱\\n\\n，松江河不好。.7月8月不要来，9月初来，西坡看天池，北坡附近景点玩，二道白河真不错，休闲公园和美人松苑我最爱\\n\\n，松江河不好。.7月8月不要来，9月初来，西坡看天池，北坡附近景点玩，二道白河真不错，休闲公园和美人松苑我最爱\\n\\n，松江河不好。.7月8月不要来，9月初来，西坡看天池，北坡附近景点玩，二道白河真不错，休闲公园和美人松苑我最爱\\n\\n，松江河不好。.7月8月不要来，9月初来，西坡看天池，北坡附近景点玩，二道白河真不错，休闲公园和美人松苑我最爱\\n\\n，松江河不好。.7月8月不要来，9月初来，西坡看天池，北坡附近景点玩，二道白河真不错，休闲公园和美人松苑我最爱\\n\\n，松江河不好。.7月8月不要来，9月初来，西坡看天池，北坡附近景点玩，二道白河真不错，休闲公园和美人松苑我最爱\\n\\n，松江河不好。.7月8月不要来，9月初来，西坡看天池，北坡附近景点玩，二道白河真不错，休闲公园和美人松苑我最爱\\n\\n，松江河不好。.7月8月不要来，9月初来，西坡看天池，北坡附近景点玩，二道白河真不错，休闲公园和美人松苑我最爱，松江河不好。.第二次去长白山，7月8月不要去，9月初去玩最好，人少，住宿吃饭便宜一半，西坡看天池，北坡看森林瀑布。也可以不上北坡景区，到附近景点玩人少，二道白河真好，晚上到休闲公园以及美人松苑都不错。.天池有点冷，人很多，排好长时间的对，快累死了，但是景色不错，去的时候要带上秋装。.长白山景区 很大以主峰天池为中心分为北坡景区、西坡景区和南坡景区。东坡貌似在朝鲜境内。。。。三个景区完全独立，但是三条路线的终点都是主峰天池。通常是一天游一个坡，景色各异角度不同。可以结合自身情况来决定行程。大部分的游客主要玩北坡和西坡。来到长白山旅游的人们通常都会选择二道白河 镇或者松江河镇作为住 住 宿 宿 和休息的落脚点。如果要玩北坡和西坡两个坡建议住 住 宿 宿 选择二道白河 镇，如果只想玩西坡的朋友建议住 住 在松江河镇。 2.位于二道白河 镇的长白山望松国际青年旅社可以给游玩长白山的朋友提供细致的服务，每天旅社都会根据人数安排大巴车往返于北坡和西坡景区北坡往返30元，西坡较远往返70元。正规的国际青旅安全性尽管放心，设施也不错与快捷酒店 酒店 没有区别，青年旅社的房间比较紧俏，需要按照出行计划提前预定。另外二道白河 镇上还有许多高低不同档次的酒店 酒店 ，住 住 宿 宿 很方便。.长白山8月份处于旺季，游区接待能力很差，可是又欲壑难填不停的卖票，完全体会不到景区的美。排队环境不好而且混乱，工作人员也不足。吃饭的地方明显不足而且价格虚高！除了泡面其他都特别难吃。景区内需要倒车，倒来倒去！排队超长时间…有的人竟然排了三个小时…真诚的建议与其如此真的不如限制流量让大家充分感受环境。唉…真的是太次….此次自由行是住在了松江河火车在，早晨打车到的长白山西坡，很方便，进景区后坐大巴，开了很久才到到，由于气压变低，两包乐视薯片自己爆了，带小孩的家长要注意了！！！！.我们第一天去西坡，排队买票人太多了，就想到在携程上买票，可惜必须提前1天14点前订票，所以我们只好把第二天去北坡的门票买了。票价是原价不打折，买完后携程把二维码发到手机上，凭手机可以在最后的检票口至今入景区，省去了排队的时间，真是太方便了，否则排队买票至少1小时，必须赞一个！.很好的天池，。。。。。。。。。。。。好。。。。。。。。。。。。。。。。。。。。。。。。.天池很好，别的景点凑数，无聊，非得40个字呢！。。。。。。。。。。。。。。。。。。。。.夏天的天池没有传说的冷，短袖即可！人多排对等车，入门，买票比较烦，不要在人多时前往！.本想买个网络票能快速通过！没想到网络通道就才一个口，还是人工扫码，那叫一个慢呀！还不如纸票快！.暑假人一点不比节假日人少！挤死了！景区硬件服务跟不上！就知道不断卖票！景点挺好的！就是排队等车费时！.人那叫一个多呀！景区除了排队等车就是排队拍照！景区没能力运应那么多人，还不断的卖票进人！弄得没看2个景点就累的不轻！总体来说景点不错！就是景区跟不上服务！.从西坡去看的天池，坐了30分的景区环保车到达步行的地方，爬了1400多台阶看到了天池！太美了……不枉此行.从西坡去看的天池，坐了30分的景区环保车到达步行的地方，爬了1400多台阶看到了天池！太美了……不枉此行.天池好美，不枉此行……坐车颠簸了36公里到达步行的地方！爬了1400个台阶来到山顶，幸运的看到了天池！.好评好评好评好评好评好评好评好评好评好评好评好好评好评好评好评好评好评好评好评好评好评好评好评！！！！！.太累了，等了4个小时，才看到天池。不过景色真的很美。进大门排队，坐环保车排队，坐到站车还要排队。.电子客票竟然没有发短信通知，到了现场才发现，耽误很长时间，语音咨询转了半天也没用，app上点击重发通知短信也因景区信号不好始终接收不到，真是费劲死了了！除此之外，其他都还行。.说实话，此次长白山之行完全是找虐之旅，本以为网上购票后会很顺利，没想到还没到山门就开始堵车，3.8公里走了50分钟，紧接着检票排队一个小时，环保车排队一个半小时，到长白山主峰的到站车一个半小时，上得主峰已是下午三点，要不是运气好看到了天池，那就太冤枉了。看来长白山的管理水平亟待提高，特别是运行调度能力，否则难以可持续发展。.人老多了，买票可费劲了！早上7点多开始排队买票一直到11点40才进去门，中间有1个多小时停售，不让进人了。据说一天将近30000游客！.值得一去，风景怡人，空气清新，避暑圣地，有机会还会考虑再去，相比上海40℃的高温，20多℃的天气真的就是天堂，旅游环境也真的不错。.二维码检票是单独的通道，节省时间，一定要早上就去，大戏台河晚上去最好，天池很美！.天池值得看，景色特别美。推荐。.长白山望天鹅景区，纯天然的大自然风光，山美水美，犹如人间仙境，如诗如画,别有洞天,山清水秀,层峦耸翠,重峦叠嶂,青山绿水,山水如画,山崩海啸,山长水远,山高水长,\\n山光水色,千岩竞秀 ,千回百转,青山绿水，它的美太多.词语都无法形容了。.舒心的一次旅啦啦啦啦啦老梁啦啦啦啦啦老梁啦啦啦啦啦啦啦啦啦啦老梁啦啦啦啦啦快来了啦啦啦啦啦老梁了.舒心的一次旅行，景点非常美。景区管理也到位。就是游客素质都不高，到处随意扔垃圾什么时候能有改善呢？.长白山，不用多说，很棒的自然景观。半山腰换乘小车上山，个人觉得西坡的自然景观很好看。.不带衣服上山就是找死！！！我穿了冲锋衣都没暖和到哪儿去.买了半票和全票，都在门口刷二维码直接通过，建议提前把二维码下载到手机里，手机信号不是很好，建议雇个导游，能随时知道山上的情况，【导游不上天池的，如果上，需要你为他付费80元车费】反正我们这次是都看见天池了。.买了半票和全票，都在门口刷二维码直接通过，建议提前把二维码下载到手机里，手机信号不是很好，建议雇个导游，能随时知道山上的情况，【导游不上天池的，如果上，需要你为他付费80元车费】反正我们这次是都看见天池了。.第一天上长白山北坡！坐奔驰上主峰，虽然人很多但是还是看到美丽的天池！第二天继续上长白山西坡！登上1400多级台阶，终于看到长白山西坡天池的美景！.北坡是传统线路，景点多，开发早已经很成熟，看天池角度没西坡开阔，但可以看到朝鲜铺设直达湖面的栈道。\\n西坡可以看到天池全景，人比北坡少一点，不过七八月是花开季节，比较好看。还有大峡谷比较壮观的原始风貌。.碰到了晴天，看到了天池，还貌似看到了水怪，真幸运，北坡上山风景很多，但西坡的高山花园值得一看.直接扫二维码进景区，不用排队很方便，赶上晴天，看到了天池，貌似还看到了水怪，真幸运呀.从松江河驱车2小时8:30到北景区，售票厅外2个售票入口已经排起恐怖的长龙，不少武警战士在维持秩序。一个多小时后终于进入售票大厅，又是密密麻麻的人群，继续排队20分钟买到票，检票正式进入景区时间已经过去一个半小时。悲剧还没有结束，乘坐大巴车又是一轮“人头战”，此时非常后悔没从网上购票（手机购票可从售票大厅外多个检票入口直接进，里面有专用通道，乘坐大巴也有专用通道，所以大大缩短了排队等候时间）。到达中转站赶紧买到天池主峰的车票，结果排队之势未减反增。因为往返于主峰的是11座中型客车，尽管景区内有200辆奔驰商务在运行，但仍然难以满足旺季时暴增的游客需求。到达站点后又是数次控制流量，等最终站在天池观景地时已接近午时。体力和耐心的绝对考验！当然无论多累都是值得的！长白山的景色真是看不够地惊艳，天池太震撼了！尽管登上主峰时天空云层较厚，似有雷雨之势，天池时隐时现、忽明忽暗，但毕竟还是看到也拍到了，已经非常知足！因为有人说来了第四次才看到。长白瀑布、聚龙泉、绿渊潭景色各有千秋，都值得一游。看瀑布需步行1千米，其中包括300米栈道台阶，稍累。聚龙泉是火山温泉口，手汤池旁边有卖温泉蛋的，生意火爆。绿渊潭虽是一处人造景观，但颇为精致，有不输九寨之神韵。听了当地人的建议没有去小天池，因时间关系犹豫再三决定放弃地下森林。下午5点出景区大门，总共用时7.5小时。总体感受景区的交通、购物、公共设施管理规范、有序，价格比较公道。只是在售票窗口秩序明显混乱，缺乏监管和疏导。建议在旺季加大宣传，引导和鼓励游客采用手机购票，方便游客的同时缓解景区售票压力。.太方便了，不用在售票处排队，直接手机刷二维码入园，纯绿色通道，推荐购买，多多使用这种方式游玩！.入园快捷，绿色通道，太方便了，如果景区都能以这种方式购票，会让游客便捷许多，推荐网上购票！.长白山西坡看天池角度是平视，能看见天池的全景，距离天池比较近。和长白山北坡的方向好的多了，北坡看天池角度是俯视，看不到天池全景。.纯人文景观 风景很美 我们去的时候雪还没有化完 司机师傅说大概九月份去最好 花开的美.两天分别去了长白山的北坡和西坡 都看到了天池 第一天阴天 主峰很冷 第二天阳光明媚 天池很美 \\n整个景区交通很方便 乘景区里的车可以到达每个景点 除了景区里的饮食略贵外 其他都不错.空气清新，安心放松。下次再来，吃的有点少选择不多。玩得不错……………………………….七月的长白山只能用一个字形容：美。雨中的美，雾中的美，阳光下的美。两天中都见识到了。气候变换非常快。长白山瀑布的轰鸣声配上满眼的绿色，美。绿渊潭的水，小天池边的，美。鸢尾花，美。就连路边为司机师傅种的小太阳花配上白桦林都是那么美。凉爽的天气让刚从高温城市走出来的我们浑身舒畅。更不用说壮观的天池。七月，来长白山吧！.比较方便，下单后短信息发来一个网址，到景区后通过链接提取二维码，直接刷二维码进入，不用排队购票，省时省力。可惜的是，没有一点优惠，美中不足。.比较方便，下单后短信息发来一个网址，到景区后通过链接提取二维码，直接刷二维码进入，不用排队购票，省时省力。可惜的是，没有一点优惠，美中不足。.比较方便，下单后短信息发来一个网址，到景区后通过链接提取二维码，直接刷二维码进入，不用排队购票，省时省力。可惜的是，没有一点优惠，美中不足。.长白山，中国和朝鲜界山，朝鲜称为白头山。在远古时期是一座火山。火山大量爆发逐步形成天池以及天池周边的16座山峰，这些山峰7座位于朝鲜境内，剩下位于中国境内。长白山天池是我国最大的火山口湖，同时是图们江、松花江和鸭绿江源头，海拔高达2150米，深度370米（我国最深湖泊），面积接近10平方公里。夏天的时候这里温度适宜，是避暑的好地方。\\n\\n长白山分为北坡景区、西坡景区和南坡景区，分别售票。一般去北坡最多，西坡次之，南坡较少。如果去北坡，可以在二道白河镇住宿生活，离开不远。\\n\\n长白山最大亮点便是天池，但是能否看到天池真要取决于运气。记得2009年我去过一次天池，由于下雨和大雾，未能一睹天池真容。这次运气尚可，可惜清晰的看见天池全貌，还可以看见对面的朝鲜。天池湖水静如镜面，蓝天白云反射在湖面，加之天池四周矗立的16座山峰，宛若仙境。我个人觉得属于一生必看的风景。游客中还有大量韩国人，这与2009年之时景象相似。\\n\\n长白山北坡除了天池以外，还有地下森林、绿渊潭、瀑布、小天池等，但这些都只是陪衬，并无太多亮点。地下森林只能步行往返，来回全长3公里。本质就是位于地下的一大片森林，没有太多值得称道的地方。瀑布就更无亮点，和黄果树等相比还有差距。绿渊潭倒还有点意思，风光比较秀丽，个人觉得是除了天池以外最值得一去的地方。小天池完全不值得一去，如果你看过天池真容的话。\\n\\n长白山北坡景区很大，必须依靠景区提供的车辆接驳。这些车辆来往频繁，比较方便，游客可以方便的到达景点之间。.蓝天白云青山映衬着一面平静的湖水 天池很美，值得来！景区门票扫二维码直接进入 非常方便.蓝天白云青山映衬着一面平静的湖水 天池很美，值得来！景区门票扫二维码直接进入 非常方便.蓝天白云青山映衬着一面平静的湖水 天池很美，值得来！景区门票扫二维码直接进入 非常方便.真心不错。但是没看上天池。天气影响。.现场要排队好久！！尤其是西坡！！！周末！！！太耽误时间了！！网上订票根本不用排队！！！！.方便，扫码很快进入景区，也许还没到旅游旺季，现场买票其实也不用排队，不过听当地人说再过一星期，买票排队进景区排队没有2小时进不去，所以到那时网上买票是必须的。.风景特别好，就是蚊子特别多。大家一定要带花露水！.相对其他热门景区这里人少，不挤，适合慢慢逛，房间预订也方便，总是有房，现在听说是旺季，超出了我的预期，人少才是硬道理，无需等侍，但是长白山服务质量有待提高，网络预订支付大部分有问题，有的预订根本无法入住.长白山西坡二维码进入比较方便。现在人不算多，几乎不排队，西坡风很大，要爬1442个台阶。.西坡门票扫二维码进入比较方便，目前人还不算太多，没怎么排队。西坡风很大，要爬1442个台阶。.蓝天，绿水，白云，青草，森林，溪流.四年了，老公第一次休年假，此次目标长白山，一连多日的阴雨天，为了完成老公年少时的梦想，下雨也登，没想到天空作美，登山之日天空蔚蓝，真是称得上长白山有缘人啊，一路风景美不胜收，直到登顶更是不往此次行程，这一路的期待终于让我们看到啦全景的壮观，此行无憾啊。.好哈哈哈哈哈哈哈哈哈哈哈哈哈哈哈哈哈哈哈哈哈哈哈哈哈哈哈哈哈哈哈哈哈哈哈哈哈哈哈哈哈哈.从北坡上的长白山，看到了天池，真的很美，上长白山主峰的环保车开的很刺激，很爽.二月份上的长白山，只开了北坡可以上。租了护腿绑上，身上穿了羽绒服然后套上加绒的防风衣，保暖足够了，不需要再租棉袄。到了山上风大啊，还下雪，没有戴上脸罩简直要被风刮出口来，幸好戴上了，但是嘴巴呼出来的气在毛线面罩上结成冰渣，真是爽啊。在长白山上看飘雪然后雪打在身上脸上的感觉太新鲜了，看着茫茫白雪罩在山上，有一种雄伟壮丽的美。就是手机冻坏了，拍不了照，都是到了一个点停下来，把在羽绒服口袋里捂着的手机拿出来赶紧拍两张就放回去，因为会冻到自动关机。天池是没法开放的，零下二三十度呢。遗憾！长白山的秋夏天据说很美，以后必须找机会去感受下天池的美。没有山上的图可放，放几张开车路上的雪景图代替。.玩的很开心！风景不错！值得看一看！不过建议有带小孩的，还是区北坡。那里不用爬，车子直接开到天池边。但是看天池的角度还是西坡好！.早上抵达西坡山门时很多旅行团排队，电子票有专门检票口，人少很快就进去了。西坡主要是看天池和大峡谷。高山花园我们去时还没开花。.非常不错，很方便、扫二维码直接进园，省着排队！赶上了好天气，看到了天池，确实很美，下次有机会再去西坡.挺好玩的！是一场说走就走的旅行！！！挺好的旅行看见了！难得一见的天池！真的很美很美.很美。。。。。。。。。。。。。。。。。。。。。。。。。。。。。。。。。1，，，，，，.很美。。。。。。。。。。。。。？。。。。。。。。？。？。。。。。？？？？？？？？。。。.很美的地方，，。。。。。。。。。。。。。。。。。。。。。。。。。。。。。。。。。.网上购票方便快捷，门票的话，直接扫手机上的二维码就可以进门了，车票的话，需要再兑换一下好像。忘记了。.长白山的美景真的很美～天池更美！.长白山天池是一个火山口形成的湖泊，一部分在境外朝鲜。白头山是朝鲜民族的发源地。去这里一定要掌握好时间，每年的八九月份天池的冰才会融化，其它时间都是冰冻期。我们到天池旅游，景区内没有人指导我们如何游玩，只能盲目的自己瞎走。导游会介绍一些自费项目，一个也不要去，去了就后悔，因为那些景点都是随处可见的。例如红旗村景点本来是免费的，导游却让游客自费花钱。导游还会让不参加自费景点的游客景区外面等到半夜作为惩罚，这一点我们已经投诉了。门票后面的一些景点图不知道如何抵达，因为送游客的车子根本就不会把你拉到那里，回来后才发现只看了三分之一的景区。.外国游客挺多，景区管理比较规范，有序，长白山路况挺好，开车去很方便。夏天很凉快，早晚温差较大.很好 景色不错           东西也很好吃以后有机会还会去的………………………………….提前网上购买，景区直接二维码验证，很方便！可能也是因为淡季，没到旺季，人不多，去哪都不需要排队，很棒.真的值得，不错的景区，风景很好，，，，，，，，，，还需要12个字，说什么呢，，，，，.好！！！！！！！！！！！！！！！！！！！？。。？？！！！！！！！！！！！！！！！！！！！！！！！！！！.非常好的，景色特别美，只不过很可惜没有看到天池。所以说看天池还是需要运气的呢！！！！.只去了长白山北坡景点，6月中旬去的。这个时间游客少照相不用抢地方，风景好天池刚开化。又不是雨季，一般稳稳看到天池了。气温也不太冷。\\n长白山风景非常好，群山环绕的地方即使不睁眼，光是呼吸这新鲜的空气就感觉身心愉悦了。\\n以下图片都是在北坡景点拍摄，分别为\\n绿渊潭，小天池，上天池的上路（拍的别人的作品），长白山瀑布，天池，温泉广场，地下森林。\\n注意事项：\\n1.来之前一定看天气，下雨天池看不着。\\n2.景点7点半开，如果旺季最好7点出发。\\n3.天气好有外套用不着租大衣，毕竟就天池冷。\\n4.上山带吃的，山上不好吃且贵，就温泉广场的温泉鸡蛋玉米还不错。\\n5.天气不好要带雨衣，天气好带帽子（防晒）\\n6.时间紧的话，个人认为小天池完全不用去就一水泡没啥意思。瀑布也是没啥意思，而且去瀑布的路很累。想看瀑布绿渊潭也有。地下森林可以看但是不用走完，太长了景色差不多看看就好。.运气很好，上山直接看到了天池，虽然天池还没有化，冻成了一块大饼。山上非常冷，风巨大，还好我们穿了护膝，否则真的不行。\\n其他风景点也不错，绿渊潭超级美，尤其介于雪化了一半的状态，又有绿色，又有冰柱。温泉煮鸡蛋很好吃，玉米也不错。地下森林氧吧，虽然没什么风景，走走呼吸呼吸负离子也是好的。.很幸运见到了天池，好开心啊！一个字美，进景区时出现了一点意外，网上购买的门票没刷出来，联系了一下客服，客服和检票的工作人员都很热心。.长白山景区不愧为国家五A景区，景色优美，各季不同。我已来过三次，都有不同感受。.我们花三百块钱请个导游还不跟我们上去，如果上去的话还得我们给买那上山的车票，醉了.长白山天池，锦江大峡谷，大自然的鬼斧神工，是必须去的地方。我们去时，山上雪还没完全融化，凉凉的，很美好的感受。.大雪纷飞 ，感受到这冬天的狂野 。狂野中有时又寂静的如水墨画一般， 给人无限宁静 ，值得一去 ！.运气很好，成功登上了天池主峰！天池景区工作人员也比较辛苦，各主要路口都有安排人员为游客安全提供保障！.运气很好，成功登上了天池主峰！天池景区工作人员也比较辛苦，各主要路口都有安排人员为游客安全提供保障！.运气很好，成功登上了天池主峰！天池景区工作人员也比较辛苦，各主要路口都有安排人员为游客安全提供保障！.第二次去了，这次是五一去的，看到了白雪覆盖的天池。.长白山万达冰雪小镇，冬季滑雪好去处。机场距离小镇很近，酒店有车接送，出行方便。滑雪场很大，各种雪道齐全。.风景如画，就是天不作美，没有看到天池，因为天气原因.山下还是阳光天晴的，山上就大雪纷飞，而且越下越大，路。都不能走，我在半路服务区租了一双有带钉的鞋套，这样在雪地里还好走一点。雪好大，直接打在人脸上，然后呼出的热气又让口罩结了冰，简直了。。。。。可是在雪地里走，你又不能停下来只能走到底，其实那些景点，也看不出哪里是哪里，因为都是一个样子白茫茫的一片。.绝对值得一去，天池不是谁爬上去就能看到的，要拼人品的，只有上山了才能体会到拨云见日的感觉，才能感受到幸福幸运的力量，去吧，保佑东北大地的神山。.人比较多，景色很美，娱乐设施少一点，和几个朋友一起去的，还是很开心的，下次会去北坡看看吧。.去的时候是冬天，天池顶封了，只能在下面看看，但景色确实很美，回来同事看了照片都羡慕死了，天池还是要再去一次的，建议春夏秋去，冬天很容易封山的….其他城市旅游景点去过很多4A也去过不少，淡季还卖全价票的头一份，全价就全价吧起码让我们多去几个地方啊！主峰关闭，好多景点什么都没有！无语一路就是坐车别的什么也没干！无语中的无语，去温泉价钱贵的吓人谁叫俺穷呢！大家要来长白山的给大家个建议！别冬天来了！啥也没看到去山上跑一圈，俩人门票加环保车四百多，加越野车160加租衣服100！啥都没看到坐车溜达一圈.包了一辆出租车，送到北坡山门，下山后再去和平滑雪场，滑雪后送回酒店。一共100元。驴妈妈买的门票很方便，扫二维码即可入内。除了门票和电瓶车费以外，要看天池还得换乘越野车，80一人。尽管冬天的天池没啥看头，我们也还算幸运的，至少是看到了，有朋友各季节共去了4次长白山，只看到天池1次。从天池下来，我们略过绿源潭，直接坐环保车来到温泉瀑布景区。冬天的绿源潭也是白白的冰面，没啥好看。首先到达分布在1000平方米地面上的温泉群。它距离长白瀑布不到1公里，一片银装素裹、冰天雪地里热气腾腾，烟雾袅袅，实在是别有一番景致。它以绚丽的色彩把周围的岩石、沙砾染的金黄、碧蓝、殷红、翠绿，闪烁着五光十色，散发着蒸腾热气，格外愉悦游人的眼目。到过长白山的人，都为那宏伟壮观、奔腾不息的长白瀑布所迷恋！冬季的瀑布不壮观，却有别致的淡蓝色冰洞吸引我。从瀑布返回，来个温泉蛋补充能量，买鸡蛋就好，鸭蛋是咸蛋哦。继续环保车，放弃小天池，来看地下森林。火山爆发时期形成的地裂带，是锦江的上源，峡谷大约有60公里长，最宽的地方有300多米，而最窄的地方只有几米，垂直深度约有150米左右。峡谷两岸生长着茂密的大森林，树木笔直粗壮。天池是松花江的源头，这里最窄处可以“一步跨过松花江”，此外，运气好的话可以看到“雪山飞狐”呢。.长白山真的很美，在南方的小朋友长大的是看不到这么美的雪景的，所以趁3月人少带宝贝们来看美丽的雪景.风景不错，还想领略一下不同季节的长白山。电子票确实省去了排队购票的不方便，虽然刷二维码进山也要排队～.风景不错，还想领略一下不同季节的长白山。电子票确实省去了排队购票的不方便，虽然刷二维码进山也要排队～.因为前几天下雨、一直没有开放、我们去那天正好刚开、所以人特别多、排队就排了好久、不过风景真的挺好.建议选择秋天时节来，因为气候适宜，而且山林的秋色衬托着长白山瀑布更加迷人！.西坡和北坡都去了，去西坡的时候大晴天，去北坡也大雨倾盆……总体感觉很好，天然氧吧。就是出租车有宰客的，要注意！.大美长白山～\\r零下二十度的天气顶着6级大风上山，手机被冻到自动关机无数次…当看到这番美景时即会觉得就算八级大风我也愿意！.春天去的，雪道是这样的，呵呵，冬天要再去一次.中国十大名山！吉林省的王牌旅游圣地！必须好！！.服务态度很差，长白山景区。应该说整个东北的服务都很差，客服可以直接挂你的电话。垃圾景区，景色还不错。.蓝天白雪，气势如虹，心旷神怡！.对于南方人来说，简直是天堂，不要说宝贝是第一次看到那么多雪，对于大人来说，也是第一次。以为会很冷，做了很多保暖的准备，没想到零下15度的地方，也还好，只要不把皮肤露出来，就不会觉得冷，赞一个！.长白山除了天池以为，还有很多景色，还可以泡泡温泉，尝尝温泉煮鸡蛋，很有意思，鸡蛋清是半熟鸡蛋黄确是全熟的。.长白山确实很漂亮，可能是我运气比较好，北坡、西坡都看到了天池。真的好美啊。确实不虚此行，就是人太多了。小巴司机确实技术高超，和网友们说的差不多，在盘山公路上飞驰，很刺激，很难忘。.暑假去的 人好多 排队等候一个多小时 午饭基本排队中解决 步行上去还可以承受 上天很青睐我们在几天大雨过后能看到天池全貌 很静很美  没去过的可以去一睹芳容。.提前预定的票很方便！到了检票处无需排队，只要提交二维码即可扫码进去，节省了很多时间！赞一个！.提前预定的票很方便！到了检票处无需排队，只要提交二维码即可扫码进去，节省了很多时间！赞一个！.提前预定的票很方便！到了检票处无需排队，只要提交二维码即可扫码进去，节省了很多时间！赞一个！.提前预定的票很方便！到了检票处无需排队，只要提交二维码即可扫码进去，节省了很多时间！赞一个！.提前预定的票很方便！到了检票处无需排队，只要提交二维码即可扫码进去，节省了很多时间！赞一个！.提前预定的票很方便！到了检票处无需排队，只要提交二维码即可扫码进去，节省了很多时间！赞一个！.提前预定的票很方便！到了检票处无需排队，只要提交二维码即可扫码进去，节省了很多时间！赞一个！.提前预定的票很方便！到了检票处无需排队，只要提交二维码即可扫码进去，节省了很多时间！赞一个！.提前预定的票很方便！到了检票处无需排队，只要提交二维码即可扫码进去，节省了很多时间！赞一个！.提前预定的票很方便！到了检票处无需排队，只要提交二维码即可扫码进去，节省了很多时间！赞一个！.一个壮观进行点评，大，太大，七月还有雪，北坡没有看见天池，很遗憾，好在西坡弥补了，看到了全景.携程订票很方便！到景区有专门的同道歉，省去排队的时间，直接扫码入景区，推荐一下！.携程订票很方便！到景区有专门的同道歉，省去排队的时间，直接扫码入景区，推荐一下！.携程订票很方便！到景区有专门的同道歉，省去排队的时间，直接扫码入景区，推荐一下！.因为的当天天气很好上山不会太冷，所以没必要在下面租衣服鞋子等东西，想去长白山有门票是不够的，还要花90个大洋买车票，不然连大门都进不去想看天池要另花80个大洋坐车上去，基本上山全程都是坐车的（看大瀑布要自己上去，冬天的瀑布下雪后都结冰了看点不大）.山顶园湖，绿静神秘，久等苦等，无怨无悔。.特别好的一次出行，携程购票不用排队入场，很方便开心的一次旅行，以后还要用携程订票.去的时候没赶上晴天，只看见了天池一角，其他景点也没有想的那么美.值得一去，上面是雪，下面是流水，还是暖的，烟雾缭绕，一股臭臭的硫磺味，温泉宝地啊！.非常值得去，冰天雪地、壮丽江山，勇闯天涯的非凡体验。.第五日，我们进入了日夜想念中的长白山，一路上看到河床中的暗流遇到天寒地冻的气候，在日出时水雾与树梢结成的雾凇；路面被一层层厚厚的积雪覆盖，好像是白色的地毯，雪像白云一样松软、洁白，在通往小天池的栈道上一幅幅纯净透明的画面出现在眼前，游人色彩斑斓的点缀，高高的白杨树和纤细的不知名的灌木枝条，千枝百态晶莹剔透，宛如玉枝垂挂，在微风中摇曳，虽然游人如织，但人们格外地放轻脚步，生怕惊扰了这唯美的幻境仙地，我们就是这景中跳动的脉搏。.暑假非常值得一去，凉爽、空气清新，环境优美。.真的超级好，本来以为看不到了，没想到等一会看到了，值了。.大氧吧，在雾霾天气里真的很怀念那里的氧分子.对面就是朝鲜，送给人家的，这是非常郁闷的事情，还是很好看的，就是火山灰尘比较多，需要注意一下，挺好的，可以多去几次。.我是南方人见到雪特别兴奋。雪非常厚也很软。雪景特别美。绝对值得一去.不负盛名，景区很大很美，完全可以玩好几天，也应该不同季节去看看，天池，温泉，森林，等等，都很有特色。.电子票很方便，几乎不用电子票很方便，几乎不用电子票很方便，几乎不用电子票很方便，几乎不用排队.电子票很方便，几乎不用排队子票很方便，几乎不用排队子票很方便，几乎不用排队票很方便，几乎不用排队.长白山太值的一看了，天池美爆了，原始森林天然大氧吧，身心彻底放松.昨天（2016年元月4日）刚刚去的天池西景区，下面相关灿烂的，结果一进景区换了环保车后就变天了，直到换乘雪地摩托的中转站那里，都还能见到蓝天。结果一到了1400级台阶那里时就风云突变，细碎的雪花夹裹着至少5级风，吹得人眼睛都睁不开。900多米的台阶，真的是攀登出了登顶珠峰的赶脚。30秒内台阶就会被大雪覆盖，几分钟台阶就会完全消失，被没膝的大雪淹没，我是踩着大雪连滚带爬的到了界碑处。只可惜能见度太低，而且温度低风又大，无法用手机拍摄。真是太特可惜了！.四季分明春的妩媚夏的妖娆秋的绚烂冬的纯洁长白山一年四季的美景太多太多不知从何说起那么富有特色那么有诗意而且那么多的历史故事满族的发源地长白山天池的神秘传说只等你来揭开！.此行虽然没有看到天池，但景色依然是极美的。去北坡的时候赶上风雪，大雪中的林海冷峻壮观，去西坡的时候天气晴好，冰雪覆盖的森林在阳光中闪光，像是走进了冰雪奇缘的魔法世界。.漫步冬季的长白山，仿佛走进了童话般的梦境。流水潺潺，针叶团团，树上还有小巧的人造鸟屋，萌哭～.环境清新脱俗，天池胜似仙境。夏季小住几日，值!.长白山是我的老家，从小生活的地方。属于开放比较晚但是景色特别好，在山上体验不同季节的变化，就是门票有点贵，其余的超值.雄伟壮丽，原始，源头，每个季节景色不同，人生必去的景区.好不错的感觉，你一定要去啊，真正的蓝天白云.这边下的雪和南方的不一样还是很美的很值得看天气其实并没有南方冷暖气供应也很足.值得一提的是高铁的通车大大缩短了我们去长白山旅游的时间最佳线路在安图西站下车包车去二道白河往返北坡是距离最近开发最早景点最多最完善的一处尤其在冬季西坡最多玩两个景点而且没有瀑布和火山温泉！浪费时间长！如有详细咨询请加微信ljfwanwan.非常棒。山上各种各样的景色都有，火山、瀑布、峡谷，应有尽有。就是交通比较麻烦，而且去几个坡要分别买门票。.长白山人很多，但是景色宜人，不虚此行，携程订票方便快捷，景区认证快，好评，景区有专用的电子票验票通道，秩序井然，十分方便.光看图片就感觉很美，等有空了我也想去看一看，走一走！.很幸运，上去就看见天池了，很爽。本来以为看不到的，因为之前去的都说没看见，在下雨什么的，我们怀着忐忑的心情硬着头皮上去，一路上何止十八弯，至少几十弯，险的不得了，好在上去就天晴，开开心心的玩了1个多小时，看天色不对头，赶紧趁雨没飘过来闪人~.长白山位于吉林省的东南部，为欧亚大陆东端的最高山系。春秋战国时期称长白山为“不咸山”；北朝时称“徙太山”；隋唐时称“白山”、“太白山”；辽金时，用汉语定名为“长白山”，延用至今。.松江河镇，位于长白山正西处，距长白山西景区30公里，长白山万达度假区滑雪场15公里，长白山机场23公里，长白山北景区130公里，长白山南景区130公里，中朝边境望天饿风景区180公里，是您来长白山旅游度假最理想的出发地。http://b.mashort.cn/h.Vpqea?sm=4ca1e3.大爱长白山 稻米一名 盗墓笔记 小哥 十年之约 相约长白.坐着环保车，随着海拔增加，植被开始不同，直到天池，几乎是寒带植被。有美丽天池，小天池，很多值得游览的景点.长白山景区位于吉林省安图、抚松、长白三县交界处，主要分为长白山北坡、西坡、南坡三大景区，长白山是一座休眠火山，位于主峰火山锥顶部的天池美丽圣洁，是整个景区的必赏之景，也是众多游客心中的祈福圣地。此外，还可欣赏山上的长白瀑布、高山花园、锦江大峡谷、谷底林海、高山温泉等各种景观，还可以去山下的温泉度假村泡泡温泉，一般游客到长白山通常是从北坡上天池。.空气好，看见天池，景色不用说，还要再去。.12月把自己包得连亲妈都不认识 上了长白山〜 一日游算是跟团的 不过完全没有导游讲解 她就负责在换车的地方点点人数 给游客指指方向就好了 毕竟山上零下20多度近零下30度的温度 导游也冷得无法好好导游了…在买门票钱 导游会带到有回扣的店家 推销你租借保暖装备 反正价格跟景区是一样的 借了护膝和登山保暖鞋 各50元花钱买放心 还挺保暖抗风的 夜没有摔跤 毕竟冬天旅游 安全第一〜〜 进了景区换接驳车 才听到长白山景区部分免门票了 下个月开始全部免门票了 所以现在买票需要身份证登记…先换了类似公交车上山 然后又换了7人座的那种山地越野车去看天池主峰 一路上大概拐了70几个直角弯 超级次级的盘山公路 上了珠峰 风大的真的可以吹走人 扶着掺着去看了天池 好在是晴天 雾气不算太大 还是看到结冰的天池了 也算了了一下心愿 总好比阴天过来什么都看不见或者天气特别冷的时候主峰封掉根本上不去要好太多太多了……匆匆看了几分钟 就去休息处换车下山了 下来了之后还看了其他景点 景区里面私人开的小饭店提供的团餐坑爹得很 不消费连进都不让人进 这个好像太不是东西了〜〜.景色一级棒！天气好的时候非常值得一去！不可错过！.天池很神圣，只要你来了，就不会失望，这是现在长白山天池的图片.门票很贵，不允许自己登上，必须做环保车上山，感觉被捆绑消费.路上花费不少时间的，不过很值得，飞静非常好.一年四季都值得去玩的长白山 夏季避暑 冬季滑雪泡汤 万达度假区吃喝玩乐一应俱全.大自然的风景实在太美了，空气特别的好，就是周边买东西得太贵。.长白山属于那种北方山脉中比较秀美的，沿着溪流上山，有一种在江南的灵秀感觉！.就是到处都排队排队。租越野车要1800，当日天气好风大，天池无遮挡。干嘛规定要写40字以上的评论内，好累&amp;#183;&amp;#183;&amp;#183;&amp;#183;&amp;#183;&amp;#183;&amp;#183;&amp;#183;&amp;#183;&amp;#183;&amp;#183;&amp;#183;.值得游览观赏的地方。特别是长白山天池。想要欣赏最美的天池一定去西坡。那里欣赏天池的角度和视野都特别开阔。欢迎你来长白山西坡旅游。.现在高铁通了坐车到安图然后包个好的车往返.很好，感觉也不错，气质内涵，触动心铉，让人心旷神怡.帮妈妈和阿姨预约的路程，她们都赞不绝口。行程安排不错，导游服务很好，不会强迫买东西！景点风景超美的！.我们是全家出游、总体来说很愉快。景区服务一般。等候进门的游客太多太多了、还不是旅游旺季.为了盗墓笔记才去的，要说它本来没什么好看的。。。不过大天池挺不错的，云雾缭绕中看到了中朝边界哈哈.秋天的长白山最美，红叶，天池，静谧，高远。天气还不算太冷，爬山涉水深处大自然之中。'"
      ]
     },
     "execution_count": 7,
     "metadata": {},
     "output_type": "execute_result"
    }
   ],
   "source": [
    "df['review'].str.cat(sep=\".\")"
   ]
  },
  {
   "cell_type": "code",
   "execution_count": 3,
   "metadata": {},
   "outputs": [],
   "source": [
    "df.drop(df[df[\"score\"]==3].index, inplace=True)"
   ]
  },
  {
   "cell_type": "code",
   "execution_count": 4,
   "metadata": {},
   "outputs": [
    {
     "data": {
      "text/html": [
       "<div>\n",
       "<style scoped>\n",
       "    .dataframe tbody tr th:only-of-type {\n",
       "        vertical-align: middle;\n",
       "    }\n",
       "\n",
       "    .dataframe tbody tr th {\n",
       "        vertical-align: top;\n",
       "    }\n",
       "\n",
       "    .dataframe thead th {\n",
       "        text-align: right;\n",
       "    }\n",
       "</style>\n",
       "<table border=\"1\" class=\"dataframe\">\n",
       "  <thead>\n",
       "    <tr style=\"text-align: right;\">\n",
       "      <th></th>\n",
       "      <th>score</th>\n",
       "      <th>review</th>\n",
       "    </tr>\n",
       "  </thead>\n",
       "  <tbody>\n",
       "    <tr>\n",
       "      <th>0</th>\n",
       "      <td>5</td>\n",
       "      <td>长白山天池，我此生无憾。来到这里，了却了自己的一个心愿，除了对天池的向往，我来看我在这里修行...</td>\n",
       "    </tr>\n",
       "    <tr>\n",
       "      <th>1</th>\n",
       "      <td>5</td>\n",
       "      <td>长白山天池，我觉得此生可以必游的景点之一，也是东北旅游最好的景点，没有之一。东北最好的景点可...</td>\n",
       "    </tr>\n",
       "    <tr>\n",
       "      <th>2</th>\n",
       "      <td>5</td>\n",
       "      <td>多亏用携程提前定了票，丝滑入园，没有排队。运气很好，看见了天池，真的超级幸运。如果没有买票的...</td>\n",
       "    </tr>\n",
       "    <tr>\n",
       "      <th>3</th>\n",
       "      <td>5</td>\n",
       "      <td>非常满意，直接刷身份证就可以。2号到的长白山，3号最早的票幸运的看到了天池。去天池还要单独购...</td>\n",
       "    </tr>\n",
       "    <tr>\n",
       "      <th>4</th>\n",
       "      <td>5</td>\n",
       "      <td>当天天池没开，所幸景区开了，入景区门口后还要坐18公里的景交到达核心区，个人觉得防寒装备只租...</td>\n",
       "    </tr>\n",
       "    <tr>\n",
       "      <th>...</th>\n",
       "      <td>...</td>\n",
       "      <td>...</td>\n",
       "    </tr>\n",
       "    <tr>\n",
       "      <th>2445</th>\n",
       "      <td>1</td>\n",
       "      <td>在这里门票。呵呵。毫无意义。一点不便宜。强烈不推荐</td>\n",
       "    </tr>\n",
       "    <tr>\n",
       "      <th>2446</th>\n",
       "      <td>1</td>\n",
       "      <td>上不了天池，不开山也不提前跟我们通知，体验感很差</td>\n",
       "    </tr>\n",
       "    <tr>\n",
       "      <th>2447</th>\n",
       "      <td>1</td>\n",
       "      <td>门票价格贵，还不包含到天池的车票，很不方便</td>\n",
       "    </tr>\n",
       "    <tr>\n",
       "      <th>2448</th>\n",
       "      <td>1</td>\n",
       "      <td>排队人太多，根本没上去，白白花了三百块</td>\n",
       "    </tr>\n",
       "    <tr>\n",
       "      <th>2449</th>\n",
       "      <td>1</td>\n",
       "      <td>时间错了，就没法退了，晕死，霸王条款</td>\n",
       "    </tr>\n",
       "  </tbody>\n",
       "</table>\n",
       "<p>2337 rows × 2 columns</p>\n",
       "</div>"
      ],
      "text/plain": [
       "      score                                             review\n",
       "0         5  长白山天池，我此生无憾。来到这里，了却了自己的一个心愿，除了对天池的向往，我来看我在这里修行...\n",
       "1         5  长白山天池，我觉得此生可以必游的景点之一，也是东北旅游最好的景点，没有之一。东北最好的景点可...\n",
       "2         5  多亏用携程提前定了票，丝滑入园，没有排队。运气很好，看见了天池，真的超级幸运。如果没有买票的...\n",
       "3         5  非常满意，直接刷身份证就可以。2号到的长白山，3号最早的票幸运的看到了天池。去天池还要单独购...\n",
       "4         5  当天天池没开，所幸景区开了，入景区门口后还要坐18公里的景交到达核心区，个人觉得防寒装备只租...\n",
       "...     ...                                                ...\n",
       "2445      1                          在这里门票。呵呵。毫无意义。一点不便宜。强烈不推荐\n",
       "2446      1                           上不了天池，不开山也不提前跟我们通知，体验感很差\n",
       "2447      1                              门票价格贵，还不包含到天池的车票，很不方便\n",
       "2448      1                                排队人太多，根本没上去，白白花了三百块\n",
       "2449      1                                 时间错了，就没法退了，晕死，霸王条款\n",
       "\n",
       "[2337 rows x 2 columns]"
      ]
     },
     "execution_count": 4,
     "metadata": {},
     "output_type": "execute_result"
    }
   ],
   "source": [
    "df"
   ]
  },
  {
   "cell_type": "code",
   "execution_count": 5,
   "metadata": {},
   "outputs": [],
   "source": [
    "def tagging(x):\n",
    "    if x > 3:\n",
    "        return 1\n",
    "    elif x < 3:\n",
    "        return 0"
   ]
  },
  {
   "cell_type": "code",
   "execution_count": 6,
   "metadata": {},
   "outputs": [
    {
     "data": {
      "text/html": [
       "<div>\n",
       "<style scoped>\n",
       "    .dataframe tbody tr th:only-of-type {\n",
       "        vertical-align: middle;\n",
       "    }\n",
       "\n",
       "    .dataframe tbody tr th {\n",
       "        vertical-align: top;\n",
       "    }\n",
       "\n",
       "    .dataframe thead th {\n",
       "        text-align: right;\n",
       "    }\n",
       "</style>\n",
       "<table border=\"1\" class=\"dataframe\">\n",
       "  <thead>\n",
       "    <tr style=\"text-align: right;\">\n",
       "      <th></th>\n",
       "      <th>score</th>\n",
       "      <th>review</th>\n",
       "      <th>label</th>\n",
       "    </tr>\n",
       "  </thead>\n",
       "  <tbody>\n",
       "    <tr>\n",
       "      <th>0</th>\n",
       "      <td>5</td>\n",
       "      <td>长白山天池，我此生无憾。来到这里，了却了自己的一个心愿，除了对天池的向往，我来看我在这里修行...</td>\n",
       "      <td>1</td>\n",
       "    </tr>\n",
       "    <tr>\n",
       "      <th>1</th>\n",
       "      <td>5</td>\n",
       "      <td>长白山天池，我觉得此生可以必游的景点之一，也是东北旅游最好的景点，没有之一。东北最好的景点可...</td>\n",
       "      <td>1</td>\n",
       "    </tr>\n",
       "    <tr>\n",
       "      <th>2</th>\n",
       "      <td>5</td>\n",
       "      <td>多亏用携程提前定了票，丝滑入园，没有排队。运气很好，看见了天池，真的超级幸运。如果没有买票的...</td>\n",
       "      <td>1</td>\n",
       "    </tr>\n",
       "    <tr>\n",
       "      <th>3</th>\n",
       "      <td>5</td>\n",
       "      <td>非常满意，直接刷身份证就可以。2号到的长白山，3号最早的票幸运的看到了天池。去天池还要单独购...</td>\n",
       "      <td>1</td>\n",
       "    </tr>\n",
       "    <tr>\n",
       "      <th>4</th>\n",
       "      <td>5</td>\n",
       "      <td>当天天池没开，所幸景区开了，入景区门口后还要坐18公里的景交到达核心区，个人觉得防寒装备只租...</td>\n",
       "      <td>1</td>\n",
       "    </tr>\n",
       "    <tr>\n",
       "      <th>...</th>\n",
       "      <td>...</td>\n",
       "      <td>...</td>\n",
       "      <td>...</td>\n",
       "    </tr>\n",
       "    <tr>\n",
       "      <th>2445</th>\n",
       "      <td>1</td>\n",
       "      <td>在这里门票。呵呵。毫无意义。一点不便宜。强烈不推荐</td>\n",
       "      <td>0</td>\n",
       "    </tr>\n",
       "    <tr>\n",
       "      <th>2446</th>\n",
       "      <td>1</td>\n",
       "      <td>上不了天池，不开山也不提前跟我们通知，体验感很差</td>\n",
       "      <td>0</td>\n",
       "    </tr>\n",
       "    <tr>\n",
       "      <th>2447</th>\n",
       "      <td>1</td>\n",
       "      <td>门票价格贵，还不包含到天池的车票，很不方便</td>\n",
       "      <td>0</td>\n",
       "    </tr>\n",
       "    <tr>\n",
       "      <th>2448</th>\n",
       "      <td>1</td>\n",
       "      <td>排队人太多，根本没上去，白白花了三百块</td>\n",
       "      <td>0</td>\n",
       "    </tr>\n",
       "    <tr>\n",
       "      <th>2449</th>\n",
       "      <td>1</td>\n",
       "      <td>时间错了，就没法退了，晕死，霸王条款</td>\n",
       "      <td>0</td>\n",
       "    </tr>\n",
       "  </tbody>\n",
       "</table>\n",
       "<p>2337 rows × 3 columns</p>\n",
       "</div>"
      ],
      "text/plain": [
       "      score                                             review  label\n",
       "0         5  长白山天池，我此生无憾。来到这里，了却了自己的一个心愿，除了对天池的向往，我来看我在这里修行...      1\n",
       "1         5  长白山天池，我觉得此生可以必游的景点之一，也是东北旅游最好的景点，没有之一。东北最好的景点可...      1\n",
       "2         5  多亏用携程提前定了票，丝滑入园，没有排队。运气很好，看见了天池，真的超级幸运。如果没有买票的...      1\n",
       "3         5  非常满意，直接刷身份证就可以。2号到的长白山，3号最早的票幸运的看到了天池。去天池还要单独购...      1\n",
       "4         5  当天天池没开，所幸景区开了，入景区门口后还要坐18公里的景交到达核心区，个人觉得防寒装备只租...      1\n",
       "...     ...                                                ...    ...\n",
       "2445      1                          在这里门票。呵呵。毫无意义。一点不便宜。强烈不推荐      0\n",
       "2446      1                           上不了天池，不开山也不提前跟我们通知，体验感很差      0\n",
       "2447      1                              门票价格贵，还不包含到天池的车票，很不方便      0\n",
       "2448      1                                排队人太多，根本没上去，白白花了三百块      0\n",
       "2449      1                                 时间错了，就没法退了，晕死，霸王条款      0\n",
       "\n",
       "[2337 rows x 3 columns]"
      ]
     },
     "execution_count": 6,
     "metadata": {},
     "output_type": "execute_result"
    }
   ],
   "source": [
    "df['label'] = df['score'].apply(tagging)\n",
    "df"
   ]
  },
  {
   "cell_type": "code",
   "execution_count": 7,
   "metadata": {},
   "outputs": [],
   "source": [
    "X = df['review']\n",
    "Y = df['label']"
   ]
  },
  {
   "cell_type": "code",
   "execution_count": 8,
   "metadata": {},
   "outputs": [
    {
     "data": {
      "text/plain": [
       "(1635,)"
      ]
     },
     "execution_count": 8,
     "metadata": {},
     "output_type": "execute_result"
    }
   ],
   "source": [
    "from sklearn.model_selection import cross_validate,train_test_split\n",
    "\n",
    "X_train, X_test, Y_train, Y_test = train_test_split(X,Y,train_size=0.70, random_state=123) \n",
    "X_train.shape"
   ]
  },
  {
   "cell_type": "code",
   "execution_count": 9,
   "metadata": {},
   "outputs": [
    {
     "data": {
      "text/plain": [
       "234                                         长白山风景很美，值得一游。\n",
       "180     长白山非常好玩，我们居然非常顺利的看到了天池，携程订票很方便，不用去官方抢，全程也都很通畅顺...\n",
       "1696                                   方便。刷二维码进院。免去了排队等候哦\n",
       "1910                              冬季夏季都有不一样的风景，非常值得去休闲的地方\n",
       "924     登临西坡览全湖，北坡凡馆称博物，戏台溪瀑洗俗心，白河公园水趣足。\\n西坡看湖和北坡不同，西坡...\n",
       "                              ...                        \n",
       "1188      很不错的一次旅行，客服很热心，就是捆绑摆渡车没有起到作用，因为住在景区里面，不需要乘坐摆渡车。\n",
       "2226      本想买个网络票能快速通过！没想到网络通道就才一个口，还是人工扫码，那叫一个慢呀！还不如纸票快！\n",
       "1831                         长白山夏天比冬天景色更吸引人，而且更容易看到天池的风貌。\n",
       "1161                           非常值得去，冰天雪地、壮丽江山，勇闯天涯的非凡体验。\n",
       "1399    比较方便，下单后短信息发来一个网址，到景区后通过链接提取二维码，直接刷二维码进入，不用排队购...\n",
       "Name: review, Length: 1635, dtype: object"
      ]
     },
     "execution_count": 9,
     "metadata": {},
     "output_type": "execute_result"
    }
   ],
   "source": [
    "X_train"
   ]
  },
  {
   "cell_type": "code",
   "execution_count": 10,
   "metadata": {},
   "outputs": [
    {
     "data": {
      "text/plain": [
       "(702,)"
      ]
     },
     "execution_count": 10,
     "metadata": {},
     "output_type": "execute_result"
    }
   ],
   "source": [
    "Y_test.shape"
   ]
  },
  {
   "cell_type": "code",
   "execution_count": 11,
   "metadata": {},
   "outputs": [
    {
     "name": "stderr",
     "output_type": "stream",
     "text": [
      "Building prefix dict from the default dictionary ...\n",
      "Dumping model to file cache C:\\Users\\QINGYU~1\\AppData\\Local\\Temp\\jieba.cache\n",
      "Loading model cost 1.318 seconds.\n",
      "Prefix dict has been built successfully.\n"
     ]
    }
   ],
   "source": [
    "# from jieba import cut  \n",
    "import jieba\n",
    "df['review'] = df['review'].astype(str).apply(lambda x: ' '.join(jieba.cut(x)))"
   ]
  },
  {
   "cell_type": "code",
   "execution_count": 12,
   "metadata": {},
   "outputs": [
    {
     "data": {
      "text/plain": [
       "0       长白山天池 ， 我 此生 无憾 。 来到 这里 ， 了 却 了 自己 的 一个 心愿 ， 除...\n",
       "1       长白山天池 ， 我 觉得 此生 可以 必游 的 景点 之一 ， 也 是 东北 旅游 最好 的...\n",
       "2       多亏 用 携程 提前 定 了 票 ， 丝 滑入 园 ， 没有 排队 。 运气 很 好 ， 看...\n",
       "3       非常 满意 ， 直接 刷 身份证 就 可以 。 2 号 到 的 长白山 ， 3 号 最早 的...\n",
       "4       当天 天池 没 开 ， 所幸 景区 开 了 ， 入 景区 门口 后 还要 坐 18 公里 的...\n",
       "                              ...                        \n",
       "2445              在 这里 门票 。 呵呵 。 毫无意义 。 一点 不 便宜 。 强烈 不 推荐\n",
       "2446             上 不了 天池 ， 不 开山 也 不 提前 跟 我们 通知 ， 体验 感 很 差\n",
       "2447                   门票价格 贵 ， 还 不 包含 到 天池 的 车票 ， 很 不 方便\n",
       "2448                         排队 人太多 ， 根本 没上去 ， 白白 花 了 三百块\n",
       "2449                       时间 错 了 ， 就 没法 退 了 ， 晕死 ， 霸王 条款\n",
       "Name: review, Length: 2337, dtype: object"
      ]
     },
     "execution_count": 12,
     "metadata": {},
     "output_type": "execute_result"
    }
   ],
   "source": [
    "df['review']"
   ]
  },
  {
   "cell_type": "code",
   "execution_count": 13,
   "metadata": {},
   "outputs": [
    {
     "data": {
      "text/html": [
       "<div>\n",
       "<style scoped>\n",
       "    .dataframe tbody tr th:only-of-type {\n",
       "        vertical-align: middle;\n",
       "    }\n",
       "\n",
       "    .dataframe tbody tr th {\n",
       "        vertical-align: top;\n",
       "    }\n",
       "\n",
       "    .dataframe thead th {\n",
       "        text-align: right;\n",
       "    }\n",
       "</style>\n",
       "<table border=\"1\" class=\"dataframe\">\n",
       "  <thead>\n",
       "    <tr style=\"text-align: right;\">\n",
       "      <th></th>\n",
       "      <th>score</th>\n",
       "      <th>review</th>\n",
       "      <th>label</th>\n",
       "    </tr>\n",
       "  </thead>\n",
       "  <tbody>\n",
       "    <tr>\n",
       "      <th>0</th>\n",
       "      <td>5</td>\n",
       "      <td>长白山天池 ， 我 此生 无憾 。 来到 这里 ， 了 却 了 自己 的 一个 心愿 ， 除...</td>\n",
       "      <td>1</td>\n",
       "    </tr>\n",
       "    <tr>\n",
       "      <th>1</th>\n",
       "      <td>5</td>\n",
       "      <td>长白山天池 ， 我 觉得 此生 可以 必游 的 景点 之一 ， 也 是 东北 旅游 最好 的...</td>\n",
       "      <td>1</td>\n",
       "    </tr>\n",
       "    <tr>\n",
       "      <th>2</th>\n",
       "      <td>5</td>\n",
       "      <td>多亏 用 携程 提前 定 了 票 ， 丝 滑入 园 ， 没有 排队 。 运气 很 好 ， 看...</td>\n",
       "      <td>1</td>\n",
       "    </tr>\n",
       "    <tr>\n",
       "      <th>3</th>\n",
       "      <td>5</td>\n",
       "      <td>非常 满意 ， 直接 刷 身份证 就 可以 。 2 号 到 的 长白山 ， 3 号 最早 的...</td>\n",
       "      <td>1</td>\n",
       "    </tr>\n",
       "    <tr>\n",
       "      <th>4</th>\n",
       "      <td>5</td>\n",
       "      <td>当天 天池 没 开 ， 所幸 景区 开 了 ， 入 景区 门口 后 还要 坐 18 公里 的...</td>\n",
       "      <td>1</td>\n",
       "    </tr>\n",
       "    <tr>\n",
       "      <th>...</th>\n",
       "      <td>...</td>\n",
       "      <td>...</td>\n",
       "      <td>...</td>\n",
       "    </tr>\n",
       "    <tr>\n",
       "      <th>2445</th>\n",
       "      <td>1</td>\n",
       "      <td>在 这里 门票 。 呵呵 。 毫无意义 。 一点 不 便宜 。 强烈 不 推荐</td>\n",
       "      <td>0</td>\n",
       "    </tr>\n",
       "    <tr>\n",
       "      <th>2446</th>\n",
       "      <td>1</td>\n",
       "      <td>上 不了 天池 ， 不 开山 也 不 提前 跟 我们 通知 ， 体验 感 很 差</td>\n",
       "      <td>0</td>\n",
       "    </tr>\n",
       "    <tr>\n",
       "      <th>2447</th>\n",
       "      <td>1</td>\n",
       "      <td>门票价格 贵 ， 还 不 包含 到 天池 的 车票 ， 很 不 方便</td>\n",
       "      <td>0</td>\n",
       "    </tr>\n",
       "    <tr>\n",
       "      <th>2448</th>\n",
       "      <td>1</td>\n",
       "      <td>排队 人太多 ， 根本 没上去 ， 白白 花 了 三百块</td>\n",
       "      <td>0</td>\n",
       "    </tr>\n",
       "    <tr>\n",
       "      <th>2449</th>\n",
       "      <td>1</td>\n",
       "      <td>时间 错 了 ， 就 没法 退 了 ， 晕死 ， 霸王 条款</td>\n",
       "      <td>0</td>\n",
       "    </tr>\n",
       "  </tbody>\n",
       "</table>\n",
       "<p>2337 rows × 3 columns</p>\n",
       "</div>"
      ],
      "text/plain": [
       "      score                                             review  label\n",
       "0         5  长白山天池 ， 我 此生 无憾 。 来到 这里 ， 了 却 了 自己 的 一个 心愿 ， 除...      1\n",
       "1         5  长白山天池 ， 我 觉得 此生 可以 必游 的 景点 之一 ， 也 是 东北 旅游 最好 的...      1\n",
       "2         5  多亏 用 携程 提前 定 了 票 ， 丝 滑入 园 ， 没有 排队 。 运气 很 好 ， 看...      1\n",
       "3         5  非常 满意 ， 直接 刷 身份证 就 可以 。 2 号 到 的 长白山 ， 3 号 最早 的...      1\n",
       "4         5  当天 天池 没 开 ， 所幸 景区 开 了 ， 入 景区 门口 后 还要 坐 18 公里 的...      1\n",
       "...     ...                                                ...    ...\n",
       "2445      1            在 这里 门票 。 呵呵 。 毫无意义 。 一点 不 便宜 。 强烈 不 推荐      0\n",
       "2446      1           上 不了 天池 ， 不 开山 也 不 提前 跟 我们 通知 ， 体验 感 很 差      0\n",
       "2447      1                 门票价格 贵 ， 还 不 包含 到 天池 的 车票 ， 很 不 方便      0\n",
       "2448      1                       排队 人太多 ， 根本 没上去 ， 白白 花 了 三百块      0\n",
       "2449      1                     时间 错 了 ， 就 没法 退 了 ， 晕死 ， 霸王 条款      0\n",
       "\n",
       "[2337 rows x 3 columns]"
      ]
     },
     "execution_count": 13,
     "metadata": {},
     "output_type": "execute_result"
    }
   ],
   "source": [
    "df"
   ]
  },
  {
   "cell_type": "code",
   "execution_count": 14,
   "metadata": {},
   "outputs": [],
   "source": [
    "import pandas as pd  \n",
    "from sklearn.feature_extraction.text import CountVectorizer, TfidfVectorizer  \n",
    "from sklearn.naive_bayes import MultinomialNB"
   ]
  },
  {
   "cell_type": "markdown",
   "metadata": {},
   "source": [
    "训练数据文本向量化"
   ]
  },
  {
   "cell_type": "code",
   "execution_count": 15,
   "metadata": {},
   "outputs": [
    {
     "data": {
      "text/plain": [
       "<1635x8074 sparse matrix of type '<class 'numpy.int64'>'\n",
       "\twith 9837 stored elements in Compressed Sparse Row format>"
      ]
     },
     "execution_count": 15,
     "metadata": {},
     "output_type": "execute_result"
    }
   ],
   "source": [
    "vectorizer = CountVectorizer()  \n",
    "x_train_vectorizer = vectorizer.fit_transform(X_train)\n",
    "x_train_vectorizer"
   ]
  },
  {
   "cell_type": "code",
   "execution_count": 16,
   "metadata": {},
   "outputs": [
    {
     "data": {
      "text/plain": [
       "array([[0, 0, 0, ..., 0, 0, 0],\n",
       "       [0, 0, 0, ..., 0, 0, 0],\n",
       "       [0, 0, 0, ..., 0, 0, 0],\n",
       "       ...,\n",
       "       [0, 0, 0, ..., 0, 0, 0],\n",
       "       [0, 0, 0, ..., 0, 0, 0],\n",
       "       [0, 0, 0, ..., 0, 0, 0]], dtype=int64)"
      ]
     },
     "execution_count": 16,
     "metadata": {},
     "output_type": "execute_result"
    }
   ],
   "source": [
    "x_train_vectorizer.toarray()"
   ]
  },
  {
   "cell_type": "code",
   "execution_count": 17,
   "metadata": {},
   "outputs": [
    {
     "data": {
      "text/plain": [
       "<702x8074 sparse matrix of type '<class 'numpy.int64'>'\n",
       "\twith 1094 stored elements in Compressed Sparse Row format>"
      ]
     },
     "execution_count": 17,
     "metadata": {},
     "output_type": "execute_result"
    }
   ],
   "source": [
    "x_test_vectorizer = vectorizer.transform(X_test)\n",
    "x_test_vectorizer"
   ]
  },
  {
   "cell_type": "markdown",
   "metadata": {},
   "source": [
    "使用朴素贝叶斯分类器进行训练"
   ]
  },
  {
   "cell_type": "code",
   "execution_count": 18,
   "metadata": {},
   "outputs": [
    {
     "data": {
      "text/html": [
       "<style>#sk-container-id-1 {color: black;}#sk-container-id-1 pre{padding: 0;}#sk-container-id-1 div.sk-toggleable {background-color: white;}#sk-container-id-1 label.sk-toggleable__label {cursor: pointer;display: block;width: 100%;margin-bottom: 0;padding: 0.3em;box-sizing: border-box;text-align: center;}#sk-container-id-1 label.sk-toggleable__label-arrow:before {content: \"▸\";float: left;margin-right: 0.25em;color: #696969;}#sk-container-id-1 label.sk-toggleable__label-arrow:hover:before {color: black;}#sk-container-id-1 div.sk-estimator:hover label.sk-toggleable__label-arrow:before {color: black;}#sk-container-id-1 div.sk-toggleable__content {max-height: 0;max-width: 0;overflow: hidden;text-align: left;background-color: #f0f8ff;}#sk-container-id-1 div.sk-toggleable__content pre {margin: 0.2em;color: black;border-radius: 0.25em;background-color: #f0f8ff;}#sk-container-id-1 input.sk-toggleable__control:checked~div.sk-toggleable__content {max-height: 200px;max-width: 100%;overflow: auto;}#sk-container-id-1 input.sk-toggleable__control:checked~label.sk-toggleable__label-arrow:before {content: \"▾\";}#sk-container-id-1 div.sk-estimator input.sk-toggleable__control:checked~label.sk-toggleable__label {background-color: #d4ebff;}#sk-container-id-1 div.sk-label input.sk-toggleable__control:checked~label.sk-toggleable__label {background-color: #d4ebff;}#sk-container-id-1 input.sk-hidden--visually {border: 0;clip: rect(1px 1px 1px 1px);clip: rect(1px, 1px, 1px, 1px);height: 1px;margin: -1px;overflow: hidden;padding: 0;position: absolute;width: 1px;}#sk-container-id-1 div.sk-estimator {font-family: monospace;background-color: #f0f8ff;border: 1px dotted black;border-radius: 0.25em;box-sizing: border-box;margin-bottom: 0.5em;}#sk-container-id-1 div.sk-estimator:hover {background-color: #d4ebff;}#sk-container-id-1 div.sk-parallel-item::after {content: \"\";width: 100%;border-bottom: 1px solid gray;flex-grow: 1;}#sk-container-id-1 div.sk-label:hover label.sk-toggleable__label {background-color: #d4ebff;}#sk-container-id-1 div.sk-serial::before {content: \"\";position: absolute;border-left: 1px solid gray;box-sizing: border-box;top: 0;bottom: 0;left: 50%;z-index: 0;}#sk-container-id-1 div.sk-serial {display: flex;flex-direction: column;align-items: center;background-color: white;padding-right: 0.2em;padding-left: 0.2em;position: relative;}#sk-container-id-1 div.sk-item {position: relative;z-index: 1;}#sk-container-id-1 div.sk-parallel {display: flex;align-items: stretch;justify-content: center;background-color: white;position: relative;}#sk-container-id-1 div.sk-item::before, #sk-container-id-1 div.sk-parallel-item::before {content: \"\";position: absolute;border-left: 1px solid gray;box-sizing: border-box;top: 0;bottom: 0;left: 50%;z-index: -1;}#sk-container-id-1 div.sk-parallel-item {display: flex;flex-direction: column;z-index: 1;position: relative;background-color: white;}#sk-container-id-1 div.sk-parallel-item:first-child::after {align-self: flex-end;width: 50%;}#sk-container-id-1 div.sk-parallel-item:last-child::after {align-self: flex-start;width: 50%;}#sk-container-id-1 div.sk-parallel-item:only-child::after {width: 0;}#sk-container-id-1 div.sk-dashed-wrapped {border: 1px dashed gray;margin: 0 0.4em 0.5em 0.4em;box-sizing: border-box;padding-bottom: 0.4em;background-color: white;}#sk-container-id-1 div.sk-label label {font-family: monospace;font-weight: bold;display: inline-block;line-height: 1.2em;}#sk-container-id-1 div.sk-label-container {text-align: center;}#sk-container-id-1 div.sk-container {/* jupyter's `normalize.less` sets `[hidden] { display: none; }` but bootstrap.min.css set `[hidden] { display: none !important; }` so we also need the `!important` here to be able to override the default hidden behavior on the sphinx rendered scikit-learn.org. See: https://github.com/scikit-learn/scikit-learn/issues/21755 */display: inline-block !important;position: relative;}#sk-container-id-1 div.sk-text-repr-fallback {display: none;}</style><div id=\"sk-container-id-1\" class=\"sk-top-container\"><div class=\"sk-text-repr-fallback\"><pre>MultinomialNB()</pre><b>In a Jupyter environment, please rerun this cell to show the HTML representation or trust the notebook. <br />On GitHub, the HTML representation is unable to render, please try loading this page with nbviewer.org.</b></div><div class=\"sk-container\" hidden><div class=\"sk-item\"><div class=\"sk-estimator sk-toggleable\"><input class=\"sk-toggleable__control sk-hidden--visually\" id=\"sk-estimator-id-1\" type=\"checkbox\" checked><label for=\"sk-estimator-id-1\" class=\"sk-toggleable__label sk-toggleable__label-arrow\">MultinomialNB</label><div class=\"sk-toggleable__content\"><pre>MultinomialNB()</pre></div></div></div></div></div>"
      ],
      "text/plain": [
       "MultinomialNB()"
      ]
     },
     "execution_count": 18,
     "metadata": {},
     "output_type": "execute_result"
    }
   ],
   "source": [
    "clf = MultinomialNB()  \n",
    "clf.fit(x_train_vectorizer, Y_train)"
   ]
  },
  {
   "cell_type": "markdown",
   "metadata": {},
   "source": [
    "使用模型进行预测："
   ]
  },
  {
   "cell_type": "code",
   "execution_count": 19,
   "metadata": {},
   "outputs": [],
   "source": [
    "predictions = clf.predict(x_test_vectorizer)"
   ]
  },
  {
   "cell_type": "markdown",
   "metadata": {},
   "source": [
    "评估分类器的性能："
   ]
  },
  {
   "cell_type": "code",
   "execution_count": 20,
   "metadata": {},
   "outputs": [
    {
     "name": "stdout",
     "output_type": "stream",
     "text": [
      "Accuracy: 0.9444444444444444\n"
     ]
    }
   ],
   "source": [
    "from sklearn.metrics import accuracy_score\n",
    "predictions = clf.predict(x_test_vectorizer)\n",
    "accuracy = accuracy_score(Y_test, predictions)  \n",
    "print(\"Accuracy:\", accuracy)"
   ]
  },
  {
   "cell_type": "code",
   "execution_count": 21,
   "metadata": {},
   "outputs": [
    {
     "data": {
      "text/plain": [
       "array([1, 1, 1, 1, 1, 1, 1, 1, 1, 1, 1, 1, 1, 1, 1, 1, 1, 1, 1, 1, 1, 1,\n",
       "       1, 1, 1, 1, 1, 1, 1, 1, 1, 1, 1, 1, 1, 1, 1, 1, 1, 1, 1, 1, 1, 1,\n",
       "       1, 1, 1, 1, 1, 1, 1, 1, 1, 1, 1, 1, 1, 1, 1, 1, 1, 1, 1, 1, 1, 1,\n",
       "       1, 1, 1, 1, 1, 1, 1, 1, 1, 1, 1, 1, 1, 1, 1, 1, 1, 1, 1, 1, 1, 1,\n",
       "       1, 1, 1, 1, 1, 1, 1, 1, 1, 1, 1, 1, 1, 1, 1, 1, 1, 1, 1, 1, 1, 1,\n",
       "       1, 1, 1, 1, 1, 1, 1, 1, 1, 1, 1, 1, 1, 1, 1, 1, 1, 1, 1, 1, 1, 1,\n",
       "       1, 1, 1, 1, 1, 1, 1, 1, 1, 1, 1, 1, 1, 1, 1, 1, 1, 1, 1, 1, 1, 0,\n",
       "       1, 1, 1, 1, 1, 1, 1, 1, 1, 1, 1, 1, 1, 1, 1, 1, 1, 1, 1, 1, 1, 1,\n",
       "       1, 1, 1, 1, 1, 1, 1, 1, 1, 1, 1, 1, 1, 1, 1, 1, 1, 1, 1, 1, 1, 1,\n",
       "       1, 1, 1, 1, 1, 1, 1, 1, 1, 1, 1, 1, 1, 1, 1, 1, 1, 1, 1, 1, 1, 1,\n",
       "       1, 1, 1, 1, 1, 1, 1, 1, 1, 1, 1, 1, 1, 1, 1, 1, 1, 1, 1, 1, 1, 1,\n",
       "       1, 1, 1, 1, 1, 1, 1, 1, 1, 1, 1, 1, 1, 1, 1, 1, 1, 1, 1, 1, 1, 1,\n",
       "       1, 1, 1, 1, 1, 1, 1, 1, 1, 1, 1, 1, 1, 1, 1, 1, 1, 1, 1, 1, 1, 1,\n",
       "       1, 1, 1, 1, 1, 1, 1, 1, 1, 1, 1, 1, 1, 1, 1, 1, 1, 1, 1, 1, 1, 1,\n",
       "       1, 1, 1, 1, 1, 1, 1, 1, 1, 1, 1, 1, 1, 1, 1, 1, 1, 1, 1, 1, 1, 1,\n",
       "       1, 1, 1, 1, 1, 1, 1, 1, 1, 1, 1, 1, 1, 1, 1, 1, 1, 1, 1, 1, 1, 1,\n",
       "       1, 1, 1, 1, 1, 1, 1, 1, 1, 1, 1, 1, 1, 1, 1, 1, 1, 1, 1, 1, 1, 1,\n",
       "       1, 1, 1, 1, 1, 1, 1, 1, 1, 1, 1, 1, 1, 1, 1, 1, 1, 1, 1, 1, 1, 1,\n",
       "       1, 1, 1, 1, 1, 1, 1, 1, 1, 1, 1, 1, 1, 1, 1, 1, 1, 1, 1, 1, 1, 1,\n",
       "       1, 1, 1, 1, 1, 1, 1, 1, 1, 1, 1, 1, 1, 1, 1, 1, 1, 1, 1, 1, 1, 1,\n",
       "       1, 1, 1, 1, 1, 1, 1, 1, 1, 1, 1, 1, 1, 1, 1, 1, 0, 1, 1, 1, 1, 1,\n",
       "       1, 1, 1, 1, 1, 1, 1, 1, 1, 1, 1, 1, 1, 1, 1, 1, 1, 1, 1, 1, 1, 1,\n",
       "       1, 1, 1, 1, 1, 1, 1, 1, 1, 1, 1, 1, 1, 1, 1, 1, 1, 1, 1, 1, 1, 1,\n",
       "       1, 1, 1, 1, 1, 1, 1, 1, 1, 1, 1, 1, 1, 1, 1, 1, 1, 1, 1, 1, 1, 1,\n",
       "       1, 1, 1, 1, 1, 1, 1, 1, 1, 1, 1, 1, 1, 1, 1, 1, 1, 1, 1, 1, 1, 1,\n",
       "       1, 1, 1, 1, 1, 1, 1, 1, 1, 1, 1, 1, 1, 1, 1, 1, 1, 1, 1, 1, 1, 1,\n",
       "       1, 1, 1, 1, 1, 1, 1, 1, 1, 1, 1, 1, 1, 1, 1, 1, 1, 1, 1, 0, 1, 1,\n",
       "       1, 1, 1, 1, 1, 1, 1, 1, 1, 1, 1, 1, 1, 1, 1, 1, 1, 1, 1, 1, 1, 1,\n",
       "       1, 1, 1, 1, 1, 1, 1, 1, 1, 1, 1, 1, 1, 1, 1, 1, 1, 1, 1, 1, 1, 1,\n",
       "       1, 1, 1, 1, 1, 1, 1, 1, 1, 1, 1, 1, 1, 1, 1, 1, 1, 1, 1, 1, 1, 1,\n",
       "       1, 1, 1, 1, 1, 1, 1, 1, 1, 1, 1, 1, 1, 1, 1, 1, 1, 1, 1, 1, 1, 1,\n",
       "       1, 1, 1, 1, 1, 1, 1, 1, 1, 1, 1, 1, 1, 1, 1, 1, 1, 1, 1, 1],\n",
       "      dtype=int64)"
      ]
     },
     "execution_count": 21,
     "metadata": {},
     "output_type": "execute_result"
    }
   ],
   "source": [
    "predictions"
   ]
  },
  {
   "cell_type": "code",
   "execution_count": 22,
   "metadata": {},
   "outputs": [],
   "source": [
    "result_df = X_test.to_frame()\n",
    "result_df['label'] = predictions\n",
    "result_df.sort_values(by=['label'],  inplace=True)\n",
    "result_df.to_excel(\"data/review_sentiment.xlsx\")"
   ]
  }
 ],
 "metadata": {
  "kernelspec": {
   "display_name": "Python 3",
   "language": "python",
   "name": "python3"
  },
  "language_info": {
   "codemirror_mode": {
    "name": "ipython",
    "version": 3
   },
   "file_extension": ".py",
   "mimetype": "text/x-python",
   "name": "python",
   "nbconvert_exporter": "python",
   "pygments_lexer": "ipython3",
   "version": "3.12.2"
  }
 },
 "nbformat": 4,
 "nbformat_minor": 2
}
