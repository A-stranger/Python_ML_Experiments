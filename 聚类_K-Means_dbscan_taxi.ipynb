{
 "cells": [
  {
   "cell_type": "code",
   "execution_count": 413,
   "metadata": {},
   "outputs": [],
   "source": [
    "import pandas as pd"
   ]
  },
  {
   "cell_type": "markdown",
   "metadata": {},
   "source": [
    "读取出租车数据"
   ]
  },
  {
   "cell_type": "code",
   "execution_count": 414,
   "metadata": {},
   "outputs": [],
   "source": [
    "df = pd.read_csv(\"data/taxi.csv\")"
   ]
  },
  {
   "cell_type": "code",
   "execution_count": 415,
   "metadata": {},
   "outputs": [
    {
     "data": {
      "text/html": [
       "<div>\n",
       "<style scoped>\n",
       "    .dataframe tbody tr th:only-of-type {\n",
       "        vertical-align: middle;\n",
       "    }\n",
       "\n",
       "    .dataframe tbody tr th {\n",
       "        vertical-align: top;\n",
       "    }\n",
       "\n",
       "    .dataframe thead th {\n",
       "        text-align: right;\n",
       "    }\n",
       "</style>\n",
       "<table border=\"1\" class=\"dataframe\">\n",
       "  <thead>\n",
       "    <tr style=\"text-align: right;\">\n",
       "      <th></th>\n",
       "      <th>tid</th>\n",
       "      <th>lat</th>\n",
       "      <th>lon</th>\n",
       "      <th>time</th>\n",
       "    </tr>\n",
       "  </thead>\n",
       "  <tbody>\n",
       "    <tr>\n",
       "      <th>0</th>\n",
       "      <td>1</td>\n",
       "      <td>30.624806</td>\n",
       "      <td>104.136604</td>\n",
       "      <td>211846</td>\n",
       "    </tr>\n",
       "    <tr>\n",
       "      <th>1</th>\n",
       "      <td>1</td>\n",
       "      <td>30.624809</td>\n",
       "      <td>104.136612</td>\n",
       "      <td>211815</td>\n",
       "    </tr>\n",
       "    <tr>\n",
       "      <th>2</th>\n",
       "      <td>1</td>\n",
       "      <td>30.624811</td>\n",
       "      <td>104.136587</td>\n",
       "      <td>212017</td>\n",
       "    </tr>\n",
       "    <tr>\n",
       "      <th>3</th>\n",
       "      <td>1</td>\n",
       "      <td>30.624811</td>\n",
       "      <td>104.136596</td>\n",
       "      <td>211916</td>\n",
       "    </tr>\n",
       "    <tr>\n",
       "      <th>4</th>\n",
       "      <td>1</td>\n",
       "      <td>30.624811</td>\n",
       "      <td>104.136619</td>\n",
       "      <td>211744</td>\n",
       "    </tr>\n",
       "    <tr>\n",
       "      <th>...</th>\n",
       "      <td>...</td>\n",
       "      <td>...</td>\n",
       "      <td>...</td>\n",
       "      <td>...</td>\n",
       "    </tr>\n",
       "    <tr>\n",
       "      <th>814175</th>\n",
       "      <td>402</td>\n",
       "      <td>30.744289</td>\n",
       "      <td>104.114530</td>\n",
       "      <td>224538</td>\n",
       "    </tr>\n",
       "    <tr>\n",
       "      <th>814176</th>\n",
       "      <td>402</td>\n",
       "      <td>30.744420</td>\n",
       "      <td>104.115429</td>\n",
       "      <td>224619</td>\n",
       "    </tr>\n",
       "    <tr>\n",
       "      <th>814177</th>\n",
       "      <td>402</td>\n",
       "      <td>30.744424</td>\n",
       "      <td>104.115416</td>\n",
       "      <td>224609</td>\n",
       "    </tr>\n",
       "    <tr>\n",
       "      <th>814178</th>\n",
       "      <td>402</td>\n",
       "      <td>30.744430</td>\n",
       "      <td>104.115384</td>\n",
       "      <td>224559</td>\n",
       "    </tr>\n",
       "    <tr>\n",
       "      <th>814179</th>\n",
       "      <td>402</td>\n",
       "      <td>30.744491</td>\n",
       "      <td>104.114920</td>\n",
       "      <td>224548</td>\n",
       "    </tr>\n",
       "  </tbody>\n",
       "</table>\n",
       "<p>814180 rows × 4 columns</p>\n",
       "</div>"
      ],
      "text/plain": [
       "        tid        lat         lon    time\n",
       "0         1  30.624806  104.136604  211846\n",
       "1         1  30.624809  104.136612  211815\n",
       "2         1  30.624811  104.136587  212017\n",
       "3         1  30.624811  104.136596  211916\n",
       "4         1  30.624811  104.136619  211744\n",
       "...     ...        ...         ...     ...\n",
       "814175  402  30.744289  104.114530  224538\n",
       "814176  402  30.744420  104.115429  224619\n",
       "814177  402  30.744424  104.115416  224609\n",
       "814178  402  30.744430  104.115384  224559\n",
       "814179  402  30.744491  104.114920  224548\n",
       "\n",
       "[814180 rows x 4 columns]"
      ]
     },
     "execution_count": 415,
     "metadata": {},
     "output_type": "execute_result"
    }
   ],
   "source": [
    "df"
   ]
  },
  {
   "cell_type": "code",
   "execution_count": 416,
   "metadata": {},
   "outputs": [
    {
     "data": {
      "text/plain": [
       "0         False\n",
       "1         False\n",
       "2         False\n",
       "3         False\n",
       "4         False\n",
       "          ...  \n",
       "814175     True\n",
       "814176     True\n",
       "814177     True\n",
       "814178     True\n",
       "814179     True\n",
       "Name: time, Length: 814180, dtype: bool"
      ]
     },
     "execution_count": 416,
     "metadata": {},
     "output_type": "execute_result"
    }
   ],
   "source": [
    "df[\"time\"].map(lambda x:str(x)[0:2]).astype(int)> 21 "
   ]
  },
  {
   "cell_type": "code",
   "execution_count": 417,
   "metadata": {},
   "outputs": [
    {
     "data": {
      "text/plain": [
       "False"
      ]
     },
     "execution_count": 417,
     "metadata": {},
     "output_type": "execute_result"
    }
   ],
   "source": [
    "int(str(df[\"time\"])[0:2]) > 20"
   ]
  },
  {
   "cell_type": "markdown",
   "metadata": {},
   "source": [
    "选择时间位于 20:00 至 21:00 直接的行车数据"
   ]
  },
  {
   "cell_type": "code",
   "execution_count": 418,
   "metadata": {},
   "outputs": [
    {
     "data": {
      "text/html": [
       "<div>\n",
       "<style scoped>\n",
       "    .dataframe tbody tr th:only-of-type {\n",
       "        vertical-align: middle;\n",
       "    }\n",
       "\n",
       "    .dataframe tbody tr th {\n",
       "        vertical-align: top;\n",
       "    }\n",
       "\n",
       "    .dataframe thead th {\n",
       "        text-align: right;\n",
       "    }\n",
       "</style>\n",
       "<table border=\"1\" class=\"dataframe\">\n",
       "  <thead>\n",
       "    <tr style=\"text-align: right;\">\n",
       "      <th></th>\n",
       "      <th>tid</th>\n",
       "      <th>lat</th>\n",
       "      <th>lon</th>\n",
       "      <th>time</th>\n",
       "    </tr>\n",
       "  </thead>\n",
       "  <tbody>\n",
       "    <tr>\n",
       "      <th>133</th>\n",
       "      <td>1</td>\n",
       "      <td>30.626503</td>\n",
       "      <td>104.133425</td>\n",
       "      <td>172950</td>\n",
       "    </tr>\n",
       "    <tr>\n",
       "      <th>140</th>\n",
       "      <td>1</td>\n",
       "      <td>30.626505</td>\n",
       "      <td>104.133427</td>\n",
       "      <td>173021</td>\n",
       "    </tr>\n",
       "    <tr>\n",
       "      <th>144</th>\n",
       "      <td>1</td>\n",
       "      <td>30.626507</td>\n",
       "      <td>104.133427</td>\n",
       "      <td>173051</td>\n",
       "    </tr>\n",
       "    <tr>\n",
       "      <th>148</th>\n",
       "      <td>1</td>\n",
       "      <td>30.626509</td>\n",
       "      <td>104.133427</td>\n",
       "      <td>173122</td>\n",
       "    </tr>\n",
       "    <tr>\n",
       "      <th>155</th>\n",
       "      <td>1</td>\n",
       "      <td>30.626510</td>\n",
       "      <td>104.133424</td>\n",
       "      <td>173426</td>\n",
       "    </tr>\n",
       "    <tr>\n",
       "      <th>...</th>\n",
       "      <td>...</td>\n",
       "      <td>...</td>\n",
       "      <td>...</td>\n",
       "      <td>...</td>\n",
       "    </tr>\n",
       "    <tr>\n",
       "      <th>811482</th>\n",
       "      <td>401</td>\n",
       "      <td>30.759476</td>\n",
       "      <td>104.117800</td>\n",
       "      <td>185951</td>\n",
       "    </tr>\n",
       "    <tr>\n",
       "      <th>811483</th>\n",
       "      <td>401</td>\n",
       "      <td>30.760573</td>\n",
       "      <td>104.118688</td>\n",
       "      <td>190001</td>\n",
       "    </tr>\n",
       "    <tr>\n",
       "      <th>811484</th>\n",
       "      <td>401</td>\n",
       "      <td>30.760981</td>\n",
       "      <td>104.119096</td>\n",
       "      <td>190011</td>\n",
       "    </tr>\n",
       "    <tr>\n",
       "      <th>811485</th>\n",
       "      <td>401</td>\n",
       "      <td>30.760982</td>\n",
       "      <td>104.119091</td>\n",
       "      <td>190031</td>\n",
       "    </tr>\n",
       "    <tr>\n",
       "      <th>811486</th>\n",
       "      <td>401</td>\n",
       "      <td>30.760983</td>\n",
       "      <td>104.119094</td>\n",
       "      <td>190021</td>\n",
       "    </tr>\n",
       "  </tbody>\n",
       "</table>\n",
       "<p>102448 rows × 4 columns</p>\n",
       "</div>"
      ],
      "text/plain": [
       "        tid        lat         lon    time\n",
       "133       1  30.626503  104.133425  172950\n",
       "140       1  30.626505  104.133427  173021\n",
       "144       1  30.626507  104.133427  173051\n",
       "148       1  30.626509  104.133427  173122\n",
       "155       1  30.626510  104.133424  173426\n",
       "...     ...        ...         ...     ...\n",
       "811482  401  30.759476  104.117800  185951\n",
       "811483  401  30.760573  104.118688  190001\n",
       "811484  401  30.760981  104.119096  190011\n",
       "811485  401  30.760982  104.119091  190031\n",
       "811486  401  30.760983  104.119094  190021\n",
       "\n",
       "[102448 rows x 4 columns]"
      ]
     },
     "execution_count": 418,
     "metadata": {},
     "output_type": "execute_result"
    }
   ],
   "source": [
    "data = df.loc[ (df[\"time\"].map(lambda x:str(x)[0:4]).astype(int)> 1700) & (df[\"time\"].map(lambda x:str(x)[0:4]).astype(int) <= 1900) ]\n",
    "data"
   ]
  },
  {
   "cell_type": "markdown",
   "metadata": {},
   "source": [
    "根据出租车id去重， 还剩下384行数据"
   ]
  },
  {
   "cell_type": "code",
   "execution_count": 419,
   "metadata": {},
   "outputs": [
    {
     "data": {
      "text/html": [
       "<div>\n",
       "<style scoped>\n",
       "    .dataframe tbody tr th:only-of-type {\n",
       "        vertical-align: middle;\n",
       "    }\n",
       "\n",
       "    .dataframe tbody tr th {\n",
       "        vertical-align: top;\n",
       "    }\n",
       "\n",
       "    .dataframe thead th {\n",
       "        text-align: right;\n",
       "    }\n",
       "</style>\n",
       "<table border=\"1\" class=\"dataframe\">\n",
       "  <thead>\n",
       "    <tr style=\"text-align: right;\">\n",
       "      <th></th>\n",
       "      <th>tid</th>\n",
       "      <th>lat</th>\n",
       "      <th>lon</th>\n",
       "      <th>time</th>\n",
       "    </tr>\n",
       "  </thead>\n",
       "  <tbody>\n",
       "    <tr>\n",
       "      <th>133</th>\n",
       "      <td>1</td>\n",
       "      <td>30.626503</td>\n",
       "      <td>104.133425</td>\n",
       "      <td>172950</td>\n",
       "    </tr>\n",
       "    <tr>\n",
       "      <th>2602</th>\n",
       "      <td>2</td>\n",
       "      <td>30.629086</td>\n",
       "      <td>103.999179</td>\n",
       "      <td>183445</td>\n",
       "    </tr>\n",
       "    <tr>\n",
       "      <th>5231</th>\n",
       "      <td>3</td>\n",
       "      <td>30.607516</td>\n",
       "      <td>104.132795</td>\n",
       "      <td>172059</td>\n",
       "    </tr>\n",
       "    <tr>\n",
       "      <th>6428</th>\n",
       "      <td>4</td>\n",
       "      <td>30.621599</td>\n",
       "      <td>104.076919</td>\n",
       "      <td>185819</td>\n",
       "    </tr>\n",
       "    <tr>\n",
       "      <th>9084</th>\n",
       "      <td>5</td>\n",
       "      <td>30.587247</td>\n",
       "      <td>104.074586</td>\n",
       "      <td>175739</td>\n",
       "    </tr>\n",
       "    <tr>\n",
       "      <th>...</th>\n",
       "      <td>...</td>\n",
       "      <td>...</td>\n",
       "      <td>...</td>\n",
       "      <td>...</td>\n",
       "    </tr>\n",
       "    <tr>\n",
       "      <th>798864</th>\n",
       "      <td>397</td>\n",
       "      <td>30.566291</td>\n",
       "      <td>103.957865</td>\n",
       "      <td>183420</td>\n",
       "    </tr>\n",
       "    <tr>\n",
       "      <th>802544</th>\n",
       "      <td>398</td>\n",
       "      <td>30.649833</td>\n",
       "      <td>104.061894</td>\n",
       "      <td>171844</td>\n",
       "    </tr>\n",
       "    <tr>\n",
       "      <th>805544</th>\n",
       "      <td>399</td>\n",
       "      <td>30.650747</td>\n",
       "      <td>104.120522</td>\n",
       "      <td>183539</td>\n",
       "    </tr>\n",
       "    <tr>\n",
       "      <th>808245</th>\n",
       "      <td>400</td>\n",
       "      <td>30.627274</td>\n",
       "      <td>103.994137</td>\n",
       "      <td>182823</td>\n",
       "    </tr>\n",
       "    <tr>\n",
       "      <th>810769</th>\n",
       "      <td>401</td>\n",
       "      <td>30.655886</td>\n",
       "      <td>104.087429</td>\n",
       "      <td>182041</td>\n",
       "    </tr>\n",
       "  </tbody>\n",
       "</table>\n",
       "<p>339 rows × 4 columns</p>\n",
       "</div>"
      ],
      "text/plain": [
       "        tid        lat         lon    time\n",
       "133       1  30.626503  104.133425  172950\n",
       "2602      2  30.629086  103.999179  183445\n",
       "5231      3  30.607516  104.132795  172059\n",
       "6428      4  30.621599  104.076919  185819\n",
       "9084      5  30.587247  104.074586  175739\n",
       "...     ...        ...         ...     ...\n",
       "798864  397  30.566291  103.957865  183420\n",
       "802544  398  30.649833  104.061894  171844\n",
       "805544  399  30.650747  104.120522  183539\n",
       "808245  400  30.627274  103.994137  182823\n",
       "810769  401  30.655886  104.087429  182041\n",
       "\n",
       "[339 rows x 4 columns]"
      ]
     },
     "execution_count": 419,
     "metadata": {},
     "output_type": "execute_result"
    }
   ],
   "source": [
    "unique_taxi = data.drop_duplicates(subset=[\"tid\"])\n",
    "unique_taxi"
   ]
  },
  {
   "cell_type": "markdown",
   "metadata": {},
   "source": [
    "数据可视化"
   ]
  },
  {
   "cell_type": "code",
   "execution_count": 420,
   "metadata": {},
   "outputs": [
    {
     "data": {
      "text/plain": [
       "<matplotlib.collections.PathCollection at 0x2b5523e27e0>"
      ]
     },
     "execution_count": 420,
     "metadata": {},
     "output_type": "execute_result"
    },
    {
     "data": {
      "image/png": "[encoded data removed]",
      "text/plain": [
       "<Figure size 640x480 with 1 Axes>"
      ]
     },
     "metadata": {},
     "output_type": "display_data"
    }
   ],
   "source": [
    "import matplotlib.pyplot as plt\n",
    "plt.scatter(unique_taxi[\"lat\"], unique_taxi[\"lon\"])"
   ]
  },
  {
   "cell_type": "markdown",
   "metadata": {},
   "source": [
    "借助DBSCAN聚类取出离群点数据， label值为-1表示该点为离群点"
   ]
  },
  {
   "cell_type": "code",
   "execution_count": 421,
   "metadata": {},
   "outputs": [
    {
     "data": {
      "text/plain": [
       "array([-1, -1, -1,  0,  5,  0,  1,  2,  3,  0,  2,  0, -1, -1,  0,  4,  2,\n",
       "        0,  1,  3, -1,  3, -1,  1,  2,  0,  0, -1, -1,  4,  3, -1, -1, -1,\n",
       "       -1, -1,  1, -1,  3,  4, -1,  3, -1, -1, -1,  3,  0, -1,  2, -1, -1,\n",
       "        0, -1, -1,  1,  0, -1, -1, -1,  1, -1,  0,  3, -1,  0, -1, -1, -1,\n",
       "       -1,  1,  0,  1, -1,  5,  3,  5, -1,  5, -1, -1,  1,  3,  1, -1, -1,\n",
       "       -1,  0,  0, -1, -1, -1, -1, -1, -1,  0,  2,  0,  0,  3,  0,  0, -1,\n",
       "       -1, -1,  3,  0,  0,  3,  0,  3, -1, -1, -1,  1, -1,  0, -1, -1, -1,\n",
       "       -1, -1, -1,  2,  0,  3, -1, -1, -1, -1, -1,  0, -1, -1,  3,  1, -1,\n",
       "        2, -1, -1,  5, -1, -1,  0, -1,  0,  3,  3, -1,  1, -1,  1, -1, -1,\n",
       "       -1, -1, -1,  1, -1,  5,  0,  0, -1,  0, -1,  1, -1,  0,  3,  2,  4,\n",
       "        4, -1,  3,  3,  3, -1,  0,  2,  0,  0, -1, -1,  1, -1, -1, -1,  0,\n",
       "        1,  2,  0, -1,  4, -1,  3, -1,  0,  0,  2, -1, -1,  3,  0,  1,  3,\n",
       "       -1, -1,  5, -1,  3,  1,  3, -1,  3, -1,  2, -1,  2,  5,  1, -1, -1,\n",
       "        0,  4,  5,  4,  2,  0, -1,  0,  0, -1, -1,  3, -1, -1, -1, -1, -1,\n",
       "        0,  1, -1,  3, -1,  1,  3,  0,  2,  0,  1, -1,  1,  5, -1,  0,  0,\n",
       "       -1,  3,  0,  2, -1, -1,  0, -1,  2, -1, -1, -1,  1,  3, -1, -1,  4,\n",
       "        4,  1,  0,  0, -1,  5, -1,  2, -1, -1, -1, -1,  1, -1,  0,  5, -1,\n",
       "       -1, -1, -1, -1,  2, -1, -1, -1,  0,  3, -1, -1,  0, -1,  2,  4, -1,\n",
       "       -1, -1,  1, -1,  4,  0,  5,  0,  1,  2,  3, -1,  5,  2, -1,  3, -1,\n",
       "        4,  2, -1,  0, -1,  3,  0,  3, -1, -1, -1,  1, -1, -1, -1,  4],\n",
       "      dtype=int64)"
      ]
     },
     "execution_count": 421,
     "metadata": {},
     "output_type": "execute_result"
    }
   ],
   "source": [
    "from sklearn.cluster import DBSCAN\n",
    "model_dbscan = DBSCAN(0.01, min_samples=12)\n",
    "model_dbscan.fit(unique_taxi[[\"lat\",\"lon\"]])\n",
    "model_dbscan.labels_"
   ]
  },
  {
   "cell_type": "markdown",
   "metadata": {},
   "source": [
    "可以看到当，取eps=0.013, min_samples=15时，可划分为5类"
   ]
  },
  {
   "cell_type": "code",
   "execution_count": 422,
   "metadata": {},
   "outputs": [
    {
     "data": {
      "text/plain": [
       "<matplotlib.collections.PathCollection at 0x2b5530cff80>"
      ]
     },
     "execution_count": 422,
     "metadata": {},
     "output_type": "execute_result"
    },
    {
     "data": {
      "image/png": "[encoded data removed]",
      "text/plain": [
       "<Figure size 640x480 with 1 Axes>"
      ]
     },
     "metadata": {},
     "output_type": "display_data"
    }
   ],
   "source": [
    "import matplotlib.pyplot as plt\n",
    "plt.scatter(unique_taxi[\"lat\"], unique_taxi[\"lon\"], c=model_dbscan.labels_)"
   ]
  },
  {
   "cell_type": "code",
   "execution_count": 423,
   "metadata": {},
   "outputs": [
    {
     "data": {
      "text/plain": [
       "array([-1, -1, -1,  0,  5,  0,  1,  2,  3,  0,  2,  0, -1, -1,  0,  4,  2,\n",
       "        0,  1,  3, -1,  3, -1,  1,  2,  0,  0, -1, -1,  4,  3, -1, -1, -1,\n",
       "       -1, -1,  1, -1,  3,  4, -1,  3, -1, -1, -1,  3,  0, -1,  2, -1, -1,\n",
       "        0, -1, -1,  1,  0, -1, -1, -1,  1, -1,  0,  3, -1,  0, -1, -1, -1,\n",
       "       -1,  1,  0,  1, -1,  5,  3,  5, -1,  5, -1, -1,  1,  3,  1, -1, -1,\n",
       "       -1,  0,  0, -1, -1, -1, -1, -1, -1,  0,  2,  0,  0,  3,  0,  0, -1,\n",
       "       -1, -1,  3,  0,  0,  3,  0,  3, -1, -1, -1,  1, -1,  0, -1, -1, -1,\n",
       "       -1, -1, -1,  2,  0,  3, -1, -1, -1, -1, -1,  0, -1, -1,  3,  1, -1,\n",
       "        2, -1, -1,  5, -1, -1,  0, -1,  0,  3,  3, -1,  1, -1,  1, -1, -1,\n",
       "       -1, -1, -1,  1, -1,  5,  0,  0, -1,  0, -1,  1, -1,  0,  3,  2,  4,\n",
       "        4, -1,  3,  3,  3, -1,  0,  2,  0,  0, -1, -1,  1, -1, -1, -1,  0,\n",
       "        1,  2,  0, -1,  4, -1,  3, -1,  0,  0,  2, -1, -1,  3,  0,  1,  3,\n",
       "       -1, -1,  5, -1,  3,  1,  3, -1,  3, -1,  2, -1,  2,  5,  1, -1, -1,\n",
       "        0,  4,  5,  4,  2,  0, -1,  0,  0, -1, -1,  3, -1, -1, -1, -1, -1,\n",
       "        0,  1, -1,  3, -1,  1,  3,  0,  2,  0,  1, -1,  1,  5, -1,  0,  0,\n",
       "       -1,  3,  0,  2, -1, -1,  0, -1,  2, -1, -1, -1,  1,  3, -1, -1,  4,\n",
       "        4,  1,  0,  0, -1,  5, -1,  2, -1, -1, -1, -1,  1, -1,  0,  5, -1,\n",
       "       -1, -1, -1, -1,  2, -1, -1, -1,  0,  3, -1, -1,  0, -1,  2,  4, -1,\n",
       "       -1, -1,  1, -1,  4,  0,  5,  0,  1,  2,  3, -1,  5,  2, -1,  3, -1,\n",
       "        4,  2, -1,  0, -1,  3,  0,  3, -1, -1, -1,  1, -1, -1, -1,  4],\n",
       "      dtype=int64)"
      ]
     },
     "execution_count": 423,
     "metadata": {},
     "output_type": "execute_result"
    }
   ],
   "source": [
    "model_dbscan.labels_"
   ]
  },
  {
   "cell_type": "markdown",
   "metadata": {},
   "source": [
    "为原始数据增加label列，拼接上他们的类别id"
   ]
  },
  {
   "cell_type": "code",
   "execution_count": 424,
   "metadata": {},
   "outputs": [
    {
     "name": "stderr",
     "output_type": "stream",
     "text": [
      "C:\\Users\\Qingyuan_Qu\\AppData\\Local\\Temp\\ipykernel_19148\\2860112448.py:1: SettingWithCopyWarning: \n",
      "A value is trying to be set on a copy of a slice from a DataFrame.\n",
      "Try using .loc[row_indexer,col_indexer] = value instead\n",
      "\n",
      "See the caveats in the documentation: https://pandas.pydata.org/pandas-docs/stable/user_guide/indexing.html#returning-a-view-versus-a-copy\n",
      "  unique_taxi[\"label\"] = model_dbscan.labels_\n"
     ]
    }
   ],
   "source": [
    "unique_taxi[\"label\"] = model_dbscan.labels_"
   ]
  },
  {
   "cell_type": "code",
   "execution_count": 425,
   "metadata": {},
   "outputs": [
    {
     "data": {
      "text/html": [
       "<div>\n",
       "<style scoped>\n",
       "    .dataframe tbody tr th:only-of-type {\n",
       "        vertical-align: middle;\n",
       "    }\n",
       "\n",
       "    .dataframe tbody tr th {\n",
       "        vertical-align: top;\n",
       "    }\n",
       "\n",
       "    .dataframe thead th {\n",
       "        text-align: right;\n",
       "    }\n",
       "</style>\n",
       "<table border=\"1\" class=\"dataframe\">\n",
       "  <thead>\n",
       "    <tr style=\"text-align: right;\">\n",
       "      <th></th>\n",
       "      <th>tid</th>\n",
       "      <th>lat</th>\n",
       "      <th>lon</th>\n",
       "      <th>time</th>\n",
       "      <th>label</th>\n",
       "    </tr>\n",
       "  </thead>\n",
       "  <tbody>\n",
       "    <tr>\n",
       "      <th>133</th>\n",
       "      <td>1</td>\n",
       "      <td>30.626503</td>\n",
       "      <td>104.133425</td>\n",
       "      <td>172950</td>\n",
       "      <td>-1</td>\n",
       "    </tr>\n",
       "    <tr>\n",
       "      <th>2602</th>\n",
       "      <td>2</td>\n",
       "      <td>30.629086</td>\n",
       "      <td>103.999179</td>\n",
       "      <td>183445</td>\n",
       "      <td>-1</td>\n",
       "    </tr>\n",
       "    <tr>\n",
       "      <th>5231</th>\n",
       "      <td>3</td>\n",
       "      <td>30.607516</td>\n",
       "      <td>104.132795</td>\n",
       "      <td>172059</td>\n",
       "      <td>-1</td>\n",
       "    </tr>\n",
       "    <tr>\n",
       "      <th>6428</th>\n",
       "      <td>4</td>\n",
       "      <td>30.621599</td>\n",
       "      <td>104.076919</td>\n",
       "      <td>185819</td>\n",
       "      <td>0</td>\n",
       "    </tr>\n",
       "    <tr>\n",
       "      <th>9084</th>\n",
       "      <td>5</td>\n",
       "      <td>30.587247</td>\n",
       "      <td>104.074586</td>\n",
       "      <td>175739</td>\n",
       "      <td>5</td>\n",
       "    </tr>\n",
       "    <tr>\n",
       "      <th>...</th>\n",
       "      <td>...</td>\n",
       "      <td>...</td>\n",
       "      <td>...</td>\n",
       "      <td>...</td>\n",
       "      <td>...</td>\n",
       "    </tr>\n",
       "    <tr>\n",
       "      <th>798864</th>\n",
       "      <td>397</td>\n",
       "      <td>30.566291</td>\n",
       "      <td>103.957865</td>\n",
       "      <td>183420</td>\n",
       "      <td>1</td>\n",
       "    </tr>\n",
       "    <tr>\n",
       "      <th>802544</th>\n",
       "      <td>398</td>\n",
       "      <td>30.649833</td>\n",
       "      <td>104.061894</td>\n",
       "      <td>171844</td>\n",
       "      <td>-1</td>\n",
       "    </tr>\n",
       "    <tr>\n",
       "      <th>805544</th>\n",
       "      <td>399</td>\n",
       "      <td>30.650747</td>\n",
       "      <td>104.120522</td>\n",
       "      <td>183539</td>\n",
       "      <td>-1</td>\n",
       "    </tr>\n",
       "    <tr>\n",
       "      <th>808245</th>\n",
       "      <td>400</td>\n",
       "      <td>30.627274</td>\n",
       "      <td>103.994137</td>\n",
       "      <td>182823</td>\n",
       "      <td>-1</td>\n",
       "    </tr>\n",
       "    <tr>\n",
       "      <th>810769</th>\n",
       "      <td>401</td>\n",
       "      <td>30.655886</td>\n",
       "      <td>104.087429</td>\n",
       "      <td>182041</td>\n",
       "      <td>4</td>\n",
       "    </tr>\n",
       "  </tbody>\n",
       "</table>\n",
       "<p>339 rows × 5 columns</p>\n",
       "</div>"
      ],
      "text/plain": [
       "        tid        lat         lon    time  label\n",
       "133       1  30.626503  104.133425  172950     -1\n",
       "2602      2  30.629086  103.999179  183445     -1\n",
       "5231      3  30.607516  104.132795  172059     -1\n",
       "6428      4  30.621599  104.076919  185819      0\n",
       "9084      5  30.587247  104.074586  175739      5\n",
       "...     ...        ...         ...     ...    ...\n",
       "798864  397  30.566291  103.957865  183420      1\n",
       "802544  398  30.649833  104.061894  171844     -1\n",
       "805544  399  30.650747  104.120522  183539     -1\n",
       "808245  400  30.627274  103.994137  182823     -1\n",
       "810769  401  30.655886  104.087429  182041      4\n",
       "\n",
       "[339 rows x 5 columns]"
      ]
     },
     "execution_count": 425,
     "metadata": {},
     "output_type": "execute_result"
    }
   ],
   "source": [
    "unique_taxi"
   ]
  },
  {
   "cell_type": "markdown",
   "metadata": {},
   "source": [
    "筛选掉离群点数据(即label=-1的点)"
   ]
  },
  {
   "cell_type": "code",
   "execution_count": 426,
   "metadata": {},
   "outputs": [],
   "source": [
    "remove_noise_data = unique_taxi.loc[ unique_taxi[\"label\"]!=-1]"
   ]
  },
  {
   "cell_type": "markdown",
   "metadata": {},
   "source": [
    "借助KMeans计算聚类中心，指定k=5，聚为5类"
   ]
  },
  {
   "cell_type": "code",
   "execution_count": 431,
   "metadata": {},
   "outputs": [
    {
     "name": "stdout",
     "output_type": "stream",
     "text": [
      "7\n"
     ]
    },
    {
     "name": "stderr",
     "output_type": "stream",
     "text": [
      "d:\\Program Files\\Python312\\Lib\\site-packages\\sklearn\\cluster\\_kmeans.py:1416: FutureWarning: The default value of `n_init` will change from 10 to 'auto' in 1.4. Set the value of `n_init` explicitly to suppress the warning\n",
      "  super()._check_params_vs_input(X, default_n_init=10)\n"
     ]
    },
    {
     "data": {
      "text/plain": [
       "array([[ 30.5913212 , 104.07217967],\n",
       "       [ 30.62066064, 104.05485039],\n",
       "       [ 30.56798639, 103.96419687],\n",
       "       [ 30.64220343, 104.09049495],\n",
       "       [ 30.63870688, 104.03192729],\n",
       "       [ 30.60834122, 104.09760659],\n",
       "       [ 30.6181763 , 104.07334987]])"
      ]
     },
     "execution_count": 431,
     "metadata": {},
     "output_type": "execute_result"
    }
   ],
   "source": [
    "from sklearn.cluster import KMeans\n",
    "import numpy as np\n",
    "n_clusters = np.unique(model_dbscan.labels_).shape[0]\n",
    "print(n_clusters)\n",
    "\n",
    "model = KMeans(n_clusters=n_clusters)\n",
    "# model = DBSCAN(0.01, min_samples=12)\n",
    "model.fit_transform(remove_noise_data[[\"lat\",\"lon\"]])\n",
    "model.cluster_centers_"
   ]
  },
  {
   "cell_type": "markdown",
   "metadata": {},
   "source": [
    "聚类数据可视化"
   ]
  },
  {
   "cell_type": "code",
   "execution_count": 432,
   "metadata": {},
   "outputs": [
    {
     "data": {
      "text/plain": [
       "<matplotlib.collections.PathCollection at 0x2b54c289910>"
      ]
     },
     "execution_count": 432,
     "metadata": {},
     "output_type": "execute_result"
    },
    {
     "data": {
      "image/png": "[encoded data removed]",
      "text/plain": [
       "<Figure size 640x480 with 1 Axes>"
      ]
     },
     "metadata": {},
     "output_type": "display_data"
    }
   ],
   "source": [
    "import matplotlib.pyplot as plt\n",
    "centers = model.cluster_centers_\n",
    "plt.scatter(remove_noise_data[\"lat\"], remove_noise_data[\"lon\"], c=model.labels_)\n",
    "plt.scatter(centers[:,0], centers[:,1], marker=\"*\", s=100, color=\"red\")"
   ]
  }
 ],
 "metadata": {
  "kernelspec": {
   "display_name": "Python 3",
   "language": "python",
   "name": "python3"
  },
  "language_info": {
   "codemirror_mode": {
    "name": "ipython",
    "version": 3
   },
   "file_extension": ".py",
   "mimetype": "text/x-python",
   "name": "python",
   "nbconvert_exporter": "python",
   "pygments_lexer": "ipython3",
   "version": "3.12.0"
  }
 },
 "nbformat": 4,
 "nbformat_minor": 2
}
