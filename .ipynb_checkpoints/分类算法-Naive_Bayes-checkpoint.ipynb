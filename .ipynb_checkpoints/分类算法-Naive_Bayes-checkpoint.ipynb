{
 "cells": [
  {
   "attachments": {},
   "cell_type": "markdown",
   "metadata": {
    "editable": true,
    "slideshow": {
     "slide_type": "slide"
    },
    "tags": []
   },
   "source": [
    "# 朴素贝叶斯分类"
   ]
  },
  {
   "cell_type": "markdown",
   "metadata": {
    "editable": true,
    "slideshow": {
     "slide_type": "slide"
    },
    "tags": []
   },
   "source": [
    "## 一. 概率基础知识"
   ]
  },
  {
   "cell_type": "markdown",
   "metadata": {
    "editable": true,
    "slideshow": {
     "slide_type": "slide"
    },
    "tags": []
   },
   "source": [
    "#### 1.1 条件概率\n",
    "设$A,B$是两个事件，且$P(A)>0$, 称\n",
    "$$\n",
    "P(B|A) = \\frac{P(AB)}{P(A)}\n",
    "$$\n",
    "\n",
    "为事件$A$发生的条件下事件$B$发生的概率。"
   ]
  },
  {
   "cell_type": "markdown",
   "metadata": {
    "editable": true,
    "slideshow": {
     "slide_type": "slide"
    },
    "tags": []
   },
   "source": [
    "#### 1.2 乘法定理\n",
    "设$P(A)>0$, 则有  \n",
    "$$\n",
    "P(AB) = P(B|A)P(A)\n",
    "$$\n"
   ]
  },
  {
   "cell_type": "markdown",
   "metadata": {
    "editable": true,
    "slideshow": {
     "slide_type": "slide"
    },
    "tags": []
   },
   "source": [
    "#### 1.3 全概率\n",
    "\n",
    "设试验$E$的样本空间为$S$，$A$为$E$的事件，$B_1,B_2,...,B_n$为$S$的一个划分，且$P(B_i)>0 (i=1,2,...n)$, 则\n",
    "\n",
    "$$\n",
    "P(A) = P(A|B_1)P(B_1) + P(A|B_2)P(B_2) + ... + P(A|B_n)P(B_n)\n",
    "$$"
   ]
  },
  {
   "cell_type": "markdown",
   "metadata": {},
   "source": [
    "**证明**：  \n",
    "因为：  \n",
    "$$\n",
    "A = AS = A(B_1 \\cup B_2 \\cup ... \\cup B_n)=AB_1 \\cup AB_2 \\cup ... \\cup AB_n\n",
    "$$\n"
   ]
  },
  {
   "cell_type": "markdown",
   "metadata": {},
   "source": [
    "由假设$P(B_i)>0 ，且(AB_i)(AB_j)= \\emptyset, i \\neq j, (i,j=1,2,...,n);$"
   ]
  },
  {
   "cell_type": "markdown",
   "metadata": {},
   "source": [
    "由概率的**有限可加性**"
   ]
  },
  {
   "cell_type": "markdown",
   "metadata": {},
   "source": [
    "$$\n",
    "P(A) =  P(AB_1) + P(AB_2) + ... +P(AB_n)\n",
    "$$"
   ]
  },
  {
   "cell_type": "markdown",
   "metadata": {},
   "source": [
    "由**乘法定理**知："
   ]
  },
  {
   "cell_type": "markdown",
   "metadata": {},
   "source": [
    "$$\n",
    "P(A) =  P(A|B_1)P(B_1) + P(A|B_2)P(B_2) + ... +P(A|B_n)P(B_n)\n",
    "$$"
   ]
  },
  {
   "cell_type": "markdown",
   "metadata": {
    "editable": true,
    "slideshow": {
     "slide_type": "slide"
    },
    "tags": []
   },
   "source": [
    "#### 1.4 贝叶斯定理\n",
    "设试验$E$的样本空间为$S$，$A$为$E$的事件，$B_1,B_2,...,B_n$为$S$的一个划分，且$P(B_i)>0 (i=1,2,...n)$, 则\n",
    "\n",
    "$$\n",
    "P(B_i|A) = \\frac{P(B_iA)}{P(A)} = \\frac{P(A|B_i)P(B_i)}{P(A)} = \\frac{P(A|B_i)P(B_i)} {P(A|B_1)P(B_1) + P(A|B_2)P(B_2) + ... + P(A|B_n)P(B_n)}  = \\frac{P(A|B_i)P(B_i)}{ \\sum_{j=1}^{n}P(A|B_j)P(B_j)}\n",
    "$$"
   ]
  },
  {
   "cell_type": "markdown",
   "metadata": {
    "editable": true,
    "slideshow": {
     "slide_type": "fragment"
    },
    "tags": []
   },
   "source": [
    "$P(B_i) $称为 先验概率；  \n",
    "$P(B_i|A)$ 称为 后验概率"
   ]
  },
  {
   "cell_type": "markdown",
   "metadata": {
    "editable": true,
    "slideshow": {
     "slide_type": "slide"
    },
    "tags": []
   },
   "source": [
    "## 二. 朴素贝叶斯分类"
   ]
  },
  {
   "cell_type": "markdown",
   "metadata": {
    "editable": true,
    "slideshow": {
     "slide_type": "slide"
    },
    "tags": []
   },
   "source": [
    "待分类数据$X= (x_1, x_2, ... , x_n)$ \n",
    "属于类别$y_i$的概率$P(y_i|X)$"
   ]
  },
  {
   "cell_type": "markdown",
   "metadata": {
    "editable": true,
    "slideshow": {
     "slide_type": "fragment"
    },
    "tags": []
   },
   "source": [
    "$$\n",
    "P(y_i|X) = \\frac{P(X|y_i)P(y_i)}{P(X)}\n",
    "$$"
   ]
  },
  {
   "cell_type": "markdown",
   "metadata": {
    "editable": true,
    "slideshow": {
     "slide_type": ""
    },
    "tags": []
   },
   "source": [
    "其中$x_1, x_2, ... , x_n$相互独立； "
   ]
  },
  {
   "cell_type": "markdown",
   "metadata": {
    "editable": true,
    "slideshow": {
     "slide_type": ""
    },
    "tags": []
   },
   "source": [
    "**定义**  \n",
    "  设 $A,B$是两事件，如果满足等式  $P(AB) = P(A)P(B)$，则称 事件$A,B$**相互独立**，简称$A,B$**独立**。"
   ]
  },
  {
   "cell_type": "markdown",
   "metadata": {
    "editable": true,
    "slideshow": {
     "slide_type": ""
    },
    "tags": []
   },
   "source": [
    "即：  \n",
    "$P(X|y_j) = P(x_1|y_j) \\dot P(x_2|y_j) ... P(x_n|y_j)$"
   ]
  },
  {
   "attachments": {},
   "cell_type": "markdown",
   "metadata": {
    "editable": true,
    "slideshow": {
     "slide_type": "fragment"
    },
    "tags": []
   },
   "source": [
    "$$\n",
    "P(y_i|x_1,x_2,...,x_n) = \\frac{\\prod_{j=1}^{n} P(x_j|y_i) \\cdot  P(y_i)  }{P(x_1,x_2,...,x_n)}\n",
    "$$"
   ]
  },
  {
   "attachments": {},
   "cell_type": "markdown",
   "metadata": {
    "editable": true,
    "slideshow": {
     "slide_type": "fragment"
    },
    "tags": []
   },
   "source": [
    "$$\n",
    "P(y_1|x_1,x_2,...,x_n) = \\frac{\\prod_{j=1}^{n} P(x_j|y_1) \\cdot  P(y_1) }{P(x_1,x_2,...,x_n)} \\quad ? \\quad  P(y_2|x_1,x_2,...,x_n) = \\frac{\\prod_{j=1}^{n} P(x_j|y_2)\\cdot  P(y_2) }{P(x_1,x_2,...,x_n)}\n",
    "$$"
   ]
  },
  {
   "attachments": {},
   "cell_type": "markdown",
   "metadata": {
    "editable": true,
    "slideshow": {
     "slide_type": "fragment"
    },
    "tags": []
   },
   "source": [
    "$$\n",
    "{P(y_1) \\cdot \\prod_{j=1}^{n} P(x_j|y_1)} \\quad ? \\quad  {P(y_2) \\cdot \\prod_{j=1}^{n} P(x_j|y_2)}\n",
    "$$"
   ]
  },
  {
   "attachments": {},
   "cell_type": "markdown",
   "metadata": {
    "editable": true,
    "slideshow": {
     "slide_type": "slide"
    },
    "tags": []
   },
   "source": [
    "## 三. 朴素贝叶斯分类应用案例"
   ]
  },
  {
   "cell_type": "markdown",
   "metadata": {},
   "source": [
    "题目： \n",
    "已知以下统计数据"
   ]
  },
  {
   "cell_type": "markdown",
   "metadata": {},
   "source": [
    "|   ID | 相貌 | 性格 | 身高 |   上进 | 结果 |\n",
    "| ---: | ---: | ---: | ---: | -----: | ---- |\n",
    "|    0 |   帅 |   好 |   矮 |   上进 | 嫁   |\n",
    "|    1 | 不帅 |   好 |   高 |   上进 | 嫁   |\n",
    "|    2 |   帅 |   好 |   高 | 不上进 | 嫁   |\n",
    "|    3 | 不帅 |   好 |   高 |   上进 | 嫁   |\n",
    "|    4 |   帅 |   好 |   高 |   上进 | 嫁   |\n",
    "|    5 | 不帅 | 不好 |   高 |   上进 | 嫁   |\n",
    "|    6 |   帅 | 不好 |   矮 | 不上进 | 不嫁 |\n",
    "|    7 | 不帅 |   好 |   矮 |   上进 | 不嫁 |\n",
    "|    8 |   帅 |   好 |   矮 | 不上进 | 不嫁 |\n",
    "|    9 |   帅 |   好 |   矮 | 不上进 | 不嫁 |\n",
    "|   10 |   帅 | 不好 |   矮 |   上进 | 不嫁 |\n",
    "|   11 | 不帅 | 不好 |   矮 | 不上进 | 不嫁 |"
   ]
  },
  {
   "cell_type": "markdown",
   "metadata": {},
   "source": [
    "请根据朴素贝叶斯分类算法判断小王取到媳妇的概率"
   ]
  },
  {
   "cell_type": "markdown",
   "metadata": {},
   "source": [
    "|   ID | 相貌 | 性格 | 身高 |   上进 | 结果 |\n",
    "| ---: | ---: | ---: | ---: | -----: | ---- |\n",
    "|    小王 |   不帅 |   不好 |   矮 |   不上进 | ？   |"
   ]
  },
  {
   "cell_type": "markdown",
   "metadata": {},
   "source": [
    "**解**：  \n",
    "由朴素贝叶斯分类知："
   ]
  },
  {
   "attachments": {},
   "cell_type": "markdown",
   "metadata": {
    "editable": true,
    "slideshow": {
     "slide_type": "fragment"
    },
    "tags": []
   },
   "source": [
    "$$\n",
    "P(y_i|x_1,x_2,...,x_n) = \\frac{\\prod_{j=1}^{n} P(x_j|y_i) \\cdot  P(y_i)  }{P(x_1,x_2,...,x_n)}\n",
    "$$"
   ]
  },
  {
   "attachments": {},
   "cell_type": "markdown",
   "metadata": {
    "editable": true,
    "slideshow": {
     "slide_type": "slide"
    },
    "tags": []
   },
   "source": [
    "#### 3.1 计算目标\n",
    "$$\n",
    "\\begin{aligned}\n",
    "P(嫁|不帅,不好,矮,不上进) & =  [P(不帅|嫁) \\cdot P(不好|嫁) \\cdot P(矮|嫁)\\cdot P(不上进|嫁)] \\cdot P(嫁)   \\newline\n",
    "P(不嫁|不帅,不好,矮,不上进) &=  [P(不帅|不嫁) \\cdot P(不好|不嫁) \\cdot P(矮|不嫁)\\cdot P(不上进|不嫁)] \\cdot P(不嫁) \n",
    "\\end{aligned}\n",
    "$$"
   ]
  },
  {
   "cell_type": "markdown",
   "metadata": {
    "editable": true,
    "slideshow": {
     "slide_type": "fragment"
    },
    "tags": []
   },
   "source": [
    "### 3.2 条件概率\n",
    "已知类别的条件下，特征在各类内出现的概率：\n",
    "$$\n",
    "\\begin{aligned}\n",
    "P(不帅|嫁) \\cdot P(不好|嫁) \\cdot P(矮|嫁)\\cdot P(不上进|嫁) & = \\frac{C(不帅)}{C(嫁)} \\cdot \\frac{C(不好)}{C(嫁)} \\cdot \\frac{C(矮)}{C(嫁)}  \\cdot \\frac{C(不上进)}{C(嫁)}  \\\\\n",
    "& = \\frac{1}{2} \\frac{1}{6}\\frac{1}{6}\\frac{1}{6} \\\\\n",
    "& = 0.0023148148148148147\n",
    "&\n",
    "\\newline\n",
    "P(不帅|不嫁) \\cdot P(不好|不嫁) \\cdot P(矮|不嫁)\\cdot P(不上进|不嫁) &= \\frac{C(不帅)}{C(不嫁)} \\cdot \\frac{C(不好)}{C(不嫁)} \\cdot \\frac{C(矮)}{C(不嫁)}  \\cdot \\frac{C(不上进)}{C(不嫁)} \\\\\n",
    "& = \\frac{2}{6} \\frac{3}{6} \\frac{6}{6} \\frac{4}{6} \\\\ \n",
    "& = 0.1111111111111111\n",
    "\\end{aligned}\n",
    "$$"
   ]
  },
  {
   "cell_type": "markdown",
   "metadata": {},
   "source": [
    "需要注意的是，当特征数$n$非常大时，会出现多个小数累乘，造成浮点数下溢出，通常取对数。"
   ]
  },
  {
   "cell_type": "markdown",
   "metadata": {},
   "source": [
    "如果某特征在某类中出现次数为零，会造成整个式子为零，显然是不合理的。通常进行平滑处理，常用“拉普拉斯平滑”"
   ]
  },
  {
   "cell_type": "markdown",
   "metadata": {},
   "source": [
    "$$\n",
    "P(x_j|y_i) = \\frac { C(x_j) +1 } {C(y_i) + N_j}\n",
    "$$"
   ]
  },
  {
   "cell_type": "markdown",
   "metadata": {},
   "source": [
    "其中，$N_j$为第$j$个特征可能的取值数。"
   ]
  },
  {
   "attachments": {},
   "cell_type": "markdown",
   "metadata": {
    "editable": true,
    "slideshow": {
     "slide_type": "fragment"
    },
    "tags": []
   },
   "source": [
    "### 3.3 先验概率\n",
    "\n",
    "$$\n",
    "\\begin{aligned}\n",
    "P(嫁)= \\frac{嫁的样本总数}{样本总数} = \\frac{1}{2} \\\\\n",
    "P(不嫁)= \\frac{不嫁的样本总数}{样本总数} = \\frac{1}{2}\n",
    "\\end{aligned}\n",
    "$$"
   ]
  },
  {
   "cell_type": "markdown",
   "metadata": {},
   "source": [
    "拉普拉斯平滑中，先验概率的分子+1， 分母+$k$，$k$为类别数."
   ]
  },
  {
   "attachments": {},
   "cell_type": "markdown",
   "metadata": {
    "editable": true,
    "slideshow": {
     "slide_type": "slide"
    },
    "tags": []
   },
   "source": [
    "### 3.4 计算结果\n",
    "$$\n",
    "\\begin{aligned}\n",
    "P(嫁|不帅,不好,矮,不上进) & =  [P(不帅|嫁) \\cdot P(不好|嫁) \\cdot P(矮|嫁)\\cdot P(不上进|嫁)] \\cdot P(嫁)  = 0.002315*0.5 =0.0011575\\newline\n",
    "P(不嫁|不帅,不好,矮,不上进) &=  [P(不帅|不嫁) \\cdot P(不好|不嫁) \\cdot P(矮|不嫁)\\cdot P(不上进|不嫁)] \\cdot P(不嫁) =0.111111*0.5=0.0555555\n",
    "\\end{aligned}\n",
    "$$"
   ]
  },
  {
   "cell_type": "markdown",
   "metadata": {},
   "source": [
    "因此，小王取到媳妇的概率为0.0011575, 取不到媳妇的概率为 0.0555555."
   ]
  },
  {
   "attachments": {},
   "cell_type": "markdown",
   "metadata": {
    "editable": true,
    "slideshow": {
     "slide_type": "slide"
    },
    "tags": []
   },
   "source": [
    "## 四. 案例编程实现"
   ]
  },
  {
   "attachments": {},
   "cell_type": "markdown",
   "metadata": {
    "editable": true,
    "slideshow": {
     "slide_type": "slide"
    },
    "tags": []
   },
   "source": [
    "### 4.1 读取数据"
   ]
  },
  {
   "cell_type": "code",
   "execution_count": 1,
   "metadata": {},
   "outputs": [],
   "source": [
    "# 实验数据\n",
    "marry_list = [\n",
    "    (\"帅\",\"好\",\"矮\",\"上进\",\"嫁\"),\n",
    "    (\"不帅\",\"好\",\"高\",\"上进\",\"嫁\"),\n",
    "    (\"帅\",\"好\",\"高\",\"不上进\",\"嫁\"),\n",
    "    (\"不帅\",\"好\",\"高\",\"上进\",\"嫁\"),\n",
    "    (\"帅\",\"好\",\"高\",\"上进\",\"嫁\"),\n",
    "    (\"不帅\",\"不好\",\"高\",\"上进\",\"嫁\"),\n",
    "    (\"帅\",\"不好\",\"矮\",\"不上进\",\"不嫁\"),\n",
    "    (\"不帅\",\"好\",\"矮\",\"上进\",\"不嫁\"),\n",
    "    (\"帅\",\"好\",\"矮\",\"不上进\",\"不嫁\"),\n",
    "    (\"帅\",\"好\",\"矮\",\"不上进\",\"不嫁\"),\n",
    "    (\"帅\",\"不好\",\"矮\",\"上进\",\"不嫁\"),\n",
    "    (\"不帅\",\"不好\",\"矮\",\"不上进\",\"不嫁\")\n",
    "    ]\n",
    "\n",
    "# 通常情况下，女孩会不会嫁给小王？\n",
    "wang = (\"不帅\",\"不好\",\"矮\",\"不上进\")"
   ]
  },
  {
   "cell_type": "code",
   "execution_count": 2,
   "metadata": {
    "editable": true,
    "slideshow": {
     "slide_type": "fragment"
    },
    "tags": []
   },
   "outputs": [],
   "source": [
    "# 将列表转为Pandas中的DataFrame\n",
    "import pandas as pd\n",
    "marry_df = pd.DataFrame(marry_list,columns=[\"相貌\",\"性格\",\"身高\",\"上进\",\"结果\"])"
   ]
  },
  {
   "cell_type": "code",
   "execution_count": 3,
   "metadata": {
    "editable": true,
    "slideshow": {
     "slide_type": "slide"
    },
    "tags": []
   },
   "outputs": [
    {
     "data": {
      "text/html": [
       "<div>\n",
       "<style scoped>\n",
       "    .dataframe tbody tr th:only-of-type {\n",
       "        vertical-align: middle;\n",
       "    }\n",
       "\n",
       "    .dataframe tbody tr th {\n",
       "        vertical-align: top;\n",
       "    }\n",
       "\n",
       "    .dataframe thead th {\n",
       "        text-align: right;\n",
       "    }\n",
       "</style>\n",
       "<table border=\"1\" class=\"dataframe\">\n",
       "  <thead>\n",
       "    <tr style=\"text-align: right;\">\n",
       "      <th></th>\n",
       "      <th>相貌</th>\n",
       "      <th>性格</th>\n",
       "      <th>身高</th>\n",
       "      <th>上进</th>\n",
       "      <th>结果</th>\n",
       "    </tr>\n",
       "  </thead>\n",
       "  <tbody>\n",
       "    <tr>\n",
       "      <th>0</th>\n",
       "      <td>帅</td>\n",
       "      <td>好</td>\n",
       "      <td>矮</td>\n",
       "      <td>上进</td>\n",
       "      <td>嫁</td>\n",
       "    </tr>\n",
       "    <tr>\n",
       "      <th>1</th>\n",
       "      <td>不帅</td>\n",
       "      <td>好</td>\n",
       "      <td>高</td>\n",
       "      <td>上进</td>\n",
       "      <td>嫁</td>\n",
       "    </tr>\n",
       "    <tr>\n",
       "      <th>2</th>\n",
       "      <td>帅</td>\n",
       "      <td>好</td>\n",
       "      <td>高</td>\n",
       "      <td>不上进</td>\n",
       "      <td>嫁</td>\n",
       "    </tr>\n",
       "    <tr>\n",
       "      <th>3</th>\n",
       "      <td>不帅</td>\n",
       "      <td>好</td>\n",
       "      <td>高</td>\n",
       "      <td>上进</td>\n",
       "      <td>嫁</td>\n",
       "    </tr>\n",
       "    <tr>\n",
       "      <th>4</th>\n",
       "      <td>帅</td>\n",
       "      <td>好</td>\n",
       "      <td>高</td>\n",
       "      <td>上进</td>\n",
       "      <td>嫁</td>\n",
       "    </tr>\n",
       "    <tr>\n",
       "      <th>5</th>\n",
       "      <td>不帅</td>\n",
       "      <td>不好</td>\n",
       "      <td>高</td>\n",
       "      <td>上进</td>\n",
       "      <td>嫁</td>\n",
       "    </tr>\n",
       "    <tr>\n",
       "      <th>6</th>\n",
       "      <td>帅</td>\n",
       "      <td>不好</td>\n",
       "      <td>矮</td>\n",
       "      <td>不上进</td>\n",
       "      <td>不嫁</td>\n",
       "    </tr>\n",
       "    <tr>\n",
       "      <th>7</th>\n",
       "      <td>不帅</td>\n",
       "      <td>好</td>\n",
       "      <td>矮</td>\n",
       "      <td>上进</td>\n",
       "      <td>不嫁</td>\n",
       "    </tr>\n",
       "    <tr>\n",
       "      <th>8</th>\n",
       "      <td>帅</td>\n",
       "      <td>好</td>\n",
       "      <td>矮</td>\n",
       "      <td>不上进</td>\n",
       "      <td>不嫁</td>\n",
       "    </tr>\n",
       "    <tr>\n",
       "      <th>9</th>\n",
       "      <td>帅</td>\n",
       "      <td>好</td>\n",
       "      <td>矮</td>\n",
       "      <td>不上进</td>\n",
       "      <td>不嫁</td>\n",
       "    </tr>\n",
       "    <tr>\n",
       "      <th>10</th>\n",
       "      <td>帅</td>\n",
       "      <td>不好</td>\n",
       "      <td>矮</td>\n",
       "      <td>上进</td>\n",
       "      <td>不嫁</td>\n",
       "    </tr>\n",
       "    <tr>\n",
       "      <th>11</th>\n",
       "      <td>不帅</td>\n",
       "      <td>不好</td>\n",
       "      <td>矮</td>\n",
       "      <td>不上进</td>\n",
       "      <td>不嫁</td>\n",
       "    </tr>\n",
       "  </tbody>\n",
       "</table>\n",
       "</div>"
      ],
      "text/plain": [
       "    相貌  性格 身高   上进  结果\n",
       "0    帅   好  矮   上进   嫁\n",
       "1   不帅   好  高   上进   嫁\n",
       "2    帅   好  高  不上进   嫁\n",
       "3   不帅   好  高   上进   嫁\n",
       "4    帅   好  高   上进   嫁\n",
       "5   不帅  不好  高   上进   嫁\n",
       "6    帅  不好  矮  不上进  不嫁\n",
       "7   不帅   好  矮   上进  不嫁\n",
       "8    帅   好  矮  不上进  不嫁\n",
       "9    帅   好  矮  不上进  不嫁\n",
       "10   帅  不好  矮   上进  不嫁\n",
       "11  不帅  不好  矮  不上进  不嫁"
      ]
     },
     "execution_count": 3,
     "metadata": {},
     "output_type": "execute_result"
    }
   ],
   "source": [
    "marry_df"
   ]
  },
  {
   "cell_type": "code",
   "execution_count": 4,
   "metadata": {
    "editable": true,
    "slideshow": {
     "slide_type": "slide"
    },
    "tags": []
   },
   "outputs": [],
   "source": [
    "# 通常情况下，女孩会不会嫁给小王？\n",
    "wang = (\"不帅\",\"不好\",\"矮\",\"不上进\")"
   ]
  },
  {
   "attachments": {},
   "cell_type": "markdown",
   "metadata": {
    "editable": true,
    "slideshow": {
     "slide_type": "slide"
    },
    "tags": []
   },
   "source": [
    "### 4.2 先验概率\n"
   ]
  },
  {
   "cell_type": "code",
   "execution_count": 5,
   "metadata": {
    "editable": true,
    "slideshow": {
     "slide_type": "slide"
    },
    "tags": []
   },
   "outputs": [],
   "source": [
    "# C(嫁)\n",
    "y1_df = marry_df.loc[marry_df['结果']==\"嫁\"]\n",
    "# C(不嫁)\n",
    "y2_df = marry_df.loc[marry_df['结果']==\"不嫁\"]"
   ]
  },
  {
   "cell_type": "code",
   "execution_count": 6,
   "metadata": {
    "editable": true,
    "slideshow": {
     "slide_type": "slide"
    },
    "tags": []
   },
   "outputs": [
    {
     "data": {
      "text/html": [
       "<div>\n",
       "<style scoped>\n",
       "    .dataframe tbody tr th:only-of-type {\n",
       "        vertical-align: middle;\n",
       "    }\n",
       "\n",
       "    .dataframe tbody tr th {\n",
       "        vertical-align: top;\n",
       "    }\n",
       "\n",
       "    .dataframe thead th {\n",
       "        text-align: right;\n",
       "    }\n",
       "</style>\n",
       "<table border=\"1\" class=\"dataframe\">\n",
       "  <thead>\n",
       "    <tr style=\"text-align: right;\">\n",
       "      <th></th>\n",
       "      <th>相貌</th>\n",
       "      <th>性格</th>\n",
       "      <th>身高</th>\n",
       "      <th>上进</th>\n",
       "      <th>结果</th>\n",
       "    </tr>\n",
       "  </thead>\n",
       "  <tbody>\n",
       "    <tr>\n",
       "      <th>0</th>\n",
       "      <td>帅</td>\n",
       "      <td>好</td>\n",
       "      <td>矮</td>\n",
       "      <td>上进</td>\n",
       "      <td>嫁</td>\n",
       "    </tr>\n",
       "    <tr>\n",
       "      <th>1</th>\n",
       "      <td>不帅</td>\n",
       "      <td>好</td>\n",
       "      <td>高</td>\n",
       "      <td>上进</td>\n",
       "      <td>嫁</td>\n",
       "    </tr>\n",
       "    <tr>\n",
       "      <th>2</th>\n",
       "      <td>帅</td>\n",
       "      <td>好</td>\n",
       "      <td>高</td>\n",
       "      <td>不上进</td>\n",
       "      <td>嫁</td>\n",
       "    </tr>\n",
       "    <tr>\n",
       "      <th>3</th>\n",
       "      <td>不帅</td>\n",
       "      <td>好</td>\n",
       "      <td>高</td>\n",
       "      <td>上进</td>\n",
       "      <td>嫁</td>\n",
       "    </tr>\n",
       "    <tr>\n",
       "      <th>4</th>\n",
       "      <td>帅</td>\n",
       "      <td>好</td>\n",
       "      <td>高</td>\n",
       "      <td>上进</td>\n",
       "      <td>嫁</td>\n",
       "    </tr>\n",
       "    <tr>\n",
       "      <th>5</th>\n",
       "      <td>不帅</td>\n",
       "      <td>不好</td>\n",
       "      <td>高</td>\n",
       "      <td>上进</td>\n",
       "      <td>嫁</td>\n",
       "    </tr>\n",
       "  </tbody>\n",
       "</table>\n",
       "</div>"
      ],
      "text/plain": [
       "   相貌  性格 身高   上进 结果\n",
       "0   帅   好  矮   上进  嫁\n",
       "1  不帅   好  高   上进  嫁\n",
       "2   帅   好  高  不上进  嫁\n",
       "3  不帅   好  高   上进  嫁\n",
       "4   帅   好  高   上进  嫁\n",
       "5  不帅  不好  高   上进  嫁"
      ]
     },
     "execution_count": 6,
     "metadata": {},
     "output_type": "execute_result"
    }
   ],
   "source": [
    "y1_df"
   ]
  },
  {
   "cell_type": "code",
   "execution_count": 7,
   "metadata": {
    "editable": true,
    "slideshow": {
     "slide_type": ""
    },
    "tags": []
   },
   "outputs": [
    {
     "data": {
      "text/html": [
       "<div>\n",
       "<style scoped>\n",
       "    .dataframe tbody tr th:only-of-type {\n",
       "        vertical-align: middle;\n",
       "    }\n",
       "\n",
       "    .dataframe tbody tr th {\n",
       "        vertical-align: top;\n",
       "    }\n",
       "\n",
       "    .dataframe thead th {\n",
       "        text-align: right;\n",
       "    }\n",
       "</style>\n",
       "<table border=\"1\" class=\"dataframe\">\n",
       "  <thead>\n",
       "    <tr style=\"text-align: right;\">\n",
       "      <th></th>\n",
       "      <th>相貌</th>\n",
       "      <th>性格</th>\n",
       "      <th>身高</th>\n",
       "      <th>上进</th>\n",
       "      <th>结果</th>\n",
       "    </tr>\n",
       "  </thead>\n",
       "  <tbody>\n",
       "    <tr>\n",
       "      <th>6</th>\n",
       "      <td>帅</td>\n",
       "      <td>不好</td>\n",
       "      <td>矮</td>\n",
       "      <td>不上进</td>\n",
       "      <td>不嫁</td>\n",
       "    </tr>\n",
       "    <tr>\n",
       "      <th>7</th>\n",
       "      <td>不帅</td>\n",
       "      <td>好</td>\n",
       "      <td>矮</td>\n",
       "      <td>上进</td>\n",
       "      <td>不嫁</td>\n",
       "    </tr>\n",
       "    <tr>\n",
       "      <th>8</th>\n",
       "      <td>帅</td>\n",
       "      <td>好</td>\n",
       "      <td>矮</td>\n",
       "      <td>不上进</td>\n",
       "      <td>不嫁</td>\n",
       "    </tr>\n",
       "    <tr>\n",
       "      <th>9</th>\n",
       "      <td>帅</td>\n",
       "      <td>好</td>\n",
       "      <td>矮</td>\n",
       "      <td>不上进</td>\n",
       "      <td>不嫁</td>\n",
       "    </tr>\n",
       "    <tr>\n",
       "      <th>10</th>\n",
       "      <td>帅</td>\n",
       "      <td>不好</td>\n",
       "      <td>矮</td>\n",
       "      <td>上进</td>\n",
       "      <td>不嫁</td>\n",
       "    </tr>\n",
       "    <tr>\n",
       "      <th>11</th>\n",
       "      <td>不帅</td>\n",
       "      <td>不好</td>\n",
       "      <td>矮</td>\n",
       "      <td>不上进</td>\n",
       "      <td>不嫁</td>\n",
       "    </tr>\n",
       "  </tbody>\n",
       "</table>\n",
       "</div>"
      ],
      "text/plain": [
       "    相貌  性格 身高   上进  结果\n",
       "6    帅  不好  矮  不上进  不嫁\n",
       "7   不帅   好  矮   上进  不嫁\n",
       "8    帅   好  矮  不上进  不嫁\n",
       "9    帅   好  矮  不上进  不嫁\n",
       "10   帅  不好  矮   上进  不嫁\n",
       "11  不帅  不好  矮  不上进  不嫁"
      ]
     },
     "execution_count": 7,
     "metadata": {},
     "output_type": "execute_result"
    }
   ],
   "source": [
    "y2_df"
   ]
  },
  {
   "attachments": {},
   "cell_type": "markdown",
   "metadata": {
    "editable": true,
    "slideshow": {
     "slide_type": ""
    },
    "tags": []
   },
   "source": [
    "##### P(嫁)"
   ]
  },
  {
   "cell_type": "code",
   "execution_count": 8,
   "metadata": {
    "editable": true,
    "slideshow": {
     "slide_type": ""
    },
    "tags": []
   },
   "outputs": [
    {
     "data": {
      "text/plain": [
       "0.5"
      ]
     },
     "execution_count": 8,
     "metadata": {},
     "output_type": "execute_result"
    }
   ],
   "source": [
    "marry_prior = len(y1_df)/len(marry_df)\n",
    "marry_prior"
   ]
  },
  {
   "attachments": {},
   "cell_type": "markdown",
   "metadata": {
    "editable": true,
    "slideshow": {
     "slide_type": ""
    },
    "tags": []
   },
   "source": [
    "##### P(不嫁)"
   ]
  },
  {
   "cell_type": "code",
   "execution_count": 9,
   "metadata": {
    "editable": true,
    "slideshow": {
     "slide_type": ""
    },
    "tags": []
   },
   "outputs": [
    {
     "data": {
      "text/plain": [
       "0.5"
      ]
     },
     "execution_count": 9,
     "metadata": {},
     "output_type": "execute_result"
    }
   ],
   "source": [
    "no_marry_prior = len(y2_df)/len(marry_df)\n",
    "no_marry_prior"
   ]
  },
  {
   "attachments": {},
   "cell_type": "markdown",
   "metadata": {
    "editable": true,
    "slideshow": {
     "slide_type": ""
    },
    "tags": []
   },
   "source": [
    "### 4.3 条件概率"
   ]
  },
  {
   "cell_type": "markdown",
   "metadata": {},
   "source": [
    "##### 第一个划分"
   ]
  },
  {
   "cell_type": "markdown",
   "metadata": {},
   "source": [
    "$$\n",
    "P(不帅,不好,矮,不上进|嫁) = P(不帅|嫁) \\cdot P(性格不好|嫁) \\cdot P(矮|嫁)\\cdot P(不上进|嫁) = \\frac{C(不帅)}{C(嫁)} \\cdot \\frac{C(性格不好)}{C(嫁)} \\cdot \\frac{C(矮)}{C(嫁)}  \\cdot \\frac{C(不上进)}{C(嫁)}\n",
    "$$"
   ]
  },
  {
   "cell_type": "code",
   "execution_count": 10,
   "metadata": {
    "editable": true,
    "slideshow": {
     "slide_type": ""
    },
    "tags": []
   },
   "outputs": [],
   "source": [
    "marry_conditional = \\\n",
    "                    len(y1_df.loc[y1_df['相貌']==\"不帅\"])/len(y1_df)* \\\n",
    "                    len(y1_df.loc[y1_df['性格']==\"不好\"])/len(y1_df)* \\\n",
    "                    len(y1_df.loc[y1_df['身高']==\"矮\"])/len(y1_df) * \\\n",
    "                    len(y1_df.loc[y1_df['上进']==\"不上进\"])/len(y1_df)"
   ]
  },
  {
   "cell_type": "code",
   "execution_count": 11,
   "metadata": {},
   "outputs": [
    {
     "data": {
      "text/plain": [
       "0.0023148148148148147"
      ]
     },
     "execution_count": 11,
     "metadata": {},
     "output_type": "execute_result"
    }
   ],
   "source": [
    "marry_conditional"
   ]
  },
  {
   "cell_type": "markdown",
   "metadata": {},
   "source": [
    "##### 第二个划分"
   ]
  },
  {
   "attachments": {},
   "cell_type": "markdown",
   "metadata": {},
   "source": [
    "$$\n",
    "P(不帅,不好,矮,不上进|不嫁) = P(不帅|不嫁) \\cdot P(性格不好|不嫁) \\cdot P(矮|不嫁)\\cdot P(不上进|不嫁) = \\frac{C(不帅)}{C(不嫁)} \\cdot \\frac{C(性格不好)}{C(不嫁)} \\cdot \\frac{C(矮)}{C(不嫁)}  \\cdot \\frac{C(不上进)}{C(不嫁)}\n",
    "$$"
   ]
  },
  {
   "cell_type": "code",
   "execution_count": 12,
   "metadata": {},
   "outputs": [],
   "source": [
    "no_marry_conditional = \\\n",
    "                    len(y2_df.loc[y2_df['相貌']==\"不帅\"])/len(y2_df)* \\\n",
    "                    len(y2_df.loc[y2_df['性格']==\"不好\"])/len(y2_df)* \\\n",
    "                    len(y2_df.loc[y2_df['身高']==\"矮\"])/len(y2_df) * \\\n",
    "                    len(y2_df.loc[y2_df['上进']==\"不上进\"])/len(y2_df)"
   ]
  },
  {
   "cell_type": "code",
   "execution_count": 13,
   "metadata": {},
   "outputs": [
    {
     "data": {
      "text/plain": [
       "0.1111111111111111"
      ]
     },
     "execution_count": 13,
     "metadata": {},
     "output_type": "execute_result"
    }
   ],
   "source": [
    "no_marry_conditional"
   ]
  },
  {
   "attachments": {},
   "cell_type": "markdown",
   "metadata": {},
   "source": [
    "### 4.4 后验概率"
   ]
  },
  {
   "cell_type": "code",
   "execution_count": 14,
   "metadata": {
    "editable": true,
    "slideshow": {
     "slide_type": ""
    },
    "tags": []
   },
   "outputs": [],
   "source": [
    "y1 = marry_prior*marry_conditional"
   ]
  },
  {
   "cell_type": "code",
   "execution_count": 15,
   "metadata": {
    "editable": true,
    "slideshow": {
     "slide_type": ""
    },
    "tags": []
   },
   "outputs": [],
   "source": [
    "y2 = no_marry_prior * no_marry_conditional"
   ]
  },
  {
   "cell_type": "code",
   "execution_count": 16,
   "metadata": {},
   "outputs": [
    {
     "data": {
      "text/plain": [
       "0.0011574074074074073"
      ]
     },
     "execution_count": 16,
     "metadata": {},
     "output_type": "execute_result"
    }
   ],
   "source": [
    "y1"
   ]
  },
  {
   "cell_type": "code",
   "execution_count": 17,
   "metadata": {},
   "outputs": [
    {
     "data": {
      "text/plain": [
       "0.05555555555555555"
      ]
     },
     "execution_count": 17,
     "metadata": {},
     "output_type": "execute_result"
    }
   ],
   "source": [
    "y2"
   ]
  },
  {
   "cell_type": "markdown",
   "metadata": {},
   "source": [
    "可以看到，有女生不嫁给小王的概率较高。(注意：此处分母$P(不帅,不好,矮,不上进)$没有参与计算)"
   ]
  },
  {
   "cell_type": "markdown",
   "metadata": {},
   "source": [
    "## 五. 高斯朴素贝叶斯"
   ]
  },
  {
   "cell_type": "markdown",
   "metadata": {},
   "source": [
    "### 5.1 问题"
   ]
  },
  {
   "cell_type": "markdown",
   "metadata": {},
   "source": [
    "下面是一组人类身体特征的统计资料。"
   ]
  },
  {
   "cell_type": "markdown",
   "metadata": {},
   "source": [
    "| 性别 | 身高（英尺） | 体重（磅） | 脚掌（英寸） |\r\n",
    "| :--- | :----------- | :--------- | :----------- |\r\n",
    "| 男   | 6            | 180        | 12           |\r\n",
    "| 男   | 5.92         | 190        | 11           |\r\n",
    "| 男   | 5.58         | 170        | 12           |\r\n",
    "| 男   | 5.92         | 165        | 10           |\r\n",
    "| 女   | 5            | 100        | 6            |\r\n",
    "| 女   | 5.5          | 150        | 8            |\r\n",
    "| 女   | 5.42         | 130        | 7            |\r\n",
    "| 女   | 5.75         | 150        | 9            |"
   ]
  },
  {
   "cell_type": "code",
   "execution_count": 157,
   "metadata": {},
   "outputs": [],
   "source": [
    "peoples = [\n",
    "    [6,180,12,\"m\"],\n",
    "    [5.92,190,11,\"m\"],\n",
    "    [5.58,170,12,\"m\"],\n",
    "    [5.92,165,10,\"m\"],\n",
    "    [5,100,6,\"f\"],\n",
    "    [5.5,150,8,\"f\"],\n",
    "    [5.42,130,7,\"f\"],\n",
    "    [5.75,150,9,\"f\"]\n",
    "]"
   ]
  },
  {
   "cell_type": "code",
   "execution_count": 158,
   "metadata": {},
   "outputs": [
    {
     "data": {
      "text/html": [
       "<div>\n",
       "<style scoped>\n",
       "    .dataframe tbody tr th:only-of-type {\n",
       "        vertical-align: middle;\n",
       "    }\n",
       "\n",
       "    .dataframe tbody tr th {\n",
       "        vertical-align: top;\n",
       "    }\n",
       "\n",
       "    .dataframe thead th {\n",
       "        text-align: right;\n",
       "    }\n",
       "</style>\n",
       "<table border=\"1\" class=\"dataframe\">\n",
       "  <thead>\n",
       "    <tr style=\"text-align: right;\">\n",
       "      <th></th>\n",
       "      <th>身高</th>\n",
       "      <th>体重</th>\n",
       "      <th>脚掌</th>\n",
       "      <th>性别</th>\n",
       "    </tr>\n",
       "  </thead>\n",
       "  <tbody>\n",
       "    <tr>\n",
       "      <th>0</th>\n",
       "      <td>6.00</td>\n",
       "      <td>180</td>\n",
       "      <td>12</td>\n",
       "      <td>m</td>\n",
       "    </tr>\n",
       "    <tr>\n",
       "      <th>1</th>\n",
       "      <td>5.92</td>\n",
       "      <td>190</td>\n",
       "      <td>11</td>\n",
       "      <td>m</td>\n",
       "    </tr>\n",
       "    <tr>\n",
       "      <th>2</th>\n",
       "      <td>5.58</td>\n",
       "      <td>170</td>\n",
       "      <td>12</td>\n",
       "      <td>m</td>\n",
       "    </tr>\n",
       "    <tr>\n",
       "      <th>3</th>\n",
       "      <td>5.92</td>\n",
       "      <td>165</td>\n",
       "      <td>10</td>\n",
       "      <td>m</td>\n",
       "    </tr>\n",
       "    <tr>\n",
       "      <th>4</th>\n",
       "      <td>5.00</td>\n",
       "      <td>100</td>\n",
       "      <td>6</td>\n",
       "      <td>f</td>\n",
       "    </tr>\n",
       "    <tr>\n",
       "      <th>5</th>\n",
       "      <td>5.50</td>\n",
       "      <td>150</td>\n",
       "      <td>8</td>\n",
       "      <td>f</td>\n",
       "    </tr>\n",
       "    <tr>\n",
       "      <th>6</th>\n",
       "      <td>5.42</td>\n",
       "      <td>130</td>\n",
       "      <td>7</td>\n",
       "      <td>f</td>\n",
       "    </tr>\n",
       "    <tr>\n",
       "      <th>7</th>\n",
       "      <td>5.75</td>\n",
       "      <td>150</td>\n",
       "      <td>9</td>\n",
       "      <td>f</td>\n",
       "    </tr>\n",
       "  </tbody>\n",
       "</table>\n",
       "</div>"
      ],
      "text/plain": [
       "     身高   体重  脚掌 性别\n",
       "0  6.00  180  12  m\n",
       "1  5.92  190  11  m\n",
       "2  5.58  170  12  m\n",
       "3  5.92  165  10  m\n",
       "4  5.00  100   6  f\n",
       "5  5.50  150   8  f\n",
       "6  5.42  130   7  f\n",
       "7  5.75  150   9  f"
      ]
     },
     "execution_count": 158,
     "metadata": {},
     "output_type": "execute_result"
    }
   ],
   "source": [
    "people_df = pd.DataFrame(peoples,columns=[\"身高\",\"体重\",\"脚掌\",\"性别\"])\n",
    "people_df"
   ]
  },
  {
   "cell_type": "markdown",
   "metadata": {},
   "source": [
    "已知某人身高6英尺、体重130磅，脚掌8英寸，请问该人是男是女？ "
   ]
  },
  {
   "cell_type": "markdown",
   "metadata": {},
   "source": [
    "### 5.2 条件概率  \n",
    "特征（身高6英尺、体重130磅，脚掌8英寸）在某男性中出现的条件概率"
   ]
  },
  {
   "cell_type": "markdown",
   "metadata": {},
   "source": [
    "$$\n",
    "\\begin{aligned}\n",
    "&P(身高|男) \\times P(体重|男) \\times P(脚掌|男) \\times P(男) \\\\\n",
    "= &P(6|男) \\times P(130|男) \\times P(8|男) \\times P(男)\n",
    "\\end{aligned}\n",
    "$$"
   ]
  },
  {
   "cell_type": "markdown",
   "metadata": {},
   "source": [
    "上述特征取值为连续值，无法通过计数的方式计算各特征的条件概率，这时候我们使用高斯概率密度。"
   ]
  },
  {
   "cell_type": "markdown",
   "metadata": {},
   "source": [
    "##### 男性的均值和方差"
   ]
  },
  {
   "cell_type": "code",
   "execution_count": 159,
   "metadata": {
    "editable": true,
    "slideshow": {
     "slide_type": ""
    },
    "tags": []
   },
   "outputs": [
    {
     "data": {
      "text/plain": [
       "身高      5.855\n",
       "体重    176.250\n",
       "脚掌     11.250\n",
       "dtype: float64"
      ]
     },
     "execution_count": 159,
     "metadata": {},
     "output_type": "execute_result"
    }
   ],
   "source": [
    "people_df.loc[people_df[\"性别\"]==\"m\",[\"身高\",\"体重\",\"脚掌\"]].mean()"
   ]
  },
  {
   "cell_type": "code",
   "execution_count": 160,
   "metadata": {
    "editable": true,
    "slideshow": {
     "slide_type": ""
    },
    "tags": []
   },
   "outputs": [
    {
     "data": {
      "text/plain": [
       "身高     0.187172\n",
       "体重    11.086779\n",
       "脚掌     0.957427\n",
       "dtype: float64"
      ]
     },
     "execution_count": 160,
     "metadata": {},
     "output_type": "execute_result"
    }
   ],
   "source": [
    "people_df.loc[people_df[\"性别\"]==\"m\", [\"身高\",\"体重\",\"脚掌\"]].std()"
   ]
  },
  {
   "cell_type": "markdown",
   "metadata": {},
   "source": [
    "##### 女性各特征的均值和方差"
   ]
  },
  {
   "cell_type": "code",
   "execution_count": 161,
   "metadata": {},
   "outputs": [
    {
     "data": {
      "text/plain": [
       "身高      5.4175\n",
       "体重    132.5000\n",
       "脚掌      7.5000\n",
       "dtype: float64"
      ]
     },
     "execution_count": 161,
     "metadata": {},
     "output_type": "execute_result"
    }
   ],
   "source": [
    "people_df.loc[people_df[\"性别\"]==\"f\",[\"身高\",\"体重\",\"脚掌\"]].mean()"
   ]
  },
  {
   "cell_type": "code",
   "execution_count": 162,
   "metadata": {},
   "outputs": [
    {
     "data": {
      "text/plain": [
       "身高     0.311809\n",
       "体重    23.629078\n",
       "脚掌     1.290994\n",
       "dtype: float64"
      ]
     },
     "execution_count": 162,
     "metadata": {},
     "output_type": "execute_result"
    }
   ],
   "source": [
    "people_df.loc[people_df[\"性别\"]==\"f\", [\"身高\",\"体重\",\"脚掌\"]].std()"
   ]
  },
  {
   "cell_type": "markdown",
   "metadata": {},
   "source": [
    "已知某人身高6英尺、体重130磅，脚掌8英寸，请问该人是男是女？ "
   ]
  },
  {
   "cell_type": "markdown",
   "metadata": {},
   "source": [
    "$$\n",
    "\\begin{aligned}\n",
    "&P(身高|男) \\times P(体重|男) \\times P(脚掌|男) \\times P(男) \\\\\n",
    "= &P(6|男) \\times P(130|男) \\times P(8|男) \\times P(男)\n",
    "\\end{aligned}\n",
    "$$"
   ]
  },
  {
   "cell_type": "markdown",
   "metadata": {},
   "source": [
    " $f(x) = \\frac{1}{\\sqrt{2\\pi\\sigma^2}} e^{-\\frac{(x-\\mu)^2}{2\\sigma^2}}$\n",
    "$$\n",
    "P(height| m)\n",
    "$$"
   ]
  },
  {
   "cell_type": "code",
   "execution_count": 11,
   "metadata": {},
   "outputs": [
    {
     "name": "stdout",
     "output_type": "stream",
     "text": [
      "The PDF value at height=6 is 1.578882964756137\n"
     ]
    }
   ],
   "source": [
    "import numpy as np\n",
    "from scipy.stats import norm\n",
    "\n",
    "# 定义均值和标准差\n",
    "mu = 5.855\n",
    "sigma = 0.187172\n",
    "\n",
    "# 创建正态分布对象\n",
    "normal_dist = norm(mu, sigma)\n",
    "\n",
    "# 计算某个点的概率密度函数值\n",
    "height = 6\n",
    "pdf_value = normal_dist.pdf(height)\n",
    "print(f\"The PDF value at height={height} is {pdf_value}\")"
   ]
  },
  {
   "cell_type": "markdown",
   "metadata": {},
   "source": [
    "### 5.3 后验概率"
   ]
  },
  {
   "cell_type": "markdown",
   "metadata": {},
   "source": [
    "对于脚掌和体重同样可以计算其均值与方差。有了这些数据以后，就可以计算性别的分类了。\n",
    "\n",
    "```cobol\n",
    "P(身高=6|男) x P(体重=130|男) x P(脚掌=8|男) x P(男) = 6.1984 x e-9\n",
    "P(身高=6|女) x P(体重=130|女) x P(脚掌=8|女) x P(女) = 5.3778 x e-4\n",
    "```\n",
    "\n",
    "可以看到，女性的概率比男性要高出将近10000倍，所以判断该人为女性。"
   ]
  },
  {
   "cell_type": "markdown",
   "metadata": {
    "editable": true,
    "slideshow": {
     "slide_type": ""
    },
    "tags": []
   },
   "source": [
    "## 六. Scikit Learn 案例"
   ]
  },
  {
   "cell_type": "markdown",
   "metadata": {},
   "source": [
    "下面特征取值为连续值，使用的为高斯朴素贝叶斯"
   ]
  },
  {
   "cell_type": "markdown",
   "metadata": {},
   "source": [
    "### 6.1 导入的相关模块\n"
   ]
  },
  {
   "cell_type": "code",
   "execution_count": 164,
   "metadata": {
    "editable": true,
    "slideshow": {
     "slide_type": ""
    },
    "tags": []
   },
   "outputs": [],
   "source": [
    "import numpy as np\n",
    "import pandas as pd\n",
    "import matplotlib.pyplot as plt\n",
    "%matplotlib inline\n",
    "plt.rcParams['font.sans-serif']=['SimHei']  #解决中文显示乱码问题\n",
    "plt.rcParams['axes.unicode_minus']=False\n",
    "import warnings\n",
    "warnings.filterwarnings(action = 'ignore')\n",
    "from sklearn.naive_bayes import GaussianNB"
   ]
  },
  {
   "cell_type": "markdown",
   "metadata": {},
   "source": [
    "> 注意：因为此实验案例实验数据为连续值，使用的为高斯朴素贝叶斯分类"
   ]
  },
  {
   "cell_type": "markdown",
   "metadata": {},
   "source": [
    "### 6.2 数据预处理"
   ]
  },
  {
   "cell_type": "code",
   "execution_count": 12,
   "metadata": {
    "editable": true,
    "slideshow": {
     "slide_type": ""
    },
    "tags": []
   },
   "outputs": [],
   "source": [
    "data=pd.read_excel('data/北京市空气质量数据.xlsx')\n",
    "# 网络下载地址：https://www.studybigdata.cn/file/machine-learning/beijing-aqi.xlsx\n",
    "data=data.replace(0,np.NaN)\n",
    "data=data.dropna()"
   ]
  },
  {
   "cell_type": "code",
   "execution_count": 173,
   "metadata": {},
   "outputs": [
    {
     "data": {
      "text/html": [
       "<div>\n",
       "<style scoped>\n",
       "    .dataframe tbody tr th:only-of-type {\n",
       "        vertical-align: middle;\n",
       "    }\n",
       "\n",
       "    .dataframe tbody tr th {\n",
       "        vertical-align: top;\n",
       "    }\n",
       "\n",
       "    .dataframe thead th {\n",
       "        text-align: right;\n",
       "    }\n",
       "</style>\n",
       "<table border=\"1\" class=\"dataframe\">\n",
       "  <thead>\n",
       "    <tr style=\"text-align: right;\">\n",
       "      <th></th>\n",
       "      <th>日期</th>\n",
       "      <th>AQI</th>\n",
       "      <th>质量等级</th>\n",
       "      <th>PM2.5</th>\n",
       "      <th>PM10</th>\n",
       "      <th>SO2</th>\n",
       "      <th>CO</th>\n",
       "      <th>NO2</th>\n",
       "      <th>O3</th>\n",
       "    </tr>\n",
       "  </thead>\n",
       "  <tbody>\n",
       "    <tr>\n",
       "      <th>0</th>\n",
       "      <td>2014-01-01</td>\n",
       "      <td>81.0</td>\n",
       "      <td>良</td>\n",
       "      <td>45.0</td>\n",
       "      <td>111.0</td>\n",
       "      <td>28.0</td>\n",
       "      <td>1.5</td>\n",
       "      <td>62.0</td>\n",
       "      <td>52.0</td>\n",
       "    </tr>\n",
       "    <tr>\n",
       "      <th>1</th>\n",
       "      <td>2014-01-02</td>\n",
       "      <td>145.0</td>\n",
       "      <td>轻度污染</td>\n",
       "      <td>111.0</td>\n",
       "      <td>168.0</td>\n",
       "      <td>69.0</td>\n",
       "      <td>3.4</td>\n",
       "      <td>93.0</td>\n",
       "      <td>14.0</td>\n",
       "    </tr>\n",
       "    <tr>\n",
       "      <th>2</th>\n",
       "      <td>2014-01-03</td>\n",
       "      <td>74.0</td>\n",
       "      <td>良</td>\n",
       "      <td>47.0</td>\n",
       "      <td>98.0</td>\n",
       "      <td>29.0</td>\n",
       "      <td>1.3</td>\n",
       "      <td>52.0</td>\n",
       "      <td>56.0</td>\n",
       "    </tr>\n",
       "    <tr>\n",
       "      <th>3</th>\n",
       "      <td>2014-01-04</td>\n",
       "      <td>149.0</td>\n",
       "      <td>轻度污染</td>\n",
       "      <td>114.0</td>\n",
       "      <td>147.0</td>\n",
       "      <td>40.0</td>\n",
       "      <td>2.8</td>\n",
       "      <td>75.0</td>\n",
       "      <td>14.0</td>\n",
       "    </tr>\n",
       "    <tr>\n",
       "      <th>4</th>\n",
       "      <td>2014-01-05</td>\n",
       "      <td>119.0</td>\n",
       "      <td>轻度污染</td>\n",
       "      <td>91.0</td>\n",
       "      <td>117.0</td>\n",
       "      <td>36.0</td>\n",
       "      <td>2.3</td>\n",
       "      <td>67.0</td>\n",
       "      <td>44.0</td>\n",
       "    </tr>\n",
       "    <tr>\n",
       "      <th>...</th>\n",
       "      <td>...</td>\n",
       "      <td>...</td>\n",
       "      <td>...</td>\n",
       "      <td>...</td>\n",
       "      <td>...</td>\n",
       "      <td>...</td>\n",
       "      <td>...</td>\n",
       "      <td>...</td>\n",
       "      <td>...</td>\n",
       "    </tr>\n",
       "    <tr>\n",
       "      <th>2150</th>\n",
       "      <td>2019-11-22</td>\n",
       "      <td>183.0</td>\n",
       "      <td>中度污染</td>\n",
       "      <td>138.0</td>\n",
       "      <td>181.0</td>\n",
       "      <td>9.0</td>\n",
       "      <td>2.4</td>\n",
       "      <td>94.0</td>\n",
       "      <td>5.0</td>\n",
       "    </tr>\n",
       "    <tr>\n",
       "      <th>2151</th>\n",
       "      <td>2019-11-23</td>\n",
       "      <td>175.0</td>\n",
       "      <td>中度污染</td>\n",
       "      <td>132.0</td>\n",
       "      <td>137.0</td>\n",
       "      <td>6.0</td>\n",
       "      <td>1.6</td>\n",
       "      <td>69.0</td>\n",
       "      <td>34.0</td>\n",
       "    </tr>\n",
       "    <tr>\n",
       "      <th>2152</th>\n",
       "      <td>2019-11-24</td>\n",
       "      <td>30.0</td>\n",
       "      <td>优</td>\n",
       "      <td>7.0</td>\n",
       "      <td>30.0</td>\n",
       "      <td>3.0</td>\n",
       "      <td>0.2</td>\n",
       "      <td>11.0</td>\n",
       "      <td>58.0</td>\n",
       "    </tr>\n",
       "    <tr>\n",
       "      <th>2153</th>\n",
       "      <td>2019-11-25</td>\n",
       "      <td>40.0</td>\n",
       "      <td>优</td>\n",
       "      <td>13.0</td>\n",
       "      <td>30.0</td>\n",
       "      <td>3.0</td>\n",
       "      <td>0.4</td>\n",
       "      <td>32.0</td>\n",
       "      <td>29.0</td>\n",
       "    </tr>\n",
       "    <tr>\n",
       "      <th>2154</th>\n",
       "      <td>2019-11-26</td>\n",
       "      <td>73.0</td>\n",
       "      <td>良</td>\n",
       "      <td>38.0</td>\n",
       "      <td>72.0</td>\n",
       "      <td>6.0</td>\n",
       "      <td>0.8</td>\n",
       "      <td>58.0</td>\n",
       "      <td>14.0</td>\n",
       "    </tr>\n",
       "  </tbody>\n",
       "</table>\n",
       "<p>2096 rows × 9 columns</p>\n",
       "</div>"
      ],
      "text/plain": [
       "             日期    AQI  质量等级  PM2.5   PM10   SO2   CO   NO2    O3\n",
       "0    2014-01-01   81.0     良   45.0  111.0  28.0  1.5  62.0  52.0\n",
       "1    2014-01-02  145.0  轻度污染  111.0  168.0  69.0  3.4  93.0  14.0\n",
       "2    2014-01-03   74.0     良   47.0   98.0  29.0  1.3  52.0  56.0\n",
       "3    2014-01-04  149.0  轻度污染  114.0  147.0  40.0  2.8  75.0  14.0\n",
       "4    2014-01-05  119.0  轻度污染   91.0  117.0  36.0  2.3  67.0  44.0\n",
       "...         ...    ...   ...    ...    ...   ...  ...   ...   ...\n",
       "2150 2019-11-22  183.0  中度污染  138.0  181.0   9.0  2.4  94.0   5.0\n",
       "2151 2019-11-23  175.0  中度污染  132.0  137.0   6.0  1.6  69.0  34.0\n",
       "2152 2019-11-24   30.0     优    7.0   30.0   3.0  0.2  11.0  58.0\n",
       "2153 2019-11-25   40.0     优   13.0   30.0   3.0  0.4  32.0  29.0\n",
       "2154 2019-11-26   73.0     良   38.0   72.0   6.0  0.8  58.0  14.0\n",
       "\n",
       "[2096 rows x 9 columns]"
      ]
     },
     "execution_count": 173,
     "metadata": {},
     "output_type": "execute_result"
    }
   ],
   "source": [
    "data"
   ]
  },
  {
   "cell_type": "code",
   "execution_count": 174,
   "metadata": {},
   "outputs": [],
   "source": [
    "data['有无污染']=data['质量等级'].map({'优':0,'良':0,'轻度污染':1,'中度污染':1,'重度污染':1,'严重污染':1})\n",
    "data['有无污染'].value_counts()\n",
    "X=data.loc[:,['PM2.5','PM10','SO2','CO','NO2','O3']]\n",
    "Y=data.loc[:,'有无污染']"
   ]
  },
  {
   "cell_type": "markdown",
   "metadata": {},
   "source": [
    "### 6.3 模型训练"
   ]
  },
  {
   "cell_type": "code",
   "execution_count": 175,
   "metadata": {},
   "outputs": [
    {
     "data": {
      "text/html": [
       "<style>#sk-container-id-9 {color: black;}#sk-container-id-9 pre{padding: 0;}#sk-container-id-9 div.sk-toggleable {background-color: white;}#sk-container-id-9 label.sk-toggleable__label {cursor: pointer;display: block;width: 100%;margin-bottom: 0;padding: 0.3em;box-sizing: border-box;text-align: center;}#sk-container-id-9 label.sk-toggleable__label-arrow:before {content: \"▸\";float: left;margin-right: 0.25em;color: #696969;}#sk-container-id-9 label.sk-toggleable__label-arrow:hover:before {color: black;}#sk-container-id-9 div.sk-estimator:hover label.sk-toggleable__label-arrow:before {color: black;}#sk-container-id-9 div.sk-toggleable__content {max-height: 0;max-width: 0;overflow: hidden;text-align: left;background-color: #f0f8ff;}#sk-container-id-9 div.sk-toggleable__content pre {margin: 0.2em;color: black;border-radius: 0.25em;background-color: #f0f8ff;}#sk-container-id-9 input.sk-toggleable__control:checked~div.sk-toggleable__content {max-height: 200px;max-width: 100%;overflow: auto;}#sk-container-id-9 input.sk-toggleable__control:checked~label.sk-toggleable__label-arrow:before {content: \"▾\";}#sk-container-id-9 div.sk-estimator input.sk-toggleable__control:checked~label.sk-toggleable__label {background-color: #d4ebff;}#sk-container-id-9 div.sk-label input.sk-toggleable__control:checked~label.sk-toggleable__label {background-color: #d4ebff;}#sk-container-id-9 input.sk-hidden--visually {border: 0;clip: rect(1px 1px 1px 1px);clip: rect(1px, 1px, 1px, 1px);height: 1px;margin: -1px;overflow: hidden;padding: 0;position: absolute;width: 1px;}#sk-container-id-9 div.sk-estimator {font-family: monospace;background-color: #f0f8ff;border: 1px dotted black;border-radius: 0.25em;box-sizing: border-box;margin-bottom: 0.5em;}#sk-container-id-9 div.sk-estimator:hover {background-color: #d4ebff;}#sk-container-id-9 div.sk-parallel-item::after {content: \"\";width: 100%;border-bottom: 1px solid gray;flex-grow: 1;}#sk-container-id-9 div.sk-label:hover label.sk-toggleable__label {background-color: #d4ebff;}#sk-container-id-9 div.sk-serial::before {content: \"\";position: absolute;border-left: 1px solid gray;box-sizing: border-box;top: 0;bottom: 0;left: 50%;z-index: 0;}#sk-container-id-9 div.sk-serial {display: flex;flex-direction: column;align-items: center;background-color: white;padding-right: 0.2em;padding-left: 0.2em;position: relative;}#sk-container-id-9 div.sk-item {position: relative;z-index: 1;}#sk-container-id-9 div.sk-parallel {display: flex;align-items: stretch;justify-content: center;background-color: white;position: relative;}#sk-container-id-9 div.sk-item::before, #sk-container-id-9 div.sk-parallel-item::before {content: \"\";position: absolute;border-left: 1px solid gray;box-sizing: border-box;top: 0;bottom: 0;left: 50%;z-index: -1;}#sk-container-id-9 div.sk-parallel-item {display: flex;flex-direction: column;z-index: 1;position: relative;background-color: white;}#sk-container-id-9 div.sk-parallel-item:first-child::after {align-self: flex-end;width: 50%;}#sk-container-id-9 div.sk-parallel-item:last-child::after {align-self: flex-start;width: 50%;}#sk-container-id-9 div.sk-parallel-item:only-child::after {width: 0;}#sk-container-id-9 div.sk-dashed-wrapped {border: 1px dashed gray;margin: 0 0.4em 0.5em 0.4em;box-sizing: border-box;padding-bottom: 0.4em;background-color: white;}#sk-container-id-9 div.sk-label label {font-family: monospace;font-weight: bold;display: inline-block;line-height: 1.2em;}#sk-container-id-9 div.sk-label-container {text-align: center;}#sk-container-id-9 div.sk-container {/* jupyter's `normalize.less` sets `[hidden] { display: none; }` but bootstrap.min.css set `[hidden] { display: none !important; }` so we also need the `!important` here to be able to override the default hidden behavior on the sphinx rendered scikit-learn.org. See: https://github.com/scikit-learn/scikit-learn/issues/21755 */display: inline-block !important;position: relative;}#sk-container-id-9 div.sk-text-repr-fallback {display: none;}</style><div id=\"sk-container-id-9\" class=\"sk-top-container\"><div class=\"sk-text-repr-fallback\"><pre>GaussianNB()</pre><b>In a Jupyter environment, please rerun this cell to show the HTML representation or trust the notebook. <br />On GitHub, the HTML representation is unable to render, please try loading this page with nbviewer.org.</b></div><div class=\"sk-container\" hidden><div class=\"sk-item\"><div class=\"sk-estimator sk-toggleable\"><input class=\"sk-toggleable__control sk-hidden--visually\" id=\"sk-estimator-id-9\" type=\"checkbox\" checked><label for=\"sk-estimator-id-9\" class=\"sk-toggleable__label sk-toggleable__label-arrow\">GaussianNB</label><div class=\"sk-toggleable__content\"><pre>GaussianNB()</pre></div></div></div></div></div>"
      ],
      "text/plain": [
       "GaussianNB()"
      ]
     },
     "execution_count": 175,
     "metadata": {},
     "output_type": "execute_result"
    }
   ],
   "source": [
    "modelNB = GaussianNB()\n",
    "modelNB.fit(X, Y)"
   ]
  },
  {
   "cell_type": "markdown",
   "metadata": {},
   "source": [
    "什么是训练？ 可以事先将条件概率和先验概率计算好保存起来。"
   ]
  },
  {
   "cell_type": "markdown",
   "metadata": {},
   "source": [
    "### 6.4 模型预测"
   ]
  },
  {
   "cell_type": "code",
   "execution_count": 176,
   "metadata": {},
   "outputs": [
    {
     "data": {
      "text/html": [
       "<div>\n",
       "<style scoped>\n",
       "    .dataframe tbody tr th:only-of-type {\n",
       "        vertical-align: middle;\n",
       "    }\n",
       "\n",
       "    .dataframe tbody tr th {\n",
       "        vertical-align: top;\n",
       "    }\n",
       "\n",
       "    .dataframe thead th {\n",
       "        text-align: right;\n",
       "    }\n",
       "</style>\n",
       "<table border=\"1\" class=\"dataframe\">\n",
       "  <thead>\n",
       "    <tr style=\"text-align: right;\">\n",
       "      <th></th>\n",
       "      <th>PM2.5</th>\n",
       "      <th>PM10</th>\n",
       "      <th>SO2</th>\n",
       "      <th>CO</th>\n",
       "      <th>NO2</th>\n",
       "      <th>O3</th>\n",
       "    </tr>\n",
       "  </thead>\n",
       "  <tbody>\n",
       "    <tr>\n",
       "      <th>0</th>\n",
       "      <td>45.0</td>\n",
       "      <td>111.0</td>\n",
       "      <td>28.0</td>\n",
       "      <td>1.5</td>\n",
       "      <td>62.0</td>\n",
       "      <td>52.0</td>\n",
       "    </tr>\n",
       "    <tr>\n",
       "      <th>1</th>\n",
       "      <td>111.0</td>\n",
       "      <td>168.0</td>\n",
       "      <td>69.0</td>\n",
       "      <td>3.4</td>\n",
       "      <td>93.0</td>\n",
       "      <td>14.0</td>\n",
       "    </tr>\n",
       "    <tr>\n",
       "      <th>2</th>\n",
       "      <td>47.0</td>\n",
       "      <td>98.0</td>\n",
       "      <td>29.0</td>\n",
       "      <td>1.3</td>\n",
       "      <td>52.0</td>\n",
       "      <td>56.0</td>\n",
       "    </tr>\n",
       "    <tr>\n",
       "      <th>3</th>\n",
       "      <td>114.0</td>\n",
       "      <td>147.0</td>\n",
       "      <td>40.0</td>\n",
       "      <td>2.8</td>\n",
       "      <td>75.0</td>\n",
       "      <td>14.0</td>\n",
       "    </tr>\n",
       "    <tr>\n",
       "      <th>4</th>\n",
       "      <td>91.0</td>\n",
       "      <td>117.0</td>\n",
       "      <td>36.0</td>\n",
       "      <td>2.3</td>\n",
       "      <td>67.0</td>\n",
       "      <td>44.0</td>\n",
       "    </tr>\n",
       "    <tr>\n",
       "      <th>5</th>\n",
       "      <td>138.0</td>\n",
       "      <td>158.0</td>\n",
       "      <td>46.0</td>\n",
       "      <td>2.4</td>\n",
       "      <td>68.0</td>\n",
       "      <td>12.0</td>\n",
       "    </tr>\n",
       "    <tr>\n",
       "      <th>6</th>\n",
       "      <td>111.0</td>\n",
       "      <td>125.0</td>\n",
       "      <td>34.0</td>\n",
       "      <td>2.0</td>\n",
       "      <td>60.0</td>\n",
       "      <td>43.0</td>\n",
       "    </tr>\n",
       "    <tr>\n",
       "      <th>7</th>\n",
       "      <td>15.0</td>\n",
       "      <td>25.0</td>\n",
       "      <td>13.0</td>\n",
       "      <td>0.5</td>\n",
       "      <td>21.0</td>\n",
       "      <td>53.0</td>\n",
       "    </tr>\n",
       "    <tr>\n",
       "      <th>8</th>\n",
       "      <td>27.0</td>\n",
       "      <td>46.0</td>\n",
       "      <td>19.0</td>\n",
       "      <td>0.8</td>\n",
       "      <td>35.0</td>\n",
       "      <td>53.0</td>\n",
       "    </tr>\n",
       "    <tr>\n",
       "      <th>9</th>\n",
       "      <td>63.0</td>\n",
       "      <td>94.0</td>\n",
       "      <td>53.0</td>\n",
       "      <td>1.9</td>\n",
       "      <td>71.0</td>\n",
       "      <td>19.0</td>\n",
       "    </tr>\n",
       "  </tbody>\n",
       "</table>\n",
       "</div>"
      ],
      "text/plain": [
       "   PM2.5   PM10   SO2   CO   NO2    O3\n",
       "0   45.0  111.0  28.0  1.5  62.0  52.0\n",
       "1  111.0  168.0  69.0  3.4  93.0  14.0\n",
       "2   47.0   98.0  29.0  1.3  52.0  56.0\n",
       "3  114.0  147.0  40.0  2.8  75.0  14.0\n",
       "4   91.0  117.0  36.0  2.3  67.0  44.0\n",
       "5  138.0  158.0  46.0  2.4  68.0  12.0\n",
       "6  111.0  125.0  34.0  2.0  60.0  43.0\n",
       "7   15.0   25.0  13.0  0.5  21.0  53.0\n",
       "8   27.0   46.0  19.0  0.8  35.0  53.0\n",
       "9   63.0   94.0  53.0  1.9  71.0  19.0"
      ]
     },
     "execution_count": 176,
     "metadata": {},
     "output_type": "execute_result"
    }
   ],
   "source": [
    "X[0:10]"
   ]
  },
  {
   "cell_type": "code",
   "execution_count": 177,
   "metadata": {},
   "outputs": [
    {
     "data": {
      "text/plain": [
       "array([1, 1, 1, 1, 1, 1, 1, 0, 0, 1], dtype=int64)"
      ]
     },
     "execution_count": 177,
     "metadata": {},
     "output_type": "execute_result"
    }
   ],
   "source": [
    "modelNB.predict(X[:10])"
   ]
  },
  {
   "cell_type": "code",
   "execution_count": 178,
   "metadata": {},
   "outputs": [
    {
     "data": {
      "text/plain": [
       "0    0\n",
       "1    1\n",
       "2    0\n",
       "3    1\n",
       "4    1\n",
       "5    1\n",
       "6    1\n",
       "7    0\n",
       "8    0\n",
       "9    0\n",
       "Name: 有无污染, dtype: int64"
      ]
     },
     "execution_count": 178,
     "metadata": {},
     "output_type": "execute_result"
    }
   ],
   "source": [
    "Y[0:10]"
   ]
  },
  {
   "cell_type": "code",
   "execution_count": 179,
   "metadata": {
    "editable": true,
    "slideshow": {
     "slide_type": ""
    },
    "tags": []
   },
   "outputs": [
    {
     "data": {
      "text/plain": [
       "0    False\n",
       "1     True\n",
       "2    False\n",
       "3     True\n",
       "4     True\n",
       "5     True\n",
       "6     True\n",
       "7     True\n",
       "8     True\n",
       "9    False\n",
       "Name: 有无污染, dtype: bool"
      ]
     },
     "execution_count": 179,
     "metadata": {},
     "output_type": "execute_result"
    }
   ],
   "source": [
    "modelNB.predict(X[:10]) == Y[0:10]"
   ]
  },
  {
   "cell_type": "markdown",
   "metadata": {},
   "source": [
    "10条数据，预测对了7条，准确率70%"
   ]
  },
  {
   "cell_type": "code",
   "execution_count": null,
   "metadata": {},
   "outputs": [],
   "source": []
  }
 ],
 "metadata": {
  "kernelspec": {
   "display_name": "Python 3 (ipykernel)",
   "language": "python",
   "name": "python3"
  },
  "language_info": {
   "codemirror_mode": {
    "name": "ipython",
    "version": 3
   },
   "file_extension": ".py",
   "mimetype": "text/x-python",
   "name": "python",
   "nbconvert_exporter": "python",
   "pygments_lexer": "ipython3",
   "version": "3.12.2"
  }
 },
 "nbformat": 4,
 "nbformat_minor": 4
}
