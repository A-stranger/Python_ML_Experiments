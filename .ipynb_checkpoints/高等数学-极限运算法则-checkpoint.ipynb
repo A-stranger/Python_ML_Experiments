{
 "cells": [
  {
   "cell_type": "markdown",
   "id": "22a56bf6-2449-46fd-99f4-5cd762ad8001",
   "metadata": {},
   "source": [
    "### 第一章 第五节 极限运算法则"
   ]
  },
  {
   "cell_type": "markdown",
   "id": "e3992ccd-fb32-48f1-9d99-5c878ad3c570",
   "metadata": {},
   "source": [
    "**定理3**\n",
    "**如果$\\lim(x)=A，\\lim g(x)=B$，那么  \n",
    "(1)$\\lim [f(x)±g(x)]=\\lim f(x)±\\lim g(x)=A±B$;  \n",
    "(2)$\\lim [f(x)·g(x)]=\\lim f(x)·\\lim g(x)=A·B$;  \n",
    "(3)若又有$B≠0$，则  \n",
    "$$\\lim \\frac{f(x)}{g(x)} = \\frac{\\lim f(x)}{\\lim g(x)} = \\frac{A}{B}$$**"
   ]
  },
  {
   "cell_type": "markdown",
   "id": "0aa56193-2099-4fd8-9623-cd1d04cf770a",
   "metadata": {},
   "source": [
    "**推论1**\n",
    "**如果 $\\lim(x)$存在，而$c$为常数，那么\n",
    "$$\n",
    "\\lim[cf(x)]=c \\lim f(x)\n",
    "$$\n",
    "就是说，求极限时，常数因子可以提到极限记号外面。这是因为$\\lim c=c$**"
   ]
  },
  {
   "cell_type": "code",
   "execution_count": null,
   "id": "09691044-f5c5-4ead-b170-3942b38d106a",
   "metadata": {},
   "outputs": [],
   "source": []
  }
 ],
 "metadata": {
  "kernelspec": {
   "display_name": "Python 3 (ipykernel)",
   "language": "python",
   "name": "python3"
  },
  "language_info": {
   "codemirror_mode": {
    "name": "ipython",
    "version": 3
   },
   "file_extension": ".py",
   "mimetype": "text/x-python",
   "name": "python",
   "nbconvert_exporter": "python",
   "pygments_lexer": "ipython3",
   "version": "3.12.2"
  }
 },
 "nbformat": 4,
 "nbformat_minor": 5
}
