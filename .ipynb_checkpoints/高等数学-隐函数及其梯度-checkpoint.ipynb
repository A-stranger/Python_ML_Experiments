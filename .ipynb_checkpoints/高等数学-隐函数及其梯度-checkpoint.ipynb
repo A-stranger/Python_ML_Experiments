{
 "cells": [
  {
   "cell_type": "markdown",
   "id": "3d54be2a-5496-4652-9669-44d461144c3d",
   "metadata": {},
   "source": [
    "### 圆的一般方程转参数方程"
   ]
  },
  {
   "cell_type": "markdown",
   "id": "6cd8a8c5-ee81-4096-95e3-1753ec163901",
   "metadata": {},
   "source": [
    "$$\n",
    "(x-a)^2+(y-b)^2 = r^2\n",
    "$$"
   ]
  },
  {
   "cell_type": "markdown",
   "id": "095eb715-92a6-4925-b808-2bea4b5aa661",
   "metadata": {},
   "source": [
    "$$\n",
    "\\begin{align}\n",
    "(x-a) &= r\\cos \\theta \\\\\n",
    "(y-b) &= r\\sin \\theta\n",
    "\\end{align}\n",
    "$$"
   ]
  },
  {
   "cell_type": "markdown",
   "id": "b9fbe5fa-a4ae-4364-b31f-f9f99b83da3b",
   "metadata": {},
   "source": [
    "$$\n",
    "\\begin{align}\n",
    "x &= r\\cos \\theta +a \\\\\n",
    "y &= r\\sin \\theta +b\n",
    "\\end{align}\n",
    "$$"
   ]
  },
  {
   "cell_type": "markdown",
   "id": "95164185-4c87-4d53-9598-bccf31978094",
   "metadata": {},
   "source": [
    "如：\n",
    "$$\n",
    "x^2+y^2-1 = 0\n",
    "$$"
   ]
  },
  {
   "cell_type": "markdown",
   "id": "ea434186-187a-42a0-8b59-fde26a92f4f3",
   "metadata": {},
   "source": [
    "$$\n",
    "\\begin{align}\n",
    "x &= \\cos \\theta \\\\\n",
    "y &= \\sin \\theta\n",
    "\\end{align}\n",
    "$$"
   ]
  },
  {
   "cell_type": "markdown",
   "id": "00118f26-625b-4c10-896c-acada1a858bc",
   "metadata": {},
   "source": [
    "# 隐函数"
   ]
  },
  {
   "cell_type": "markdown",
   "id": "217a59fc-ac43-4100-bea5-4647b1c8e22d",
   "metadata": {},
   "source": [
    "例1  \n",
    "验证方程$x^2+y^2-1=0$在点(0,1)的某一邻域内能唯一确定一个有连续导数，当$x=0、y=1$时的隐函数$y=f(x)$,  \n",
    "并求这函数的一阶与二阶导数在$x=0$的值.  "
   ]
  },
  {
   "cell_type": "markdown",
   "id": "c60a646d-55f4-43a1-97b1-24f40642c3d5",
   "metadata": {},
   "source": [
    "解   \n",
    "设$F(x,y)=x+y-1$，则$F_x=2x,F_y =2y$，$F_x(0,1)=0，F(0,1)=2≠0$。  \n",
    "因此由定理1可知  \n",
    "方程$x+y-1=0$在点$(0,1)$的某邻域内能唯一确定一个有连续导数，当$x=0，y=1$时的函数$y=f(x)$."
   ]
  },
  {
   "cell_type": "markdown",
   "id": "92742324-82a5-4bec-9b76-a027e104e7ff",
   "metadata": {},
   "source": [
    "由上可知，隐函数可计算方向导数，所以也可计算其梯度。"
   ]
  },
  {
   "cell_type": "markdown",
   "id": "acc8fdc4-7af4-4bdf-bbd9-d237c10fb8a7",
   "metadata": {},
   "source": [
    "## 隐函数的梯度"
   ]
  },
  {
   "cell_type": "code",
   "execution_count": 41,
   "id": "5a5a7566-263f-4a8a-8b58-66235d49bf32",
   "metadata": {},
   "outputs": [
    {
     "data": {
      "text/plain": [
       "(-3.0, 3.0)"
      ]
     },
     "execution_count": 41,
     "metadata": {},
     "output_type": "execute_result"
    },
    {
     "data": {
      "image/png": "[encoded data removed]",
      "text/plain": [
       "<Figure size 640x480 with 1 Axes>"
      ]
     },
     "metadata": {},
     "output_type": "display_data"
    }
   ],
   "source": [
    "import numpy as np\n",
    "import matplotlib.pyplot as plt\n",
    "\n",
    "theta = np.linspace(0, 2*np.pi ,100)\n",
    "\n",
    "x = np.cos(theta)\n",
    "y = np.sin(theta)\n",
    "\n",
    "# 在(0,1)点的梯度\n",
    "fx_0 = 0\n",
    "fy_1 = 2\n",
    "\n",
    "# 在(sqrt(2)/2, sqrt(2)/2)点的梯度\n",
    "fx_45 = np.sqrt(2)\n",
    "fy_45 = np.sqrt(2)\n",
    "\n",
    "\n",
    "fig = plt.figure()\n",
    "ax = fig.add_axes([0,0,1,1])\n",
    "ax.set_aspect(1)\n",
    "ax.spines[\"top\"].set_visible(False)\n",
    "ax.spines[\"right\"].set_visible(False)\n",
    "ax.spines[\"left\"].set_position((\"data\",0))\n",
    "ax.spines[\"bottom\"].set_position((\"data\",0))\n",
    "\n",
    "ax.quiver(np.sqrt(2)/2, np.sqrt(2)/2, fx_45, fy_45, angles='xy', scale_units='xy', scale=1 )\n",
    "ax.quiver(0,1,0,2,angles='xy', scale_units='xy', scale=1 )\n",
    "ax.plot(x,y)\n",
    "ax.scatter(0,1, marker=\"o\", color=\"r\")\n",
    "ax.set_xlim(-3,3)\n",
    "ax.set_ylim(-3,3)"
   ]
  },
  {
   "cell_type": "code",
   "execution_count": null,
   "id": "09c5feba-7fd0-494d-bda5-c947783533e8",
   "metadata": {},
   "outputs": [],
   "source": []
  }
 ],
 "metadata": {
  "kernelspec": {
   "display_name": "Python 3 (ipykernel)",
   "language": "python",
   "name": "python3"
  },
  "language_info": {
   "codemirror_mode": {
    "name": "ipython",
    "version": 3
   },
   "file_extension": ".py",
   "mimetype": "text/x-python",
   "name": "python",
   "nbconvert_exporter": "python",
   "pygments_lexer": "ipython3",
   "version": "3.12.2"
  }
 },
 "nbformat": 4,
 "nbformat_minor": 5
}
