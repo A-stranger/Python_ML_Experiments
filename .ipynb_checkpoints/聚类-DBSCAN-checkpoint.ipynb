{
 "cells": [
  {
   "cell_type": "markdown",
   "metadata": {},
   "source": [
    "# DBSCAN\n",
    "> https://www.naftaliharris.com/blog/visualizing-dbscan-clustering/   \n",
    "> https://www.jianshu.com/p/e50b1c8931f6"
   ]
  },
  {
   "cell_type": "markdown",
   "metadata": {},
   "source": [
    "## 原始数据读取与可视化"
   ]
  },
  {
   "cell_type": "markdown",
   "metadata": {},
   "source": [
    "#### 依赖导入"
   ]
  },
  {
   "cell_type": "code",
   "execution_count": 23,
   "metadata": {},
   "outputs": [],
   "source": [
    "import pandas as pd\n",
    "import matplotlib.pyplot as plt"
   ]
  },
  {
   "cell_type": "markdown",
   "metadata": {},
   "source": [
    "#### 数据集下载"
   ]
  },
  {
   "cell_type": "markdown",
   "metadata": {},
   "source": [
    "wget www.studybigdata.cn/file/machine-learning/DBSCAN.xlsx"
   ]
  },
  {
   "cell_type": "markdown",
   "metadata": {},
   "source": [
    "#### 数据读取"
   ]
  },
  {
   "cell_type": "code",
   "execution_count": 26,
   "metadata": {},
   "outputs": [],
   "source": [
    "point_df = pd.read_excel(\"data/DBSCAN.xlsx\",index_col=0)"
   ]
  },
  {
   "cell_type": "markdown",
   "metadata": {},
   "source": [
    "> 如无法读取excel  \n",
    "> !pip install xlrd==1.2.0"
   ]
  },
  {
   "cell_type": "code",
   "execution_count": 27,
   "metadata": {},
   "outputs": [
    {
     "data": {
      "text/html": [
       "<div>\n",
       "<style scoped>\n",
       "    .dataframe tbody tr th:only-of-type {\n",
       "        vertical-align: middle;\n",
       "    }\n",
       "\n",
       "    .dataframe tbody tr th {\n",
       "        vertical-align: top;\n",
       "    }\n",
       "\n",
       "    .dataframe thead th {\n",
       "        text-align: right;\n",
       "    }\n",
       "</style>\n",
       "<table border=\"1\" class=\"dataframe\">\n",
       "  <thead>\n",
       "    <tr style=\"text-align: right;\">\n",
       "      <th></th>\n",
       "      <th>1</th>\n",
       "      <th>2</th>\n",
       "      <th>3</th>\n",
       "      <th>4</th>\n",
       "      <th>5</th>\n",
       "      <th>6</th>\n",
       "      <th>7</th>\n",
       "      <th>8</th>\n",
       "      <th>9</th>\n",
       "      <th>10</th>\n",
       "      <th>11</th>\n",
       "      <th>12</th>\n",
       "    </tr>\n",
       "    <tr>\n",
       "      <th>序号</th>\n",
       "      <th></th>\n",
       "      <th></th>\n",
       "      <th></th>\n",
       "      <th></th>\n",
       "      <th></th>\n",
       "      <th></th>\n",
       "      <th></th>\n",
       "      <th></th>\n",
       "      <th></th>\n",
       "      <th></th>\n",
       "      <th></th>\n",
       "      <th></th>\n",
       "    </tr>\n",
       "  </thead>\n",
       "  <tbody>\n",
       "    <tr>\n",
       "      <th>属性A</th>\n",
       "      <td>2</td>\n",
       "      <td>5</td>\n",
       "      <td>1</td>\n",
       "      <td>2</td>\n",
       "      <td>3</td>\n",
       "      <td>4</td>\n",
       "      <td>5</td>\n",
       "      <td>6</td>\n",
       "      <td>1</td>\n",
       "      <td>2</td>\n",
       "      <td>5</td>\n",
       "      <td>2</td>\n",
       "    </tr>\n",
       "    <tr>\n",
       "      <th>属性B</th>\n",
       "      <td>1</td>\n",
       "      <td>1</td>\n",
       "      <td>2</td>\n",
       "      <td>2</td>\n",
       "      <td>2</td>\n",
       "      <td>2</td>\n",
       "      <td>2</td>\n",
       "      <td>2</td>\n",
       "      <td>3</td>\n",
       "      <td>3</td>\n",
       "      <td>3</td>\n",
       "      <td>4</td>\n",
       "    </tr>\n",
       "  </tbody>\n",
       "</table>\n",
       "</div>"
      ],
      "text/plain": [
       "     1   2   3   4   5   6   7   8   9   10  11  12\n",
       "序号                                                 \n",
       "属性A   2   5   1   2   3   4   5   6   1   2   5   2\n",
       "属性B   1   1   2   2   2   2   2   2   3   3   3   4"
      ]
     },
     "execution_count": 27,
     "metadata": {},
     "output_type": "execute_result"
    }
   ],
   "source": [
    "point_df"
   ]
  },
  {
   "cell_type": "markdown",
   "metadata": {},
   "source": [
    "#### 原始数据可视化"
   ]
  },
  {
   "cell_type": "code",
   "execution_count": 28,
   "metadata": {},
   "outputs": [],
   "source": [
    "i = point_df.columns\n",
    "x = point_df.iloc[0]\n",
    "y = point_df.iloc[1]"
   ]
  },
  {
   "cell_type": "code",
   "execution_count": 29,
   "metadata": {},
   "outputs": [
    {
     "data": {
      "image/png": "[encoded data removed]",
      "text/plain": [
       "<Figure size 640x480 with 1 Axes>"
      ]
     },
     "metadata": {},
     "output_type": "display_data"
    }
   ],
   "source": [
    "import matplotlib.pyplot as plt\n",
    "fig = plt.figure(\"UNCLISSIFIED\")\n",
    "ax = fig.add_subplot()\n",
    "ax.set_title(\"未聚类数据\")\n",
    "ax.set_xlim(-1,8)\n",
    "ax.set_ylim(0,5)\n",
    "ax.scatter(x,y, color=\"yellow\",s=200, edgecolors=\"black\")\n",
    "\n",
    "for a,b,c in zip(x,y,point_df.columns):\n",
    "    ax.text(a,b,c,ha=\"center\", va=\"center\")"
   ]
  },
  {
   "cell_type": "markdown",
   "metadata": {},
   "source": [
    "## DBSCAN聚类手动编程实现"
   ]
  },
  {
   "cell_type": "markdown",
   "metadata": {},
   "source": [
    "### Point类定义"
   ]
  },
  {
   "cell_type": "code",
   "execution_count": 30,
   "metadata": {},
   "outputs": [],
   "source": [
    "class Point():\n",
    "    def __init__(self,id,x,y) -> None:\n",
    "        self.id = id\n",
    "        self.x = x\n",
    "        self.y = y\n",
    "        self.CLId = \"UNCLASSIFIED\"\n",
    "    \n",
    "    def get_id(self):\n",
    "        return self.id\n",
    "    \n",
    "    def get_x(self):\n",
    "        return self.x\n",
    "    \n",
    "    def get_y(self):\n",
    "        return self.y\n",
    "    \n",
    "    def get_CLId(self):\n",
    "        return self.CLId\n",
    "    \n",
    "    def set_CLId(self, CLId):\n",
    "        self.CLId = CLId\n",
    "    \n",
    "    def distance(self, other):\n",
    "        x_diff = (self.x - other.x)**2\n",
    "        y_diff = (self.y - other.y)**2\n",
    "        return (x_diff+y_diff)**(1/2)\n",
    "    \n",
    "    def __str__(self) -> str:\n",
    "        return str((self.id, self.x, self.y, self.CLId))"
   ]
  },
  {
   "cell_type": "markdown",
   "metadata": {},
   "source": [
    "### DataFrame转为Point对象列表"
   ]
  },
  {
   "cell_type": "code",
   "execution_count": 31,
   "metadata": {},
   "outputs": [],
   "source": [
    "point_list = []\n",
    "for col in point_df.columns:\n",
    "    xy_series = point_df[col]\n",
    "    point = Point(col, xy_series[\"属性A\"], xy_series[\"属性B\"])\n",
    "    point_list.append(point)"
   ]
  },
  {
   "cell_type": "code",
   "execution_count": 32,
   "metadata": {},
   "outputs": [
    {
     "name": "stdout",
     "output_type": "stream",
     "text": [
      "(1, 2, 1, 'UNCLASSIFIED')\n",
      "(2, 5, 1, 'UNCLASSIFIED')\n",
      "(3, 1, 2, 'UNCLASSIFIED')\n",
      "(4, 2, 2, 'UNCLASSIFIED')\n",
      "(5, 3, 2, 'UNCLASSIFIED')\n",
      "(6, 4, 2, 'UNCLASSIFIED')\n",
      "(7, 5, 2, 'UNCLASSIFIED')\n",
      "(8, 6, 2, 'UNCLASSIFIED')\n",
      "(9, 1, 3, 'UNCLASSIFIED')\n",
      "(10, 2, 3, 'UNCLASSIFIED')\n",
      "(11, 5, 3, 'UNCLASSIFIED')\n",
      "(12, 2, 4, 'UNCLASSIFIED')\n"
     ]
    }
   ],
   "source": [
    "for i in point_list:\n",
    "    print(i)"
   ]
  },
  {
   "cell_type": "markdown",
   "metadata": {},
   "source": [
    "### 簇与邻域查询"
   ]
  },
  {
   "cell_type": "code",
   "execution_count": 33,
   "metadata": {},
   "outputs": [],
   "source": [
    "class SetOfPoints():\n",
    "\n",
    "    def __init__(self, points) -> None:\n",
    "        self.points = points\n",
    "\n",
    "    def get_points(self):\n",
    "        return self.points\n",
    "\n",
    "    # 邻域查询(可考虑使用KD树和球树提高查询效率)\n",
    "    def regionQuery(self, point, eps):\n",
    "        point_distance_dict = {}\n",
    "        seeds = []\n",
    "        for p in self.points:\n",
    "            distance = point.distance(p)\n",
    "            point_distance_dict.update({p:distance})\n",
    "\n",
    "        region_points = {k:v for k,v in point_distance_dict.items() if v <= eps}\n",
    "            \n",
    "        point_distance_sorted = sorted(region_points.items(), key=lambda item:item[1])\n",
    "        seeds = [k for k,v in point_distance_sorted]\n",
    "        return seeds\n",
    "        \n",
    "    # 修改多个点的CLId\n",
    "    def changeCLIds(self, seeds, CLId):\n",
    "        for s in seeds:\n",
    "            s.set_CLId(CLId)\n",
    "            print(s.get_id(), s.get_x(), s.get_y(), s.get_CLId())  # 打印聚类过程\n",
    "\n",
    "    # 修改一个点的CLId\n",
    "    def changeCLId(self, result_p, CLId):\n",
    "        result_p.set_CLId(CLId)\n",
    "        print(result_p.get_id(), result_p.get_x(), result_p.get_y(), result_p.get_CLId())  # 打印聚类过程\n",
    "    \n",
    "    def get_xs(self):\n",
    "        xs = [ point.get_x() for point in self.points]\n",
    "        return xs\n",
    "\n",
    "    def get_ys(self):\n",
    "        ys = [ point.get_y() for point in self.points]\n",
    "        return ys\n",
    "    \n",
    "    def get_ids(self):\n",
    "        ids = [ point.get_id() for point in self.points]\n",
    "        return ids\n",
    "\n",
    "    def get_CLIds(self):\n",
    "        CLIds = [ point.get_CLId()  for point in self.points]\n",
    "        return CLIds"
   ]
  },
  {
   "cell_type": "code",
   "execution_count": 36,
   "metadata": {},
   "outputs": [
    {
     "data": {
      "text/plain": [
       "[\"(1, 2, 1, 'UNCLASSIFIED')\", \"(4, 2, 2, 'UNCLASSIFIED')\"]"
      ]
     },
     "execution_count": 36,
     "metadata": {},
     "output_type": "execute_result"
    }
   ],
   "source": [
    "setofpoints = SetOfPoints(point_list)\n",
    "p1 = Point(1,2,1)\n",
    "rqps = setofpoints.regionQuery(p1, 1)\n",
    "[str(r) for r in rqps]"
   ]
  },
  {
   "cell_type": "markdown",
   "metadata": {},
   "source": [
    "### 扩展簇"
   ]
  },
  {
   "cell_type": "code",
   "execution_count": 14,
   "metadata": {},
   "outputs": [],
   "source": [
    "def ExpandCluster(SetOfPoints:SetOfPoints, point, CLId, eps, min_pts):\n",
    "    seeds = SetOfPoints.regionQuery(point,eps)\n",
    "    if len(seeds) < min_pts: # 噪声点\n",
    "        SetOfPoints.changeCLId(point, \"NOISE\")\n",
    "        return False\n",
    "    else:                    # 核心对象\n",
    "        SetOfPoints.changeCLIds(seeds, CLId)\n",
    "\n",
    "        seeds.remove(point)\n",
    "        while len(seeds) > 0:  # 不断入队出队，直至队列为空\n",
    "            currentP = seeds[0]\n",
    "            result = SetOfPoints.regionQuery(currentP, eps)\n",
    "            if len(result) >= min_pts: # 如果当前点是核心对象，继续广度优先扩展；如果不是核心对象，不再扩展；（要有发展成员的能力）\n",
    "                for i in result:\n",
    "                    if i.get_CLId() in (\"UNCLASSIFIED\", \"NOISE\"):\n",
    "                        if i.get_CLId() == \"UNCLASSIFIED\":\n",
    "                            seeds.append(i)\n",
    "                        SetOfPoints.changeCLId(i, CLId)\n",
    "            seeds.remove(currentP) # 出队\n",
    "        \n",
    "        return True"
   ]
  },
  {
   "cell_type": "markdown",
   "metadata": {},
   "source": [
    "### DBSCAN算法定义"
   ]
  },
  {
   "cell_type": "code",
   "execution_count": 15,
   "metadata": {},
   "outputs": [],
   "source": [
    "def DBSCAN(SetOfPoints, eps, min_pts):\n",
    "\n",
    "    cluster_ids = iter(list(\"cygmr\")) \n",
    "    cluster_id = next(cluster_ids)\n",
    "    \n",
    "    for point in SetOfPoints.get_points():\n",
    "        \n",
    "        if point.get_CLId() == \"UNCLASSIFIED\":\n",
    "            if ExpandCluster(SetOfPoints, point, cluster_id, eps, min_pts):\n",
    "                cluster_id = next(cluster_ids)\n",
    "    \n",
    "    return point_list"
   ]
  },
  {
   "cell_type": "code",
   "execution_count": 16,
   "metadata": {},
   "outputs": [
    {
     "data": {
      "text/plain": [
       "['c', 'y', 'g', 'm', 'r']"
      ]
     },
     "execution_count": 16,
     "metadata": {},
     "output_type": "execute_result"
    }
   ],
   "source": [
    "list(\"cygmr\")"
   ]
  },
  {
   "cell_type": "markdown",
   "metadata": {},
   "source": [
    "### DBSCAN算法应用"
   ]
  },
  {
   "cell_type": "code",
   "execution_count": 17,
   "metadata": {},
   "outputs": [
    {
     "name": "stdout",
     "output_type": "stream",
     "text": [
      "1 2 1 NOISE\n",
      "2 5 1 NOISE\n",
      "3 1 2 NOISE\n",
      "4 2 2 c\n",
      "1 2 1 c\n",
      "3 1 2 c\n",
      "5 3 2 c\n",
      "10 2 3 c\n",
      "9 1 3 c\n",
      "12 2 4 c\n",
      "6 4 2 NOISE\n",
      "7 5 2 y\n",
      "2 5 1 y\n",
      "6 4 2 y\n",
      "8 6 2 y\n",
      "11 5 3 y\n"
     ]
    }
   ],
   "source": [
    "sops = SetOfPoints(points=point_list)\n",
    "point_list_classified = DBSCAN(sops, 1, 4)  # 半径，点的个数， 核心对象"
   ]
  },
  {
   "cell_type": "code",
   "execution_count": 18,
   "metadata": {},
   "outputs": [],
   "source": [
    "label_list = []\n",
    "\n",
    "for p in point_list_classified:\n",
    "    CLId = p.get_CLId()\n",
    "    if CLId == \"NOISE\":\n",
    "        CLId = \"b\"\n",
    "    label_list.append(CLId)"
   ]
  },
  {
   "cell_type": "markdown",
   "metadata": {},
   "source": [
    "### 聚类结果可视化"
   ]
  },
  {
   "cell_type": "code",
   "execution_count": 19,
   "metadata": {},
   "outputs": [
    {
     "data": {
      "text/plain": [
       "<Axes: >"
      ]
     },
     "execution_count": 19,
     "metadata": {},
     "output_type": "execute_result"
    },
    {
     "data": {
      "image/png": "[encoded data removed]",
      "text/plain": [
       "<Figure size 640x480 with 1 Axes>"
      ]
     },
     "metadata": {},
     "output_type": "display_data"
    }
   ],
   "source": [
    "fig = plt.figure(\"DBSCAN\")\n",
    "ax = plt.axes((0.2, 0.2, 0.6, 0.6))\n",
    "ax.set_xlim(-1, 8)\n",
    "ax.set_ylim(0, 5)\n",
    "ax.scatter(sops.get_xs(), sops.get_ys(), c=sops.get_CLIds(),s=200,edgecolors=\"b\")\n",
    "\n",
    "for a,b,c in zip(sops.get_xs(), sops.get_ys(), sops.get_ids()):\n",
    "    ax.text(a, b, c, ha=\"center\", va=\"center\")\n",
    "    \n",
    "fig.add_axes(ax)"
   ]
  },
  {
   "cell_type": "markdown",
   "metadata": {},
   "source": [
    "# SciKit-Learn DBSCAN"
   ]
  },
  {
   "cell_type": "code",
   "execution_count": 20,
   "metadata": {},
   "outputs": [
    {
     "data": {
      "text/plain": [
       "array([0, 1, 0, 0, 0, 1, 1, 1, 0, 0, 1, 0], dtype=int64)"
      ]
     },
     "execution_count": 20,
     "metadata": {},
     "output_type": "execute_result"
    }
   ],
   "source": [
    "from sklearn.cluster import DBSCAN\n",
    "DBS=DBSCAN(min_samples=4,eps=1)\n",
    "DBS.fit(point_df.T)\n",
    "DBS.labels_"
   ]
  },
  {
   "cell_type": "code",
   "execution_count": 21,
   "metadata": {},
   "outputs": [
    {
     "data": {
      "text/plain": [
       "<Axes: >"
      ]
     },
     "execution_count": 21,
     "metadata": {},
     "output_type": "execute_result"
    },
    {
     "data": {
      "image/png": "[encoded data removed]",
      "text/plain": [
       "<Figure size 640x480 with 1 Axes>"
      ]
     },
     "metadata": {},
     "output_type": "display_data"
    }
   ],
   "source": [
    "fig = plt.figure(\"DBSCAN\")\n",
    "ax = plt.axes((0.2, 0.2, 0.6, 0.6))\n",
    "ax.set_xlim(-1, 8)\n",
    "ax.set_ylim(0, 5)\n",
    "ax.scatter(x,y,c=DBS.labels_)\n",
    "fig.add_axes(ax)"
   ]
  },
  {
   "cell_type": "code",
   "execution_count": 22,
   "metadata": {},
   "outputs": [],
   "source": [
    "# p_13 = Point(13,1,4)\n",
    "# p_14 = Point(14,3,3)\n",
    "# p_15 = Point(15,2,5)\n",
    "\n",
    "# point_list.append(p_13)\n",
    "# point_list.append(p_14)\n",
    "# point_list.append(p_15)"
   ]
  }
 ],
 "metadata": {
  "kernelspec": {
   "display_name": "Python 3 (ipykernel)",
   "language": "python",
   "name": "python3"
  },
  "language_info": {
   "codemirror_mode": {
    "name": "ipython",
    "version": 3
   },
   "file_extension": ".py",
   "mimetype": "text/x-python",
   "name": "python",
   "nbconvert_exporter": "python",
   "pygments_lexer": "ipython3",
   "version": "3.12.2"
  }
 },
 "nbformat": 4,
 "nbformat_minor": 4
}
