{
 "cells": [
  {
   "cell_type": "markdown",
   "metadata": {
    "editable": true,
    "slideshow": {
     "slide_type": "slide"
    },
    "tags": []
   },
   "source": [
    "## 条件极值"
   ]
  },
  {
   "cell_type": "markdown",
   "metadata": {
    "editable": true,
    "slideshow": {
     "slide_type": "fragment"
    },
    "tags": []
   },
   "source": [
    "&emsp;&emsp;对于函数的自变量，除了限制在函数的定义域内以外，并无其他条件，有时候称为**无条件极值**。"
   ]
  },
  {
   "cell_type": "markdown",
   "metadata": {
    "editable": true,
    "slideshow": {
     "slide_type": "fragment"
    },
    "tags": []
   },
   "source": [
    "&emsp;&emsp;但在实际问题中，有时会遇到对函数的自变量还有附加条件的极值问题，例如,求表面积为$a^2$而体积为最大的长方体的体积问题。"
   ]
  },
  {
   "cell_type": "markdown",
   "metadata": {
    "editable": true,
    "slideshow": {
     "slide_type": "fragment"
    },
    "tags": []
   },
   "source": [
    "&emsp;&emsp;设：长方体的三棱的长为x、y与z,则体积$V=xyz$ . 又因假定表面积为$a^2$，所以自变量$x、y与z$还必须满足附加条件$2(xy+yz+xz)=a^2$。"
   ]
  },
  {
   "cell_type": "markdown",
   "metadata": {
    "editable": true,
    "slideshow": {
     "slide_type": "fragment"
    },
    "tags": []
   },
   "source": [
    "&emsp;&emsp;像这种对自变量有附加条件的极值称为**条件极值**。对于有些实际问题，可以把条件极值化为无条件极值，然后加以解决。"
   ]
  },
  {
   "cell_type": "markdown",
   "metadata": {
    "editable": true,
    "slideshow": {
     "slide_type": "slide"
    },
    "tags": []
   },
   "source": [
    "例如上述问题,可由条件$2(xy+yz+xz)=a^2$,将$z$表示成\n",
    "$$\n",
    "z = \\frac{a-2xy}{2(x+y)}\n",
    "$$"
   ]
  },
  {
   "cell_type": "markdown",
   "metadata": {
    "editable": true,
    "slideshow": {
     "slide_type": "fragment"
    },
    "tags": []
   },
   "source": [
    "再把它代人$V=xyz$中"
   ]
  },
  {
   "cell_type": "markdown",
   "metadata": {
    "editable": true,
    "slideshow": {
     "slide_type": "fragment"
    },
    "tags": []
   },
   "source": [
    "于是问题就化为求\n",
    "$$\n",
    "V = \\frac{xy}{x}\\left( \\frac{a^2-2xy}{x+y}   \\right)\n",
    "$$\n",
    "的无条件极值。"
   ]
  },
  {
   "cell_type": "markdown",
   "metadata": {
    "editable": true,
    "slideshow": {
     "slide_type": "slide"
    },
    "tags": []
   },
   "source": [
    "&emsp;&emsp;但在很多情形下，将**条件极值**化为**无条件极值**并不这样简单，另有一种**直接寻求条件极值**的方法，可以**不必先把问题化到无条件极值的问题**，这就是下面要回顾的**拉格朗日乘数法**"
   ]
  },
  {
   "cell_type": "markdown",
   "metadata": {
    "editable": true,
    "slideshow": {
     "slide_type": "fragment"
    },
    "tags": []
   },
   "source": [
    "现在先来寻求函数\n",
    "$$\n",
    "\\begin{equation}\n",
    "z =f(x,y)   \\tag{8-1}\n",
    "\\end{equation}\n",
    "$$\n",
    "在条件\n",
    "$$\n",
    "\\begin{equation}\n",
    "\\psi(x,y)=0 \\tag{8-2}\n",
    "\\end{equation}\n",
    "$$\n",
    "下取得极值的必要条件，"
   ]
  },
  {
   "cell_type": "markdown",
   "metadata": {
    "editable": true,
    "slideshow": {
     "slide_type": "slide"
    },
    "tags": []
   },
   "source": [
    "如果函数$(8-1)$在$(x_0,y_0)$取得所求的极值,那么首先有\n",
    "$$\n",
    "\\begin{equation}\n",
    "\\psi(x_0,y_0)=0 \\tag{8-3}\n",
    "\\end{equation}\n",
    "$$"
   ]
  },
  {
   "cell_type": "markdown",
   "metadata": {
    "editable": true,
    "slideshow": {
     "slide_type": "fragment"
    },
    "tags": []
   },
   "source": [
    "我们假定在$(x_0,y_0)$的某一邻域内$f(x,y)$与$\\psi(x,y)$均有连续的一阶偏导数。而$\\psi_y(x_0,y_0)\\neq 0$。由隐函数存在定理可知，方程$\\psi(x,y)=0$确定一个连续且具有连续导数的函数$y=\\psi(x)$."
   ]
  },
  {
   "cell_type": "markdown",
   "metadata": {
    "editable": true,
    "slideshow": {
     "slide_type": "fragment"
    },
    "tags": []
   },
   "source": [
    "将其代入$z=f(x,y)$式，结果得到一个变量$x$的函数\n",
    "$$\n",
    "\\begin{equation}\n",
    "z =f[(x,\\psi(x)]  \\tag{8-4}\n",
    "\\end{equation}\n",
    "$$"
   ]
  },
  {
   "cell_type": "markdown",
   "metadata": {
    "editable": true,
    "slideshow": {
     "slide_type": "slide"
    },
    "tags": []
   },
   "source": [
    "于是函数 $z=f(x,y)$ 在 $(x_0,y_0)$ 取得所求的极值，也就是相当于函数 $z=f[x,\\psi(x)]$ 在$x=x_0$取得极值。由一元可导函数取得极值的必要条件知道\n",
    "$$\n",
    "\\begin{equation}\n",
    "\\left. \\frac{d z}{d x} \\right|_{x=x_0} = f_x(x_0, y_0) + f_y(x_0, y_0) \\left.  \\frac{d y}{d x} \\right|_{x=x_0} = 0  \\tag{8-5}\n",
    "\\end{equation}\n",
    "$$"
   ]
  },
  {
   "cell_type": "markdown",
   "metadata": {
    "editable": true,
    "slideshow": {
     "slide_type": "fragment"
    },
    "tags": []
   },
   "source": [
    "而由$\\psi(x,y)=0$用隐函数求导公式，有\n",
    "$$\n",
    "\\left. \\frac{d y}{d x} \\right|_{x=x_0} = - \\frac{ \\psi_x(x_0, y_0)}{\\psi_y(x_0, y_0)}\n",
    "$$"
   ]
  },
  {
   "cell_type": "markdown",
   "metadata": {
    "editable": true,
    "slideshow": {
     "slide_type": "fragment"
    },
    "tags": []
   },
   "source": [
    "把上式代入(8-5)得：\n",
    "$$\n",
    "\\begin{equation}\n",
    "\\left. \\frac{d z}{d x} \\right|_{x=x_0} = f_x(x_0, y_0) - f_y(x_0, y_0)  \\frac{ \\psi_x(x_0, y_0)}{\\psi_y(x_0, y_0)} =0 \\tag{8-6}\n",
    "\\end{equation}\n",
    "$$"
   ]
  },
  {
   "cell_type": "markdown",
   "metadata": {
    "editable": true,
    "slideshow": {
     "slide_type": "fragment"
    },
    "tags": []
   },
   "source": [
    "$\\psi(x_0, y_0)=0、(8-6)$两式就是函数$(8-1)$在条件$(8-2)$下在$(x_0,y_0)$取得极值的必要条件。"
   ]
  },
  {
   "cell_type": "markdown",
   "metadata": {
    "editable": true,
    "slideshow": {
     "slide_type": "fragment"
    },
    "tags": []
   },
   "source": [
    "设\n",
    "$$\n",
    "\\frac{f_y(x_0, y_0)}{\\psi_y(x_0, y_0)}=-\\lambda，\n",
    "$$"
   ]
  },
  {
   "cell_type": "markdown",
   "metadata": {
    "editable": true,
    "slideshow": {
     "slide_type": "fragment"
    },
    "tags": []
   },
   "source": [
    "上述必要条件就变为\n",
    "$$\n",
    "\\begin{equation}  \n",
    "\\left\\{  \n",
    "\\begin{aligned}  \n",
    "f_x(x_0,y_0)+ \\lambda \\psi_x(x_0, y_0) &= 0, \\\\  \n",
    "f_y(x_0,y_0)+ \\lambda \\psi_y(x_0, y_0) &= 0, \\\\  \n",
    "\\psi(x_0, y_0) &= 0 .  \n",
    "\\end{aligned}  \n",
    "\\right. \n",
    "\\tag{8-7}\n",
    "\\end{equation}  \n",
    "$$"
   ]
  },
  {
   "cell_type": "markdown",
   "metadata": {
    "editable": true,
    "slideshow": {
     "slide_type": "fragment"
    },
    "tags": []
   },
   "source": [
    "若引进辅助函数\n",
    "$$L(x,y)=f(x,y)+\\lambda \\psi(x,y)$$ ，\n",
    "则不难看出，$(8-7)$中前两式就是\n",
    "$$L_x(x_0, y_0)=0，L_y(x_0,y_0)=0$$。\n",
    "函数$L(x,y)$称为**拉格朗日函数**，参数$\\lambda$称为**拉格朗日乘子**"
   ]
  },
  {
   "cell_type": "markdown",
   "metadata": {
    "editable": true,
    "slideshow": {
     "slide_type": "slide"
    },
    "tags": []
   },
   "source": [
    "### 拉格朗日乘数法  \n",
    "要找函数$z=f(x,y)$在附加条件$\\psi(x_0,y_0)=0$下的可能极值点，可以先作**拉格朗日函数**\n",
    "$$\n",
    "L(x,y)=f(x,y)+\\lambda \\psi(x,y)\n",
    "$$\n",
    "其中$\\lambda$为参数。求其对$x$与$y$的一阶偏导数，并使之为零，然后与方程$(8-2)$联立起来:"
   ]
  },
  {
   "cell_type": "markdown",
   "metadata": {
    "editable": true,
    "slideshow": {
     "slide_type": "fragment"
    },
    "tags": []
   },
   "source": [
    "$$\n",
    "\\begin{equation}  \n",
    "\\left\\{  \n",
    "\\begin{aligned}  \n",
    "f_x(x_0,y_0)+ \\lambda \\psi_x(x_0, y_0) &= 0, \\\\  \n",
    "f_y(x_0,y_0)+ \\lambda \\psi_y(x_0, y_0) &= 0, \\\\  \n",
    "\\psi(x_0, y_0) &= 0 .  \n",
    "\\end{aligned}  \n",
    "\\right.    \n",
    "\\end{equation}  \n",
    "$$"
   ]
  },
  {
   "cell_type": "markdown",
   "metadata": {
    "editable": true,
    "slideshow": {
     "slide_type": "fragment"
    },
    "tags": []
   },
   "source": [
    "由这方程组解出$x、y$及$\\lambda$，这样得到的$(x,y)$就是函数$f(x,y)$在附加条件$\\psi(x,y)=0$下的可能极值点."
   ]
  },
  {
   "cell_type": "markdown",
   "metadata": {},
   "source": [
    "> 高等数学 第七版 下册 第九章 多元函数微分法及应用 第十节 多元函数的极值及其求法  二、条件极值 拉格朗日乘数法"
   ]
  },
  {
   "cell_type": "markdown",
   "metadata": {},
   "source": [
    "### 多个等式约束"
   ]
  },
  {
   "cell_type": "markdown",
   "metadata": {},
   "source": [
    "$$\n",
    "\\begin{equation}\n",
    "z =f(x,y)   \\tag{8-1}\n",
    "\\end{equation}\n",
    "$$\n",
    "在条件\n",
    "$$\n",
    "\\begin{equation}\n",
    "\\psi_i(x,y)=0 , i\\in{1,2,... ,N} \\tag{8-2}\n",
    "\\end{equation}\n",
    "$$\n",
    "下取得极值的必要条件，"
   ]
  },
  {
   "cell_type": "markdown",
   "metadata": {},
   "source": [
    "$$\n",
    "L(x,y)=f(x,y)+ \\sum_{i=1}^{N}\\lambda_i \\psi_i(x,y)\n",
    "$$"
   ]
  },
  {
   "cell_type": "markdown",
   "metadata": {},
   "source": [
    "> 和上述单约束条件类似，推导过程略。"
   ]
  }
 ],
 "metadata": {
  "kernelspec": {
   "display_name": "Python 3 (ipykernel)",
   "language": "python",
   "name": "python3"
  },
  "language_info": {
   "codemirror_mode": {
    "name": "ipython",
    "version": 3
   },
   "file_extension": ".py",
   "mimetype": "text/x-python",
   "name": "python",
   "nbconvert_exporter": "python",
   "pygments_lexer": "ipython3",
   "version": "3.12.2"
  }
 },
 "nbformat": 4,
 "nbformat_minor": 4
}
