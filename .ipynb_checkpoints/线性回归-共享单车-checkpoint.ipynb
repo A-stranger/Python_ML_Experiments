{
 "cells": [
  {
   "cell_type": "markdown",
   "metadata": {},
   "source": [
    "# 共享单车预测---线性回归分析\n",
    "\n",
    "在Capital Bikeshare （美国Washington, D.C.的一个共享单车公司）提供的自行车数据上进行回归分析。训练数据为2011年的数据，要求预测2012年每天的单车共享数量。"
   ]
  },
  {
   "cell_type": "code",
   "execution_count": 2,
   "metadata": {},
   "outputs": [],
   "source": [
    "import pandas as pd\n",
    "import numpy as np\n",
    "import matplotlib.pyplot as plt\n",
    "import seaborn as sns"
   ]
  },
  {
   "cell_type": "markdown",
   "metadata": {
    "collapsed": true,
    "jupyter": {
     "outputs_hidden": true
    }
   },
   "source": [
    "## 1、数据加载\n",
    "\n",
    "### 1.1 读取数据"
   ]
  },
  {
   "cell_type": "code",
   "execution_count": 5,
   "metadata": {},
   "outputs": [
    {
     "name": "stdout",
     "output_type": "stream",
     "text": [
      "   instant      dteday  season  yr  mnth  holiday  weekday  workingday  \\\n",
      "0        1  01-01-2018       1   0     1        0        6           0   \n",
      "1        2  02-01-2018       1   0     1        0        0           0   \n",
      "2        3  03-01-2018       1   0     1        0        1           1   \n",
      "3        4  04-01-2018       1   0     1        0        2           1   \n",
      "4        5  05-01-2018       1   0     1        0        3           1   \n",
      "\n",
      "   weathersit       temp     atemp      hum  windspeed  casual  registered  \\\n",
      "0           2  14.110847  18.18125  80.5833  10.749882     331         654   \n",
      "1           2  14.902598  17.68695  69.6087  16.652113     131         670   \n",
      "2           1   8.050924   9.47025  43.7273  16.636703     120        1229   \n",
      "3           1   8.200000  10.60610  59.0435  10.739832     108        1454   \n",
      "4           1   9.305237  11.46350  43.6957  12.522300      82        1518   \n",
      "\n",
      "    cnt  \n",
      "0   985  \n",
      "1   801  \n",
      "2  1349  \n",
      "3  1562  \n",
      "4  1600  \n",
      "<class 'pandas.core.frame.DataFrame'>\n",
      "RangeIndex: 730 entries, 0 to 729\n",
      "Data columns (total 16 columns):\n",
      " #   Column      Non-Null Count  Dtype  \n",
      "---  ------      --------------  -----  \n",
      " 0   instant     730 non-null    int64  \n",
      " 1   dteday      730 non-null    object \n",
      " 2   season      730 non-null    int64  \n",
      " 3   yr          730 non-null    int64  \n",
      " 4   mnth        730 non-null    int64  \n",
      " 5   holiday     730 non-null    int64  \n",
      " 6   weekday     730 non-null    int64  \n",
      " 7   workingday  730 non-null    int64  \n",
      " 8   weathersit  730 non-null    int64  \n",
      " 9   temp        730 non-null    float64\n",
      " 10  atemp       730 non-null    float64\n",
      " 11  hum         730 non-null    float64\n",
      " 12  windspeed   730 non-null    float64\n",
      " 13  casual      730 non-null    int64  \n",
      " 14  registered  730 non-null    int64  \n",
      " 15  cnt         730 non-null    int64  \n",
      "dtypes: float64(4), int64(11), object(1)\n",
      "memory usage: 91.4+ KB\n",
      "None\n"
     ]
    }
   ],
   "source": [
    "data = pd.read_csv(\"data/day.csv\")\n",
    "#print (data.describe())\n",
    "print (data.head(5))\n",
    "print (data.info())"
   ]
  },
  {
   "cell_type": "markdown",
   "metadata": {},
   "source": [
    "#### 数据集基本信息\n",
    "可以看到这个数据集有731条记录。16个数据特征，数据类型基本是数字类型。没有缺失值。"
   ]
  },
  {
   "cell_type": "markdown",
   "metadata": {},
   "source": [
    "## 2、数据探索"
   ]
  },
  {
   "cell_type": "code",
   "execution_count": 6,
   "metadata": {},
   "outputs": [
    {
     "name": "stdout",
     "output_type": "stream",
     "text": [
      "          instant      season          yr        mnth     holiday     weekday  \\\n",
      "count  730.000000  730.000000  730.000000  730.000000  730.000000  730.000000   \n",
      "mean   365.500000    2.498630    0.500000    6.526027    0.028767    2.997260   \n",
      "std    210.877136    1.110184    0.500343    3.450215    0.167266    2.006161   \n",
      "min      1.000000    1.000000    0.000000    1.000000    0.000000    0.000000   \n",
      "25%    183.250000    2.000000    0.000000    4.000000    0.000000    1.000000   \n",
      "50%    365.500000    3.000000    0.500000    7.000000    0.000000    3.000000   \n",
      "75%    547.750000    3.000000    1.000000   10.000000    0.000000    5.000000   \n",
      "max    730.000000    4.000000    1.000000   12.000000    1.000000    6.000000   \n",
      "\n",
      "       workingday  weathersit        temp       atemp         hum   windspeed  \\\n",
      "count  730.000000  730.000000  730.000000  730.000000  730.000000  730.000000   \n",
      "mean     0.683562    1.394521   20.319259   23.726322   62.765175   12.763620   \n",
      "std      0.465405    0.544807    7.506729    8.150308   14.237589    5.195841   \n",
      "min      0.000000    1.000000    2.424346    3.953480    0.000000    1.500244   \n",
      "25%      0.000000    1.000000   13.811885   16.889713   52.000000    9.041650   \n",
      "50%      1.000000    1.000000   20.465826   24.368225   62.625000   12.125325   \n",
      "75%      1.000000    2.000000   26.880615   30.445775   72.989575   15.625589   \n",
      "max      1.000000    3.000000   35.328347   42.044800   97.250000   34.000021   \n",
      "\n",
      "            casual   registered          cnt  \n",
      "count   730.000000   730.000000   730.000000  \n",
      "mean    849.249315  3658.757534  4508.006849  \n",
      "std     686.479875  1559.758728  1936.011647  \n",
      "min       2.000000    20.000000    22.000000  \n",
      "25%     316.250000  2502.250000  3169.750000  \n",
      "50%     717.000000  3664.500000  4548.500000  \n",
      "75%    1096.500000  4783.250000  5966.000000  \n",
      "max    3410.000000  6946.000000  8714.000000  \n"
     ]
    }
   ],
   "source": [
    "print (data.describe())"
   ]
  },
  {
   "cell_type": "markdown",
   "metadata": {},
   "source": [
    "### 2.1 初步分析\n",
    "从数据的整体情况来看看，instant的方差比较大，这列含义是记录号。并没有实际的业务含义；同时dteday这一列表示记录的日期，也没有实际的业务含义。所以这两列都可以去除。另外，\n",
    "casual、regustered、cnt这三列是需要预测的列。本次分析只需要预测cnt这一列。所以替他两列也可以去除"
   ]
  },
  {
   "cell_type": "markdown",
   "metadata": {},
   "source": [
    "### 2.2 把2012年的数据作为测试集的数据从原始数据集中拆分出来"
   ]
  },
  {
   "cell_type": "code",
   "execution_count": 7,
   "metadata": {},
   "outputs": [],
   "source": [
    "test_data = (data.loc[data['yr'] == 1])\n",
    "train_data = (data.loc[data['yr'] == 0])"
   ]
  },
  {
   "cell_type": "markdown",
   "metadata": {},
   "source": [
    "### 2.3 拆分训练集、测试集的特征和预测值"
   ]
  },
  {
   "cell_type": "code",
   "execution_count": 8,
   "metadata": {},
   "outputs": [
    {
     "name": "stdout",
     "output_type": "stream",
     "text": [
      "     season  yr  mnth  holiday  weekday  workingday  weathersit       temp  \\\n",
      "0         1   0     1        0        6           0           2  14.110847   \n",
      "1         1   0     1        0        0           0           2  14.902598   \n",
      "2         1   0     1        0        1           1           1   8.050924   \n",
      "3         1   0     1        0        2           1           1   8.200000   \n",
      "4         1   0     1        0        3           1           1   9.305237   \n",
      "..      ...  ..   ...      ...      ...         ...         ...        ...   \n",
      "360       1   0    12        0        2           1           2  13.325000   \n",
      "361       1   0    12        0        3           1           1  12.264330   \n",
      "362       1   0    12        0        4           1           1  10.181653   \n",
      "363       1   0    12        0        5           1           1  12.778347   \n",
      "364       1   0    12        0        6           0           1  16.810000   \n",
      "\n",
      "        atemp      hum  windspeed  \n",
      "0    18.18125  80.5833  10.749882  \n",
      "1    17.68695  69.6087  16.652113  \n",
      "2     9.47025  43.7273  16.636703  \n",
      "3    10.60610  59.0435  10.739832  \n",
      "4    11.46350  43.6957  12.522300  \n",
      "..        ...      ...        ...  \n",
      "360  16.38165  76.2500  12.626150  \n",
      "361  13.99870  50.3913  19.695387  \n",
      "362  13.19460  57.4167   8.000604  \n",
      "363  15.94060  63.6667   9.000579  \n",
      "364  20.70605  61.5833  14.750318  \n",
      "\n",
      "[365 rows x 11 columns]\n",
      "     season  yr  mnth  holiday  weekday  workingday  weathersit       temp  \\\n",
      "365       1   1     1        0        0           0           1  15.170000   \n",
      "366       1   1     1        1        1           0           1  11.194763   \n",
      "367       1   1     1        0        2           1           1   6.150000   \n",
      "368       1   1     1        0        3           1           2   4.407500   \n",
      "369       1   1     1        0        4           1           1  10.899153   \n",
      "..      ...  ..   ...      ...      ...         ...         ...        ...   \n",
      "725       1   1    12        0        4           1           2  10.420847   \n",
      "726       1   1    12        0        5           1           2  10.386653   \n",
      "727       1   1    12        0        6           0           2  10.386653   \n",
      "728       1   1    12        0        0           0           1  10.489153   \n",
      "729       1   1    12        0        1           1           2   8.849153   \n",
      "\n",
      "        atemp      hum  windspeed  \n",
      "365  18.78105  69.2500  12.875189  \n",
      "366  12.61520  38.1304  22.087555  \n",
      "367   6.31375  44.1250  24.499957  \n",
      "368   5.96685  41.4583  12.374900  \n",
      "369  13.92060  52.4167   8.709129  \n",
      "..        ...      ...        ...  \n",
      "725  11.33210  65.2917  23.458911  \n",
      "726  12.75230  59.0000  10.416557  \n",
      "727  12.12000  75.2917   8.333661  \n",
      "728  11.58500  48.3333  23.500518  \n",
      "729  11.17435  57.7500  10.374682  \n",
      "\n",
      "[365 rows x 11 columns]\n"
     ]
    },
    {
     "name": "stderr",
     "output_type": "stream",
     "text": [
      "C:\\Users\\Qingyuan_Qu\\AppData\\Local\\Temp\\ipykernel_5336\\8357129.py:2: SettingWithCopyWarning: \n",
      "A value is trying to be set on a copy of a slice from a DataFrame\n",
      "\n",
      "See the caveats in the documentation: https://pandas.pydata.org/pandas-docs/stable/user_guide/indexing.html#returning-a-view-versus-a-copy\n",
      "  train_data.drop(train_data.columns[0:2], axis = 1,inplace=True)\n",
      "C:\\Users\\Qingyuan_Qu\\AppData\\Local\\Temp\\ipykernel_5336\\8357129.py:3: SettingWithCopyWarning: \n",
      "A value is trying to be set on a copy of a slice from a DataFrame\n",
      "\n",
      "See the caveats in the documentation: https://pandas.pydata.org/pandas-docs/stable/user_guide/indexing.html#returning-a-view-versus-a-copy\n",
      "  train_data.drop(train_data.columns[-3:], axis = 1,inplace=True)\n",
      "C:\\Users\\Qingyuan_Qu\\AppData\\Local\\Temp\\ipykernel_5336\\8357129.py:6: SettingWithCopyWarning: \n",
      "A value is trying to be set on a copy of a slice from a DataFrame\n",
      "\n",
      "See the caveats in the documentation: https://pandas.pydata.org/pandas-docs/stable/user_guide/indexing.html#returning-a-view-versus-a-copy\n",
      "  test_data.drop(test_data.columns[0:2], axis = 1,inplace=True)\n",
      "C:\\Users\\Qingyuan_Qu\\AppData\\Local\\Temp\\ipykernel_5336\\8357129.py:7: SettingWithCopyWarning: \n",
      "A value is trying to be set on a copy of a slice from a DataFrame\n",
      "\n",
      "See the caveats in the documentation: https://pandas.pydata.org/pandas-docs/stable/user_guide/indexing.html#returning-a-view-versus-a-copy\n",
      "  test_data.drop(test_data.columns[-3:], axis = 1,inplace=True)\n"
     ]
    }
   ],
   "source": [
    "train_y = train_data['cnt'].values\n",
    "train_data.drop(train_data.columns[0:2], axis = 1,inplace=True)\n",
    "train_data.drop(train_data.columns[-3:], axis = 1,inplace=True)\n",
    "\n",
    "test_y = test_data['cnt'].values\n",
    "test_data.drop(test_data.columns[0:2], axis = 1,inplace=True)\n",
    "test_data.drop(test_data.columns[-3:], axis = 1,inplace=True)\n",
    "\n",
    "print (train_data)\n",
    "print (test_data)"
   ]
  },
  {
   "cell_type": "markdown",
   "metadata": {},
   "source": [
    "### 2.4 单变量分析\n",
    "#### 2.4.1 预测值的直方图分布"
   ]
  },
  {
   "cell_type": "code",
   "execution_count": 9,
   "metadata": {},
   "outputs": [
    {
     "name": "stderr",
     "output_type": "stream",
     "text": [
      "C:\\Users\\Qingyuan_Qu\\AppData\\Local\\Temp\\ipykernel_5336\\3430539495.py:2: UserWarning: \n",
      "\n",
      "`distplot` is a deprecated function and will be removed in seaborn v0.14.0.\n",
      "\n",
      "Please adapt your code to use either `displot` (a figure-level function with\n",
      "similar flexibility) or `histplot` (an axes-level function for histograms).\n",
      "\n",
      "For a guide to updating your code to use the new functions, please see\n",
      "https://gist.github.com/mwaskom/de44147ed2974457ad6372750bbe5751\n",
      "\n",
      "  sns.distplot(train_y,bins = 30,kde=False)\n"
     ]
    },
    {
     "data": {
      "image/png": "[encoded data removed]",
      "text/plain": [
       "<Figure size 640x480 with 1 Axes>"
      ]
     },
     "metadata": {},
     "output_type": "display_data"
    }
   ],
   "source": [
    "flg = plt.figure()\n",
    "sns.distplot(train_y,bins = 30,kde=False)\n",
    "plt.xlabel('cnt disribute', fontsize=12)\n",
    "plt.show()"
   ]
  },
  {
   "cell_type": "markdown",
   "metadata": {},
   "source": [
    "#### 2.4.2  单特征变量的直方图\n",
    "季节的统计"
   ]
  },
  {
   "cell_type": "code",
   "execution_count": 10,
   "metadata": {},
   "outputs": [
    {
     "name": "stderr",
     "output_type": "stream",
     "text": [
      "C:\\Users\\Qingyuan_Qu\\AppData\\Local\\Temp\\ipykernel_5336\\737446265.py:2: UserWarning: \n",
      "\n",
      "`distplot` is a deprecated function and will be removed in seaborn v0.14.0.\n",
      "\n",
      "Please adapt your code to use either `displot` (a figure-level function with\n",
      "similar flexibility) or `histplot` (an axes-level function for histograms).\n",
      "\n",
      "For a guide to updating your code to use the new functions, please see\n",
      "https://gist.github.com/mwaskom/de44147ed2974457ad6372750bbe5751\n",
      "\n",
      "  sns.distplot(train_data['season'].values, kde=False)\n"
     ]
    },
    {
     "data": {
      "image/png": "[encoded data removed]",
      "text/plain": [
       "<Figure size 640x480 with 1 Axes>"
      ]
     },
     "metadata": {},
     "output_type": "display_data"
    }
   ],
   "source": [
    "fig = plt.figure()\n",
    "sns.distplot(train_data['season'].values, kde=False)\n",
    "plt.xlabel('season', fontsize=12)\n",
    "plt.show()"
   ]
  },
  {
   "cell_type": "markdown",
   "metadata": {},
   "source": [
    "月份的统计，月份( 1 to 12)\n",
    "1到12月，每月的用车数量差异不很大"
   ]
  },
  {
   "cell_type": "code",
   "execution_count": 13,
   "metadata": {},
   "outputs": [
    {
     "name": "stderr",
     "output_type": "stream",
     "text": [
      "C:\\Users\\Qingyuan_Qu\\AppData\\Local\\Temp\\ipykernel_5336\\1035624499.py:2: UserWarning: \n",
      "\n",
      "`distplot` is a deprecated function and will be removed in seaborn v0.14.0.\n",
      "\n",
      "Please adapt your code to use either `displot` (a figure-level function with\n",
      "similar flexibility) or `histplot` (an axes-level function for histograms).\n",
      "\n",
      "For a guide to updating your code to use the new functions, please see\n",
      "https://gist.github.com/mwaskom/de44147ed2974457ad6372750bbe5751\n",
      "\n",
      "  sns.distplot(train_data['mnth'].values, bins= 30, kde=False)\n"
     ]
    },
    {
     "data": {
      "image/png": "[encoded data removed]",
      "text/plain": [
       "<Figure size 640x480 with 1 Axes>"
      ]
     },
     "metadata": {},
     "output_type": "display_data"
    }
   ],
   "source": [
    "fig = plt.figure()\n",
    "sns.distplot(train_data['mnth'].values, bins= 30, kde=False)\n",
    "plt.xlabel('month', fontsize=12)\n",
    "plt.show()"
   ]
  },
  {
   "cell_type": "markdown",
   "metadata": {},
   "source": [
    " 节假日统计"
   ]
  },
  {
   "cell_type": "code",
   "execution_count": 22,
   "metadata": {},
   "outputs": [
    {
     "data": {
      "text/plain": [
       "weekday\n",
       "6    53\n",
       "0    52\n",
       "1    52\n",
       "2    52\n",
       "3    52\n",
       "4    52\n",
       "5    52\n",
       "Name: count, dtype: int64"
      ]
     },
     "execution_count": 22,
     "metadata": {},
     "output_type": "execute_result"
    }
   ],
   "source": [
    "train_data['weekday'].value_counts()"
   ]
  },
  {
   "cell_type": "code",
   "execution_count": 14,
   "metadata": {},
   "outputs": [
    {
     "name": "stderr",
     "output_type": "stream",
     "text": [
      "C:\\Users\\Qingyuan_Qu\\AppData\\Local\\Temp\\ipykernel_5336\\4260181849.py:2: UserWarning: \n",
      "\n",
      "`distplot` is a deprecated function and will be removed in seaborn v0.14.0.\n",
      "\n",
      "Please adapt your code to use either `displot` (a figure-level function with\n",
      "similar flexibility) or `histplot` (an axes-level function for histograms).\n",
      "\n",
      "For a guide to updating your code to use the new functions, please see\n",
      "https://gist.github.com/mwaskom/de44147ed2974457ad6372750bbe5751\n",
      "\n",
      "  sns.distplot(train_data['holiday'].values, bins= 30, kde=False)\n"
     ]
    },
    {
     "data": {
      "image/png": "[encoded data removed]",
      "text/plain": [
       "<Figure size 640x480 with 1 Axes>"
      ]
     },
     "metadata": {},
     "output_type": "display_data"
    }
   ],
   "source": [
    "fig = plt.figure()\n",
    "sns.distplot(train_data['holiday'].values, bins= 30, kde=False)\n",
    "plt.xlabel('holiday', fontsize=12)\n",
    "plt.show()"
   ]
  },
  {
   "cell_type": "markdown",
   "metadata": {},
   "source": [
    "一周当中星期几的统计，取值为0～6\n",
    "周一到周天的用车数量差不多"
   ]
  },
  {
   "cell_type": "code",
   "execution_count": 24,
   "metadata": {},
   "outputs": [
    {
     "name": "stderr",
     "output_type": "stream",
     "text": [
      "C:\\Users\\Qingyuan_Qu\\AppData\\Local\\Temp\\ipykernel_5336\\3615217823.py:2: UserWarning: \n",
      "\n",
      "`distplot` is a deprecated function and will be removed in seaborn v0.14.0.\n",
      "\n",
      "Please adapt your code to use either `displot` (a figure-level function with\n",
      "similar flexibility) or `histplot` (an axes-level function for histograms).\n",
      "\n",
      "For a guide to updating your code to use the new functions, please see\n",
      "https://gist.github.com/mwaskom/de44147ed2974457ad6372750bbe5751\n",
      "\n",
      "  sns.distplot(train_data['weekday'].values, bins= 30, kde=False)\n"
     ]
    },
    {
     "data": {
      "image/png": "[encoded data removed]",
      "text/plain": [
       "<Figure size 640x480 with 1 Axes>"
      ]
     },
     "metadata": {},
     "output_type": "display_data"
    }
   ],
   "source": [
    "fig = plt.figure()\n",
    "sns.distplot(train_data['weekday'].values, bins= 30, kde=False)\n",
    "plt.xlabel('weekday', fontsize=12)\n",
    "plt.show()"
   ]
  },
  {
   "cell_type": "markdown",
   "metadata": {},
   "source": [
    "是否工作日的统计\n",
    "1=工作日 （非周末和节假日）\n",
    "0=周末\n",
    "工作日用车的人多一些"
   ]
  },
  {
   "cell_type": "code",
   "execution_count": 25,
   "metadata": {},
   "outputs": [
    {
     "data": {
      "text/plain": [
       "workingday\n",
       "1    250\n",
       "0    115\n",
       "Name: count, dtype: int64"
      ]
     },
     "execution_count": 25,
     "metadata": {},
     "output_type": "execute_result"
    }
   ],
   "source": [
    "train_data['workingday'].value_counts()"
   ]
  },
  {
   "cell_type": "code",
   "execution_count": 39,
   "metadata": {},
   "outputs": [
    {
     "name": "stderr",
     "output_type": "stream",
     "text": [
      "C:\\Users\\Qingyuan_Qu\\AppData\\Local\\Temp\\ipykernel_14808\\2021534645.py:2: UserWarning: \n",
      "\n",
      "`distplot` is a deprecated function and will be removed in seaborn v0.14.0.\n",
      "\n",
      "Please adapt your code to use either `displot` (a figure-level function with\n",
      "similar flexibility) or `histplot` (an axes-level function for histograms).\n",
      "\n",
      "For a guide to updating your code to use the new functions, please see\n",
      "https://gist.github.com/mwaskom/de44147ed2974457ad6372750bbe5751\n",
      "\n",
      "  sns.distplot(train_data['workingday'].values, bins= 30, kde=False)\n"
     ]
    },
    {
     "data": {
      "image/png": "[encoded data removed]",
      "text/plain": [
       "<Figure size 640x480 with 1 Axes>"
      ]
     },
     "metadata": {},
     "output_type": "display_data"
    }
   ],
   "source": [
    "fig = plt.figure()\n",
    "sns.distplot(train_data['workingday'].values, bins= 30, kde=False)\n",
    "plt.xlabel('workingday', fontsize=12)\n",
    "plt.show()"
   ]
  },
  {
   "cell_type": "markdown",
   "metadata": {},
   "source": [
    "天气的统计，\n",
    "1：晴天，多云\n",
    "2：雾天，阴天\n",
    "3：小雪，小雨\n",
    "4：大雨，大雪，大雾  \n",
    "可以看出晴天和阴天的用车的人多。天气的影响还是很明显的"
   ]
  },
  {
   "cell_type": "code",
   "execution_count": 40,
   "metadata": {},
   "outputs": [
    {
     "name": "stderr",
     "output_type": "stream",
     "text": [
      "C:\\Users\\Qingyuan_Qu\\AppData\\Local\\Temp\\ipykernel_14808\\4205070502.py:2: UserWarning: \n",
      "\n",
      "`distplot` is a deprecated function and will be removed in seaborn v0.14.0.\n",
      "\n",
      "Please adapt your code to use either `displot` (a figure-level function with\n",
      "similar flexibility) or `histplot` (an axes-level function for histograms).\n",
      "\n",
      "For a guide to updating your code to use the new functions, please see\n",
      "https://gist.github.com/mwaskom/de44147ed2974457ad6372750bbe5751\n",
      "\n",
      "  sns.distplot(train_data['weathersit'].values, bins= 30, kde=False)\n"
     ]
    },
    {
     "data": {
      "image/png": "[encoded data removed]",
      "text/plain": [
       "<Figure size 640x480 with 1 Axes>"
      ]
     },
     "metadata": {},
     "output_type": "display_data"
    }
   ],
   "source": [
    "fig = plt.figure()\n",
    "sns.distplot(train_data['weathersit'].values, bins= 30, kde=False)\n",
    "plt.xlabel('weathersit', fontsize=12)\n",
    "plt.show()"
   ]
  },
  {
   "cell_type": "markdown",
   "metadata": {},
   "source": [
    "气温摄氏度的统计"
   ]
  },
  {
   "cell_type": "code",
   "execution_count": 41,
   "metadata": {},
   "outputs": [
    {
     "name": "stderr",
     "output_type": "stream",
     "text": [
      "C:\\Users\\Qingyuan_Qu\\AppData\\Local\\Temp\\ipykernel_14808\\1639294404.py:2: UserWarning: \n",
      "\n",
      "`distplot` is a deprecated function and will be removed in seaborn v0.14.0.\n",
      "\n",
      "Please adapt your code to use either `displot` (a figure-level function with\n",
      "similar flexibility) or `histplot` (an axes-level function for histograms).\n",
      "\n",
      "For a guide to updating your code to use the new functions, please see\n",
      "https://gist.github.com/mwaskom/de44147ed2974457ad6372750bbe5751\n",
      "\n",
      "  sns.distplot(train_data['temp'].values, bins= 100, kde=False)\n"
     ]
    },
    {
     "data": {
      "image/png": "[encoded data removed]",
      "text/plain": [
       "<Figure size 640x480 with 1 Axes>"
      ]
     },
     "metadata": {},
     "output_type": "display_data"
    }
   ],
   "source": [
    "fig = plt.figure()\n",
    "sns.distplot(train_data['temp'].values, bins= 100, kde=False)\n",
    "plt.xlabel('temp', fontsize=12)\n",
    "plt.show()"
   ]
  },
  {
   "cell_type": "markdown",
   "metadata": {},
   "source": [
    "体感温度的统计"
   ]
  },
  {
   "cell_type": "code",
   "execution_count": 42,
   "metadata": {},
   "outputs": [
    {
     "name": "stderr",
     "output_type": "stream",
     "text": [
      "C:\\Users\\Qingyuan_Qu\\AppData\\Local\\Temp\\ipykernel_14808\\4271299412.py:2: UserWarning: \n",
      "\n",
      "`distplot` is a deprecated function and will be removed in seaborn v0.14.0.\n",
      "\n",
      "Please adapt your code to use either `displot` (a figure-level function with\n",
      "similar flexibility) or `histplot` (an axes-level function for histograms).\n",
      "\n",
      "For a guide to updating your code to use the new functions, please see\n",
      "https://gist.github.com/mwaskom/de44147ed2974457ad6372750bbe5751\n",
      "\n",
      "  sns.distplot(train_data['atemp'].values, bins= 100, kde=False)\n"
     ]
    },
    {
     "data": {
      "image/png": "[encoded data removed]",
      "text/plain": [
       "<Figure size 640x480 with 1 Axes>"
      ]
     },
     "metadata": {},
     "output_type": "display_data"
    }
   ],
   "source": [
    "fig = plt.figure()\n",
    "sns.distplot(train_data['atemp'].values, bins= 100, kde=False)\n",
    "plt.xlabel('atemp', fontsize=12)\n",
    "plt.show()"
   ]
  },
  {
   "cell_type": "markdown",
   "metadata": {},
   "source": [
    "湿度的统计"
   ]
  },
  {
   "cell_type": "code",
   "execution_count": 43,
   "metadata": {},
   "outputs": [
    {
     "name": "stderr",
     "output_type": "stream",
     "text": [
      "C:\\Users\\Qingyuan_Qu\\AppData\\Local\\Temp\\ipykernel_14808\\583007748.py:2: UserWarning: \n",
      "\n",
      "`distplot` is a deprecated function and will be removed in seaborn v0.14.0.\n",
      "\n",
      "Please adapt your code to use either `displot` (a figure-level function with\n",
      "similar flexibility) or `histplot` (an axes-level function for histograms).\n",
      "\n",
      "For a guide to updating your code to use the new functions, please see\n",
      "https://gist.github.com/mwaskom/de44147ed2974457ad6372750bbe5751\n",
      "\n",
      "  sns.distplot(train_data['hum'].values, bins= 100, kde=False)\n"
     ]
    },
    {
     "data": {
      "image/png": "[encoded data removed]",
      "text/plain": [
       "<Figure size 640x480 with 1 Axes>"
      ]
     },
     "metadata": {},
     "output_type": "display_data"
    }
   ],
   "source": [
    "fig = plt.figure()\n",
    "sns.distplot(train_data['hum'].values, bins= 100, kde=False)\n",
    "plt.xlabel('hum', fontsize=12)\n",
    "plt.show()"
   ]
  },
  {
   "cell_type": "markdown",
   "metadata": {},
   "source": [
    "风速的统计\n",
    "大风的情况下，用车数量少"
   ]
  },
  {
   "cell_type": "code",
   "execution_count": 44,
   "metadata": {},
   "outputs": [
    {
     "name": "stderr",
     "output_type": "stream",
     "text": [
      "C:\\Users\\Qingyuan_Qu\\AppData\\Local\\Temp\\ipykernel_14808\\176411175.py:2: UserWarning: \n",
      "\n",
      "`distplot` is a deprecated function and will be removed in seaborn v0.14.0.\n",
      "\n",
      "Please adapt your code to use either `displot` (a figure-level function with\n",
      "similar flexibility) or `histplot` (an axes-level function for histograms).\n",
      "\n",
      "For a guide to updating your code to use the new functions, please see\n",
      "https://gist.github.com/mwaskom/de44147ed2974457ad6372750bbe5751\n",
      "\n",
      "  sns.distplot(train_data['windspeed'].values, bins= 100, kde=False)\n"
     ]
    },
    {
     "data": {
      "image/png": "[encoded data removed]",
      "text/plain": [
       "<Figure size 640x480 with 1 Axes>"
      ]
     },
     "metadata": {},
     "output_type": "display_data"
    }
   ],
   "source": [
    "fig = plt.figure()\n",
    "sns.distplot(train_data['windspeed'].values, bins= 100, kde=False)\n",
    "plt.xlabel('windspeed', fontsize=12)\n",
    "plt.show()"
   ]
  },
  {
   "cell_type": "markdown",
   "metadata": {},
   "source": [
    "#### 2.4.3 两两特征变量之间的相关性分析"
   ]
  },
  {
   "cell_type": "code",
   "execution_count": 45,
   "metadata": {},
   "outputs": [
    {
     "ename": "ValueError",
     "evalue": "could not convert string to float: '01-01-2018'",
     "output_type": "error",
     "traceback": [
      "\u001b[1;31m---------------------------------------------------------------------------\u001b[0m",
      "\u001b[1;31mValueError\u001b[0m                                Traceback (most recent call last)",
      "Cell \u001b[1;32mIn[45], line 4\u001b[0m\n\u001b[0;32m      1\u001b[0m datadis \u001b[38;5;241m=\u001b[39m data\u001b[38;5;241m.\u001b[39mdrop(data\u001b[38;5;241m.\u001b[39mcolumns[\u001b[38;5;241m0\u001b[39m] , axis \u001b[38;5;241m=\u001b[39m \u001b[38;5;241m1\u001b[39m)\n\u001b[0;32m      2\u001b[0m datadis\u001b[38;5;241m.\u001b[39mdrop(datadis\u001b[38;5;241m.\u001b[39mcolumns[\u001b[38;5;241m12\u001b[39m:\u001b[38;5;241m14\u001b[39m],axis \u001b[38;5;241m=\u001b[39m \u001b[38;5;241m1\u001b[39m,inplace\u001b[38;5;241m=\u001b[39m\u001b[38;5;28;01mTrue\u001b[39;00m)\n\u001b[1;32m----> 4\u001b[0m datadis_corr \u001b[38;5;241m=\u001b[39m \u001b[43mdatadis\u001b[49m\u001b[38;5;241;43m.\u001b[39;49m\u001b[43mcorr\u001b[49m\u001b[43m(\u001b[49m\u001b[43m)\u001b[49m\u001b[38;5;241m.\u001b[39mabs()\n\u001b[0;32m      5\u001b[0m plt\u001b[38;5;241m.\u001b[39msubplots(figsize\u001b[38;5;241m=\u001b[39m(\u001b[38;5;241m13\u001b[39m, \u001b[38;5;241m9\u001b[39m))\n\u001b[0;32m      6\u001b[0m sns\u001b[38;5;241m.\u001b[39mheatmap(datadis_corr,annot\u001b[38;5;241m=\u001b[39m\u001b[38;5;28;01mTrue\u001b[39;00m)\n",
      "File \u001b[1;32mD:\\Program Files\\Python312\\Lib\\site-packages\\pandas\\core\\frame.py:10707\u001b[0m, in \u001b[0;36mDataFrame.corr\u001b[1;34m(self, method, min_periods, numeric_only)\u001b[0m\n\u001b[0;32m  10705\u001b[0m cols \u001b[38;5;241m=\u001b[39m data\u001b[38;5;241m.\u001b[39mcolumns\n\u001b[0;32m  10706\u001b[0m idx \u001b[38;5;241m=\u001b[39m cols\u001b[38;5;241m.\u001b[39mcopy()\n\u001b[1;32m> 10707\u001b[0m mat \u001b[38;5;241m=\u001b[39m \u001b[43mdata\u001b[49m\u001b[38;5;241;43m.\u001b[39;49m\u001b[43mto_numpy\u001b[49m\u001b[43m(\u001b[49m\u001b[43mdtype\u001b[49m\u001b[38;5;241;43m=\u001b[39;49m\u001b[38;5;28;43mfloat\u001b[39;49m\u001b[43m,\u001b[49m\u001b[43m \u001b[49m\u001b[43mna_value\u001b[49m\u001b[38;5;241;43m=\u001b[39;49m\u001b[43mnp\u001b[49m\u001b[38;5;241;43m.\u001b[39;49m\u001b[43mnan\u001b[49m\u001b[43m,\u001b[49m\u001b[43m \u001b[49m\u001b[43mcopy\u001b[49m\u001b[38;5;241;43m=\u001b[39;49m\u001b[38;5;28;43;01mFalse\u001b[39;49;00m\u001b[43m)\u001b[49m\n\u001b[0;32m  10709\u001b[0m \u001b[38;5;28;01mif\u001b[39;00m method \u001b[38;5;241m==\u001b[39m \u001b[38;5;124m\"\u001b[39m\u001b[38;5;124mpearson\u001b[39m\u001b[38;5;124m\"\u001b[39m:\n\u001b[0;32m  10710\u001b[0m     correl \u001b[38;5;241m=\u001b[39m libalgos\u001b[38;5;241m.\u001b[39mnancorr(mat, minp\u001b[38;5;241m=\u001b[39mmin_periods)\n",
      "File \u001b[1;32mD:\\Program Files\\Python312\\Lib\\site-packages\\pandas\\core\\frame.py:1892\u001b[0m, in \u001b[0;36mDataFrame.to_numpy\u001b[1;34m(self, dtype, copy, na_value)\u001b[0m\n\u001b[0;32m   1890\u001b[0m \u001b[38;5;28;01mif\u001b[39;00m dtype \u001b[38;5;129;01mis\u001b[39;00m \u001b[38;5;129;01mnot\u001b[39;00m \u001b[38;5;28;01mNone\u001b[39;00m:\n\u001b[0;32m   1891\u001b[0m     dtype \u001b[38;5;241m=\u001b[39m np\u001b[38;5;241m.\u001b[39mdtype(dtype)\n\u001b[1;32m-> 1892\u001b[0m result \u001b[38;5;241m=\u001b[39m \u001b[38;5;28;43mself\u001b[39;49m\u001b[38;5;241;43m.\u001b[39;49m\u001b[43m_mgr\u001b[49m\u001b[38;5;241;43m.\u001b[39;49m\u001b[43mas_array\u001b[49m\u001b[43m(\u001b[49m\u001b[43mdtype\u001b[49m\u001b[38;5;241;43m=\u001b[39;49m\u001b[43mdtype\u001b[49m\u001b[43m,\u001b[49m\u001b[43m \u001b[49m\u001b[43mcopy\u001b[49m\u001b[38;5;241;43m=\u001b[39;49m\u001b[43mcopy\u001b[49m\u001b[43m,\u001b[49m\u001b[43m \u001b[49m\u001b[43mna_value\u001b[49m\u001b[38;5;241;43m=\u001b[39;49m\u001b[43mna_value\u001b[49m\u001b[43m)\u001b[49m\n\u001b[0;32m   1893\u001b[0m \u001b[38;5;28;01mif\u001b[39;00m result\u001b[38;5;241m.\u001b[39mdtype \u001b[38;5;129;01mis\u001b[39;00m \u001b[38;5;129;01mnot\u001b[39;00m dtype:\n\u001b[0;32m   1894\u001b[0m     result \u001b[38;5;241m=\u001b[39m np\u001b[38;5;241m.\u001b[39marray(result, dtype\u001b[38;5;241m=\u001b[39mdtype, copy\u001b[38;5;241m=\u001b[39m\u001b[38;5;28;01mFalse\u001b[39;00m)\n",
      "File \u001b[1;32mD:\\Program Files\\Python312\\Lib\\site-packages\\pandas\\core\\internals\\managers.py:1656\u001b[0m, in \u001b[0;36mBlockManager.as_array\u001b[1;34m(self, dtype, copy, na_value)\u001b[0m\n\u001b[0;32m   1654\u001b[0m         arr\u001b[38;5;241m.\u001b[39mflags\u001b[38;5;241m.\u001b[39mwriteable \u001b[38;5;241m=\u001b[39m \u001b[38;5;28;01mFalse\u001b[39;00m\n\u001b[0;32m   1655\u001b[0m \u001b[38;5;28;01melse\u001b[39;00m:\n\u001b[1;32m-> 1656\u001b[0m     arr \u001b[38;5;241m=\u001b[39m \u001b[38;5;28;43mself\u001b[39;49m\u001b[38;5;241;43m.\u001b[39;49m\u001b[43m_interleave\u001b[49m\u001b[43m(\u001b[49m\u001b[43mdtype\u001b[49m\u001b[38;5;241;43m=\u001b[39;49m\u001b[43mdtype\u001b[49m\u001b[43m,\u001b[49m\u001b[43m \u001b[49m\u001b[43mna_value\u001b[49m\u001b[38;5;241;43m=\u001b[39;49m\u001b[43mna_value\u001b[49m\u001b[43m)\u001b[49m\n\u001b[0;32m   1657\u001b[0m     \u001b[38;5;66;03m# The underlying data was copied within _interleave, so no need\u001b[39;00m\n\u001b[0;32m   1658\u001b[0m     \u001b[38;5;66;03m# to further copy if copy=True or setting na_value\u001b[39;00m\n\u001b[0;32m   1660\u001b[0m \u001b[38;5;28;01mif\u001b[39;00m na_value \u001b[38;5;129;01mis\u001b[39;00m lib\u001b[38;5;241m.\u001b[39mno_default:\n",
      "File \u001b[1;32mD:\\Program Files\\Python312\\Lib\\site-packages\\pandas\\core\\internals\\managers.py:1715\u001b[0m, in \u001b[0;36mBlockManager._interleave\u001b[1;34m(self, dtype, na_value)\u001b[0m\n\u001b[0;32m   1713\u001b[0m     \u001b[38;5;28;01melse\u001b[39;00m:\n\u001b[0;32m   1714\u001b[0m         arr \u001b[38;5;241m=\u001b[39m blk\u001b[38;5;241m.\u001b[39mget_values(dtype)\n\u001b[1;32m-> 1715\u001b[0m     \u001b[43mresult\u001b[49m\u001b[43m[\u001b[49m\u001b[43mrl\u001b[49m\u001b[38;5;241;43m.\u001b[39;49m\u001b[43mindexer\u001b[49m\u001b[43m]\u001b[49m \u001b[38;5;241m=\u001b[39m arr\n\u001b[0;32m   1716\u001b[0m     itemmask[rl\u001b[38;5;241m.\u001b[39mindexer] \u001b[38;5;241m=\u001b[39m \u001b[38;5;241m1\u001b[39m\n\u001b[0;32m   1718\u001b[0m \u001b[38;5;28;01mif\u001b[39;00m \u001b[38;5;129;01mnot\u001b[39;00m itemmask\u001b[38;5;241m.\u001b[39mall():\n",
      "\u001b[1;31mValueError\u001b[0m: could not convert string to float: '01-01-2018'"
     ]
    }
   ],
   "source": [
    "datadis = data.drop(data.columns[0] , axis = 1)\n",
    "datadis.drop(datadis.columns[12:14],axis = 1,inplace=True)\n",
    "\n",
    "datadis_corr = datadis.corr().abs()\n",
    "plt.subplots(figsize=(13, 9))\n",
    "sns.heatmap(datadis_corr,annot=True)\n",
    "\n",
    "# Mask unimportant features\n",
    "sns.heatmap(datadis_corr, mask=datadis_corr < 1, cbar=False)\n",
    "plt.show()"
   ]
  },
  {
   "cell_type": "markdown",
   "metadata": {},
   "source": [
    "### 从上面的特征变量直方图统计来看， 年份、星期、月份对数据的分布影响不大，考虑可以去除这部分特征。"
   ]
  },
  {
   "cell_type": "code",
   "execution_count": null,
   "metadata": {},
   "outputs": [],
   "source": [
    "train_data.drop(train_data.columns[1:6],axis = 1, inplace= True)\n",
    "test_data.drop(test_data.columns[1:6],axis = 1, inplace= True)\n",
    "print (test_data)"
   ]
  },
  {
   "cell_type": "markdown",
   "metadata": {},
   "source": [
    "#### 对类别数据进行onehot编码，并添加到原始数据集中。包括季节、天气。"
   ]
  },
  {
   "cell_type": "code",
   "execution_count": null,
   "metadata": {},
   "outputs": [],
   "source": [
    "season_train = pd.get_dummies(train_data['season'])\n",
    "season_train.columns = ['spring','summer','auto','winter']\n",
    "\n",
    "weathersit_train = pd.get_dummies(train_data['weathersit'])\n",
    "weathersit_train.columns = ['sun','fog','small_snow']\n",
    "\n",
    "train_data = pd.concat([train_data,season_train,weathersit_train],axis = 1)\n",
    "train_data.drop(train_data.columns[0:2], axis = 1, inplace = True)\n",
    "print(train_data)\n",
    "\n",
    "season_test = pd.get_dummies(test_data['season'])\n",
    "season_test.columns = ['spring','summer','auto','winter']\n",
    "\n",
    "weathersit_test = pd.get_dummies(test_data['weathersit'])\n",
    "weathersit_test.columns = ['sun','fog','small_snow']\n",
    "\n",
    "test_data = pd.concat([test_data,season_test,weathersit_test],axis = 1)\n",
    "test_data.drop(test_data.columns[0:2], axis = 1, inplace = True)\n",
    "print(test_data)\n"
   ]
  },
  {
   "cell_type": "markdown",
   "metadata": {},
   "source": [
    "#### 对数值型数据进行归一化处理。这里采用标准化的归一处理"
   ]
  },
  {
   "cell_type": "code",
   "execution_count": null,
   "metadata": {},
   "outputs": [],
   "source": [
    "# 数据标准化\n",
    "from sklearn.preprocessing import StandardScaler\n",
    "# 分别初始化对特征和目标值的标准化器\n",
    "ss_train = StandardScaler()\n",
    "ss_test = StandardScaler()\n",
    "\n",
    "train_data = ss_train.fit_transform(train_data)\n",
    "train_y = ss_train.fit_transform(train_y.reshape(-1,1))\n",
    "\n",
    "test_data = ss_test.fit_transform(test_data)\n",
    "test_y =  ss_test.fit_transform(test_y.reshape(-1,1))"
   ]
  },
  {
   "cell_type": "markdown",
   "metadata": {},
   "source": [
    "## 3、模型选择及参数调整\n",
    "\n",
    "### 3.1 岭回归"
   ]
  },
  {
   "cell_type": "code",
   "execution_count": null,
   "metadata": {},
   "outputs": [],
   "source": [
    "from sklearn.linear_model import  RidgeCV,LassoCV\n",
    "from sklearn.metrics import r2_score  #评价回归预测模型的性能\n",
    "#设置超参数（正则参数）范围\n",
    "alphas = [ 0.01, 0.1, 1, 10,100]\n",
    "#生成一个RidgeCV实例\n",
    "ridge = RidgeCV(alphas=alphas, store_cv_values=True)  \n",
    "\n",
    "#模型训练\n",
    "ridge.fit(train_data, train_y)    \n",
    "\n",
    "#预测\n",
    "y_test_pred_ridge = ridge.predict(test_data)\n",
    "y_train_pred_ridge = ridge.predict(train_data)\n",
    "\n",
    "\n",
    "# 评估，使用r2_score评价模型在测试集和训练集上的性能\n",
    "print ('The r2 score of RidgeCV on test is', r2_score(test_y, y_test_pred_ridge))\n",
    "print ('The r2 score of RidgeCV on train is', r2_score(train_y, y_train_pred_ridge))"
   ]
  },
  {
   "cell_type": "markdown",
   "metadata": {},
   "source": [
    "### 3.2 可视化"
   ]
  },
  {
   "cell_type": "code",
   "execution_count": null,
   "metadata": {},
   "outputs": [],
   "source": [
    "mse_mean = np.mean(ridge.cv_values_, axis = 0)\n",
    "plt.plot(np.log10(alphas), mse_mean.reshape(len(alphas),1)) \n",
    "\n",
    "plt.xlabel('log(alpha)')\n",
    "plt.ylabel('mse')\n",
    "plt.show()\n",
    "\n",
    "print ('alpha is:', ridge.alpha_)"
   ]
  },
  {
   "cell_type": "code",
   "execution_count": null,
   "metadata": {},
   "outputs": [],
   "source": [
    "#在训练集上观察岭回归预测残差的分布，看是否符合模型假设：噪声为0均值的高斯噪声\n",
    "f, ax = plt.subplots(figsize=(7, 5)) \n",
    "f.tight_layout() \n",
    "ax.hist(train_y - y_train_pred_ridge,bins=40, label='Residuals Linear', color='b', alpha=.5); \n",
    "ax.set_title(\"Histogram of Residuals\") \n",
    "ax.legend(loc='best');\n",
    "plt.show()"
   ]
  },
  {
   "cell_type": "markdown",
   "metadata": {},
   "source": [
    "### 3.3 Lasso回归"
   ]
  },
  {
   "cell_type": "code",
   "execution_count": null,
   "metadata": {},
   "outputs": [],
   "source": [
    "#生成一个LassoCV实例\n",
    "lasso = LassoCV()  \n",
    "#模型训练\n",
    "lasso.fit(train_data, train_y)    \n",
    "\n",
    "#预测\n",
    "y_test_pred_lasso = lasso.predict(test_data)\n",
    "y_train_pred_lasso = lasso.predict(train_data)\n",
    "\n",
    "\n",
    "# 评估，使用r2_score评价模型在测试集和训练集上的性能\n",
    "print ('The r2 score of LassoCV on test is', r2_score(test_y, y_test_pred_lasso))\n",
    "print ('The r2 score of LassoCV on train is', r2_score(train_y, y_train_pred_lasso))"
   ]
  },
  {
   "cell_type": "code",
   "execution_count": null,
   "metadata": {},
   "outputs": [],
   "source": [
    "mses = np.mean(lasso.mse_path_, axis = 1)\n",
    "plt.plot(np.log10(lasso.alphas_), mses) \n",
    "plt.xlabel('log(alpha)')\n",
    "plt.ylabel('mse')\n",
    "plt.show()    \n",
    "            \n",
    "print ('alpha is:', lasso.alpha_)"
   ]
  },
  {
   "cell_type": "code",
   "execution_count": null,
   "metadata": {},
   "outputs": [],
   "source": []
  }
 ],
 "metadata": {
  "kernelspec": {
   "display_name": "Python 3 (ipykernel)",
   "language": "python",
   "name": "python3"
  },
  "language_info": {
   "codemirror_mode": {
    "name": "ipython",
    "version": 3
   },
   "file_extension": ".py",
   "mimetype": "text/x-python",
   "name": "python",
   "nbconvert_exporter": "python",
   "pygments_lexer": "ipython3",
   "version": "3.12.2"
  }
 },
 "nbformat": 4,
 "nbformat_minor": 4
}
