{
 "cells": [
  {
   "cell_type": "markdown",
   "metadata": {
    "editable": true,
    "slideshow": {
     "slide_type": "slide"
    },
    "tags": []
   },
   "source": [
    "# 矩阵求导"
   ]
  },
  {
   "cell_type": "markdown",
   "metadata": {
    "editable": true,
    "slideshow": {
     "slide_type": "slide"
    },
    "tags": []
   },
   "source": [
    "## 1. 标量方程对向量的导数"
   ]
  },
  {
   "cell_type": "markdown",
   "metadata": {
    "editable": true,
    "slideshow": {
     "slide_type": "fragment"
    },
    "tags": []
   },
   "source": [
    "$$\n",
    "y = f(x_1, x_2, ..., x_m)\n",
    "$$\n",
    "分母布局：\n",
    "$$\n",
    "f'(x)=\n",
    "\\begin{bmatrix}  \n",
    "\\frac{\\partial{y}}{\\partial{x_1}} \\\\  \n",
    "\\frac{\\partial{y}}{\\partial{x_2}} \\\\  \n",
    "\\vdots\\\\  \n",
    "\\frac{\\partial{y}}{\\partial{x_m}} \\\\  \n",
    "\\end{bmatrix}  \n",
    "$$"
   ]
  },
  {
   "cell_type": "markdown",
   "metadata": {
    "editable": true,
    "slideshow": {
     "slide_type": "slide"
    },
    "tags": []
   },
   "source": [
    "例如：\n",
    "$$\n",
    "f(x) = x_1^2 + x_2^2 \n",
    "$$\n",
    "\n",
    "$$\n",
    "f'(x)=\n",
    "\\begin{bmatrix}\n",
    "\\frac{\\partial{y}}{\\partial{x_1}} \\\\  \n",
    "\\frac{\\partial{y}}{\\partial{x_2}} \\\\  \n",
    "\\end{bmatrix}\n",
    "=\n",
    "\\begin{bmatrix}\n",
    "2x_1 \\\\  \n",
    "2x_2 \\\\  \n",
    "\\end{bmatrix}\n",
    "$$"
   ]
  },
  {
   "cell_type": "markdown",
   "metadata": {
    "editable": true,
    "slideshow": {
     "slide_type": "slide"
    },
    "tags": []
   },
   "source": [
    "## 2.向量方程对向量的导数"
   ]
  },
  {
   "cell_type": "markdown",
   "metadata": {
    "editable": true,
    "slideshow": {
     "slide_type": "fragment"
    },
    "tags": []
   },
   "source": [
    "$$\n",
    "\\begin{bmatrix}  \n",
    "f_1(x) \\\\  \n",
    "f_2(x) \\\\  \n",
    "\\vdots\\\\  \n",
    "f_n(x) \\\\  \n",
    "\\end{bmatrix}  \n",
    "= \n",
    "\\begin{bmatrix}  \n",
    "f_1(x_1, x_2, x_m) \\\\  \n",
    "f_2(x_1, x_2, x_m) \\\\  \n",
    "\\vdots  \\\\  \n",
    "f_3(x_1, x_2, x_m) \\\\  \n",
    "\\end{bmatrix}\n",
    "$$"
   ]
  },
  {
   "cell_type": "markdown",
   "metadata": {
    "editable": true,
    "slideshow": {
     "slide_type": "fragment"
    },
    "tags": []
   },
   "source": [
    "$$\n",
    "\\begin{bmatrix}  \n",
    "f_1'(x) \\\\  \n",
    "f_2'(x) \\\\  \n",
    "\\vdots\\\\  \n",
    "f_n'(x) \\\\  \n",
    "\\end{bmatrix}  \n",
    "=\n",
    "\\begin{bmatrix}  \n",
    "\\frac{\\partial{f_1}}{\\partial{x_1}} & \\frac{\\partial{f_2}}{\\partial{x_1}} & \\cdots & \\frac{\\partial{f_n}}{\\partial{x_1}} \\\\  \n",
    "\\frac{\\partial{f_1}}{\\partial{x_2}} & \\frac{\\partial{f_2}}{\\partial{x_2}} & \\cdots & \\frac{\\partial{f_n}}{\\partial{x_2}} \\\\  \n",
    "\\vdots & \\vdots & \\ddots & \\vdots \\\\  \n",
    "\\frac{\\partial{f_1}}{\\partial{x_m}} & \\frac{\\partial{f_2}}{\\partial{x_m}} & \\cdots & \\frac{\\partial{f_n}}{\\partial{x_m}} \\\\  \n",
    "\\end{bmatrix}  \n",
    "$$"
   ]
  },
  {
   "cell_type": "markdown",
   "metadata": {
    "editable": true,
    "slideshow": {
     "slide_type": "slide"
    },
    "tags": []
   },
   "source": [
    "例如：\n",
    "$$\n",
    "\\begin{bmatrix}\n",
    "f_1(x) \\\\\n",
    "f_2(x)\n",
    "\\end{bmatrix}\n",
    "= \n",
    "\\begin{bmatrix}\n",
    "x_1^2+x_2^2+x_3 \\\\\n",
    "2x_1+x_3^2\n",
    "\\end{bmatrix}\n",
    "$$"
   ]
  },
  {
   "cell_type": "markdown",
   "metadata": {
    "editable": true,
    "slideshow": {
     "slide_type": "fragment"
    },
    "tags": []
   },
   "source": [
    "$$\n",
    "\\begin{bmatrix}\n",
    "f_1'(x) \\\\\n",
    "f_2'(x)\n",
    "\\end{bmatrix}\n",
    "=\n",
    "\\begin{bmatrix}  \n",
    "\\frac{\\partial{f_1}}{\\partial{x_1}} & \\frac{\\partial{f_2}}{\\partial{x_1}}  \\\\  \n",
    "\\frac{\\partial{f_1}}{\\partial{x_2}} & \\frac{\\partial{f_2}}{\\partial{x_2}}  \\\\  \n",
    "\\frac{\\partial{f_1}}{\\partial{x_3}} & \\frac{\\partial{f_2}}{\\partial{x_3}}  \\\\  \n",
    "\\end{bmatrix}  \n",
    "=\n",
    "\\begin{bmatrix}  \n",
    "2x_1 & 2  \\\\  \n",
    "2x_2& 0  \\\\  \n",
    "1 & 2x_3  \\\\  \n",
    "\\end{bmatrix}  \n",
    "$$"
   ]
  },
  {
   "cell_type": "markdown",
   "metadata": {
    "editable": true,
    "slideshow": {
     "slide_type": "slide"
    },
    "tags": []
   },
   "source": [
    "## 规则1\n",
    "$$\n",
    "A=\n",
    "\\begin{bmatrix}  \n",
    "a_{11} & a_{12} & \\cdots & a_{1m} \\\\  \n",
    "a_{21} & a_{22} & \\cdots & a_{2m} \\\\  \n",
    "\\vdots & \\vdots & \\ddots & \\vdots \\\\  \n",
    "a_{n1} & a_{n2} & \\cdots & a_{nm} \\\\  \n",
    "\\end{bmatrix}  \n",
    ",\n",
    "X=\n",
    "\\begin{bmatrix}  \n",
    "x_{1}  \\\\  \n",
    "x_{2}  \\\\  \n",
    "\\vdots  \\\\  \n",
    "x_{m}  \\\\  \n",
    "\\end{bmatrix}  \n",
    "$$"
   ]
  },
  {
   "cell_type": "markdown",
   "metadata": {
    "editable": true,
    "slideshow": {
     "slide_type": "fragment"
    },
    "tags": []
   },
   "source": [
    "$$\n",
    "\\frac{\\partial{AX}}{\\partial{X}} = A^T\n",
    "$$"
   ]
  },
  {
   "cell_type": "markdown",
   "metadata": {
    "editable": true,
    "slideshow": {
     "slide_type": "slide"
    },
    "tags": []
   },
   "source": [
    "例如：\n",
    "$$\n",
    "A=\n",
    "\\begin{bmatrix}\n",
    "a_{11} & a_{12} \\\\\n",
    "a_{21} & a_{22}\n",
    "\\end{bmatrix}\n",
    ",\n",
    "X = \n",
    "\\begin{bmatrix}\n",
    "x_1 \\\\\n",
    "x_2\n",
    "\\end{bmatrix}\n",
    "$$"
   ]
  },
  {
   "cell_type": "markdown",
   "metadata": {
    "editable": true,
    "slideshow": {
     "slide_type": "fragment"
    },
    "tags": []
   },
   "source": [
    "$$\n",
    "AX = \n",
    "\\begin{bmatrix}\n",
    "a_{11}x_1+a_{12}x_2 \\\\\n",
    "a_{21}x_1+a_{22}x_2\n",
    "\\end{bmatrix}\n",
    "$$"
   ]
  },
  {
   "cell_type": "markdown",
   "metadata": {
    "editable": true,
    "slideshow": {
     "slide_type": "fragment"
    },
    "tags": []
   },
   "source": [
    "$$\n",
    "\\frac{\\partial{AX}}{\\partial{X}}\n",
    "=\n",
    "\\begin{bmatrix}\n",
    "a_{11} & a_{21} \\\\\n",
    "a_{12}& a_{22}\n",
    "\\end{bmatrix}\n",
    "=A^T\n",
    "$$"
   ]
  },
  {
   "cell_type": "markdown",
   "metadata": {
    "editable": true,
    "slideshow": {
     "slide_type": "fragment"
    },
    "tags": []
   },
   "source": [
    "## 规则2"
   ]
  },
  {
   "cell_type": "markdown",
   "metadata": {
    "editable": true,
    "slideshow": {
     "slide_type": "slide"
    },
    "tags": []
   },
   "source": [
    "$$\n",
    "A=\n",
    "\\begin{bmatrix}  \n",
    "a_{11} & a_{12} & \\cdots & a_{1m} \\\\  \n",
    "a_{21} & a_{22} & \\cdots & a_{2m} \\\\  \n",
    "\\vdots & \\vdots & \\ddots & \\vdots \\\\  \n",
    "a_{n1} & a_{n2} & \\cdots & a_{nm} \\\\  \n",
    "\\end{bmatrix}  \n",
    ",\n",
    "X=\n",
    "\\begin{bmatrix}  \n",
    "x_{1}  \\\\  \n",
    "x_{2}  \\\\  \n",
    "\\vdots  \\\\  \n",
    "x_{m}  \\\\  \n",
    "\\end{bmatrix} \n",
    "$$"
   ]
  },
  {
   "cell_type": "markdown",
   "metadata": {
    "editable": true,
    "slideshow": {
     "slide_type": "fragment"
    },
    "tags": []
   },
   "source": [
    "$$\n",
    "\\frac{\\partial{X^TAX}}{\\partial{X}} = AX+A^TX, \n",
    "$$当A对称时，\n",
    "$$\n",
    "\\frac{\\partial{X^TAX}}{\\partial{X}} =2AX\n",
    "$$"
   ]
  },
  {
   "cell_type": "markdown",
   "metadata": {
    "editable": true,
    "slideshow": {
     "slide_type": "slide"
    },
    "tags": []
   },
   "source": [
    "例如：\n",
    "$$\n",
    "A=\n",
    "\\begin{bmatrix}  \n",
    "a_{11} & a_{12} \\\\  \n",
    "a_{21} & a_{22}  \\\\  \n",
    "\\end{bmatrix}  \n",
    ",\n",
    "X=\n",
    "\\begin{bmatrix}  \n",
    "x_{1}  \\\\  \n",
    "x_{2}  \\\\  \n",
    "\\end{bmatrix} \n",
    "$$"
   ]
  },
  {
   "cell_type": "markdown",
   "metadata": {
    "editable": true,
    "slideshow": {
     "slide_type": "fragment"
    },
    "tags": []
   },
   "source": [
    "$$\n",
    "X^TAX=\n",
    "\\begin{bmatrix}  \n",
    "x_{1} & x_{2}\n",
    "\\end{bmatrix}\n",
    "\\begin{bmatrix}  \n",
    "a_{11} & a_{12} \\\\  \n",
    "a_{21} & a_{22}  \\\\  \n",
    "\\end{bmatrix} \n",
    "\\begin{bmatrix}  \n",
    "x_{1}  \\\\  \n",
    "x_{2}  \\\\  \n",
    "\\end{bmatrix} \n",
    "$$"
   ]
  },
  {
   "cell_type": "markdown",
   "metadata": {
    "editable": true,
    "slideshow": {
     "slide_type": "fragment"
    },
    "tags": []
   },
   "source": [
    "$$\n",
    "\\begin{align}\n",
    "X^TAX\n",
    "&=\n",
    "\\begin{bmatrix}  \n",
    "x_{1} & x_{2}\n",
    "\\end{bmatrix}\n",
    "\\begin{bmatrix}\n",
    "a_{11}x_1+a_{12}x_2 \\\\\n",
    "a_{21}x_1+a_{22}x_2\n",
    "\\end{bmatrix} \\\\\n",
    "&=a_{11}x_1^2+a_{12}x_1x_2 + a_{21}x_1x_2+a_{22}x_2^2 \\\\\n",
    "&=a_{11}x_1^2+(a_{12}+ a_{21})x_1x_2+a_{22}x_2^2\n",
    "\\end{align}\n",
    "$$"
   ]
  },
  {
   "cell_type": "markdown",
   "metadata": {
    "editable": true,
    "slideshow": {
     "slide_type": "slide"
    },
    "tags": []
   },
   "source": [
    "$$\n",
    "X^TAX=a_{11}x_1^2+(a_{12}+ a_{21})x_1x_2+a_{22}x_2^2\n",
    "$$"
   ]
  },
  {
   "cell_type": "markdown",
   "metadata": {
    "editable": true,
    "slideshow": {
     "slide_type": "fragment"
    },
    "tags": []
   },
   "source": [
    "对$X$求导："
   ]
  },
  {
   "cell_type": "markdown",
   "metadata": {
    "editable": true,
    "slideshow": {
     "slide_type": "fragment"
    },
    "tags": []
   },
   "source": [
    "$$\n",
    "\\begin{align}\n",
    "\\frac{\\partial{X^TAX}}{\\partial{X}} \n",
    "& =  \n",
    "\\begin{bmatrix}\n",
    "2a_{11}x_1+(a_{12}+a_{21})x_2 \\\\\n",
    "(a_{12}+a_{21})x_1+2a_{22}x_2\n",
    "\\end{bmatrix} \\\\\n",
    "& =\n",
    "\\begin{bmatrix}\n",
    "2a_{11} & (a_{12}+a_{21}) \\\\\n",
    "(a_{12}+a_{21}) & 2a_{22}\n",
    "\\end{bmatrix}\n",
    "\\begin{bmatrix}\n",
    "x_1 \\\\\n",
    "x_2\n",
    "\\end{bmatrix}\\\\\n",
    "& =\n",
    "\\left(\n",
    "\\begin{bmatrix}\n",
    "a_{11} & a_{12} \\\\\n",
    "a_{21} & a_{22}\n",
    "\\end{bmatrix}\n",
    "+\n",
    "\\begin{bmatrix}\n",
    "a_{11} & a_{21} \\\\\n",
    "a_{12} & a_{22}\n",
    "\\end{bmatrix}\n",
    "\\right)\n",
    "\\begin{bmatrix}\n",
    "x_1 \\\\\n",
    "x_2\n",
    "\\end{bmatrix} \\\\\n",
    "&\n",
    "=AX+A^TX\n",
    "\\end{align} \n",
    "$$"
   ]
  },
  {
   "cell_type": "markdown",
   "metadata": {
    "editable": true,
    "slideshow": {
     "slide_type": "fragment"
    },
    "tags": []
   },
   "source": [
    "$$\n",
    "其中A为对称阵，因此：\n",
    "\\frac{\\partial{X^TAX}}{\\partial{X}} = 2AX\n",
    "$$"
   ]
  },
  {
   "cell_type": "markdown",
   "metadata": {},
   "source": [
    "> 矩阵求导笔记来源  \n",
    "> https://www.bilibili.com/video/BV1av4y1b7MM/?spm_id_from=333.337.search-card.all.click&vd_source=a49b93ba136258ad33823854fe51db86"
   ]
  }
 ],
 "metadata": {
  "kernelspec": {
   "display_name": "Python 3 (ipykernel)",
   "language": "python",
   "name": "python3"
  },
  "language_info": {
   "codemirror_mode": {
    "name": "ipython",
    "version": 3
   },
   "file_extension": ".py",
   "mimetype": "text/x-python",
   "name": "python",
   "nbconvert_exporter": "python",
   "pygments_lexer": "ipython3",
   "version": "3.12.2"
  }
 },
 "nbformat": 4,
 "nbformat_minor": 4
}
