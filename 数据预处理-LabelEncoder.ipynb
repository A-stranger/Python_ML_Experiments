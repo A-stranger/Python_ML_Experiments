{
 "cells": [
  {
   "cell_type": "markdown",
   "id": "2f10e7e5-ed80-40bf-bfab-ee14cefccf34",
   "metadata": {},
   "source": [
    "# LabelEncoder"
   ]
  },
  {
   "cell_type": "code",
   "execution_count": 2,
   "id": "01749a4c-5cba-4a12-8a53-5f00f28b1d1d",
   "metadata": {},
   "outputs": [],
   "source": [
    "import numpy as np\n",
    "import pandas as pd\n",
    "from sklearn import preprocessing"
   ]
  },
  {
   "cell_type": "code",
   "execution_count": 5,
   "id": "0085fb68-b829-400e-b9d1-c398a06ce11b",
   "metadata": {},
   "outputs": [
    {
     "data": {
      "text/plain": [
       "array([1, 0, 0, 1, 1])"
      ]
     },
     "execution_count": 5,
     "metadata": {},
     "output_type": "execute_result"
    }
   ],
   "source": [
    "sex = pd.Series([\"male\", \"female\", \"female\", \"male\", \"male\"])\n",
    "\n",
    "encoder = preprocessing.LabelEncoder()       #获取一个LabelEncoder\n",
    "model = encoder.fit([\"male\", \"female\"])      #训练LabelEncoder, 把male编码为0，female编码为1\n",
    "sex = model.transform(sex)                   #使用训练好的LabelEncoder对原数据进行编码\n",
    "sex"
   ]
  },
  {
   "cell_type": "code",
   "execution_count": 6,
   "id": "3666e2cd-03d2-462c-8096-427a5f97a644",
   "metadata": {},
   "outputs": [
    {
     "data": {
      "text/plain": [
       "array(['female'], dtype='<U6')"
      ]
     },
     "execution_count": 6,
     "metadata": {},
     "output_type": "execute_result"
    }
   ],
   "source": [
    "model.inverse_transform(np.array([0]))"
   ]
  },
  {
   "cell_type": "code",
   "execution_count": null,
   "id": "ed26d4dc-c6a9-4694-987b-0f1da0e4240e",
   "metadata": {},
   "outputs": [],
   "source": []
  }
 ],
 "metadata": {
  "kernelspec": {
   "display_name": "Python 3 (ipykernel)",
   "language": "python",
   "name": "python3"
  },
  "language_info": {
   "codemirror_mode": {
    "name": "ipython",
    "version": 3
   },
   "file_extension": ".py",
   "mimetype": "text/x-python",
   "name": "python",
   "nbconvert_exporter": "python",
   "pygments_lexer": "ipython3",
   "version": "3.12.2"
  }
 },
 "nbformat": 4,
 "nbformat_minor": 5
}
